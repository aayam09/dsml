{
 "cells": [
  {
   "cell_type": "code",
   "execution_count": 40,
   "id": "1cf94f04-1946-4448-bce4-6551c47a924d",
   "metadata": {},
   "outputs": [],
   "source": [
    "class Point:\n",
    "    \"\"\"\n",
    "    A class to represent a point in 2D space.\n",
    "    \"\"\"\n",
    "    def __init__(self, x, y):\n",
    "        self.x = x\n",
    "        self.y = y\n",
    "\n",
    "    def __repr__(self):\n",
    "        return f\"Point({self.a},{self.b})\"\n",
    "\n",
    "    def __add__(self,other):\n",
    "        x = self.x + other.x\n",
    "        y = self.y + other.y\n",
    "        return f\"Point({x},{y})\"\n",
    "\n",
    "    def __sub__(self,other):\n",
    "        x = self.x - other.x\n",
    "        y = self.y - other.y\n",
    "        return f\"Point({x},{y})\"\n",
    "\n",
    "    def __pow__(self,exp):\n",
    "        x = self.x ** exp\n",
    "        y = self.y ** exp\n",
    "        return f\"Point({x},{y})\"\n",
    "\n",
    "    def __gt__ (self,other):\n",
    "        return self.x > other.x and self.y > other.y"
   ]
  },
  {
   "cell_type": "code",
   "execution_count": 41,
   "id": "98970e7a-88cf-4446-9827-5dd8608ef047",
   "metadata": {},
   "outputs": [],
   "source": [
    "A = Point(3,6)\n",
    "B = Point(2,0)\n"
   ]
  },
  {
   "cell_type": "code",
   "execution_count": 42,
   "id": "666d1653-c009-4081-bd00-c47fc645fa50",
   "metadata": {},
   "outputs": [
    {
     "data": {
      "text/plain": [
       "'Point(5,6)'"
      ]
     },
     "execution_count": 42,
     "metadata": {},
     "output_type": "execute_result"
    }
   ],
   "source": [
    "A + B"
   ]
  },
  {
   "cell_type": "code",
   "execution_count": 43,
   "id": "4acb6fec-00cf-4544-9d98-1b516ebf3214",
   "metadata": {},
   "outputs": [
    {
     "data": {
      "text/plain": [
       "'Point(1,6)'"
      ]
     },
     "execution_count": 43,
     "metadata": {},
     "output_type": "execute_result"
    }
   ],
   "source": [
    "A - B"
   ]
  },
  {
   "cell_type": "code",
   "execution_count": 44,
   "id": "9ec9cad0-7bc1-40ef-9ab4-197b707e67af",
   "metadata": {},
   "outputs": [
    {
     "data": {
      "text/plain": [
       "'Point(243,7776)'"
      ]
     },
     "execution_count": 44,
     "metadata": {},
     "output_type": "execute_result"
    }
   ],
   "source": [
    "A ** 5"
   ]
  },
  {
   "cell_type": "code",
   "execution_count": 45,
   "id": "6f503607-0a0f-41bb-a87a-4f8b3c04d7e2",
   "metadata": {},
   "outputs": [
    {
     "data": {
      "text/plain": [
       "False"
      ]
     },
     "execution_count": 45,
     "metadata": {},
     "output_type": "execute_result"
    }
   ],
   "source": [
    "A < B"
   ]
  },
  {
   "cell_type": "code",
   "execution_count": 47,
   "id": "cc131092-9621-4ef2-ad1b-c93a80469904",
   "metadata": {},
   "outputs": [
    {
     "name": "stdout",
     "output_type": "stream",
     "text": [
      "\n",
      "A class to represent a point in 2D space.\n",
      "\n",
      "\n"
     ]
    }
   ],
   "source": [
    "print(A.__doc__)"
   ]
  },
  {
   "cell_type": "markdown",
   "id": "5447fe8d-ed3f-43b5-965e-64040f276e2d",
   "metadata": {},
   "source": [
    "Duck Typing"
   ]
  },
  {
   "cell_type": "code",
   "execution_count": 54,
   "id": "1dbb7971-3a97-4ae6-a3f0-96cd9c7a43d5",
   "metadata": {},
   "outputs": [],
   "source": [
    "class Car:\n",
    "    def drive(self):\n",
    "        print(\"driving a car\")\n",
    "\n",
    "class Bike:\n",
    "    def drive(self):\n",
    "        print(\"driving a bike\")"
   ]
  },
  {
   "cell_type": "code",
   "execution_count": 55,
   "id": "8829872e-f204-4048-be11-2d2faebe3e43",
   "metadata": {},
   "outputs": [],
   "source": [
    "def start_driving(vehicle):\n",
    "    vehicle.drive()"
   ]
  },
  {
   "cell_type": "code",
   "execution_count": 56,
   "id": "690c3353-3ee3-40ce-b939-15c3c9000d58",
   "metadata": {},
   "outputs": [],
   "source": [
    "car = Car()\n",
    "bike = Bike()"
   ]
  },
  {
   "cell_type": "code",
   "execution_count": 57,
   "id": "aab9ccff-3b43-40b8-a3fa-c90f391f1d41",
   "metadata": {},
   "outputs": [
    {
     "name": "stdout",
     "output_type": "stream",
     "text": [
      "driving a car\n"
     ]
    }
   ],
   "source": [
    "start_driving(car)"
   ]
  },
  {
   "cell_type": "code",
   "execution_count": 58,
   "id": "786b3646-ac2a-4879-bb95-6d4968c69466",
   "metadata": {},
   "outputs": [
    {
     "name": "stdout",
     "output_type": "stream",
     "text": [
      "driving a bike\n"
     ]
    }
   ],
   "source": [
    "start_driving(bike)"
   ]
  },
  {
   "cell_type": "code",
   "execution_count": null,
   "id": "1cd6670e-de06-4aa9-9dc4-15958eb6642c",
   "metadata": {},
   "outputs": [],
   "source": []
  }
 ],
 "metadata": {
  "kernelspec": {
   "display_name": "Python 3 (ipykernel)",
   "language": "python",
   "name": "python3"
  },
  "language_info": {
   "codemirror_mode": {
    "name": "ipython",
    "version": 3
   },
   "file_extension": ".py",
   "mimetype": "text/x-python",
   "name": "python",
   "nbconvert_exporter": "python",
   "pygments_lexer": "ipython3",
   "version": "3.13.5"
  }
 },
 "nbformat": 4,
 "nbformat_minor": 5
}
