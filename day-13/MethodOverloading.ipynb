{
 "cells": [
  {
   "cell_type": "code",
   "execution_count": 1,
   "id": "7b861ba8-8d29-476d-b5ab-da31038f2cc1",
   "metadata": {},
   "outputs": [],
   "source": [
    "class Example:\n",
    "    def add(self, a, b=0, c=0):\n",
    "        return a + b + c"
   ]
  },
  {
   "cell_type": "code",
   "execution_count": null,
   "id": "00567c27-3bb8-4685-9046-158374bc1023",
   "metadata": {},
   "outputs": [],
   "source": []
  }
 ],
 "metadata": {
  "kernelspec": {
   "display_name": "Python 3 (ipykernel)",
   "language": "python",
   "name": "python3"
  },
  "language_info": {
   "codemirror_mode": {
    "name": "ipython",
    "version": 3
   },
   "file_extension": ".py",
   "mimetype": "text/x-python",
   "name": "python",
   "nbconvert_exporter": "python",
   "pygments_lexer": "ipython3",
   "version": "3.13.5"
  }
 },
 "nbformat": 4,
 "nbformat_minor": 5
}
