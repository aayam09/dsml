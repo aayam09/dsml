{
 "cells": [
  {
   "cell_type": "code",
   "execution_count": 1,
   "id": "6d298fae-c75b-4179-b835-3a2f148c9351",
   "metadata": {},
   "outputs": [],
   "source": [
    "class Animal:\n",
    "    def sound(self):\n",
    "        print(\"Making animal sound ..\")"
   ]
  },
  {
   "cell_type": "code",
   "execution_count": 2,
   "id": "410d49e2-1b99-4d76-8c79-9d8424e6611f",
   "metadata": {},
   "outputs": [],
   "source": [
    "class Dog(Animal):\n",
    "    def sound(self):\n",
    "        print(f\"dog makes woff sound\")"
   ]
  },
  {
   "cell_type": "code",
   "execution_count": 3,
   "id": "938413e6-acfe-435d-b952-8560e5dc14e8",
   "metadata": {},
   "outputs": [
    {
     "name": "stdout",
     "output_type": "stream",
     "text": [
      "dog makes woff sound\n"
     ]
    }
   ],
   "source": [
    "dog = Dog()\n",
    "dog.sound()"
   ]
  },
  {
   "cell_type": "code",
   "execution_count": 7,
   "id": "e407f122-1150-4a11-9318-cc802acc3a93",
   "metadata": {},
   "outputs": [],
   "source": [
    "class Parent:\n",
    "    def sat_hello(self):\n",
    "        print(\"Hello from parent\")\n",
    "\n",
    "class Child(Parent):\n",
    "    def sat_hello(self):\n",
    "        res =super().sat_hello()\n",
    "        print(res)\n",
    "        print(\"hello from the child\")"
   ]
  },
  {
   "cell_type": "code",
   "execution_count": 8,
   "id": "c33c6545-a460-4d25-88f3-9e0ab26d0d94",
   "metadata": {},
   "outputs": [
    {
     "name": "stdout",
     "output_type": "stream",
     "text": [
      "Hello from parent\n",
      "None\n",
      "hello from the child\n"
     ]
    }
   ],
   "source": [
    "obj = Child()\n",
    "obj.sat_hello()"
   ]
  },
  {
   "cell_type": "code",
   "execution_count": 9,
   "id": "feddbe1f-88cc-4d5a-84f9-5de4650c109a",
   "metadata": {},
   "outputs": [
    {
     "ename": "NameError",
     "evalue": "name 'Example' is not defined",
     "output_type": "error",
     "traceback": [
      "\u001b[31m-----------------------------\u001b[39m",
      "\u001b[31mNameError\u001b[39mTraceback (most recent call last)",
      "\u001b[36mCell\u001b[39m\u001b[36m \u001b[39m\u001b[32mIn[9]\u001b[39m\u001b[32m, line 1\u001b[39m\n\u001b[32m----> \u001b[39m\u001b[32m1\u001b[39m \u001b[38;5;28;01mclass\u001b[39;00m\u001b[38;5;250m \u001b[39m\u001b[34;01mSubClass\u001b[39;00m(\u001b[43mExample\u001b[49m):\n\u001b[32m      2\u001b[39m     \u001b[38;5;28;01mdef\u001b[39;00m\u001b[38;5;250m \u001b[39m\u001b[34mget_public_member\u001b[39m(\u001b[38;5;28mself\u001b[39m):\n\u001b[32m      3\u001b[39m         \u001b[38;5;28mprint\u001b[39m(\u001b[38;5;28mself\u001b[39m.public_var)\n",
      "\u001b[31mNameError\u001b[39m: name 'Example' is not defined"
     ]
    }
   ],
   "source": []
  },
  {
   "cell_type": "code",
   "execution_count": null,
   "id": "c35bde08-1780-44ce-ba5e-bc468d455214",
   "metadata": {},
   "outputs": [],
   "source": []
  }
 ],
 "metadata": {
  "kernelspec": {
   "display_name": "Python 3 (ipykernel)",
   "language": "python",
   "name": "python3"
  },
  "language_info": {
   "codemirror_mode": {
    "name": "ipython",
    "version": 3
   },
   "file_extension": ".py",
   "mimetype": "text/x-python",
   "name": "python",
   "nbconvert_exporter": "python",
   "pygments_lexer": "ipython3",
   "version": "3.13.5"
  }
 },
 "nbformat": 4,
 "nbformat_minor": 5
}
