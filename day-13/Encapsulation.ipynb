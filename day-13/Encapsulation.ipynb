{
 "cells": [
  {
   "cell_type": "code",
   "execution_count": 9,
   "id": "d63168ad-3c92-4d7f-bc51-ec42855c12f5",
   "metadata": {},
   "outputs": [],
   "source": [
    "class Example:\n",
    "    def __init__(self):\n",
    "        self.public_var = 1\n",
    "        self.__private_var = 2\n",
    "        self._protected_var = 3\n",
    "\n",
    "    def public_method(self):\n",
    "        print(self.__private_var)\n",
    "        print(\"this is public\")\n",
    "\n",
    "    def __private_method(self):\n",
    "        print(\"this is private\")\n",
    "\n",
    "    def _protected_method(self):\n",
    "        print(\"this is protected\")"
   ]
  },
  {
   "cell_type": "code",
   "execution_count": 10,
   "id": "6357fe0d-e3ba-459f-84d0-b6c90123e0d4",
   "metadata": {},
   "outputs": [],
   "source": [
    "obj = Example()"
   ]
  },
  {
   "cell_type": "code",
   "execution_count": 11,
   "id": "482d4bd9-bcea-4468-9bc4-0f70a1d32779",
   "metadata": {},
   "outputs": [
    {
     "data": {
      "text/plain": [
       "1"
      ]
     },
     "execution_count": 11,
     "metadata": {},
     "output_type": "execute_result"
    }
   ],
   "source": [
    "obj.public_var"
   ]
  },
  {
   "cell_type": "code",
   "execution_count": 12,
   "id": "9570e9cb-0306-4d68-9cf2-c95f7ec6f360",
   "metadata": {},
   "outputs": [
    {
     "name": "stdout",
     "output_type": "stream",
     "text": [
      "2\n",
      "this is public\n"
     ]
    }
   ],
   "source": [
    "obj.public_method()"
   ]
  },
  {
   "cell_type": "code",
   "execution_count": 5,
   "id": "f781fcda-56cf-4708-9457-f1ce0ab755bf",
   "metadata": {},
   "outputs": [
    {
     "data": {
      "text/plain": [
       "3"
      ]
     },
     "execution_count": 5,
     "metadata": {},
     "output_type": "execute_result"
    }
   ],
   "source": [
    "obj._protected_var"
   ]
  },
  {
   "cell_type": "code",
   "execution_count": 6,
   "id": "a87ade85-01d8-4bbd-80d2-7bac25a32485",
   "metadata": {},
   "outputs": [
    {
     "name": "stdout",
     "output_type": "stream",
     "text": [
      "this is protected\n"
     ]
    }
   ],
   "source": [
    "obj._protected_method()"
   ]
  },
  {
   "cell_type": "code",
   "execution_count": 7,
   "id": "c91a35d6-4952-4782-ba5d-e02f1fa88908",
   "metadata": {},
   "outputs": [
    {
     "ename": "AttributeError",
     "evalue": "'Example' object has no attribute '__private_var'",
     "output_type": "error",
     "traceback": [
      "\u001b[31m-----------------------------\u001b[39m",
      "\u001b[31mAttributeError\u001b[39mTraceback (most recent call last)",
      "\u001b[36mCell\u001b[39m\u001b[36m \u001b[39m\u001b[32mIn[7]\u001b[39m\u001b[32m, line 1\u001b[39m\n\u001b[32m----> \u001b[39m\u001b[32m1\u001b[39m \u001b[43mobj\u001b[49m\u001b[43m.\u001b[49m\u001b[43m__private_var\u001b[49m\n",
      "\u001b[31mAttributeError\u001b[39m: 'Example' object has no attribute '__private_var'"
     ]
    }
   ],
   "source": [
    "obj.__private_var"
   ]
  },
  {
   "cell_type": "code",
   "execution_count": 8,
   "id": "8f5ee0be-063f-4c29-b123-2b5c33459404",
   "metadata": {},
   "outputs": [
    {
     "ename": "AttributeError",
     "evalue": "'Example' object has no attribute '__private_method'",
     "output_type": "error",
     "traceback": [
      "\u001b[31m-----------------------------\u001b[39m",
      "\u001b[31mAttributeError\u001b[39mTraceback (most recent call last)",
      "\u001b[36mCell\u001b[39m\u001b[36m \u001b[39m\u001b[32mIn[8]\u001b[39m\u001b[32m, line 1\u001b[39m\n\u001b[32m----> \u001b[39m\u001b[32m1\u001b[39m \u001b[43mobj\u001b[49m\u001b[43m.\u001b[49m\u001b[43m__private_method\u001b[49m()\n",
      "\u001b[31mAttributeError\u001b[39m: 'Example' object has no attribute '__private_method'"
     ]
    }
   ],
   "source": [
    "obj.__private_method()"
   ]
  },
  {
   "cell_type": "code",
   "execution_count": 14,
   "id": "0f8b75ff-390d-4882-a13d-7e8ac5203329",
   "metadata": {},
   "outputs": [],
   "source": [
    "class SubClass(Example):\n",
    "    def get_public_member(self):\n",
    "        print(self.public_var)\n",
    "\n",
    "    def get_protected_member(self):\n",
    "        print(self._protected_var)\n",
    "\n",
    "    def get_private_member(self):\n",
    "        print(self.__private_var)"
   ]
  },
  {
   "cell_type": "code",
   "execution_count": 16,
   "id": "dc92778f-9657-42fa-b657-d9ef8f7161d0",
   "metadata": {},
   "outputs": [],
   "source": [
    "sub = SubClass()"
   ]
  },
  {
   "cell_type": "code",
   "execution_count": 17,
   "id": "6d1e5be6-c423-4409-9ff6-35f310d3179d",
   "metadata": {},
   "outputs": [
    {
     "name": "stdout",
     "output_type": "stream",
     "text": [
      "1\n"
     ]
    }
   ],
   "source": [
    "sub.get_public_member()"
   ]
  },
  {
   "cell_type": "code",
   "execution_count": 18,
   "id": "967bff08-2208-49bb-ba46-ebb1df574b92",
   "metadata": {},
   "outputs": [
    {
     "name": "stdout",
     "output_type": "stream",
     "text": [
      "3\n"
     ]
    }
   ],
   "source": [
    "sub.get_protected_member()"
   ]
  },
  {
   "cell_type": "markdown",
   "id": "8ff93630-6438-462a-92eb-8ad9936df210",
   "metadata": {},
   "source": [
    "Create a class `BankAccount` that:\n",
    "1. Allows a user to create an account by providing a **name** and an initial **balance**. Let **balance** be private variable.\n",
    "\n",
    "2. Includes methods to **deposit**, **withdraw**, and **check balance**. The withdrawal should not allow an account to go negative.\n",
    "\n",
    "4. Uses **Inheritance** to create a subclass `SavingsAccount` that adds an interest rate. Implement a method to calculate interest on the balance and update it accordingly.\n",
    " "
   ]
  },
  {
   "cell_type": "code",
   "execution_count": 27,
   "id": "42087ba2-fdd5-405f-9aa2-df1add716a15",
   "metadata": {},
   "outputs": [
    {
     "name": "stdout",
     "output_type": "stream",
     "text": [
      "Added 10 to account\n",
      "Alice has $210\n",
      "Alice has $210\n",
      "acquired interest 10.5\n",
      "Deducted 200 from account\n",
      "Alice has $10\n"
     ]
    },
    {
     "data": {
      "text/plain": [
       "10"
      ]
     },
     "execution_count": 27,
     "metadata": {},
     "output_type": "execute_result"
    }
   ],
   "source": [
    "class BankAccount:\n",
    "    def __init__(self, name, balance):\n",
    "        self.name = name\n",
    "        if balance < 0:\n",
    "            raise ValueError(\"Initial balance cannot be negative\")\n",
    "        self.__balance = balance\n",
    "\n",
    "    def deposit(self, price):\n",
    "        if price <= 0:\n",
    "            print(\"Invalid deposit amount\")\n",
    "            return\n",
    "        self.__balance += price\n",
    "        print(f\"Added {price} to account\")\n",
    "        return self.__balance\n",
    "\n",
    "    def withdraw(self, price):\n",
    "        if price <= 0:\n",
    "            print(\"Invalid withdrawal amount\")\n",
    "            return\n",
    "        if price > self.__balance:\n",
    "            print(\"amount not enough\")\n",
    "            return\n",
    "        self.__balance -= price\n",
    "        print(f\"Deducted {price} from account\")\n",
    "        return self.__balance\n",
    "\n",
    "    def check_balance(self):\n",
    "        print(f\"{self.name} has ${self.__balance}\")\n",
    "        return self.__balance\n",
    "\n",
    "class SavingsAccount(BankAccount):\n",
    "    def __init__(self, name, balance, interest_rate):\n",
    "        super().__init__(name, balance)\n",
    "        if interest_rate < 0:\n",
    "            raise ValueError(\"Interest rate cannot be negative\")\n",
    "        self.interest_rate = interest_rate\n",
    "\n",
    "    def calculate_interest(self):\n",
    "        interest = self._BankAccount__balance * self.interest_rate\n",
    "        self._BankAccount__balance += interest\n",
    "        print(f\"Interest calculated and added: ${interest:.2f}\")\n",
    "        return self._BankAccount__balance\n",
    "\n",
    "    def add_interest(self, rate=5):\n",
    "        balance = self.check_balance()\n",
    "        interest = (balance * rate) / 100\n",
    "        print(f\"acquired interest {interest}\")\n",
    "        return interest\n",
    "\n",
    "# Example usage\n",
    "savings = SavingsAccount(\"Alice\", 200, 0.05)  # 5% interest rate\n",
    "savings.deposit(10)\n",
    "savings.check_balance()\n",
    "savings.add_interest()  # Using default rate of 5\n",
    "savings.withdraw(200)\n",
    "savings.check_balance()"
   ]
  },
  {
   "cell_type": "code",
   "execution_count": 22,
   "id": "c3d6a32c-bd6c-4910-a94c-9ee066fd4cb2",
   "metadata": {},
   "outputs": [
    {
     "ename": "AttributeError",
     "evalue": "'SavingsAccount' object has no attribute 'get_balance'",
     "output_type": "error",
     "traceback": [
      "\u001b[31m-----------------------------\u001b[39m",
      "\u001b[31mAttributeError\u001b[39mTraceback (most recent call last)",
      "\u001b[36mCell\u001b[39m\u001b[36m \u001b[39m\u001b[32mIn[22]\u001b[39m\u001b[32m, line 2\u001b[39m\n\u001b[32m      1\u001b[39m savings = SavingsAccount(\u001b[33m\"\u001b[39m\u001b[33mBob\u001b[39m\u001b[33m\"\u001b[39m, \u001b[32m1000\u001b[39m, \u001b[32m0.05\u001b[39m)  \u001b[38;5;66;03m# 5% interest rate\u001b[39;00m\n\u001b[32m----> \u001b[39m\u001b[32m2\u001b[39m \u001b[38;5;28mprint\u001b[39m(\u001b[33mf\u001b[39m\u001b[33m\"\u001b[39m\u001b[33mInitial balance: $\u001b[39m\u001b[38;5;132;01m{\u001b[39;00m\u001b[43msavings\u001b[49m\u001b[43m.\u001b[49m\u001b[43mget_balance\u001b[49m(\u001b[33m'\u001b[39m\u001b[33mBob\u001b[39m\u001b[33m'\u001b[39m)\u001b[38;5;132;01m}\u001b[39;00m\u001b[33m\"\u001b[39m)\n\u001b[32m      3\u001b[39m savings.deposit(\u001b[32m500\u001b[39m)\n\u001b[32m      4\u001b[39m \u001b[38;5;28mprint\u001b[39m(\u001b[33mf\u001b[39m\u001b[33m\"\u001b[39m\u001b[33mBalance after deposit: $\u001b[39m\u001b[38;5;132;01m{\u001b[39;00msavings.get_balance(\u001b[33m'\u001b[39m\u001b[33mBob\u001b[39m\u001b[33m'\u001b[39m)\u001b[38;5;132;01m}\u001b[39;00m\u001b[33m\"\u001b[39m)\n",
      "\u001b[31mAttributeError\u001b[39m: 'SavingsAccount' object has no attribute 'get_balance'"
     ]
    }
   ],
   "source": []
  },
  {
   "cell_type": "code",
   "execution_count": null,
   "id": "3b77d1f5-d8d8-4436-bf1b-1475c838cffa",
   "metadata": {},
   "outputs": [],
   "source": []
  }
 ],
 "metadata": {
  "kernelspec": {
   "display_name": "Python 3 (ipykernel)",
   "language": "python",
   "name": "python3"
  },
  "language_info": {
   "codemirror_mode": {
    "name": "ipython",
    "version": 3
   },
   "file_extension": ".py",
   "mimetype": "text/x-python",
   "name": "python",
   "nbconvert_exporter": "python",
   "pygments_lexer": "ipython3",
   "version": "3.13.5"
  }
 },
 "nbformat": 4,
 "nbformat_minor": 5
}
