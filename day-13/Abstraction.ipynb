{
 "cells": [
  {
   "cell_type": "code",
   "execution_count": 1,
   "id": "4ea53758-550a-46ce-8c68-44b4ecf48046",
   "metadata": {},
   "outputs": [],
   "source": [
    "from abc import ABC, abstractmethod\n",
    "\n",
    "class Shape(ABC):\n",
    "    @abstractmethod\n",
    "    def area(self):\n",
    "        pass\n",
    "    \n",
    "    def volume(self):\n",
    "        return \"Not Applicable for given shape\""
   ]
  },
  {
   "cell_type": "code",
   "execution_count": 2,
   "id": "e9dc0d66-ce92-48dd-a2d6-554a066c75f2",
   "metadata": {},
   "outputs": [
    {
     "ename": "NameError",
     "evalue": "name 'shape' is not defined",
     "output_type": "error",
     "traceback": [
      "\u001b[31m---------------------------------------------------------------------------\u001b[39m",
      "\u001b[31mNameError\u001b[39m                                 Traceback (most recent call last)",
      "\u001b[36mCell\u001b[39m\u001b[36m \u001b[39m\u001b[32mIn[2]\u001b[39m\u001b[32m, line 1\u001b[39m\n\u001b[32m----> \u001b[39m\u001b[32m1\u001b[39m shape = \u001b[43mshape\u001b[49m()\n",
      "\u001b[31mNameError\u001b[39m: name 'shape' is not defined"
     ]
    }
   ],
   "source": [
    "shape = shape()"
   ]
  },
  {
   "cell_type": "code",
   "execution_count": 6,
   "id": "ac333a65-95e0-4216-9e4c-62145feace74",
   "metadata": {},
   "outputs": [],
   "source": [
    "class Rectangle(Shape):\n",
    "    def __init__(self, width, length):\n",
    "        self.w = width\n",
    "        self.l = length\n",
    "\n",
    "    def area(self):\n",
    "        return self.l * self.l"
   ]
  },
  {
   "cell_type": "code",
   "execution_count": 7,
   "id": "30188d8e-50a2-4d08-827b-cea598e15be2",
   "metadata": {},
   "outputs": [],
   "source": [
    "rect = Rectangle(32, 24)"
   ]
  },
  {
   "cell_type": "code",
   "execution_count": 9,
   "id": "45c3c098-0fd7-465a-85e2-d7cc2d2ff3e0",
   "metadata": {},
   "outputs": [
    {
     "data": {
      "text/plain": [
       "576"
      ]
     },
     "execution_count": 9,
     "metadata": {},
     "output_type": "execute_result"
    }
   ],
   "source": [
    "rect.area()"
   ]
  },
  {
   "cell_type": "code",
   "execution_count": 10,
   "id": "b138b01c-f261-413c-84b2-568f9fa63384",
   "metadata": {},
   "outputs": [],
   "source": [
    "class Cuboid(Shape):\n",
    "    def __init__(self, width, length, height):\n",
    "        self.w = width\n",
    "        self.l = length\n",
    "        self.h = height\n",
    "    \n",
    "    def area(self):\n",
    "        return 2 * (self.l * self.w + self.l * self.h + self.w * self.h)\n",
    "    \n",
    "    def volume(self):\n",
    "        return self.l * self.w * self.h"
   ]
  },
  {
   "cell_type": "code",
   "execution_count": 11,
   "id": "6fc7bb21-6b6f-45a4-90f6-30c60906a4a0",
   "metadata": {},
   "outputs": [],
   "source": [
    "cuboid = Cuboid(2,3,4)"
   ]
  },
  {
   "cell_type": "code",
   "execution_count": 17,
   "id": "875381cc-5a60-420a-8571-d7e639e2c355",
   "metadata": {},
   "outputs": [
    {
     "name": "stdout",
     "output_type": "stream",
     "text": [
      "52\n",
      "24\n"
     ]
    }
   ],
   "source": [
    "print(cuboid.area())\n",
    "print(cuboid.volume())"
   ]
  },
  {
   "cell_type": "code",
   "execution_count": 15,
   "id": "aedc6a4b-cb8b-4bc8-b022-e407a9d1b316",
   "metadata": {},
   "outputs": [
    {
     "data": {
      "text/plain": [
       "24"
      ]
     },
     "execution_count": 15,
     "metadata": {},
     "output_type": "execute_result"
    }
   ],
   "source": [
    "cuboid.volume()"
   ]
  },
  {
   "cell_type": "code",
   "execution_count": null,
   "id": "c4d34b77-d1f9-425e-8aea-72a1755b9b91",
   "metadata": {},
   "outputs": [],
   "source": []
  }
 ],
 "metadata": {
  "kernelspec": {
   "display_name": "Python 3 (ipykernel)",
   "language": "python",
   "name": "python3"
  },
  "language_info": {
   "codemirror_mode": {
    "name": "ipython",
    "version": 3
   },
   "file_extension": ".py",
   "mimetype": "text/x-python",
   "name": "python",
   "nbconvert_exporter": "python",
   "pygments_lexer": "ipython3",
   "version": "3.13.5"
  }
 },
 "nbformat": 4,
 "nbformat_minor": 5
}
