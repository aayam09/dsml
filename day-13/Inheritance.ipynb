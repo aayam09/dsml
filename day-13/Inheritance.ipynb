{
 "cells": [
  {
   "cell_type": "code",
   "execution_count": 1,
   "id": "f0b8ea36-e6c2-4922-b5a2-bcf6346758d3",
   "metadata": {},
   "outputs": [],
   "source": [
    "class Animal:\n",
    "    def __init__(self, name, age):\n",
    "        self.name = name\n",
    "        self.age = age\n",
    "\n",
    "    def intro(self):\n",
    "        print(f\"my name is {self.name}\")"
   ]
  },
  {
   "cell_type": "code",
   "execution_count": 3,
   "id": "eaa2b44f-7984-4a6d-b76a-52fd0f561d46",
   "metadata": {},
   "outputs": [],
   "source": [
    "class Cat(Animal):\n",
    "    def __init__(self, name, age, color):\n",
    "        super().__init__(name,age)\n",
    "        self.color = color\n",
    "\n",
    "    def speak(self):\n",
    "        print(\"meow\")"
   ]
  },
  {
   "cell_type": "code",
   "execution_count": 4,
   "id": "23dec5d7-fdc3-4bc7-b866-59e7a6aadcb6",
   "metadata": {},
   "outputs": [],
   "source": [
    "cat = Cat(\"floppy\", 3 , \"brown\")"
   ]
  },
  {
   "cell_type": "code",
   "execution_count": 5,
   "id": "d66512f0-fd1d-4af3-be27-21fb83750318",
   "metadata": {},
   "outputs": [
    {
     "data": {
      "text/plain": [
       "'floppy'"
      ]
     },
     "execution_count": 5,
     "metadata": {},
     "output_type": "execute_result"
    }
   ],
   "source": [
    "cat.name"
   ]
  },
  {
   "cell_type": "code",
   "execution_count": 7,
   "id": "59b69cbb-2a77-4466-ab01-0061bbd43712",
   "metadata": {},
   "outputs": [
    {
     "name": "stdout",
     "output_type": "stream",
     "text": [
      "meow\n"
     ]
    }
   ],
   "source": [
    "cat.speak()"
   ]
  },
  {
   "cell_type": "code",
   "execution_count": 8,
   "id": "f3266a5a-8613-459d-8f6c-33fdcd854e41",
   "metadata": {},
   "outputs": [
    {
     "name": "stdout",
     "output_type": "stream",
     "text": [
      "my name is floppy\n"
     ]
    }
   ],
   "source": [
    "cat.intro()"
   ]
  },
  {
   "cell_type": "code",
   "execution_count": 11,
   "id": "5702ac59-5817-43f9-8b2c-db0bdcb9cc6f",
   "metadata": {},
   "outputs": [],
   "source": [
    "class Parent1:\n",
    "    def func1(self):\n",
    "        print(\"this is parent 1\")\n",
    "\n",
    "class Parent2:\n",
    "    def func2(self):\n",
    "        print(\"this is parent 2\")\n",
    "\n",
    "class Parent3:\n",
    "    def func2(self):\n",
    "        print(\"this is parent 3\")"
   ]
  },
  {
   "cell_type": "code",
   "execution_count": 12,
   "id": "ff79b7b1-e1cc-4c49-ab7e-ca133e7199b6",
   "metadata": {},
   "outputs": [],
   "source": [
    "class Child(Parent1, Parent2, Parent3):\n",
    "    def func4(self):\n",
    "        print(\"this is child function\")"
   ]
  },
  {
   "cell_type": "code",
   "execution_count": 14,
   "id": "168a7dff-554e-43cf-9886-233259781252",
   "metadata": {},
   "outputs": [],
   "source": [
    "obj = Child()"
   ]
  },
  {
   "cell_type": "code",
   "execution_count": 16,
   "id": "152e0a0a-22d4-4768-8057-ec124a878178",
   "metadata": {},
   "outputs": [
    {
     "name": "stdout",
     "output_type": "stream",
     "text": [
      "this is parent 1\n"
     ]
    }
   ],
   "source": [
    "obj.func1()"
   ]
  },
  {
   "cell_type": "code",
   "execution_count": 17,
   "id": "cc77ee88-d39a-400b-ab92-205b08d7a4e5",
   "metadata": {},
   "outputs": [
    {
     "name": "stdout",
     "output_type": "stream",
     "text": [
      "this is parent 2\n"
     ]
    }
   ],
   "source": [
    "obj.func2()"
   ]
  },
  {
   "cell_type": "code",
   "execution_count": 20,
   "id": "c64af655-b7f2-46b3-8c16-98ad93489491",
   "metadata": {},
   "outputs": [
    {
     "name": "stdout",
     "output_type": "stream",
     "text": [
      "this is child function\n"
     ]
    }
   ],
   "source": [
    "obj.func4()"
   ]
  },
  {
   "cell_type": "code",
   "execution_count": 22,
   "id": "d4b30013-3e90-4dca-bb0e-b0483f4ae7dc",
   "metadata": {},
   "outputs": [],
   "source": [
    "class A:\n",
    "    def method_a(self):\n",
    "        print(\"This is method from class A\")\n",
    "\n",
    "class B(A):\n",
    "    def method_b(self):\n",
    "        print(\"This is method from class B \")\n",
    "\n",
    "class C(B):\n",
    "    def method_c(self):\n",
    "        print(\"This is method from class C\")\n",
    "        "
   ]
  },
  {
   "cell_type": "code",
   "execution_count": 24,
   "id": "f3ebf894-fdbd-46c4-bb17-ae993262628e",
   "metadata": {},
   "outputs": [],
   "source": [
    "obj = C()"
   ]
  },
  {
   "cell_type": "code",
   "execution_count": 25,
   "id": "579a00ae-9cbf-43ea-beaa-873798d9257a",
   "metadata": {},
   "outputs": [
    {
     "name": "stdout",
     "output_type": "stream",
     "text": [
      "Tgis is method from class C\n",
      "Tgis is method from class B \n",
      "Tgis is method from class A\n"
     ]
    }
   ],
   "source": [
    "obj.method_c()\n",
    "obj.method_b()\n",
    "obj.method_a()"
   ]
  },
  {
   "cell_type": "code",
   "execution_count": null,
   "id": "f8e8cfa5-4cce-4357-a660-df979688698f",
   "metadata": {},
   "outputs": [],
   "source": []
  },
  {
   "cell_type": "code",
   "execution_count": 35,
   "id": "4f5aacf1-61da-484f-90ed-e9de441c7d68",
   "metadata": {},
   "outputs": [],
   "source": [
    "class Person:\n",
    "    def __init__(self, name, age):\n",
    "        self.name, self.age = name, age\n",
    "\n",
    "class Employee(Person):\n",
    "    def __init__(self, name, age, employee_id):\n",
    "        super().__init__(name, age)\n",
    "        self.employee_id = employee_id\n",
    "\n",
    "class Manager(Employee):\n",
    "    def __init__(self, name, age, employee_id, department):\n",
    "        super().__init__(name, age, employee_id)\n",
    "        self.department = department\n",
    "\n",
    "    def getDetails(self):\n",
    "        return f\"{self.name},{self.age},{self.employee_id},{self.department}\""
   ]
  },
  {
   "cell_type": "code",
   "execution_count": 36,
   "id": "e683a799-e2f3-4d02-81e1-bfb4ca2321e1",
   "metadata": {},
   "outputs": [],
   "source": [
    "obj = Manager(\"aayam\", 43, \"332A\", \"accounts\")"
   ]
  },
  {
   "cell_type": "code",
   "execution_count": 37,
   "id": "13228609-a72f-4b43-991f-cc7640826b16",
   "metadata": {},
   "outputs": [
    {
     "data": {
      "text/plain": [
       "<bound method Manager.getDetails of <__main__.Manager object at 0x0000025F2CD89550>>"
      ]
     },
     "execution_count": 37,
     "metadata": {},
     "output_type": "execute_result"
    }
   ],
   "source": [
    "obj.getDetails"
   ]
  },
  {
   "cell_type": "code",
   "execution_count": null,
   "id": "eb28ed99-e3d4-4eff-a550-f0818a268419",
   "metadata": {},
   "outputs": [],
   "source": []
  },
  {
   "cell_type": "code",
   "execution_count": 38,
   "id": "1261eda2-234d-4d8f-ad54-35f0d29beaf1",
   "metadata": {},
   "outputs": [],
   "source": [
    "class Animal:\n",
    "    def __init__(self, name, age):\n",
    "        self.name = name\n",
    "        self.age = age\n",
    "\n",
    "    def intro(self):\n",
    "        print(f\"my name is {self.name}\")"
   ]
  },
  {
   "cell_type": "code",
   "execution_count": 41,
   "id": "c359fc56-e373-4079-be8f-bddd6b07464b",
   "metadata": {},
   "outputs": [],
   "source": [
    "class Cat(Animal):\n",
    "\n",
    "    def speak(self):\n",
    "        print(\"meow\")\n",
    "\n",
    "class Dog(Animal):\n",
    "\n",
    "    def speak(self):\n",
    "        print(\"woof\")\n",
    "\n",
    "class Lion(Animal):\n",
    "\n",
    "    def speak(self):\n",
    "        print(\"roar\")"
   ]
  },
  {
   "cell_type": "code",
   "execution_count": 42,
   "id": "21516b1a-0fb8-43ba-87ef-ec8a53e44db2",
   "metadata": {},
   "outputs": [],
   "source": [
    "cat = Cat(\"fluffy\",5)"
   ]
  },
  {
   "cell_type": "code",
   "execution_count": 43,
   "id": "a00f8997-ece3-4843-85ed-1355b6e472fc",
   "metadata": {},
   "outputs": [
    {
     "name": "stdout",
     "output_type": "stream",
     "text": [
      "my name is fluffy\n"
     ]
    }
   ],
   "source": [
    "cat.intro()"
   ]
  },
  {
   "cell_type": "code",
   "execution_count": 44,
   "id": "887341a8-7317-4e9d-bdf6-b954d80a18dd",
   "metadata": {},
   "outputs": [
    {
     "name": "stdout",
     "output_type": "stream",
     "text": [
      "meow\n"
     ]
    }
   ],
   "source": [
    "cat.speak()"
   ]
  },
  {
   "cell_type": "code",
   "execution_count": 45,
   "id": "45671e33-2415-40d9-82fd-532ab523765f",
   "metadata": {},
   "outputs": [],
   "source": [
    "lion = Lion(\"Dom\", 8)"
   ]
  },
  {
   "cell_type": "code",
   "execution_count": 46,
   "id": "ee573de3-cfb3-4b79-96a7-3c3e56da7307",
   "metadata": {},
   "outputs": [
    {
     "name": "stdout",
     "output_type": "stream",
     "text": [
      "my name is Dom\n"
     ]
    }
   ],
   "source": [
    "lion.intro()"
   ]
  },
  {
   "cell_type": "code",
   "execution_count": 47,
   "id": "38f0c7ea-dc3e-47c8-b02f-7323a78d4cf3",
   "metadata": {},
   "outputs": [
    {
     "name": "stdout",
     "output_type": "stream",
     "text": [
      "roar\n"
     ]
    }
   ],
   "source": [
    "lion.speak()"
   ]
  },
  {
   "cell_type": "code",
   "execution_count": 54,
   "id": "62ec3501-fa1a-45fb-a9a6-fe8c9b464975",
   "metadata": {},
   "outputs": [],
   "source": [
    "class Animal:\n",
    "    def __init__(self, name, age =2):\n",
    "        self.name = name\n",
    "        self.age = age\n",
    "\n",
    "    def intro(self):\n",
    "        print(f\"my name is {self.name}\")"
   ]
  },
  {
   "cell_type": "code",
   "execution_count": 55,
   "id": "e798ea96-4732-49bf-bfab-35a4961ba727",
   "metadata": {},
   "outputs": [],
   "source": [
    "class Mammal(Animal):\n",
    "    def __init__(self,name, fur = False):\n",
    "        super().__init__(name)\n",
    "        self.fur = True\n",
    "\n",
    "    def birth(self):\n",
    "        print(f\"{self.name} give birth to live ones\")\n",
    "\n",
    "class Birds(Animal):\n",
    "    def fly(self):\n",
    "        print(f\"{self.name} can fly\")"
   ]
  },
  {
   "cell_type": "code",
   "execution_count": 59,
   "id": "64092e62-f448-4e38-acf0-fc01b9d5eefa",
   "metadata": {},
   "outputs": [],
   "source": [
    "class Bat(Mammal,Birds):\n",
    "    pass"
   ]
  },
  {
   "cell_type": "code",
   "execution_count": 60,
   "id": "3d1a6acf-1a5f-459c-a29a-9e0054110c17",
   "metadata": {},
   "outputs": [],
   "source": [
    "b = Bat(\"bruce\")"
   ]
  },
  {
   "cell_type": "code",
   "execution_count": 61,
   "id": "30e3a8af-d600-4019-9e8e-2b3eab8ef90c",
   "metadata": {},
   "outputs": [
    {
     "name": "stdout",
     "output_type": "stream",
     "text": [
      "bruce can fly\n"
     ]
    }
   ],
   "source": [
    "b.fly()"
   ]
  },
  {
   "cell_type": "code",
   "execution_count": 62,
   "id": "404685d6-80e0-4e06-9dc0-28aa4007a514",
   "metadata": {},
   "outputs": [
    {
     "name": "stdout",
     "output_type": "stream",
     "text": [
      "bruce give birth to live ones\n"
     ]
    }
   ],
   "source": [
    "b.birth()"
   ]
  },
  {
   "cell_type": "code",
   "execution_count": 63,
   "id": "0db51803-a637-4577-a77a-bddb175b0526",
   "metadata": {},
   "outputs": [
    {
     "name": "stdout",
     "output_type": "stream",
     "text": [
      "my name is bruce\n"
     ]
    }
   ],
   "source": [
    "b.intro()"
   ]
  },
  {
   "cell_type": "code",
   "execution_count": null,
   "id": "c8efd940-3e51-43e8-8b9d-7dabd22da66f",
   "metadata": {},
   "outputs": [],
   "source": []
  }
 ],
 "metadata": {
  "kernelspec": {
   "display_name": "Python 3 (ipykernel)",
   "language": "python",
   "name": "python3"
  },
  "language_info": {
   "codemirror_mode": {
    "name": "ipython",
    "version": 3
   },
   "file_extension": ".py",
   "mimetype": "text/x-python",
   "name": "python",
   "nbconvert_exporter": "python",
   "pygments_lexer": "ipython3",
   "version": "3.13.5"
  }
 },
 "nbformat": 4,
 "nbformat_minor": 5
}
