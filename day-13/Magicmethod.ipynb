{
 "cells": [
  {
   "cell_type": "code",
   "execution_count": 19,
   "id": "4ba7ab5b-b20f-4874-ba2d-eae1a9b205e2",
   "metadata": {},
   "outputs": [],
   "source": [
    "class Person:\n",
    "    def __init__(objr, name , age):\n",
    "        objr.name = name\n",
    "        objr.age = age\n",
    "\n",
    "    def __str__(objr):\n",
    "        return f\"{objr.name} of {objr.age} years old\"\n",
    "\n",
    "    def __repr__(objr):\n",
    "        return f\"Person{objr.name}, {objr.age}\"\n",
    "\n",
    "    def __len__(objr):\n",
    "        return objr.age\n",
    "\n",
    "    def __call__(objr, gender = \"Male\"):\n",
    "        return f\"{objr.name} is a {gender}\""
   ]
  },
  {
   "cell_type": "code",
   "execution_count": 20,
   "id": "207e35f5-9c01-40bb-a22a-0a592280d473",
   "metadata": {},
   "outputs": [],
   "source": [
    "person = Person(\"hamilton\", 32)"
   ]
  },
  {
   "cell_type": "code",
   "execution_count": 21,
   "id": "354a7789-3ddd-4ea5-a991-aab7ad6d99a8",
   "metadata": {},
   "outputs": [
    {
     "data": {
      "text/plain": [
       "'hamilton'"
      ]
     },
     "execution_count": 21,
     "metadata": {},
     "output_type": "execute_result"
    }
   ],
   "source": [
    "person.name"
   ]
  },
  {
   "cell_type": "code",
   "execution_count": 22,
   "id": "933d7744-3f19-4882-9d02-82ffd3b07d16",
   "metadata": {},
   "outputs": [
    {
     "name": "stdout",
     "output_type": "stream",
     "text": [
      "hamilton of 32 years old\n"
     ]
    }
   ],
   "source": [
    "print(person)#< overloading"
   ]
  },
  {
   "cell_type": "code",
   "execution_count": 23,
   "id": "44062f47-761d-4069-9f5f-fd9f7a43614c",
   "metadata": {},
   "outputs": [
    {
     "data": {
      "text/plain": [
       "Personhamilton, 32"
      ]
     },
     "execution_count": 23,
     "metadata": {},
     "output_type": "execute_result"
    }
   ],
   "source": [
    "person"
   ]
  },
  {
   "cell_type": "code",
   "execution_count": 24,
   "id": "f63f1981-e002-41a6-8475-009d3b6d117d",
   "metadata": {},
   "outputs": [
    {
     "data": {
      "text/plain": [
       "32"
      ]
     },
     "execution_count": 24,
     "metadata": {},
     "output_type": "execute_result"
    }
   ],
   "source": [
    "len(person)"
   ]
  },
  {
   "cell_type": "code",
   "execution_count": 25,
   "id": "852d27f1-bfeb-49d8-8f33-62ad792f4e69",
   "metadata": {},
   "outputs": [
    {
     "data": {
      "text/plain": [
       "'hamilton is a Male'"
      ]
     },
     "execution_count": 25,
     "metadata": {},
     "output_type": "execute_result"
    }
   ],
   "source": [
    "person()"
   ]
  },
  {
   "cell_type": "code",
   "execution_count": null,
   "id": "3d56b974-1e7d-4ae6-bad0-51cf6faf57e8",
   "metadata": {},
   "outputs": [],
   "source": []
  },
  {
   "cell_type": "code",
   "execution_count": null,
   "id": "854255a0-c273-4e36-ae8a-f21e45ed5ef3",
   "metadata": {},
   "outputs": [],
   "source": []
  }
 ],
 "metadata": {
  "kernelspec": {
   "display_name": "Python 3 (ipykernel)",
   "language": "python",
   "name": "python3"
  },
  "language_info": {
   "codemirror_mode": {
    "name": "ipython",
    "version": 3
   },
   "file_extension": ".py",
   "mimetype": "text/x-python",
   "name": "python",
   "nbconvert_exporter": "python",
   "pygments_lexer": "ipython3",
   "version": "3.13.5"
  }
 },
 "nbformat": 4,
 "nbformat_minor": 5
}
