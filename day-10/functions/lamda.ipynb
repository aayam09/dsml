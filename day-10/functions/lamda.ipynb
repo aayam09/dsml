{
 "cells": [
  {
   "cell_type": "code",
   "execution_count": 1,
   "id": "6d922fc7-fb5c-4340-9bc9-320407766a8c",
   "metadata": {},
   "outputs": [
    {
     "data": {
      "text/plain": [
       "9"
      ]
     },
     "execution_count": 1,
     "metadata": {},
     "output_type": "execute_result"
    }
   ],
   "source": [
    "def add(x,y):\n",
    "    return x+y\n",
    "\n",
    "add(4,5)"
   ]
  },
  {
   "cell_type": "code",
   "execution_count": 2,
   "id": "a896dc8f-4e9a-472a-aca0-cd099e1a8ae4",
   "metadata": {},
   "outputs": [],
   "source": [
    "add_lamda= lambda x,y:x+y"
   ]
  },
  {
   "cell_type": "code",
   "execution_count": 3,
   "id": "f0d69e0d-d9e2-47b4-b119-f68901b50936",
   "metadata": {},
   "outputs": [
    {
     "data": {
      "text/plain": [
       "function"
      ]
     },
     "execution_count": 3,
     "metadata": {},
     "output_type": "execute_result"
    }
   ],
   "source": [
    "type(add_lamda)"
   ]
  },
  {
   "cell_type": "code",
   "execution_count": 4,
   "id": "3ef58896-a202-4762-95dc-dec649b34d37",
   "metadata": {},
   "outputs": [
    {
     "data": {
      "text/plain": [
       "9"
      ]
     },
     "execution_count": 4,
     "metadata": {},
     "output_type": "execute_result"
    }
   ],
   "source": [
    "add_lamda(4,5)"
   ]
  },
  {
   "cell_type": "code",
   "execution_count": 7,
   "id": "d118a86f-1611-41e9-87b3-88d27c581bde",
   "metadata": {},
   "outputs": [
    {
     "data": {
      "text/plain": [
       "52"
      ]
     },
     "execution_count": 7,
     "metadata": {},
     "output_type": "execute_result"
    }
   ],
   "source": [
    "cuboid_tsa = lambda l,b,h:2 * (l * b + b * h + l * h)\n",
    "cuboid_tsa(2,3,4)"
   ]
  },
  {
   "cell_type": "code",
   "execution_count": 14,
   "id": "b8a29660-499b-4503-bd68-320f6b82ea78",
   "metadata": {},
   "outputs": [
    {
     "data": {
      "text/plain": [
       "[45, 108.0, 180.0, 75, 135.0]"
      ]
     },
     "execution_count": 14,
     "metadata": {},
     "output_type": "execute_result"
    }
   ],
   "source": [
    "prices = [45, 120, 200, 75, 150]\n",
    "def get_discount(x):\n",
    "    return x*0.9 if x>100 else x\n",
    "\n",
    "discount = lambda x: x * 0.9 if x > 100 else x\n",
    "\n",
    "list_obj = map(discount,prices)\n",
    "list(list_obj)"
   ]
  },
  {
   "cell_type": "code",
   "execution_count": null,
   "id": "94d95f37-a1bb-4e57-bd80-2586e8311561",
   "metadata": {},
   "outputs": [],
   "source": []
  },
  {
   "cell_type": "code",
   "execution_count": 31,
   "id": "0a655da6-d81b-46c3-ba70-cf559336a23f",
   "metadata": {},
   "outputs": [],
   "source": [
    "large_obj = range(1,1000000)\n",
    "res_value =[]"
   ]
  },
  {
   "cell_type": "code",
   "execution_count": 32,
   "id": "8cb5292b-dd05-4a35-8964-5eea4e795b13",
   "metadata": {},
   "outputs": [
    {
     "name": "stdout",
     "output_type": "stream",
     "text": [
      "CPU times: total: 156 ms\n",
      "Wall time: 156 ms\n"
     ]
    }
   ],
   "source": [
    "%%time\n",
    "\n",
    "for a in large_obj:\n",
    "    res_value.append(discount(a))"
   ]
  },
  {
   "cell_type": "code",
   "execution_count": 33,
   "id": "e58de8b3-3064-4633-9586-2d08b7e3b725",
   "metadata": {},
   "outputs": [
    {
     "name": "stdout",
     "output_type": "stream",
     "text": [
      "CPU times: total: 0 ns\n",
      "Wall time: 4.77 μs\n"
     ]
    }
   ],
   "source": [
    "%%time\n",
    "map_obj = map(discount, large_obj)"
   ]
  },
  {
   "cell_type": "code",
   "execution_count": null,
   "id": "f14480ed-1b40-4f2a-adca-d247163716c9",
   "metadata": {},
   "outputs": [],
   "source": []
  }
 ],
 "metadata": {
  "kernelspec": {
   "display_name": "Python 3 (ipykernel)",
   "language": "python",
   "name": "python3"
  },
  "language_info": {
   "codemirror_mode": {
    "name": "ipython",
    "version": 3
   },
   "file_extension": ".py",
   "mimetype": "text/x-python",
   "name": "python",
   "nbconvert_exporter": "python",
   "pygments_lexer": "ipython3",
   "version": "3.13.5"
  }
 },
 "nbformat": 4,
 "nbformat_minor": 5
}
