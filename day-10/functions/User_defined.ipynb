{
 "cells": [
  {
   "cell_type": "code",
   "execution_count": 2,
   "id": "3bdb9128-2891-40fc-bc49-e1a0d9220353",
   "metadata": {},
   "outputs": [],
   "source": [
    "def sum_of_list(inp_list):\n",
    "    result = 0\n",
    "\n",
    "    for x in inp_list:\n",
    "        result += x\n",
    "    return result"
   ]
  },
  {
   "cell_type": "code",
   "execution_count": 3,
   "id": "9f36034c-52dc-4523-b268-044340c4afa7",
   "metadata": {},
   "outputs": [
    {
     "data": {
      "text/plain": [
       "18"
      ]
     },
     "execution_count": 3,
     "metadata": {},
     "output_type": "execute_result"
    }
   ],
   "source": [
    "sum_of_list([1,2,3,4,8])"
   ]
  },
  {
   "cell_type": "code",
   "execution_count": 4,
   "id": "a40b818a-daf6-4f60-b8c1-a68a1faac6d6",
   "metadata": {},
   "outputs": [],
   "source": [
    "def greet(name, greetings = \"morning\"):\n",
    "    return (f\"{greetings}, {name}\")"
   ]
  },
  {
   "cell_type": "code",
   "execution_count": 5,
   "id": "94cf5922-bf48-4e70-a347-1c31dc6dc7e0",
   "metadata": {},
   "outputs": [
    {
     "data": {
      "text/plain": [
       "'morning, aayam'"
      ]
     },
     "execution_count": 5,
     "metadata": {},
     "output_type": "execute_result"
    }
   ],
   "source": [
    "greet(\"aayam\")"
   ]
  },
  {
   "cell_type": "code",
   "execution_count": 6,
   "id": "2bfbc61f-29ef-444c-93c7-993bcbf6a351",
   "metadata": {},
   "outputs": [
    {
     "data": {
      "text/plain": [
       "'hi, aayush'"
      ]
     },
     "execution_count": 6,
     "metadata": {},
     "output_type": "execute_result"
    }
   ],
   "source": [
    "greet(\"aayush\",\"hi\")"
   ]
  },
  {
   "cell_type": "code",
   "execution_count": 7,
   "id": "a5b3c356-1a5a-43de-8a34-f7cc992a516c",
   "metadata": {},
   "outputs": [],
   "source": [
    "def print_args(*args):\n",
    "    print(\"positional args\")\n",
    "    for arg in args:\n",
    "        print(arg)"
   ]
  },
  {
   "cell_type": "code",
   "execution_count": 8,
   "id": "a2ffc092-0e12-4f43-be9f-eab6962796c0",
   "metadata": {},
   "outputs": [
    {
     "name": "stdout",
     "output_type": "stream",
     "text": [
      "positional args\n",
      "1\n",
      "3\n",
      "4\n",
      "5\n",
      "[5, 6]\n",
      "ram\n"
     ]
    }
   ],
   "source": [
    "print_args(1,3,4,5,[5,6],\"ram\")"
   ]
  },
  {
   "cell_type": "code",
   "execution_count": 30,
   "id": "898377c6-0097-49ba-ac15-43ea73c6440a",
   "metadata": {},
   "outputs": [],
   "source": [
    "def print_kargs(**kwargs):\n",
    "    print(\"Keywords Args\")\n",
    "    print(kwargs)\n",
    "    length = kwargs.get('length')\n",
    "\n",
    "\n"
   ]
  },
  {
   "cell_type": "code",
   "execution_count": 31,
   "id": "0214fe4e-bc9a-4408-a081-90e4cc777e5e",
   "metadata": {},
   "outputs": [
    {
     "name": "stdout",
     "output_type": "stream",
     "text": [
      "Keywords Args\n",
      "{'length': 4, 'breadth': 6}\n"
     ]
    }
   ],
   "source": [
    "print_kargs(length=4, breadth=6)"
   ]
  },
  {
   "cell_type": "code",
   "execution_count": 37,
   "id": "8bd36c88-ecc7-4e79-a6c3-604d5ad194ad",
   "metadata": {},
   "outputs": [
    {
     "ename": "SyntaxError",
     "evalue": "closing parenthesis ')' does not match opening parenthesis '{' (2046283843.py, line 4)",
     "output_type": "error",
     "traceback": [
      "  \u001b[36mCell\u001b[39m\u001b[36m \u001b[39m\u001b[32mIn[37]\u001b[39m\u001b[32m, line 4\u001b[39m\n\u001b[31m    \u001b[39m\u001b[31mprint{\".\"*50)\u001b[39m\n                ^\n\u001b[31mSyntaxError\u001b[39m\u001b[31m:\u001b[39m closing parenthesis ')' does not match opening parenthesis '{'\n"
     ]
    }
   ],
   "source": [
    "def print_arguments(*args, **kwargs):\n",
    "    print(\"positional\")\n",
    "    print(args)\n",
    "    print{\".\"*50)\n",
    "    print(\"keyword\")\n",
    "    print(kwargs)"
   ]
  },
  {
   "cell_type": "code",
   "execution_count": null,
   "id": "83e6558f-5f2b-4d8a-b460-dad90efdedb7",
   "metadata": {},
   "outputs": [],
   "source": []
  },
  {
   "cell_type": "code",
   "execution_count": null,
   "id": "bbb2258c-a096-4150-9c35-b5ffe351bc5c",
   "metadata": {},
   "outputs": [],
   "source": []
  },
  {
   "cell_type": "code",
   "execution_count": 35,
   "id": "1e1a0143-4fcb-4e35-83a4-3e502592b8a9",
   "metadata": {},
   "outputs": [],
   "source": [
    "def square(n: int) -> int:\n",
    "    \"\"\"Give square of number\"\"\"\n",
    "    return n**2"
   ]
  },
  {
   "cell_type": "code",
   "execution_count": 36,
   "id": "8b350f5d-7c8f-491a-a248-f180eb6e0134",
   "metadata": {},
   "outputs": [
    {
     "data": {
      "text/plain": [
       "49"
      ]
     },
     "execution_count": 36,
     "metadata": {},
     "output_type": "execute_result"
    }
   ],
   "source": [
    "square()"
   ]
  },
  {
   "cell_type": "markdown",
   "id": "10aff93c-d7ec-4c5e-a35b-8b8d7004b436",
   "metadata": {},
   "source": [
    "#Question : Calculate Std. Deviation of given list.\n",
    "Standard Deviation : $\\sqrt{\\frac{\\sum{(X - \\bar{X})}^2}{N}}$"
   ]
  },
  {
   "cell_type": "code",
   "execution_count": 14,
   "id": "9bcbf061-ab60-430c-bbd1-adb93b2f5cb1",
   "metadata": {},
   "outputs": [
    {
     "name": "stdout",
     "output_type": "stream",
     "text": [
      "1.4142135623730951\n"
     ]
    }
   ],
   "source": [
    "import math\n",
    "import statistics\n",
    "\n",
    "number_list = [2, 3, 4, 5, 6]\n",
    "\n",
    "def standard_deviation(number_list: float):\n",
    "    \"\"\"Calculate the standard deviation of a list of numbers.\n",
    "    Args:\n",
    "        number_list (list): A list of numbers.\n",
    "        Returns:\n",
    "        float: The standard deviation of the numbers in the list.\n",
    "    Raises:\n",
    "        TypeError: If the input is not a list.\n",
    "            \"\"\"\n",
    "    if not isinstance(number_list, list):\n",
    "        raise TypeError(\"Input must be a list\")      \n",
    "\n",
    "    mean = statistics.mean(number_list)\n",
    "    total = 0\n",
    "    for x in number_list:\n",
    "        total += (x - mean) ** 2\n",
    "    return math.sqrt(total / len(number_list))  # population standard deviation\n",
    "\n",
    "print(standard_deviation(number_list))\n"
   ]
  },
  {
   "cell_type": "code",
   "execution_count": 19,
   "id": "b1971dc0-c11c-477d-8e23-62e7cb3b21ce",
   "metadata": {},
   "outputs": [
    {
     "name": "stdout",
     "output_type": "stream",
     "text": [
      "2.1213203435596424\n"
     ]
    }
   ],
   "source": [
    "import math\n",
    "import statistics\n",
    "\n",
    "def standard_deviation(*number_list: float) -> float:\n",
    "    \"\"\"\n",
    "    Compute the population standard deviation of given numeric inputs.\n",
    "\n",
    "    Parameters\n",
    "    ----------\n",
    "    *number_list : float\n",
    "        One or more numeric values. These are treated as a single data set.\n",
    "    \n",
    "    Returns\n",
    "    -------\n",
    "    float\n",
    "        The population standard deviation of the input values.\n",
    "        Returns 0.0 if no values are provided.\n",
    "\n",
    "    Notes\n",
    "    -----\n",
    "    The standard deviation is computed using the population formula:\n",
    "    \n",
    "        std = sqrt(Σ(xᵢ - mean)² / N)\n",
    "\n",
    "    This function uses `statistics.mean` to calculate the mean and assumes\n",
    "    a population standard deviation (denominator N, not N - 1).\n",
    "\n",
    "    \"\"\"\n",
    "    if not number_list:\n",
    "        return 0.0\n",
    "    mean = statistics.mean(number_list)\n",
    "    total = 0\n",
    "    for x in number_list:\n",
    "        total += (x - mean) ** 2\n",
    "    return math.sqrt(total / len(number_list))  # population standard deviation\n",
    "\n",
    "print(standard_deviation(2, 4, 7, 6, 9, 8, 5, 7))\n"
   ]
  },
  {
   "cell_type": "code",
   "execution_count": null,
   "id": "5632681f-ecc0-4912-9ed3-4565995d9c1f",
   "metadata": {},
   "outputs": [],
   "source": []
  }
 ],
 "metadata": {
  "kernelspec": {
   "display_name": "Python 3 (ipykernel)",
   "language": "python",
   "name": "python3"
  },
  "language_info": {
   "codemirror_mode": {
    "name": "ipython",
    "version": 3
   },
   "file_extension": ".py",
   "mimetype": "text/x-python",
   "name": "python",
   "nbconvert_exporter": "python",
   "pygments_lexer": "ipython3",
   "version": "3.13.5"
  }
 },
 "nbformat": 4,
 "nbformat_minor": 5
}
