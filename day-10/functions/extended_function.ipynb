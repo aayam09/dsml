{
 "cells": [
  {
   "cell_type": "code",
   "execution_count": 2,
   "id": "686c60fa-542b-48fe-b14a-35789a3951db",
   "metadata": {},
   "outputs": [
    {
     "data": {
      "text/plain": [
       "55"
      ]
     },
     "execution_count": 2,
     "metadata": {},
     "output_type": "execute_result"
    }
   ],
   "source": [
    "def fib(n):\n",
    "    #base case\n",
    "    if n==0:\n",
    "        return 0;\n",
    "    elif n==1 :\n",
    "        return 1\n",
    "    else:\n",
    "        # recursivce case\n",
    "        return fib(n-1) +fib(n-2)\n",
    "\n",
    "fib(10)\n",
    "        "
   ]
  },
  {
   "cell_type": "code",
   "execution_count": 6,
   "id": "203a41e3-f96a-4e3c-b4f0-6403fe8280a0",
   "metadata": {},
   "outputs": [
    {
     "name": "stderr",
     "output_type": "stream",
     "text": [
      "UsageError: Line magic function `%%time` not found.\n"
     ]
    }
   ],
   "source": [
    "cache = {0 :0,1: 1}\n",
    "\n",
    "def fib(n):\n",
    "    if n in cache:\n",
    "        return cache[n]\n",
    "    else:\n",
    "        #recursive case\n",
    "        result = fib(n-1) + fib(n-2)\n",
    "        cache[n] = result\n",
    "        return result\n",
    "\n",
    "fib(500)\n",
    "        "
   ]
  },
  {
   "cell_type": "code",
   "execution_count": null,
   "id": "37885c2c-a5ca-4fef-96c1-ae815a61d1b4",
   "metadata": {},
   "outputs": [],
   "source": []
  }
 ],
 "metadata": {
  "kernelspec": {
   "display_name": "Python 3 (ipykernel)",
   "language": "python",
   "name": "python3"
  },
  "language_info": {
   "codemirror_mode": {
    "name": "ipython",
    "version": 3
   },
   "file_extension": ".py",
   "mimetype": "text/x-python",
   "name": "python",
   "nbconvert_exporter": "python",
   "pygments_lexer": "ipython3",
   "version": "3.13.5"
  }
 },
 "nbformat": 4,
 "nbformat_minor": 5
}
