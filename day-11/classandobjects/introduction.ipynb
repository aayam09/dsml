{
 "cells": [
  {
   "cell_type": "code",
   "execution_count": 1,
   "id": "48312d55-9c00-44c9-a1b4-f3ddbb8b713b",
   "metadata": {},
   "outputs": [],
   "source": [
    "class Calculator:\n",
    "    def __init__(self, num1, num2):\n",
    "        self.num1 = num1\n",
    "        self.num2 = num2\n",
    "\n",
    "    def sum(self):\n",
    "        return self.num1 + self.num2\n"
   ]
  },
  {
   "cell_type": "code",
   "execution_count": 2,
   "id": "fc04ddb1-5526-4de4-8ec4-e42b724c8f63",
   "metadata": {},
   "outputs": [],
   "source": [
    "cal_obj = Calculator(10,4)"
   ]
  },
  {
   "cell_type": "code",
   "execution_count": 3,
   "id": "e3375dc9-7cf0-4158-8ed4-ec50cfd6d026",
   "metadata": {},
   "outputs": [
    {
     "data": {
      "text/plain": [
       "__main__.Calculator"
      ]
     },
     "execution_count": 3,
     "metadata": {},
     "output_type": "execute_result"
    }
   ],
   "source": [
    "type(cal_obj)"
   ]
  },
  {
   "cell_type": "code",
   "execution_count": 4,
   "id": "04b4b4e2-8232-4bfd-98b9-c7973df30e62",
   "metadata": {},
   "outputs": [
    {
     "data": {
      "text/plain": [
       "14"
      ]
     },
     "execution_count": 4,
     "metadata": {},
     "output_type": "execute_result"
    }
   ],
   "source": [
    "cal_obj.sum()"
   ]
  },
  {
   "cell_type": "code",
   "execution_count": 5,
   "id": "a1f00fd4-aece-4837-807d-80b1a01acf95",
   "metadata": {},
   "outputs": [
    {
     "data": {
      "text/plain": [
       "26"
      ]
     },
     "execution_count": 5,
     "metadata": {},
     "output_type": "execute_result"
    }
   ],
   "source": [
    "cal_obj2 = Calculator(10,16)\n",
    "cal_obj2.sum()"
   ]
  },
  {
   "cell_type": "code",
   "execution_count": 20,
   "id": "bddb41b6-574a-4f3e-9353-f63af34f286e",
   "metadata": {},
   "outputs": [],
   "source": [
    "class Person:\n",
    "    count = 0 #< class attribute\n",
    "\n",
    "    def __init__(self, name:str, address:str = \"Kathmandu\"):#initializer /Constructer\"\n",
    "        \"\"\"\n",
    "        Crearting a person class\n",
    "        \"\"\"\n",
    "        self.name = name\n",
    "        self.address = address\n",
    "\n",
    "        Person.count += 1\n",
    "\n",
    "    def get_details(self): #<Instance method\n",
    "        print(f\"I am {self.name} from {self.address}\")\n",
    "\n",
    "    @classmethod\n",
    "    def get_count(cls): #< class method\n",
    "        return cls.count\n",
    "\n",
    "    @staticmethod\n",
    "    def create_fullname(firstname, lastname): #< static methods\n",
    "        return f\"{firstname}, {lastname}\"  "
   ]
  },
  {
   "cell_type": "code",
   "execution_count": 21,
   "id": "1eaa3a60-7b7a-4657-afae-929125b4e0fc",
   "metadata": {},
   "outputs": [],
   "source": [
    "student1 =Person(\"gukesh\")"
   ]
  },
  {
   "cell_type": "code",
   "execution_count": 22,
   "id": "955cc0af-fac1-4dbe-991a-6a848453ae09",
   "metadata": {},
   "outputs": [],
   "source": [
    "student2 = Person(\"Reason\",\"Jhapa\")"
   ]
  },
  {
   "cell_type": "code",
   "execution_count": 23,
   "id": "19fe339c-5d39-48ff-bee9-ad58d0891511",
   "metadata": {},
   "outputs": [
    {
     "name": "stdout",
     "output_type": "stream",
     "text": [
      "I am Reason from Jhapa\n"
     ]
    }
   ],
   "source": [
    "student2.get_details()"
   ]
  },
  {
   "cell_type": "code",
   "execution_count": 24,
   "id": "8487de44-eb28-4bec-b9ac-b3259f0f2517",
   "metadata": {},
   "outputs": [
    {
     "data": {
      "text/plain": [
       "2"
      ]
     },
     "execution_count": 24,
     "metadata": {},
     "output_type": "execute_result"
    }
   ],
   "source": [
    "student1.get_count()"
   ]
  },
  {
   "cell_type": "code",
   "execution_count": 25,
   "id": "fa8ff4fb-4a1c-42e8-afef-4cf667f3b276",
   "metadata": {},
   "outputs": [
    {
     "data": {
      "text/plain": [
       "2"
      ]
     },
     "execution_count": 25,
     "metadata": {},
     "output_type": "execute_result"
    }
   ],
   "source": [
    "student2.get_count()"
   ]
  },
  {
   "cell_type": "code",
   "execution_count": 26,
   "id": "fd85d2e3-d996-40ec-81ad-19750eec0d15",
   "metadata": {},
   "outputs": [
    {
     "data": {
      "text/plain": [
       "'aayam, singh'"
      ]
     },
     "execution_count": 26,
     "metadata": {},
     "output_type": "execute_result"
    }
   ],
   "source": [
    "student1.create_fullname(\"aayam\",\"singh\")"
   ]
  },
  {
   "cell_type": "code",
   "execution_count": 56,
   "id": "ce591e3c-9bdb-4218-bcb0-d82a08feecff",
   "metadata": {},
   "outputs": [],
   "source": [
    "# Library class with student and department\n",
    "# method: can_burrow(book_name)\n",
    " \n",
    "# books = [\n",
    "#             (\"The Alchemist\", 25),\n",
    "#             (\"The Da Vinci Code\", 30),\n",
    "#             (\"A Brief History of Time\", 15),\n",
    "#             (\"Angels & Demons\", 0),\n",
    "#             (\"The Grand Design\", 0),\n",
    "#             (\"1984\", 19)\n",
    "#         ]\n",
    "\n",
    "class Library:\n",
    "    def __init__(self, name:str, depart=\"Maths\"):\n",
    "        self.name = name\n",
    "        self.depart = depart\n",
    "        self.books = [\n",
    "            (\"The Alchemist\", 25),\n",
    "            (\"The Da Vinci Code\", 30),\n",
    "            (\"A Brief History of Time\", 15),\n",
    "            (\"Angels & Demons\", 0),\n",
    "            (\"The Grand Design\", 0),\n",
    "            (\"1984\", 19)\n",
    "        ]\n",
    "    \n",
    "    def can_burrow(self, book_name):\n",
    "        book_name =book_name.lower()\n",
    "        status = [name for name, amount in self.books if name.lower() == book_name and amount >0]\n",
    "        return \"Can borrow\" if status else \"Cant borrow\"\n",
    "            "
   ]
  },
  {
   "cell_type": "code",
   "execution_count": 57,
   "id": "1b3db867-8629-459a-9528-d38f69ca289d",
   "metadata": {},
   "outputs": [],
   "source": [
    "book_obj1 = Library(\"aayam\")"
   ]
  },
  {
   "cell_type": "code",
   "execution_count": 58,
   "id": "216c739c-d013-483e-b186-e7a20b806d1f",
   "metadata": {},
   "outputs": [
    {
     "data": {
      "text/plain": [
       "'Can borrow'"
      ]
     },
     "execution_count": 58,
     "metadata": {},
     "output_type": "execute_result"
    }
   ],
   "source": [
    "book_obj1.can_burrow(\"The Da Vinci Code\")"
   ]
  },
  {
   "cell_type": "code",
   "execution_count": 81,
   "id": "28961ca5-4b49-4f4b-8c7c-35cc8e6726df",
   "metadata": {},
   "outputs": [],
   "source": [
    "import statistics\n",
    "class StudentResult:\n",
    "    def __init__(self,name:str, marks:list):\n",
    "        self.name = name\n",
    "        self.marks = marks\n",
    "\n",
    "    def total(self):\n",
    "        return sum(self.marks)\n",
    "\n",
    "    def average(self):\n",
    "        return statistics.mean(self.marks)\n",
    "        \n",
    "\n",
    "    def display(self):\n",
    "        print(f\"name is {self.name}\")\n",
    "        print(f\"total is {self.total()}\")\n",
    "        print(f\"average is {self.average()}\")\n"
   ]
  },
  {
   "cell_type": "code",
   "execution_count": 82,
   "id": "56f47459-3e8a-4721-ba63-aefbd3d236c0",
   "metadata": {},
   "outputs": [
    {
     "name": "stdout",
     "output_type": "stream",
     "text": [
      "name is aayam\n",
      "total is 247\n",
      "average is 61.75\n"
     ]
    }
   ],
   "source": [
    "stobj = StudentResult(\"aayam\",[45,67,57,78])\n",
    "stobj.total()\n",
    "stobj.average()\n",
    "stobj.display()"
   ]
  },
  {
   "cell_type": "code",
   "execution_count": null,
   "id": "427d82fb-6a00-438e-9cbb-f399bf375bb8",
   "metadata": {},
   "outputs": [],
   "source": []
  }
 ],
 "metadata": {
  "kernelspec": {
   "display_name": "Python 3 (ipykernel)",
   "language": "python",
   "name": "python3"
  },
  "language_info": {
   "codemirror_mode": {
    "name": "ipython",
    "version": 3
   },
   "file_extension": ".py",
   "mimetype": "text/x-python",
   "name": "python",
   "nbconvert_exporter": "python",
   "pygments_lexer": "ipython3",
   "version": "3.13.5"
  }
 },
 "nbformat": 4,
 "nbformat_minor": 5
}
