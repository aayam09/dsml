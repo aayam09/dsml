{
 "cells": [
  {
   "cell_type": "markdown",
   "id": "04c2f7cb-4cf3-4bbf-a9db-756fe148da04",
   "metadata": {},
   "source": [
    "## Machine learning"
   ]
  },
  {
   "cell_type": "markdown",
   "id": "28ef9df1-1f27-48da-bcc0-30d9d6d9e6f1",
   "metadata": {},
   "source": [
    "### Major approaches of ML\n",
    "1. supervised learning\n",
    "2. unsupervised learning\n",
    "3. reinforced learning"
   ]
  },
  {
   "cell_type": "markdown",
   "id": "9094237d-b0c8-488f-9c37-b9a248aba098",
   "metadata": {},
   "source": [
    "## terminology\n",
    "\n",
    "1. Dataset\n",
    "2. Training and Testing\n",
    "3. inference\n",
    "4. performance metrics"
   ]
  },
  {
   "cell_type": "markdown",
   "id": "6b9b81d1-97bd-49cb-899e-509a95a8a237",
   "metadata": {},
   "source": [
    "## Supervised Learning\n",
    "\n",
    "1. regression algo\n",
    "2. classification algo"
   ]
  },
  {
   "cell_type": "code",
   "execution_count": null,
   "id": "420628fa-35db-4f67-9469-7ec9ea3d0566",
   "metadata": {},
   "outputs": [],
   "source": []
  }
 ],
 "metadata": {
  "kernelspec": {
   "display_name": "Python 3 (ipykernel)",
   "language": "python",
   "name": "python3"
  },
  "language_info": {
   "codemirror_mode": {
    "name": "ipython",
    "version": 3
   },
   "file_extension": ".py",
   "mimetype": "text/x-python",
   "name": "python",
   "nbconvert_exporter": "python",
   "pygments_lexer": "ipython3",
   "version": "3.13.5"
  }
 },
 "nbformat": 4,
 "nbformat_minor": 5
}
