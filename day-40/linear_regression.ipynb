{
 "cells": [
  {
   "cell_type": "markdown",
   "id": "5c7ae2d6-9d63-45f9-b659-caddce6bfea4",
   "metadata": {},
   "source": [
    "## Linear regression"
   ]
  },
  {
   "cell_type": "markdown",
   "id": "105d06e6-2346-4ed9-a519-8b9de0f4e201",
   "metadata": {},
   "source": [
    "## Assumpptions of linear Regression\n",
    "* there should be multicolinearity\n",
    "* there should be random sampling of observation"
   ]
  },
  {
   "cell_type": "code",
   "execution_count": null,
   "id": "fdad7513-5d29-4238-8f56-82470bcf2061",
   "metadata": {},
   "outputs": [],
   "source": []
  }
 ],
 "metadata": {
  "kernelspec": {
   "display_name": "Python 3 (ipykernel)",
   "language": "python",
   "name": "python3"
  },
  "language_info": {
   "codemirror_mode": {
    "name": "ipython",
    "version": 3
   },
   "file_extension": ".py",
   "mimetype": "text/x-python",
   "name": "python",
   "nbconvert_exporter": "python",
   "pygments_lexer": "ipython3",
   "version": "3.13.5"
  }
 },
 "nbformat": 4,
 "nbformat_minor": 5
}
