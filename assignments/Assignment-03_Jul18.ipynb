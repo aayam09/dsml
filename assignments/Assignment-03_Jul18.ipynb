{
 "cells": [
  {
   "cell_type": "markdown",
   "id": "119ef6a9",
   "metadata": {},
   "source": [
    "### Math Tutor Using Random, Arithmetic Operators, and OOP\n",
    "\n",
    "*Scenario:*\n",
    "Create a `MathTutor` class that generates random math questions using `random` and `math operators`.\n",
    "\n",
    "* Track correct and incorrect answers.\n",
    "* Provide a score at the end.\n",
    "* Handle invalid input using exception handling.\n",
    "\n",
    "> Concepts: Random, Math, Exception Handling, Classes"
   ]
  },
  {
   "cell_type": "code",
   "execution_count": 6,
   "id": "77dc396f",
   "metadata": {},
   "outputs": [
    {
     "name": "stdout",
     "output_type": "stream",
     "text": [
      "Starting quiz with 2 questions...\n"
     ]
    },
    {
     "name": "stdin",
     "output_type": "stream",
     "text": [
      "Solve: 34 + 22 =  2\n"
     ]
    },
    {
     "name": "stdout",
     "output_type": "stream",
     "text": [
      "Wrong! Correct answer: 56\n"
     ]
    },
    {
     "name": "stdin",
     "output_type": "stream",
     "text": [
      "Solve: 30 * 47 =  2\n"
     ]
    },
    {
     "name": "stdout",
     "output_type": "stream",
     "text": [
      "Wrong! Correct answer: 1410\n",
      "\n",
      "Score: 0/2 correct\n",
      "Percentage: 0.00%\n"
     ]
    }
   ],
   "source": [
    "import random\n",
    "import math\n",
    "\n",
    "class MathTutor:\n",
    "    def __init__(self):\n",
    "        self.correct = 0\n",
    "        self.incorrect = 0\n",
    "\n",
    "    def generate_question(self):\n",
    "        num1 = random.randint(1, 50)\n",
    "        num2 = random.randint(1, 50)\n",
    "        operators = ['+', '-', '*', '/']\n",
    "        operator = random.choice(operators)\n",
    "        question = f\"{num1} {operator} {num2}\"\n",
    "        if operator == '+':\n",
    "            answer = num1 + num2\n",
    "        elif operator == '-':\n",
    "            answer = num1 - num2\n",
    "        elif operator == '*':\n",
    "            answer = num1 * num2\n",
    "        else:\n",
    "            if num2 == 0:  # Avoid division by zero\n",
    "                return self.generate_question()\n",
    "            answer = num1 / num2\n",
    "            answer = round(answer, 2)\n",
    "        return question, answer\n",
    "\n",
    "    def ask_question(self):\n",
    "        question, correct_answer = self.generate_question()\n",
    "        while True:\n",
    "            try:\n",
    "                user_answer = float(input(f\"Solve: {question} = \"))\n",
    "                if abs(user_answer - correct_answer) < 0.01:\n",
    "                    print(\"Correct!\")\n",
    "                    self.correct += 1\n",
    "                else:\n",
    "                    print(f\"Wrong! Correct answer: {correct_answer}\")\n",
    "                    self.incorrect += 1\n",
    "                break\n",
    "            except ValueError:\n",
    "                print(\"Invalid input! Please enter a number.\")\n",
    "\n",
    "    def show_score(self):\n",
    "        total = self.correct + self.incorrect\n",
    "        print(f\"\\nScore: {self.correct}/{total} correct\")\n",
    "        if total > 0:\n",
    "            percentage = (self.correct / total) * 100\n",
    "            print(f\"Percentage: {percentage:.2f}%\")\n",
    "\n",
    "    def start_quiz(self, num_questions):\n",
    "        try:\n",
    "            if not isinstance(num_questions, int) or num_questions <= 0:\n",
    "                raise ValueError(\"Number of questions must be a positive integer\")\n",
    "            print(f\"Starting quiz with {num_questions} questions...\")\n",
    "            for x in range(num_questions):\n",
    "                self.ask_question()\n",
    "            self.show_score()\n",
    "        except ValueError as e:\n",
    "            print(f\"Error: {e}\")\n",
    "\n",
    "# Example usage\n",
    "tutor = MathTutor()\n",
    "tutor.start_quiz(2)"
   ]
  },
  {
   "cell_type": "markdown",
   "id": "360b4034",
   "metadata": {},
   "source": [
    "### Multi-file Project Using Modules and Packages\n",
    "\n",
    "*Scenario:*\n",
    "You're building a small finance app.\n",
    "\n",
    "* Create a package `finance_tools` with modules: `tax.py` and `loan.py`.\n",
    "* Each module contains utility functions like `calculate_tax()` and `calculate_emi()`.\n",
    "* Import and use them in a main script that takes user input to do both.\n",
    "\n",
    "> Concepts: Packages, Modules, Importing, Separation of Concerns\n"
   ]
  },
  {
   "cell_type": "code",
   "execution_count": 1,
   "id": "fbf73825",
   "metadata": {},
   "outputs": [
    {
     "name": "stdin",
     "output_type": "stream",
     "text": [
      "Enter annual income:  4000\n",
      "Enter tax rate (%):  2\n"
     ]
    },
    {
     "name": "stdout",
     "output_type": "stream",
     "text": [
      "Tax Amount: $80.0\n"
     ]
    },
    {
     "name": "stdin",
     "output_type": "stream",
     "text": [
      "Enter loan principal:  30000\n",
      "Enter annual interest rate (%):  2\n",
      "Enter loan tenure (years):  4\n"
     ]
    },
    {
     "name": "stdout",
     "output_type": "stream",
     "text": [
      "Monthly EMI: $650.85\n"
     ]
    }
   ],
   "source": [
    "from finance_tools import calculate_tax, calculate_emi\n",
    "\n",
    "def main():\n",
    "   try:\n",
    "       income = float(input('Enter annual income: '))\n",
    "       tax_rate = float(input('Enter tax rate (%): ')) / 100\n",
    "       tax = calculate_tax(income, tax_rate)\n",
    "       if isinstance(tax, str):\n",
    "           print(f'Tax Error: {tax}')\n",
    "       else:\n",
    "           print(f'Tax Amount: ${tax}')\n",
    "\n",
    "       principal = float(input('Enter loan principal: '))\n",
    "       rate = float(input('Enter annual interest rate (%): '))\n",
    "       time = float(input('Enter loan tenure (years): '))\n",
    "       emi = calculate_emi(principal, rate, time)\n",
    "       if isinstance(emi, str):\n",
    "           print(f'EMI Error: {emi}')\n",
    "       else:\n",
    "           print(f'Monthly EMI: ${emi}')\n",
    "   except ValueError:\n",
    "       print('Invalid input! Please enter valid numbers.')\n",
    "\n",
    "if __name__ == \"__main__\":\n",
    "   main()"
   ]
  },
  {
   "cell_type": "markdown",
   "id": "1ecd8aa7",
   "metadata": {},
   "source": [
    "### Exception Handling Scenario: Online Age-Restricted Service\n",
    "\n",
    "**Scenario:**\n",
    "You’re building a sign-up system for an online movie rental platform. Some movies are age-restricted (18+). You need to ensure proper validation and error handling during user registration.\n",
    "\n",
    "**Task:**\n",
    "\n",
    "1. Create a custom exception class called `UnderageError` that inherits from `Exception`.\n",
    "2. Write a function `register_user()` that:\n",
    "\n",
    "   * Takes a user’s `name` and `age` as input.\n",
    "   * Raises `UnderageError` if the user is under 18.\n",
    "   * Otherwise, prints a welcome message.\n",
    "3. Wrap the function call in a `try` block and handle the exception.\n",
    "4. Use `else` to confirm successful registration and `finally` to always print **“Thank you for using MovieTime!”** regardless of outcome.\n",
    "\n",
    "Also try to validate if the age input is numeric. Raise a `ValueError` if not, and handle it separately.\n",
    "\n"
   ]
  },
  {
   "cell_type": "code",
   "execution_count": 6,
   "id": "3fd54170",
   "metadata": {},
   "outputs": [
    {
     "name": "stdin",
     "output_type": "stream",
     "text": [
      "enter name aayam\n",
      "enter age 34\n"
     ]
    },
    {
     "name": "stdout",
     "output_type": "stream",
     "text": [
      "registration confirmed\n",
      "Thank you for using MovieTime!\n"
     ]
    }
   ],
   "source": [
    "class UnderageError(Exception):\n",
    "    \"\"\"Custom exception for underage-related errors.\"\"\"\n",
    "    def __init__(self, message=\"Age is below the required limit\"):\n",
    "        self.message = message\n",
    "        super().__init__(self.message)\n",
    "\n",
    "def register_user(name, age):\n",
    "        if age<18:\n",
    "            raise UnderageError()\n",
    "\n",
    "try:\n",
    "    name = input(\"enter name\")\n",
    "    age = int(input(\"enter age\"))\n",
    "    register_user(name,age)\n",
    "except UnderageError as e:\n",
    "    print(f\"Error: {e}\")\n",
    "except ValueError as e:\n",
    "    print(f\"Error: {e}\")\n",
    "else:\n",
    "    print(\"registration confirmed\")\n",
    "finally:\n",
    "    print(\"Thank you for using MovieTime!\")\n",
    "    \n"
   ]
  },
  {
   "cell_type": "markdown",
   "id": "7e76d9b4",
   "metadata": {},
   "source": [
    "# Problem Statement\n",
    "\n",
    "We want to build an online shopping cart system that allows users to add products to their cart, calculate the total cost, apply discounts, and generate an invoice. The system should include the following functionalities:\n",
    "\n",
    "- Adding products to the cart\n",
    "- Removing products from the cart\n",
    "- Calculating the total cost\n",
    "- Applying discounts based on user type\n",
    "- Generating an invoice\n",
    "\n",
    "### 1. Create the Product class\n",
    "\n",
    "We create a basic `Product` class with attributes for the product name and price."
   ]
  },
  {
   "cell_type": "code",
   "execution_count": 48,
   "id": "a286f01a",
   "metadata": {},
   "outputs": [],
   "source": [
    "class Product:\n",
    "    def __init__(self,pname,price):\n",
    "        self.pname = pname\n",
    "        self.price = price\n",
    "\n",
    "    def __str__(self):\n",
    "        return f\"{self.pname}: ${self.price}\"\n"
   ]
  },
  {
   "cell_type": "markdown",
   "id": "0c9aa397",
   "metadata": {},
   "source": [
    "### 2.  Implement the User class\n",
    "\n",
    "In this step, we create a `User` class with attributes for the user's name and whether they are a premium member."
   ]
  },
  {
   "cell_type": "code",
   "execution_count": 49,
   "id": "3393e953",
   "metadata": {},
   "outputs": [],
   "source": [
    "class User:\n",
    "    def __init__(self,name,premium=False):\n",
    "        self.name = name\n",
    "        self.premium = premium\n",
    "\n",
    "    def __str__(self):\n",
    "        return f\"{self.name} ({'Premium' if self.premium else 'Standard'})\"\n",
    "\n",
    "    "
   ]
  },
  {
   "cell_type": "markdown",
   "id": "3b7e070b",
   "metadata": {},
   "source": [
    "### 3. Create the ShoppingCart class\n",
    "\n",
    "In this step, we create a `ShoppingCart` class with methods for adding and removing products from the cart, as well as calculating the total cost of the items in the cart.\n",
    "\n",
    "**Note**: Define `calculate_total_cost` method in the `ShoppingCart` class, that applies a `10%` discount to the total cost if you are `premium` User."
   ]
  },
  {
   "cell_type": "code",
   "execution_count": 50,
   "id": "c0b5196d",
   "metadata": {},
   "outputs": [],
   "source": [
    "class ShoppingCart:\n",
    "    def __init__(self, user):\n",
    "        self.user = user               # User object\n",
    "        self.products = []            # List of Product objects\n",
    "\n",
    "    def add_product(self, product):\n",
    "        self.products.append(product)\n",
    "\n",
    "    def remove_product(self, pname):\n",
    "        self.products = [p for p in self.products if p.pname != pname]\n",
    "\n",
    "    def calculate_total_cost(self):\n",
    "        total = sum(p.price for p in self.products)\n",
    "        if self.user.premium:\n",
    "            total *= 0.9  # Apply 10% discount for premium users\n",
    "        return total"
   ]
  },
  {
   "cell_type": "markdown",
   "id": "afc26053",
   "metadata": {},
   "source": [
    "### 4. Testing the functionality\n",
    "\n",
    "Now that we have implemented the necessary classes and methods, let's test our online shopping cart system:"
   ]
  },
  {
   "cell_type": "code",
   "execution_count": 54,
   "id": "6186bdcb",
   "metadata": {},
   "outputs": [
    {
     "name": "stdout",
     "output_type": "stream",
     "text": [
      "\n",
      "After removing 'Mouse':\n"
     ]
    }
   ],
   "source": [
    "# Create a premium user\n",
    "user1 = User(\"Aayam\", premium=False)\n",
    "cart1 = ShoppingCart(user1)\n",
    "\n",
    "# Add products\n",
    "cart1.add_product(Product(\"Laptop\", 1000))\n",
    "cart1.add_product(Product(\"Mouse\", 50))\n",
    "cart1.add_product(Product(\"Keyboard\", 80))\n",
    "\n",
    "# Remove product\n",
    "cart1.remove_product(\"Mouse\")\n",
    "print(\"\\nAfter removing 'Mouse':\")"
   ]
  },
  {
   "cell_type": "markdown",
   "id": "7ea7c96e",
   "metadata": {},
   "source": [
    "### 5. Generating Invoice for a given cart"
   ]
  },
  {
   "cell_type": "code",
   "execution_count": 55,
   "id": "c727607d-74ed-4609-bc88-3a14049c162f",
   "metadata": {},
   "outputs": [],
   "source": [
    "def display_cart(cart):\n",
    "    print(f\"\\nShopping Cart for {cart.user}:\")\n",
    "    if not cart.products:\n",
    "        print(\"Cart is empty.\")\n",
    "    else:\n",
    "        for p in cart.products:\n",
    "            print(f\" - {p}\")\n",
    "        print(f\"Total Cost: ${cart.calculate_total_cost():.2f}\")"
   ]
  },
  {
   "cell_type": "code",
   "execution_count": 56,
   "id": "59e0bc19-36f6-4f4f-9d96-994e0dc19b59",
   "metadata": {},
   "outputs": [
    {
     "name": "stdout",
     "output_type": "stream",
     "text": [
      "\n",
      "Shopping Cart for Aayam (Standard):\n",
      " - Laptop: $1000\n",
      " - Keyboard: $80\n",
      "Total Cost: $1080.00\n"
     ]
    }
   ],
   "source": [
    "display_cart(cart1)"
   ]
  },
  {
   "cell_type": "code",
   "execution_count": null,
   "id": "d00979d3-3169-4b65-b96e-3146751a6adf",
   "metadata": {},
   "outputs": [],
   "source": []
  }
 ],
 "metadata": {
  "kernelspec": {
   "display_name": "Python 3 (ipykernel)",
   "language": "python",
   "name": "python3"
  },
  "language_info": {
   "codemirror_mode": {
    "name": "ipython",
    "version": 3
   },
   "file_extension": ".py",
   "mimetype": "text/x-python",
   "name": "python",
   "nbconvert_exporter": "python",
   "pygments_lexer": "ipython3",
   "version": "3.13.5"
  }
 },
 "nbformat": 4,
 "nbformat_minor": 5
}
