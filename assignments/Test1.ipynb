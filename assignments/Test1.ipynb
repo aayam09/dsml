{
 "cells": [
  {
   "cell_type": "code",
   "execution_count": 2,
   "id": "16a8df85-eab9-4b57-be1f-f146969623b2",
   "metadata": {},
   "outputs": [
    {
     "data": {
      "text/plain": [
       "[2, 4, 6]"
      ]
     },
     "execution_count": 2,
     "metadata": {},
     "output_type": "execute_result"
    }
   ],
   "source": [
    "# Q1.\n",
    "# Write a function called `filter_even_numbers(nums)` that takes a list of numbers and\n",
    "# returns only the even numbers using a list comprehension.\n",
    "# Example Input:\n",
    "# filter_even_numbers([1, 2, 3, 4, 5, 6])\n",
    "# Expected Output:\n",
    "# [2, 4, 6]\n",
    "\n",
    "list = [1, 2, 3, 4, 5, 6]\n",
    "def  filter_even_numbers(nums):\n",
    "    return [ num for num in nums if num % 2==0]\n",
    "\n",
    "filter_even_numbers(list)"
   ]
  },
  {
   "cell_type": "code",
   "execution_count": 33,
   "id": "f611a9b6-95f7-4b4f-ad92-2458b9417d11",
   "metadata": {},
   "outputs": [
    {
     "data": {
      "text/plain": [
       "{'a': 3, 'e': 0, 'i': 4, 'o': 0, 'u': 0}"
      ]
     },
     "execution_count": 33,
     "metadata": {},
     "output_type": "execute_result"
    }
   ],
   "source": [
    "# Q2.\n",
    "# Write a function `count_vowels(sentence)` that takes a string and returns a dictionary\n",
    "# with counts of each vowel (a, e, i, o, u). Use a dictionary comprehension.\n",
    "# Example Input:\n",
    "# count_vowels(\"Skill Shikshya is amazing\")\n",
    "# Expected Output:\n",
    "# {'a': 2, 'e': 0, 'i': 4, 'o': 0, 'u': 0}\n",
    "\n",
    "sentence = \"Skill Shikshya is amazing\"\n",
    "def count_vowels(sentence):\n",
    "    vowels = [\"a\",\"e\",\"i\",\"o\",\"u\"]\n",
    "    return {vowel: sentence.lower().count(vowel) for vowel in vowels}\n",
    "\n",
    "count_vowels(\"Skill Shikshya is amazing\")\n",
    "    "
   ]
  },
  {
   "cell_type": "code",
   "execution_count": 27,
   "id": "74f7dcb4-7eb7-4a72-bd72-245008270ac0",
   "metadata": {},
   "outputs": [],
   "source": [
    "#q3\n",
    "# Create a class `BankAccount` with the following:\n",
    "# - An attribute `balance` (default = 0)\n",
    "# - Method `deposit(amount)` that adds amount to balance\n",
    "# - Method `withdraw(amount)` that subtracts from balance only if balance is sufficient,\n",
    "# otherwise raises ValueError with message \"Insufficient funds.\"\n",
    "# Then write code to create an account, deposit 500, try to withdraw 800, and handle the\n",
    "# exception\n",
    "\n",
    "class InsuffientError(Exception):\n",
    "    pass\n",
    "\n",
    "class BankAccount:\n",
    "    def __init__(self,balance=0):\n",
    "        self.balance = balance\n",
    "\n",
    "    def deposit(self,amount):\n",
    "        self.balance += amount\n",
    "\n",
    "    def withdraw(self,amount):\n",
    "        try:\n",
    "            if amount>self.balance:\n",
    "                raise InsuffientError(\"not enough money\")\n",
    "            self.balance -= amount\n",
    "        except InsuffientError as e:\n",
    "            print(f\"error {e}\")\n",
    "\n",
    "    "
   ]
  },
  {
   "cell_type": "code",
   "execution_count": 28,
   "id": "50050517-242a-433e-9632-7fa188678eb0",
   "metadata": {},
   "outputs": [],
   "source": [
    "person1 = BankAccount(1000)"
   ]
  },
  {
   "cell_type": "code",
   "execution_count": 29,
   "id": "d055c315-6658-494f-a98f-6d5e79b2be0c",
   "metadata": {},
   "outputs": [],
   "source": [
    "person1.deposit(500)"
   ]
  },
  {
   "cell_type": "code",
   "execution_count": 30,
   "id": "084205d9-8059-4296-b929-816cb7f31021",
   "metadata": {},
   "outputs": [
    {
     "name": "stdout",
     "output_type": "stream",
     "text": [
      "error not enoung money\n"
     ]
    }
   ],
   "source": [
    "person1.withdraw(3000)"
   ]
  },
  {
   "cell_type": "code",
   "execution_count": null,
   "id": "e0ea69c1-feaa-4dc7-a803-b2d3d612a109",
   "metadata": {},
   "outputs": [],
   "source": []
  },
  {
   "cell_type": "code",
   "execution_count": 39,
   "id": "5296942e-db10-4d5e-9596-2e3f8bd71228",
   "metadata": {},
   "outputs": [
    {
     "name": "stdout",
     "output_type": "stream",
     "text": [
      "9\n",
      "18\n"
     ]
    }
   ],
   "source": [
    "# Q4.\n",
    "# Write a function `custom_sum(*args, **kwargs)` that does the following:\n",
    "# - Sums all positional arguments (`args`)\n",
    "# - If a keyword argument `double=True` is passed, it should return double the sum.\n",
    "# Example:\n",
    "# custom_sum(1, 2, 3, 4) → 10\n",
    "# custom_sum(1, 2, 3, double=True) → 12\n",
    "\n",
    "def custom_sum(*args, **kwargs):\n",
    "    total = sum(args)\n",
    "    if kwargs.get('double', False):\n",
    "        return total * 2\n",
    "    return total\n",
    "\n",
    "print(custom_sum(2,3,4))\n",
    "print(custom_sum(2,3,4, double= True)) \n"
   ]
  },
  {
   "cell_type": "code",
   "execution_count": null,
   "id": "0905d0a1-65d3-4b49-bad4-db35e1f81584",
   "metadata": {},
   "outputs": [],
   "source": []
  }
 ],
 "metadata": {
  "kernelspec": {
   "display_name": "Python 3 (ipykernel)",
   "language": "python",
   "name": "python3"
  },
  "language_info": {
   "codemirror_mode": {
    "name": "ipython",
    "version": 3
   },
   "file_extension": ".py",
   "mimetype": "text/x-python",
   "name": "python",
   "nbconvert_exporter": "python",
   "pygments_lexer": "ipython3",
   "version": "3.13.5"
  }
 },
 "nbformat": 4,
 "nbformat_minor": 5
}
