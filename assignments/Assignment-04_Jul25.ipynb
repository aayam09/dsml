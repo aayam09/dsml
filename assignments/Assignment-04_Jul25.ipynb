{
 "cells": [
  {
   "cell_type": "markdown",
   "metadata": {},
   "source": [
    "### **Assignment: Introduction to Linear Algebra and NumPy**\n",
    "\n",
    "#### **Objective:**\n",
    "This assignment will help you build a solid understanding of basic Linear Algebra concepts using Python and the NumPy library. You'll learn to create and manipulate arrays, perform mathematical operations, and explore properties and methods of arrays."
   ]
  },
  {
   "cell_type": "markdown",
   "metadata": {},
   "source": [
    "\n",
    "### **Working with NumPy**\n",
    "\n",
    "NumPy is a powerful Python library for numerical computations, which allows easy manipulation of arrays and matrices."
   ]
  },
  {
   "cell_type": "markdown",
   "metadata": {},
   "source": [
    "**Task 1:** \n",
    "- Import the `numpy` library and check its version.\n"
   ]
  },
  {
   "cell_type": "code",
   "execution_count": 1,
   "metadata": {},
   "outputs": [
    {
     "name": "stdout",
     "output_type": "stream",
     "text": [
      "2.3.1\n"
     ]
    }
   ],
   "source": [
    "import numpy as np\n",
    "print(np.__version__)"
   ]
  },
  {
   "cell_type": "markdown",
   "metadata": {},
   "source": [
    "\n",
    "### **Creating a NumPy Array:**\n",
    "\n",
    "NumPy arrays are a powerful way to store and process large datasets. In this section, you will learn to create arrays.\n",
    "\n",
    "**Task 2:**\n",
    "- Create a 1D NumPy array from a Python list of numbers: `[1, 2, 3, 4, 5]`.\n",
    "- Create a 2D NumPy array of shape (3x3) using the numbers from 1 to 9.\n",
    "- Generate an array of 10 evenly spaced values between 0 and 5."
   ]
  },
  {
   "cell_type": "code",
   "execution_count": 18,
   "metadata": {},
   "outputs": [
    {
     "name": "stdout",
     "output_type": "stream",
     "text": [
      "[1 2 3 4 5]\n",
      "[[1 2 3]\n",
      " [4 5 6]\n",
      " [7 8 9]]\n",
      "[0.         0.55555556 1.11111111 1.66666667 2.22222222 2.77777778\n",
      " 3.33333333 3.88888889 4.44444444 5.        ]\n"
     ]
    }
   ],
   "source": [
    "a = np.array([1,2,3,4,5])\n",
    "b = np.array([[1,2,3],[4,5,6],[7,8,9]])\n",
    "c = np.linspace(0,5,10)\n",
    "print(a)\n",
    "print(b)\n",
    "print(c)"
   ]
  },
  {
   "cell_type": "markdown",
   "metadata": {},
   "source": [
    "### **Indexing and Slicing Arrays:**\n",
    "\n",
    "Indexing and slicing allow you to access and modify specific elements of an array.\n",
    "\n",
    "**Task 3:**\n",
    "- Access the element in the second row, third column of the 2D array you created above.\n",
    "- Slice the first two rows and the first two columns from the same array.\n",
    "- Modify the value in the last row and first column to 100.\n"
   ]
  },
  {
   "cell_type": "code",
   "execution_count": 20,
   "metadata": {},
   "outputs": [
    {
     "name": "stdout",
     "output_type": "stream",
     "text": [
      "6\n",
      "[[1 2]\n",
      " [4 5]]\n",
      "[[  1   2   3]\n",
      " [  4   5   6]\n",
      " [100   8   9]]\n"
     ]
    }
   ],
   "source": [
    "print(b[1,2])\n",
    "print(b[0:2,0:2])\n",
    "b[2,0] = 100\n",
    "print(b)"
   ]
  },
  {
   "cell_type": "markdown",
   "metadata": {},
   "source": [
    "### **Properties and Methods of NumPy Arrays**\n",
    "\n",
    "NumPy arrays have several useful properties and methods.\n",
    "\n",
    "**Task 4:**\n",
    "- Find the shape, size, and data type of the 2D array.\n",
    "- Change the 1D array into a 2D array of shape (5,1).\n",
    "- Flatten a multi-dimensional array back into a 1D array."
   ]
  },
  {
   "cell_type": "code",
   "execution_count": 27,
   "metadata": {},
   "outputs": [
    {
     "name": "stdout",
     "output_type": "stream",
     "text": [
      "(3, 3)\n",
      "9\n",
      "int64\n",
      "[[1]\n",
      " [2]\n",
      " [3]\n",
      " [4]\n",
      " [5]]\n",
      "[  1   2   3   4   5   6 100   8   9]\n"
     ]
    }
   ],
   "source": [
    "print(np.shape(b))\n",
    "print(np.size(b))\n",
    "print(b.dtype)\n",
    "\n",
    "d = a.reshape(5,1)\n",
    "print(d)\n",
    "\n",
    "e = b.flatten()\n",
    "print(e)"
   ]
  },
  {
   "cell_type": "markdown",
   "metadata": {},
   "source": [
    "### **Operations on NumPy Arrays**\n",
    "\n",
    "Perform operations such as addition, subtraction, multiplication, and matrix multiplication on arrays.\n",
    "\n",
    "**Task 5:**\n",
    "- Add 5 to every element in the 1D array.\n",
    "- Multiply the 2D array by 3.\n",
    "- Perform matrix multiplication between the following two arrays:  \n",
    "    ```python\n",
    "    A = np.array([[1, 2], [3, 4]])\n",
    "    B = np.array([[5, 6], [7, 8]])"
   ]
  },
  {
   "cell_type": "code",
   "execution_count": 37,
   "metadata": {},
   "outputs": [
    {
     "name": "stdout",
     "output_type": "stream",
     "text": [
      "[ 6  7  8  9 10]\n",
      "[[  3   6   9]\n",
      " [ 12  15  18]\n",
      " [300  24  27]]\n",
      "[[1 2]\n",
      " [3 4]]\n",
      "[[5 6]\n",
      " [7 8]]\n",
      "[[19 22]\n",
      " [43 50]]\n"
     ]
    }
   ],
   "source": [
    "f = np.add(a,5)\n",
    "print(f)\n",
    "\n",
    "g = np.multiply(b,3)\n",
    "print(g)\n",
    "\n",
    "A = np.array([[1, 2], [3, 4]])\n",
    "B = np.array([[5, 6], [7, 8]])\n",
    "\n",
    "C= A @ B\n",
    "print(A)\n",
    "print(B)\n",
    "print(C)"
   ]
  },
  {
   "cell_type": "markdown",
   "metadata": {},
   "source": [
    "### **Understanding Broadcasting**\n",
    "\n",
    "Broadcasting allows NumPy to work with arrays of different shapes during arithmetic operations.\n",
    "\n",
    "**Task 6:**\n",
    "- Create a 3x3 matrix of ones and a 1D array of length 3.\n",
    "- Add the 1D array to each row of the matrix using broadcasting."
   ]
  },
  {
   "cell_type": "code",
   "execution_count": 46,
   "metadata": {},
   "outputs": [
    {
     "name": "stdout",
     "output_type": "stream",
     "text": [
      "[[1. 1. 1.]\n",
      " [1. 1. 1.]\n",
      " [1. 1. 1.]]\n",
      "[1 2 3]\n"
     ]
    },
    {
     "data": {
      "text/plain": [
       "array([[2., 3., 4.],\n",
       "       [2., 3., 4.],\n",
       "       [2., 3., 4.]])"
      ]
     },
     "execution_count": 46,
     "metadata": {},
     "output_type": "execute_result"
    }
   ],
   "source": [
    "matrix = np.ones([3,3])\n",
    "print(matrix)\n",
    "vector = np.array([1,2,3])\n",
    "print(vector)\n",
    "matrix + vector"
   ]
  },
  {
   "cell_type": "code",
   "execution_count": null,
   "metadata": {},
   "outputs": [],
   "source": []
  }
 ],
 "metadata": {
  "kernelspec": {
   "display_name": "Python 3 (ipykernel)",
   "language": "python",
   "name": "python3"
  },
  "language_info": {
   "codemirror_mode": {
    "name": "ipython",
    "version": 3
   },
   "file_extension": ".py",
   "mimetype": "text/x-python",
   "name": "python",
   "nbconvert_exporter": "python",
   "pygments_lexer": "ipython3",
   "version": "3.13.5"
  }
 },
 "nbformat": 4,
 "nbformat_minor": 4
}
