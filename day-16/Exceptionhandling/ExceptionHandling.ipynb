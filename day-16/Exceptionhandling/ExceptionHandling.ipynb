{
 "cells": [
  {
   "cell_type": "markdown",
   "id": "a60e2742-5663-4239-8ddf-f618f2e326b2",
   "metadata": {},
   "source": [
    "Basic Exception Handling in Pythom"
   ]
  },
  {
   "cell_type": "code",
   "execution_count": 6,
   "id": "c76073cc-8974-445d-830a-74be178eba6a",
   "metadata": {},
   "outputs": [
    {
     "name": "stdin",
     "output_type": "stream",
     "text": [
      "enter a number kl\n"
     ]
    },
    {
     "name": "stdout",
     "output_type": "stream",
     "text": [
      "invalid Input, enter integer value\n",
      "0\n"
     ]
    }
   ],
   "source": [
    "try:\n",
    "    num = int(input(\"enter a number\"))\n",
    "    print(num**5)\n",
    "except ValueError:\n",
    "    print(\"invalid Input, enter integer value\")\n",
    "    print(0)\n",
    "    "
   ]
  },
  {
   "cell_type": "code",
   "execution_count": 10,
   "id": "6380c747-6e54-4919-a59d-537329c44ace",
   "metadata": {},
   "outputs": [
    {
     "name": "stdin",
     "output_type": "stream",
     "text": [
      "enter a number 4\n",
      "enetr another number l\n"
     ]
    },
    {
     "name": "stdout",
     "output_type": "stream",
     "text": [
      "invalid input invalid literal for int() with base 10: 'l'\n",
      "FINAL RESULT : 1\n"
     ]
    }
   ],
   "source": [
    "try:\n",
    "    x = int(input(\"enter a number\"))\n",
    "    y = int(input(\"enetr another number\"))\n",
    "    result = x / y\n",
    "\n",
    "except ValueError as error:\n",
    "    print(\"invalid input\",error)\n",
    "    result = 1\n",
    "\n",
    "except ZeroDivisionError:\n",
    "    print(\"Cannot divide by zero\")\n",
    "    result = 0\n",
    "\n",
    "print(\"FINAL RESULT :\",result) "
   ]
  },
  {
   "cell_type": "code",
   "execution_count": 11,
   "id": "685ec1ce-e87d-4835-b62f-41d53c0a8909",
   "metadata": {},
   "outputs": [
    {
     "name": "stdout",
     "output_type": "stream",
     "text": [
      "Cannot convert to int\n"
     ]
    }
   ],
   "source": [
    "value = \"abc\"\n",
    "try:\n",
    "    print(int(value))\n",
    "except(ValueError, TypeError):\n",
    "    print(\"Cannot convert to int\")"
   ]
  },
  {
   "cell_type": "code",
   "execution_count": 12,
   "id": "d36c3784-1dc1-494b-b545-a6aa68965123",
   "metadata": {},
   "outputs": [
    {
     "name": "stdout",
     "output_type": "stream",
     "text": [
      "Cannot convert to int\n"
     ]
    }
   ],
   "source": [
    "value = \"abc\"\n",
    "try:\n",
    "    print(int(value))\n",
    "except Exception as e:\n",
    "    print(\"Cannot convert to int\")"
   ]
  },
  {
   "cell_type": "code",
   "execution_count": null,
   "id": "dbb69871-2e18-4853-8ba6-01c5d831e92c",
   "metadata": {},
   "outputs": [],
   "source": []
  },
  {
   "cell_type": "code",
   "execution_count": 31,
   "id": "b6455980-1e8f-453a-9339-ec80c08d2334",
   "metadata": {},
   "outputs": [],
   "source": [
    "lst = ['a', 'b', 'c', 'd']\n",
    "\n",
    "def get_list_item(index):\n",
    "    try:\n",
    "        return lst[index]\n",
    "    except IndexError:\n",
    "        print(\"index error\")\n",
    "        return lst[-1]\n",
    "    except Exception:\n",
    "        print(\"other error\")\n",
    "        return lst\n",
    "\n"
   ]
  },
  {
   "cell_type": "code",
   "execution_count": 32,
   "id": "b1dd40eb-7722-4f56-a55b-f4ca4e7794ae",
   "metadata": {},
   "outputs": [
    {
     "data": {
      "text/plain": [
       "'d'"
      ]
     },
     "execution_count": 32,
     "metadata": {},
     "output_type": "execute_result"
    }
   ],
   "source": [
    "get_list_item(3)"
   ]
  },
  {
   "cell_type": "code",
   "execution_count": 33,
   "id": "1f1f8c6f-476b-44b4-9872-e887db0b6cf5",
   "metadata": {},
   "outputs": [
    {
     "name": "stdout",
     "output_type": "stream",
     "text": [
      "index error\n"
     ]
    },
    {
     "data": {
      "text/plain": [
       "'d'"
      ]
     },
     "execution_count": 33,
     "metadata": {},
     "output_type": "execute_result"
    }
   ],
   "source": [
    "get_list_item(5)"
   ]
  },
  {
   "cell_type": "code",
   "execution_count": 34,
   "id": "d5dc3d1d-d920-4b79-b87b-c746c99d1d6b",
   "metadata": {},
   "outputs": [
    {
     "data": {
      "text/plain": [
       "['a', 'b', 'c', 'd']"
      ]
     },
     "execution_count": 34,
     "metadata": {},
     "output_type": "execute_result"
    }
   ],
   "source": [
    "get_list_item(\"tl\")"
   ]
  },
  {
   "cell_type": "code",
   "execution_count": null,
   "id": "0ce0026d-6595-4545-ae24-74f0d4018c47",
   "metadata": {},
   "outputs": [],
   "source": []
  },
  {
   "cell_type": "markdown",
   "id": "534ce24e-97f2-4f8f-8d1a-4160fbd1d9be",
   "metadata": {},
   "source": [
    "The Else Block"
   ]
  },
  {
   "cell_type": "code",
   "execution_count": 35,
   "id": "49b1c5df-1159-4b4d-b2ac-4e422fdfeaaa",
   "metadata": {},
   "outputs": [
    {
     "name": "stdin",
     "output_type": "stream",
     "text": [
      "enter a number 4\n",
      "enetr another number 5\n"
     ]
    },
    {
     "name": "stdout",
     "output_type": "stream",
     "text": [
      "Else Block\n",
      "FINAL RESULT : 0.8\n"
     ]
    }
   ],
   "source": [
    "try:\n",
    "    x = int(input(\"enter a number\"))\n",
    "    y = int(input(\"enetr another number\"))\n",
    "    result = x / y\n",
    "\n",
    "except ValueError as error:\n",
    "    print(\"invalid input\",error)\n",
    "    result = 1\n",
    "\n",
    "except ZeroDivisionError:\n",
    "    print(\"Cannot divide by zero\")\n",
    "    result = 0\n",
    "\n",
    "else:\n",
    "    print(\"Else Block\")\n",
    "    print(\"FINAL RESULT :\",result) "
   ]
  },
  {
   "cell_type": "code",
   "execution_count": 36,
   "id": "0ff5470a-27f4-49f8-82e7-b2bce0450a64",
   "metadata": {},
   "outputs": [
    {
     "name": "stdin",
     "output_type": "stream",
     "text": [
      "enter a number 2\n",
      "enetr another number t\n"
     ]
    },
    {
     "name": "stdout",
     "output_type": "stream",
     "text": [
      "invalid input invalid literal for int() with base 10: 't'\n",
      "Else Block\n",
      "FINAL RESULT : 1\n"
     ]
    }
   ],
   "source": [
    "try:\n",
    "    x = int(input(\"enter a number\"))\n",
    "    y = int(input(\"enetr another number\"))\n",
    "    result = x / y\n",
    "\n",
    "except ValueError as error:\n",
    "    print(\"invalid input\",error)\n",
    "    result = 1\n",
    "\n",
    "except ZeroDivisionError:\n",
    "    print(\"Cannot divide by zero\")\n",
    "    result = 0\n",
    "\n",
    "finally:\n",
    "    print(\"Else Block\")\n",
    "    print(\"FINAL RESULT :\",result) "
   ]
  },
  {
   "cell_type": "code",
   "execution_count": null,
   "id": "3a2f0fd9-446f-40bb-9001-6a83e682b63a",
   "metadata": {},
   "outputs": [],
   "source": []
  }
 ],
 "metadata": {
  "kernelspec": {
   "display_name": "Python 3 (ipykernel)",
   "language": "python",
   "name": "python3"
  },
  "language_info": {
   "codemirror_mode": {
    "name": "ipython",
    "version": 3
   },
   "file_extension": ".py",
   "mimetype": "text/x-python",
   "name": "python",
   "nbconvert_exporter": "python",
   "pygments_lexer": "ipython3",
   "version": "3.13.5"
  }
 },
 "nbformat": 4,
 "nbformat_minor": 5
}
