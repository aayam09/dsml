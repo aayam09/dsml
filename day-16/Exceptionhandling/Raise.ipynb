{
 "cells": [
  {
   "cell_type": "code",
   "execution_count": 4,
   "id": "740c6073-8f7a-4b6c-a598-d94edd60f1a9",
   "metadata": {},
   "outputs": [
    {
     "ename": "TypeError",
     "evalue": "value should be integer",
     "output_type": "error",
     "traceback": [
      "\u001b[31m-----------------------------\u001b[39m",
      "\u001b[31mTypeError\u001b[39mTraceback (most recent call last)",
      "\u001b[36mCell\u001b[39m\u001b[36m \u001b[39m\u001b[32mIn[4]\u001b[39m\u001b[32m, line 6\u001b[39m\n\u001b[32m      4\u001b[39m     \u001b[38;5;28mprint\u001b[39m(\u001b[33mf\u001b[39m\u001b[33m\"\u001b[39m\u001b[33msquare of \u001b[39m\u001b[38;5;132;01m{\u001b[39;00mnumber\u001b[38;5;132;01m}\u001b[39;00m\u001b[33m is \u001b[39m\u001b[38;5;132;01m{\u001b[39;00mnumber\u001b[38;5;250m \u001b[39m**\u001b[38;5;250m \u001b[39m\u001b[32m2\u001b[39m\u001b[38;5;132;01m}\u001b[39;00m\u001b[33m\"\u001b[39m)\n\u001b[32m      5\u001b[39m \u001b[38;5;28;01melse\u001b[39;00m:\n\u001b[32m----> \u001b[39m\u001b[32m6\u001b[39m     \u001b[38;5;28;01mraise\u001b[39;00m \u001b[38;5;167;01mTypeError\u001b[39;00m(\u001b[33m\"\u001b[39m\u001b[33mvalue should be integer\u001b[39m\u001b[33m\"\u001b[39m)\n",
      "\u001b[31mTypeError\u001b[39m: value should be integer"
     ]
    }
   ],
   "source": [
    "number = 45 \n",
    "\n",
    "if isinstance(number, int):\n",
    "    print(f\"square of {number} is {number ** 2}\")\n",
    "else:\n",
    "    raise TypeError(\"value should be integer\")"
   ]
  },
  {
   "cell_type": "code",
   "execution_count": null,
   "id": "af0e653b-ff87-415b-a9b7-68999cb922bb",
   "metadata": {},
   "outputs": [],
   "source": []
  },
  {
   "cell_type": "markdown",
   "id": "68d15907-03ab-4548-8d0e-a8f8be0191af",
   "metadata": {},
   "source": [
    "Python raise statement"
   ]
  },
  {
   "cell_type": "code",
   "execution_count": 8,
   "id": "854ea41c-e2a9-4545-a241-f6535a3b10b0",
   "metadata": {},
   "outputs": [
    {
     "ename": "ValueError",
     "evalue": "divisor must not be zero",
     "output_type": "error",
     "traceback": [
      "\u001b[31m-----------------------------\u001b[39m",
      "\u001b[31mValueError\u001b[39mTraceback (most recent call last)",
      "\u001b[36mCell\u001b[39m\u001b[36m \u001b[39m\u001b[32mIn[8]\u001b[39m\u001b[32m, line 5\u001b[39m\n\u001b[32m      2\u001b[39m y = \u001b[32m0\u001b[39m\n\u001b[32m      4\u001b[39m \u001b[38;5;28;01mif\u001b[39;00m y == \u001b[32m0\u001b[39m:\n\u001b[32m----> \u001b[39m\u001b[32m5\u001b[39m     \u001b[38;5;28;01mraise\u001b[39;00m \u001b[38;5;167;01mValueError\u001b[39;00m(\u001b[33m\"\u001b[39m\u001b[33mdivisor must not be zero\u001b[39m\u001b[33m\"\u001b[39m)\n\u001b[32m      7\u001b[39m x / y\n",
      "\u001b[31mValueError\u001b[39m: divisor must not be zero"
     ]
    }
   ],
   "source": [
    "x = 2\n",
    "y = 0\n",
    "\n",
    "if y == 0:\n",
    "    raise ValueError(\"divisor must not be zero\")\n",
    "\n",
    "x / y"
   ]
  },
  {
   "cell_type": "code",
   "execution_count": 9,
   "id": "7fc37b35-7c42-4890-8487-80ba86b28845",
   "metadata": {},
   "outputs": [],
   "source": [
    "class UsernotFound(Exception):\n",
    "    pass"
   ]
  },
  {
   "cell_type": "code",
   "execution_count": 10,
   "id": "fe870bdf-1af6-4109-b3a5-fe39b172da14",
   "metadata": {},
   "outputs": [],
   "source": [
    "def get_user(user_id):\n",
    "    \"\"\"\n",
    "    \"\"\"\n",
    "    raise UsernotFound(f\"no user with id {user_id}\")\n"
   ]
  },
  {
   "cell_type": "code",
   "execution_count": 11,
   "id": "b26df98b-7e3e-4076-a655-c56d2b2c2c95",
   "metadata": {},
   "outputs": [
    {
     "ename": "UsernotFound",
     "evalue": "no user with id ram",
     "output_type": "error",
     "traceback": [
      "\u001b[31m-----------------------------\u001b[39m",
      "\u001b[31mUsernotFound\u001b[39mTraceback (most recent call last)",
      "\u001b[36mCell\u001b[39m\u001b[36m \u001b[39m\u001b[32mIn[11]\u001b[39m\u001b[32m, line 1\u001b[39m\n\u001b[32m----> \u001b[39m\u001b[32m1\u001b[39m \u001b[43mget_user\u001b[49m\u001b[43m(\u001b[49m\u001b[33;43m\"\u001b[39;49m\u001b[33;43mram\u001b[39;49m\u001b[33;43m\"\u001b[39;49m\u001b[43m)\u001b[49m\n",
      "\u001b[36mCell\u001b[39m\u001b[36m \u001b[39m\u001b[32mIn[10]\u001b[39m\u001b[32m, line 4\u001b[39m, in \u001b[36mget_user\u001b[39m\u001b[34m(user_id)\u001b[39m\n\u001b[32m      1\u001b[39m \u001b[38;5;28;01mdef\u001b[39;00m\u001b[38;5;250m \u001b[39m\u001b[34mget_user\u001b[39m(user_id):\n\u001b[32m      2\u001b[39m \u001b[38;5;250m    \u001b[39m\u001b[33;03m\"\"\"\u001b[39;00m\n\u001b[32m      3\u001b[39m \u001b[33;03m    \"\"\"\u001b[39;00m\n\u001b[32m----> \u001b[39m\u001b[32m4\u001b[39m     \u001b[38;5;28;01mraise\u001b[39;00m UsernotFound(\u001b[33mf\u001b[39m\u001b[33m\"\u001b[39m\u001b[33mno user with id \u001b[39m\u001b[38;5;132;01m{\u001b[39;00muser_id\u001b[38;5;132;01m}\u001b[39;00m\u001b[33m\"\u001b[39m)\n",
      "\u001b[31mUsernotFound\u001b[39m: no user with id ram"
     ]
    }
   ],
   "source": [
    "get_user(\"ram\")"
   ]
  },
  {
   "cell_type": "code",
   "execution_count": null,
   "id": "77367ae2-eb4c-4955-9883-b16510d4948e",
   "metadata": {},
   "outputs": [],
   "source": []
  }
 ],
 "metadata": {
  "kernelspec": {
   "display_name": "Python 3 (ipykernel)",
   "language": "python",
   "name": "python3"
  },
  "language_info": {
   "codemirror_mode": {
    "name": "ipython",
    "version": 3
   },
   "file_extension": ".py",
   "mimetype": "text/x-python",
   "name": "python",
   "nbconvert_exporter": "python",
   "pygments_lexer": "ipython3",
   "version": "3.13.5"
  }
 },
 "nbformat": 4,
 "nbformat_minor": 5
}
