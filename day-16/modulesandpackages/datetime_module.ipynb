{
 "cells": [
  {
   "cell_type": "code",
   "execution_count": 1,
   "id": "e3abdff0-11cf-4c77-9bfa-47d02a36766a",
   "metadata": {},
   "outputs": [],
   "source": [
    "import datetime"
   ]
  },
  {
   "cell_type": "code",
   "execution_count": 21,
   "id": "a263cff2-6f58-41c3-b19a-8f5fe700864e",
   "metadata": {},
   "outputs": [],
   "source": [
    "# '2025/07/14'\n",
    "date1 = datetime.date(2025,8,14)"
   ]
  },
  {
   "cell_type": "code",
   "execution_count": 22,
   "id": "00a47845-0c8b-4546-aa5b-6b386c33ff2d",
   "metadata": {},
   "outputs": [
    {
     "data": {
      "text/plain": [
       "datetime.date(2025, 8, 14)"
      ]
     },
     "execution_count": 22,
     "metadata": {},
     "output_type": "execute_result"
    }
   ],
   "source": [
    "date1"
   ]
  },
  {
   "cell_type": "code",
   "execution_count": 23,
   "id": "c8ea81e4-8c1a-498c-adc1-1bd58fb0f6e3",
   "metadata": {},
   "outputs": [],
   "source": [
    "today = datetime.date.today()"
   ]
  },
  {
   "cell_type": "code",
   "execution_count": 24,
   "id": "e89e8d5b-7138-4c14-96b8-0dda2fc1b80b",
   "metadata": {},
   "outputs": [
    {
     "name": "stdout",
     "output_type": "stream",
     "text": [
      "2025-07-14\n"
     ]
    }
   ],
   "source": [
    "print(today)"
   ]
  },
  {
   "cell_type": "code",
   "execution_count": 25,
   "id": "d8c7114b-9f6b-4f30-aa39-2a5d0915c954",
   "metadata": {},
   "outputs": [
    {
     "data": {
      "text/plain": [
       "True"
      ]
     },
     "execution_count": 25,
     "metadata": {},
     "output_type": "execute_result"
    }
   ],
   "source": [
    "#compare dates\n",
    "date1 > today"
   ]
  },
  {
   "cell_type": "code",
   "execution_count": 26,
   "id": "c731daa5-8834-4f2b-9943-4ed4058c91e0",
   "metadata": {},
   "outputs": [
    {
     "data": {
      "text/plain": [
       "datetime.timedelta(days=31)"
      ]
     },
     "execution_count": 26,
     "metadata": {},
     "output_type": "execute_result"
    }
   ],
   "source": [
    "#arithmetic operation\n",
    "date1 -today"
   ]
  },
  {
   "cell_type": "code",
   "execution_count": 38,
   "id": "2ba42f75-ff61-4e9d-b771-dc6ad5d4d903",
   "metadata": {},
   "outputs": [],
   "source": [
    "get_time = datetime.time(12,54,6)"
   ]
  },
  {
   "cell_type": "code",
   "execution_count": 39,
   "id": "efcc19c6-1c57-45c9-a78c-350c64767723",
   "metadata": {},
   "outputs": [
    {
     "name": "stdout",
     "output_type": "stream",
     "text": [
      "12:54:06\n"
     ]
    }
   ],
   "source": [
    "print(get_time)"
   ]
  },
  {
   "cell_type": "code",
   "execution_count": 58,
   "id": "a6b3b240-0a0b-4cef-92f0-d283ce7ac45c",
   "metadata": {},
   "outputs": [],
   "source": [
    "now = datetime.datetime.today()"
   ]
  },
  {
   "cell_type": "code",
   "execution_count": 59,
   "id": "d0195194-996d-4feb-9cb6-14c08a13e73a",
   "metadata": {},
   "outputs": [],
   "source": [
    "formatted_time = now.strftime(\"%Y-%m-%d %H:%M:%S\")"
   ]
  },
  {
   "cell_type": "code",
   "execution_count": 60,
   "id": "b77b2b6d-62cd-4790-89ff-760e6c506286",
   "metadata": {},
   "outputs": [
    {
     "data": {
      "text/plain": [
       "'2025-07-14 08:33:44'"
      ]
     },
     "execution_count": 60,
     "metadata": {},
     "output_type": "execute_result"
    }
   ],
   "source": [
    "formatted_time"
   ]
  },
  {
   "cell_type": "code",
   "execution_count": 61,
   "id": "3dfd8e24-18b2-4ae1-a22a-1f8a47f73c59",
   "metadata": {},
   "outputs": [
    {
     "data": {
      "text/plain": [
       "0"
      ]
     },
     "execution_count": 61,
     "metadata": {},
     "output_type": "execute_result"
    }
   ],
   "source": [
    "now.weekday()"
   ]
  },
  {
   "cell_type": "code",
   "execution_count": 62,
   "id": "a6228776-5643-4907-b038-8ed50bd9b79a",
   "metadata": {},
   "outputs": [
    {
     "data": {
      "text/plain": [
       "2025"
      ]
     },
     "execution_count": 62,
     "metadata": {},
     "output_type": "execute_result"
    }
   ],
   "source": [
    "now.year"
   ]
  },
  {
   "cell_type": "code",
   "execution_count": 63,
   "id": "1c02b7fb-21bc-4133-a058-6bccbef2798b",
   "metadata": {},
   "outputs": [
    {
     "data": {
      "text/plain": [
       "33"
      ]
     },
     "execution_count": 63,
     "metadata": {},
     "output_type": "execute_result"
    }
   ],
   "source": [
    "now.minute"
   ]
  },
  {
   "cell_type": "code",
   "execution_count": 64,
   "id": "17a5359c-adf6-4273-ab41-03d2304de4dc",
   "metadata": {},
   "outputs": [
    {
     "data": {
      "text/plain": [
       "14"
      ]
     },
     "execution_count": 64,
     "metadata": {},
     "output_type": "execute_result"
    }
   ],
   "source": [
    "now.day"
   ]
  },
  {
   "cell_type": "code",
   "execution_count": 82,
   "id": "673c9ed5-d499-4806-8c54-2380641da236",
   "metadata": {},
   "outputs": [],
   "source": [
    "#timedelta\n",
    "year_10 = datetime.timedelta(days =10*365)\n",
    "date = datetime.datetime(1988,5,25) + year_10\n",
    "new_date = date + year_10"
   ]
  },
  {
   "cell_type": "code",
   "execution_count": 83,
   "id": "1800449d-5918-4da5-a1e0-b717e1930288",
   "metadata": {},
   "outputs": [
    {
     "data": {
      "text/plain": [
       "datetime.datetime(2008, 5, 20, 0, 0)"
      ]
     },
     "execution_count": 83,
     "metadata": {},
     "output_type": "execute_result"
    }
   ],
   "source": [
    "new_date"
   ]
  },
  {
   "cell_type": "code",
   "execution_count": null,
   "id": "831b36aa-65e1-469a-9785-f5168f69c1d8",
   "metadata": {},
   "outputs": [],
   "source": []
  },
  {
   "cell_type": "markdown",
   "id": "b57d2b66-dd7f-440e-b4e7-4a1a6deef49b",
   "metadata": {},
   "source": [
    "2. time"
   ]
  },
  {
   "cell_type": "code",
   "execution_count": 2,
   "id": "2e2aae24-b42d-400c-8b9b-c125ae099b51",
   "metadata": {},
   "outputs": [],
   "source": [
    "import time"
   ]
  },
  {
   "cell_type": "code",
   "execution_count": 7,
   "id": "fd332b90-bb1e-4ca1-a345-d04fac6b9cf7",
   "metadata": {},
   "outputs": [
    {
     "data": {
      "text/plain": [
       "1752544038.0336192"
      ]
     },
     "execution_count": 7,
     "metadata": {},
     "output_type": "execute_result"
    }
   ],
   "source": [
    "time.time() #get current time"
   ]
  },
  {
   "cell_type": "code",
   "execution_count": 9,
   "id": "bd41b015-e66a-407e-adc2-149a6d672424",
   "metadata": {},
   "outputs": [
    {
     "data": {
      "text/plain": [
       "'Tue Jul 15 07:34:50 2025'"
      ]
     },
     "execution_count": 9,
     "metadata": {},
     "output_type": "execute_result"
    }
   ],
   "source": [
    "time.ctime() #get current time in string5)"
   ]
  },
  {
   "cell_type": "code",
   "execution_count": 10,
   "id": "c537b25e-751b-42c2-86e0-ba4425e835f7",
   "metadata": {},
   "outputs": [],
   "source": [
    "#sleep for 2 seconds"
   ]
  },
  {
   "cell_type": "code",
   "execution_count": 12,
   "id": "c15879b9-8f88-4db7-b373-f13c75115d28",
   "metadata": {},
   "outputs": [
    {
     "name": "stdout",
     "output_type": "stream",
     "text": [
      "Loading ......\n",
      "completed......\n"
     ]
    }
   ],
   "source": [
    "print(\"Loading ......\")\n",
    "time.sleep(5)\n",
    "print(\"completed......\")"
   ]
  },
  {
   "cell_type": "code",
   "execution_count": 13,
   "id": "da9e2b9b-8f32-409e-adba-d9c49924454c",
   "metadata": {},
   "outputs": [
    {
     "data": {
      "text/plain": [
       "time.struct_time(tm_year=2025, tm_mon=7, tm_mday=15, tm_hour=1, tm_min=53, tm_sec=2, tm_wday=1, tm_yday=196, tm_isdst=0)"
      ]
     },
     "execution_count": 13,
     "metadata": {},
     "output_type": "execute_result"
    }
   ],
   "source": [
    "#current UTC time\n",
    "time.gmtime()"
   ]
  },
  {
   "cell_type": "code",
   "execution_count": 14,
   "id": "2a41947e-e25a-4d02-bf05-7681ef9e9e70",
   "metadata": {},
   "outputs": [
    {
     "data": {
      "text/plain": [
       "time.struct_time(tm_year=2025, tm_mon=7, tm_mday=15, tm_hour=7, tm_min=38, tm_sec=34, tm_wday=1, tm_yday=196, tm_isdst=0)"
      ]
     },
     "execution_count": 14,
     "metadata": {},
     "output_type": "execute_result"
    }
   ],
   "source": [
    "time.localtime()"
   ]
  },
  {
   "cell_type": "code",
   "execution_count": 15,
   "id": "d11a699a-1298-431d-bf5d-e4671afb67d1",
   "metadata": {},
   "outputs": [
    {
     "data": {
      "text/plain": [
       "'07-45-34'"
      ]
     },
     "execution_count": 15,
     "metadata": {},
     "output_type": "execute_result"
    }
   ],
   "source": [
    "#str repr\n",
    "time.strftime(\"%H-%M-%S\")"
   ]
  },
  {
   "cell_type": "code",
   "execution_count": null,
   "id": "86f698dc-3c91-43f5-8615-62d09e8b189a",
   "metadata": {},
   "outputs": [],
   "source": []
  },
  {
   "cell_type": "code",
   "execution_count": 20,
   "id": "2d4509fa-c5a2-4b12-af6a-a3f7fab18220",
   "metadata": {},
   "outputs": [
    {
     "name": "stdout",
     "output_type": "stream",
     "text": [
      "hello\n"
     ]
    }
   ],
   "source": [
    "start = time.time()\n",
    "\n",
    "print(\"hello\")\n",
    "time.sleep(2)\n",
    "\n",
    "end = time.time()"
   ]
  },
  {
   "cell_type": "code",
   "execution_count": 22,
   "id": "28aea313-14a8-4c71-83df-bf914211d062",
   "metadata": {},
   "outputs": [
    {
     "name": "stdout",
     "output_type": "stream",
     "text": [
      "total time taken 2.000903606414795\n"
     ]
    }
   ],
   "source": [
    "print(\"total time taken\",end - start)"
   ]
  },
  {
   "cell_type": "code",
   "execution_count": 23,
   "id": "21247b26-d91c-4c20-8166-66e1f1deeeb3",
   "metadata": {},
   "outputs": [
    {
     "data": {
      "text/plain": [
       "486818.07582229987"
      ]
     },
     "execution_count": 23,
     "metadata": {},
     "output_type": "execute_result"
    }
   ],
   "source": [
    "end / 3600"
   ]
  },
  {
   "cell_type": "code",
   "execution_count": null,
   "id": "320082ef-482d-4bf1-95b8-ad51809ce1ef",
   "metadata": {},
   "outputs": [],
   "source": []
  }
 ],
 "metadata": {
  "kernelspec": {
   "display_name": "Python 3 (ipykernel)",
   "language": "python",
   "name": "python3"
  },
  "language_info": {
   "codemirror_mode": {
    "name": "ipython",
    "version": 3
   },
   "file_extension": ".py",
   "mimetype": "text/x-python",
   "name": "python",
   "nbconvert_exporter": "python",
   "pygments_lexer": "ipython3",
   "version": "3.13.5"
  }
 },
 "nbformat": 4,
 "nbformat_minor": 5
}
