{
 "cells": [
  {
   "cell_type": "code",
   "execution_count": 1,
   "id": "e3abdff0-11cf-4c77-9bfa-47d02a36766a",
   "metadata": {},
   "outputs": [],
   "source": [
    "import datetime"
   ]
  },
  {
   "cell_type": "code",
   "execution_count": 21,
   "id": "a263cff2-6f58-41c3-b19a-8f5fe700864e",
   "metadata": {},
   "outputs": [],
   "source": [
    "# '2025/07/14'\n",
    "date1 = datetime.date(2025,8,14)"
   ]
  },
  {
   "cell_type": "code",
   "execution_count": 22,
   "id": "00a47845-0c8b-4546-aa5b-6b386c33ff2d",
   "metadata": {},
   "outputs": [
    {
     "data": {
      "text/plain": [
       "datetime.date(2025, 8, 14)"
      ]
     },
     "execution_count": 22,
     "metadata": {},
     "output_type": "execute_result"
    }
   ],
   "source": [
    "date1"
   ]
  },
  {
   "cell_type": "code",
   "execution_count": 23,
   "id": "c8ea81e4-8c1a-498c-adc1-1bd58fb0f6e3",
   "metadata": {},
   "outputs": [],
   "source": [
    "today = datetime.date.today()"
   ]
  },
  {
   "cell_type": "code",
   "execution_count": 24,
   "id": "e89e8d5b-7138-4c14-96b8-0dda2fc1b80b",
   "metadata": {},
   "outputs": [
    {
     "name": "stdout",
     "output_type": "stream",
     "text": [
      "2025-07-14\n"
     ]
    }
   ],
   "source": [
    "print(today)"
   ]
  },
  {
   "cell_type": "code",
   "execution_count": 25,
   "id": "d8c7114b-9f6b-4f30-aa39-2a5d0915c954",
   "metadata": {},
   "outputs": [
    {
     "data": {
      "text/plain": [
       "True"
      ]
     },
     "execution_count": 25,
     "metadata": {},
     "output_type": "execute_result"
    }
   ],
   "source": [
    "#compare dates\n",
    "date1 > today"
   ]
  },
  {
   "cell_type": "code",
   "execution_count": 26,
   "id": "c731daa5-8834-4f2b-9943-4ed4058c91e0",
   "metadata": {},
   "outputs": [
    {
     "data": {
      "text/plain": [
       "datetime.timedelta(days=31)"
      ]
     },
     "execution_count": 26,
     "metadata": {},
     "output_type": "execute_result"
    }
   ],
   "source": [
    "#arithmetic operation\n",
    "date1 -today"
   ]
  },
  {
   "cell_type": "code",
   "execution_count": 38,
   "id": "2ba42f75-ff61-4e9d-b771-dc6ad5d4d903",
   "metadata": {},
   "outputs": [],
   "source": [
    "get_time = datetime.time(12,54,6)"
   ]
  },
  {
   "cell_type": "code",
   "execution_count": 39,
   "id": "efcc19c6-1c57-45c9-a78c-350c64767723",
   "metadata": {},
   "outputs": [
    {
     "name": "stdout",
     "output_type": "stream",
     "text": [
      "12:54:06\n"
     ]
    }
   ],
   "source": [
    "print(get_time)"
   ]
  },
  {
   "cell_type": "code",
   "execution_count": 58,
   "id": "a6b3b240-0a0b-4cef-92f0-d283ce7ac45c",
   "metadata": {},
   "outputs": [],
   "source": [
    "now = datetime.datetime.today()"
   ]
  },
  {
   "cell_type": "code",
   "execution_count": 59,
   "id": "d0195194-996d-4feb-9cb6-14c08a13e73a",
   "metadata": {},
   "outputs": [],
   "source": [
    "formatted_time = now.strftime(\"%Y-%m-%d %H:%M:%S\")"
   ]
  },
  {
   "cell_type": "code",
   "execution_count": 60,
   "id": "b77b2b6d-62cd-4790-89ff-760e6c506286",
   "metadata": {},
   "outputs": [
    {
     "data": {
      "text/plain": [
       "'2025-07-14 08:33:44'"
      ]
     },
     "execution_count": 60,
     "metadata": {},
     "output_type": "execute_result"
    }
   ],
   "source": [
    "formatted_time"
   ]
  },
  {
   "cell_type": "code",
   "execution_count": 61,
   "id": "3dfd8e24-18b2-4ae1-a22a-1f8a47f73c59",
   "metadata": {},
   "outputs": [
    {
     "data": {
      "text/plain": [
       "0"
      ]
     },
     "execution_count": 61,
     "metadata": {},
     "output_type": "execute_result"
    }
   ],
   "source": [
    "now.weekday()"
   ]
  },
  {
   "cell_type": "code",
   "execution_count": 62,
   "id": "a6228776-5643-4907-b038-8ed50bd9b79a",
   "metadata": {},
   "outputs": [
    {
     "data": {
      "text/plain": [
       "2025"
      ]
     },
     "execution_count": 62,
     "metadata": {},
     "output_type": "execute_result"
    }
   ],
   "source": [
    "now.year"
   ]
  },
  {
   "cell_type": "code",
   "execution_count": 63,
   "id": "1c02b7fb-21bc-4133-a058-6bccbef2798b",
   "metadata": {},
   "outputs": [
    {
     "data": {
      "text/plain": [
       "33"
      ]
     },
     "execution_count": 63,
     "metadata": {},
     "output_type": "execute_result"
    }
   ],
   "source": [
    "now.minute"
   ]
  },
  {
   "cell_type": "code",
   "execution_count": 64,
   "id": "17a5359c-adf6-4273-ab41-03d2304de4dc",
   "metadata": {},
   "outputs": [
    {
     "data": {
      "text/plain": [
       "14"
      ]
     },
     "execution_count": 64,
     "metadata": {},
     "output_type": "execute_result"
    }
   ],
   "source": [
    "now.day"
   ]
  },
  {
   "cell_type": "code",
   "execution_count": 82,
   "id": "673c9ed5-d499-4806-8c54-2380641da236",
   "metadata": {},
   "outputs": [],
   "source": [
    "#timedelta\n",
    "year_10 = datetime.timedelta(days =10*365)\n",
    "date = datetime.datetime(1988,5,25) + year_10\n",
    "new_date = date + year_10"
   ]
  },
  {
   "cell_type": "code",
   "execution_count": 83,
   "id": "1800449d-5918-4da5-a1e0-b717e1930288",
   "metadata": {},
   "outputs": [
    {
     "data": {
      "text/plain": [
       "datetime.datetime(2008, 5, 20, 0, 0)"
      ]
     },
     "execution_count": 83,
     "metadata": {},
     "output_type": "execute_result"
    }
   ],
   "source": [
    "new_date"
   ]
  },
  {
   "cell_type": "code",
   "execution_count": 84,
   "id": "831b36aa-65e1-469a-9785-f5168f69c1d8",
   "metadata": {},
   "outputs": [
    {
     "ename": "_IncompleteInputError",
     "evalue": "incomplete input (2541813512.py, line 1)",
     "output_type": "error",
     "traceback": [
      "  \u001b[36mCell\u001b[39m\u001b[36m \u001b[39m\u001b[32mIn[84]\u001b[39m\u001b[32m, line 1\u001b[39m\n\u001b[31m    \u001b[39m\u001b[31mnst = datetime.timezone(datetime.timedelta(hours =5, minutes=78)\u001b[39m\n                                                                    ^\n\u001b[31m_IncompleteInputError\u001b[39m\u001b[31m:\u001b[39m incomplete input\n"
     ]
    }
   ],
   "source": [
    "nst = datetime.timezone(datetime.timedelta(hours =5, minutes=78)"
   ]
  },
  {
   "cell_type": "code",
   "execution_count": null,
   "id": "baca5c49-ad54-485a-95fb-ddfe43ac7978",
   "metadata": {},
   "outputs": [],
   "source": []
  }
 ],
 "metadata": {
  "kernelspec": {
   "display_name": "Python 3 (ipykernel)",
   "language": "python",
   "name": "python3"
  },
  "language_info": {
   "codemirror_mode": {
    "name": "ipython",
    "version": 3
   },
   "file_extension": ".py",
   "mimetype": "text/x-python",
   "name": "python",
   "nbconvert_exporter": "python",
   "pygments_lexer": "ipython3",
   "version": "3.13.5"
  }
 },
 "nbformat": 4,
 "nbformat_minor": 5
}
