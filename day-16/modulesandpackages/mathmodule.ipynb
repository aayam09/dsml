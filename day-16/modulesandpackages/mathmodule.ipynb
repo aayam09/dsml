{
 "cells": [
  {
   "cell_type": "markdown",
   "id": "9ba151cb-c49a-47d6-b1a7-f00b3f8ab4f1",
   "metadata": {},
   "source": [
    "Arithmetic Functions"
   ]
  },
  {
   "cell_type": "code",
   "execution_count": 3,
   "id": "7607bd58-fd44-4c41-a221-6aece333e76c",
   "metadata": {},
   "outputs": [],
   "source": [
    "import math"
   ]
  },
  {
   "cell_type": "code",
   "execution_count": 5,
   "id": "0c57476c-efcb-4f33-8144-1c2cbdd18e63",
   "metadata": {},
   "outputs": [
    {
     "data": {
      "text/plain": [
       "16.0"
      ]
     },
     "execution_count": 5,
     "metadata": {},
     "output_type": "execute_result"
    }
   ],
   "source": [
    "math.pow(4,2)"
   ]
  },
  {
   "cell_type": "code",
   "execution_count": 6,
   "id": "43a2ab6f-0e28-4291-ace2-ebdec7a20ae4",
   "metadata": {},
   "outputs": [
    {
     "data": {
      "text/plain": [
       "4.0"
      ]
     },
     "execution_count": 6,
     "metadata": {},
     "output_type": "execute_result"
    }
   ],
   "source": [
    "math.sqrt(16)"
   ]
  },
  {
   "cell_type": "code",
   "execution_count": 8,
   "id": "4044f487-9343-4a27-ad5d-80eab088c48f",
   "metadata": {},
   "outputs": [
    {
     "data": {
      "text/plain": [
       "3"
      ]
     },
     "execution_count": 8,
     "metadata": {},
     "output_type": "execute_result"
    }
   ],
   "source": [
    "math.ceil(2.000001)"
   ]
  },
  {
   "cell_type": "code",
   "execution_count": 9,
   "id": "a88f8913-3d5e-41b9-9673-9c51753cc95e",
   "metadata": {},
   "outputs": [
    {
     "data": {
      "text/plain": [
       "2"
      ]
     },
     "execution_count": 9,
     "metadata": {},
     "output_type": "execute_result"
    }
   ],
   "source": [
    "math.floor(2.9999)"
   ]
  },
  {
   "cell_type": "code",
   "execution_count": 10,
   "id": "81438630-3628-4edd-834d-9e7a0357f04d",
   "metadata": {},
   "outputs": [
    {
     "data": {
      "text/plain": [
       "2"
      ]
     },
     "execution_count": 10,
     "metadata": {},
     "output_type": "execute_result"
    }
   ],
   "source": [
    "math.trunc(2.98)"
   ]
  },
  {
   "cell_type": "code",
   "execution_count": 11,
   "id": "5f94871b-9b37-4d9e-ad65-e2cb8d419aba",
   "metadata": {},
   "outputs": [
    {
     "data": {
      "text/plain": [
       "4.0"
      ]
     },
     "execution_count": 11,
     "metadata": {},
     "output_type": "execute_result"
    }
   ],
   "source": [
    "math.fabs(-4)"
   ]
  },
  {
   "cell_type": "code",
   "execution_count": 13,
   "id": "c9082522-fd59-421e-a04d-ff84efc296f0",
   "metadata": {},
   "outputs": [
    {
     "data": {
      "text/plain": [
       "0.5235987755982988"
      ]
     },
     "execution_count": 13,
     "metadata": {},
     "output_type": "execute_result"
    }
   ],
   "source": [
    "d_to_r = math.radians(30)\n",
    "d_to_r"
   ]
  },
  {
   "cell_type": "code",
   "execution_count": 14,
   "id": "05f8a772-8d33-4372-ad10-5dcc21acece4",
   "metadata": {},
   "outputs": [
    {
     "data": {
      "text/plain": [
       "0.49999999999999994"
      ]
     },
     "execution_count": 14,
     "metadata": {},
     "output_type": "execute_result"
    }
   ],
   "source": [
    "math.sin(d_to_r)"
   ]
  },
  {
   "cell_type": "code",
   "execution_count": 15,
   "id": "da56bbed-26b7-4b09-bf66-7b5e27d875a1",
   "metadata": {},
   "outputs": [
    {
     "data": {
      "text/plain": [
       "5.830951894845301"
      ]
     },
     "execution_count": 15,
     "metadata": {},
     "output_type": "execute_result"
    }
   ],
   "source": [
    "math.hypot(3,5)"
   ]
  },
  {
   "cell_type": "code",
   "execution_count": null,
   "id": "d10a7f4c-3496-4a27-9a70-e0266e227710",
   "metadata": {},
   "outputs": [],
   "source": []
  },
  {
   "cell_type": "markdown",
   "id": "c9c64822-a4bc-4330-88b5-9def00cc99f3",
   "metadata": {},
   "source": [
    "exponential Function"
   ]
  },
  {
   "cell_type": "code",
   "execution_count": 16,
   "id": "8c4eff43-a848-422a-87e8-8e97bce0149d",
   "metadata": {},
   "outputs": [
    {
     "data": {
      "text/plain": [
       "2.718281828459045"
      ]
     },
     "execution_count": 16,
     "metadata": {},
     "output_type": "execute_result"
    }
   ],
   "source": [
    "math.exp(1)"
   ]
  },
  {
   "cell_type": "code",
   "execution_count": 17,
   "id": "aba4cc6c-a288-4740-b8ff-f3ea2b617175",
   "metadata": {},
   "outputs": [
    {
     "data": {
      "text/plain": [
       "7.38905609893065"
      ]
     },
     "execution_count": 17,
     "metadata": {},
     "output_type": "execute_result"
    }
   ],
   "source": [
    "math.exp(2)"
   ]
  },
  {
   "cell_type": "code",
   "execution_count": 26,
   "id": "4a458370-c35f-44f6-8cf6-89df3d1bc1cb",
   "metadata": {},
   "outputs": [
    {
     "data": {
      "text/plain": [
       "[0.0,\n",
       " 0.6931471805599453,\n",
       " 1.0986122886681098,\n",
       " 1.3862943611198906,\n",
       " 1.6094379124341003,\n",
       " 1.791759469228055,\n",
       " 1.9459101490553132,\n",
       " 2.0794415416798357,\n",
       " 2.1972245773362196,\n",
       " 2.302585092994046,\n",
       " 2.3978952727983707,\n",
       " 2.4849066497880004,\n",
       " 2.5649493574615367,\n",
       " 2.6390573296152584,\n",
       " 2.70805020110221,\n",
       " 2.772588722239781,\n",
       " 2.833213344056216,\n",
       " 2.8903717578961645,\n",
       " 2.9444389791664403,\n",
       " 2.995732273553991,\n",
       " 3.044522437723423,\n",
       " 3.091042453358316,\n",
       " 3.1354942159291497,\n",
       " 3.1780538303479458,\n",
       " 3.2188758248682006,\n",
       " 3.258096538021482,\n",
       " 3.295836866004329,\n",
       " 3.332204510175204,\n",
       " 3.367295829986474,\n",
       " 3.4011973816621555,\n",
       " 3.4339872044851463,\n",
       " 3.4657359027997265,\n",
       " 3.4965075614664802,\n",
       " 3.5263605246161616,\n",
       " 3.5553480614894135,\n",
       " 3.58351893845611,\n",
       " 3.6109179126442243,\n",
       " 3.6375861597263857,\n",
       " 3.6635616461296463,\n",
       " 3.6888794541139363,\n",
       " 3.713572066704308,\n",
       " 3.7376696182833684,\n",
       " 3.7612001156935624,\n",
       " 3.784189633918261,\n",
       " 3.8066624897703196,\n",
       " 3.828641396489095,\n",
       " 3.8501476017100584,\n",
       " 3.871201010907891,\n",
       " 3.8918202981106265,\n",
       " 3.912023005428146,\n",
       " 3.9318256327243257,\n",
       " 3.9512437185814275,\n",
       " 3.970291913552122,\n",
       " 3.9889840465642745,\n",
       " 4.007333185232471,\n",
       " 4.02535169073515,\n",
       " 4.04305126783455,\n",
       " 4.060443010546419,\n",
       " 4.07753744390572,\n",
       " 4.0943445622221,\n",
       " 4.110873864173311,\n",
       " 4.127134385045092,\n",
       " 4.143134726391533,\n",
       " 4.1588830833596715,\n",
       " 4.174387269895637,\n",
       " 4.189654742026425,\n",
       " 4.204692619390966,\n",
       " 4.219507705176107,\n",
       " 4.23410650459726,\n",
       " 4.248495242049359,\n",
       " 4.2626798770413155,\n",
       " 4.276666119016055,\n",
       " 4.290459441148391,\n",
       " 4.30406509320417,\n",
       " 4.31748811353631,\n",
       " 4.330733340286331,\n",
       " 4.343805421853684,\n",
       " 4.356708826689592,\n",
       " 4.3694478524670215,\n",
       " 4.382026634673881,\n",
       " 4.394449154672439,\n",
       " 4.406719247264253,\n",
       " 4.418840607796598,\n",
       " 4.430816798843313,\n",
       " 4.442651256490317,\n",
       " 4.454347296253507,\n",
       " 4.465908118654584,\n",
       " 4.477336814478207,\n",
       " 4.48863636973214,\n",
       " 4.499809670330265,\n",
       " 4.51085950651685,\n",
       " 4.5217885770490405,\n",
       " 4.532599493153256,\n",
       " 4.543294782270004,\n",
       " 4.553876891600541,\n",
       " 4.564348191467836,\n",
       " 4.574710978503383,\n",
       " 4.584967478670572,\n",
       " 4.59511985013459,\n",
       " 4.605170185988092,\n",
       " 4.61512051684126,\n",
       " 4.624972813284271,\n",
       " 4.634728988229636,\n",
       " 4.6443908991413725,\n",
       " 4.653960350157523,\n",
       " 4.663439094112067,\n",
       " 4.672828834461906,\n",
       " 4.68213122712422,\n",
       " 4.6913478822291435,\n",
       " 4.700480365792417,\n",
       " 4.709530201312334,\n",
       " 4.718498871295094,\n",
       " 4.727387818712341,\n",
       " 4.736198448394496,\n",
       " 4.74493212836325,\n",
       " 4.7535901911063645,\n",
       " 4.762173934797756,\n",
       " 4.770684624465665,\n",
       " 4.77912349311153,\n",
       " 4.787491742782046,\n",
       " 4.795790545596741,\n",
       " 4.804021044733257,\n",
       " 4.812184355372417,\n",
       " 4.820281565605037,\n",
       " 4.8283137373023015,\n",
       " 4.836281906951478,\n",
       " 4.844187086458591,\n",
       " 4.852030263919617,\n",
       " 4.859812404361672,\n",
       " 4.867534450455582,\n",
       " 4.875197323201151,\n",
       " 4.882801922586371,\n",
       " 4.890349128221754,\n",
       " 4.897839799950911,\n",
       " 4.90527477843843,\n",
       " 4.912654885736052,\n",
       " 4.919980925828125,\n",
       " 4.927253685157205,\n",
       " 4.9344739331306915,\n",
       " 4.941642422609304,\n",
       " 4.948759890378168,\n",
       " 4.955827057601261,\n",
       " 4.962844630259907,\n",
       " 4.969813299576001,\n",
       " 4.976733742420574,\n",
       " 4.983606621708336,\n",
       " 4.990432586778736,\n",
       " 4.997212273764115,\n",
       " 5.003946305945459,\n",
       " 5.0106352940962555,\n",
       " 5.017279836814924,\n",
       " 5.0238805208462765,\n",
       " 5.030437921392435,\n",
       " 5.0369526024136295,\n",
       " 5.043425116919247,\n",
       " 5.049856007249537,\n",
       " 5.056245805348308,\n",
       " 5.062595033026967,\n",
       " 5.0689042022202315,\n",
       " 5.075173815233827,\n",
       " 5.081404364984463,\n",
       " 5.087596335232384,\n",
       " 5.093750200806762,\n",
       " 5.099866427824199,\n",
       " 5.10594547390058,\n",
       " 5.111987788356544,\n",
       " 5.117993812416755,\n",
       " 5.123963979403259,\n",
       " 5.1298987149230735,\n",
       " 5.135798437050262,\n",
       " 5.14166355650266,\n",
       " 5.147494476813453,\n",
       " 5.153291594497779,\n",
       " 5.159055299214529,\n",
       " 5.1647859739235145,\n",
       " 5.170483995038151,\n",
       " 5.176149732573829,\n",
       " 5.181783550292085,\n",
       " 5.187385805840755,\n",
       " 5.19295685089021,\n",
       " 5.198497031265826,\n",
       " 5.204006687076795,\n",
       " 5.209486152841421,\n",
       " 5.214935757608986,\n",
       " 5.220355825078324,\n",
       " 5.225746673713202,\n",
       " 5.231108616854587,\n",
       " 5.236441962829949,\n",
       " 5.241747015059643,\n",
       " 5.247024072160486,\n",
       " 5.25227342804663,\n",
       " 5.2574953720277815,\n",
       " 5.262690188904886,\n",
       " 5.267858159063328,\n",
       " 5.272999558563747,\n",
       " 5.278114659230517,\n",
       " 5.2832037287379885,\n",
       " 5.288267030694535,\n",
       " 5.293304824724492]"
      ]
     },
     "execution_count": 26,
     "metadata": {},
     "output_type": "execute_result"
    }
   ],
   "source": [
    "[math.log(i) for i in range(1,200)]\n"
   ]
  },
  {
   "cell_type": "code",
   "execution_count": 27,
   "id": "83b803df-0fc7-4965-830f-a1271db902b2",
   "metadata": {},
   "outputs": [
    {
     "data": {
      "text/plain": [
       "3.141592653589793"
      ]
     },
     "execution_count": 27,
     "metadata": {},
     "output_type": "execute_result"
    }
   ],
   "source": [
    "math.pi"
   ]
  },
  {
   "cell_type": "code",
   "execution_count": 30,
   "id": "01f56c02-d81d-4516-adde-0739fdd8b661",
   "metadata": {},
   "outputs": [
    {
     "data": {
      "text/plain": [
       "inf"
      ]
     },
     "execution_count": 30,
     "metadata": {},
     "output_type": "execute_result"
    }
   ],
   "source": [
    "math.inf"
   ]
  },
  {
   "cell_type": "code",
   "execution_count": 31,
   "id": "7f885b3c-1be0-4659-ac52-1d7c319fe941",
   "metadata": {},
   "outputs": [
    {
     "data": {
      "text/plain": [
       "nan"
      ]
     },
     "execution_count": 31,
     "metadata": {},
     "output_type": "execute_result"
    }
   ],
   "source": [
    "math.nan"
   ]
  },
  {
   "cell_type": "code",
   "execution_count": null,
   "id": "b3b3426c-679f-472d-9039-04584d0f24c2",
   "metadata": {},
   "outputs": [],
   "source": []
  },
  {
   "cell_type": "markdown",
   "id": "1d0b4196-2193-4011-9783-f27d22f93fab",
   "metadata": {},
   "source": [
    "special function"
   ]
  },
  {
   "cell_type": "code",
   "execution_count": 32,
   "id": "5230cf6a-0453-40a0-974f-65d3f3ff00ef",
   "metadata": {},
   "outputs": [
    {
     "data": {
      "text/plain": [
       "3628800"
      ]
     },
     "execution_count": 32,
     "metadata": {},
     "output_type": "execute_result"
    }
   ],
   "source": [
    "math.factorial(10)"
   ]
  },
  {
   "cell_type": "code",
   "execution_count": 35,
   "id": "2b964fd7-e611-4103-93f6-a2c740d2d159",
   "metadata": {},
   "outputs": [
    {
     "data": {
      "text/plain": [
       "5"
      ]
     },
     "execution_count": 35,
     "metadata": {},
     "output_type": "execute_result"
    }
   ],
   "source": [
    "math.comb(5,4)"
   ]
  },
  {
   "cell_type": "code",
   "execution_count": 36,
   "id": "38d1ff3f-dccf-4341-a85d-9c78954eb0c4",
   "metadata": {},
   "outputs": [
    {
     "data": {
      "text/plain": [
       "120"
      ]
     },
     "execution_count": 36,
     "metadata": {},
     "output_type": "execute_result"
    }
   ],
   "source": [
    "math.perm(5,4)"
   ]
  },
  {
   "cell_type": "code",
   "execution_count": null,
   "id": "f840e632-fdc3-4d72-99df-dee32f262e9a",
   "metadata": {},
   "outputs": [],
   "source": []
  }
 ],
 "metadata": {
  "kernelspec": {
   "display_name": "Python 3 (ipykernel)",
   "language": "python",
   "name": "python3"
  },
  "language_info": {
   "codemirror_mode": {
    "name": "ipython",
    "version": 3
   },
   "file_extension": ".py",
   "mimetype": "text/x-python",
   "name": "python",
   "nbconvert_exporter": "python",
   "pygments_lexer": "ipython3",
   "version": "3.13.5"
  }
 },
 "nbformat": 4,
 "nbformat_minor": 5
}
