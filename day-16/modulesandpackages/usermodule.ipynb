{
 "cells": [
  {
   "cell_type": "code",
   "execution_count": 1,
   "id": "eeba7ae3-939c-4e60-ad91-4f07d2701cf3",
   "metadata": {},
   "outputs": [
    {
     "name": "stdout",
     "output_type": "stream",
     "text": [
      "8\n",
      "<class 'int'>\n"
     ]
    }
   ],
   "source": [
    "import my_calculator\n",
    "print(my_calculator.addition)  # Should print 8\n",
    "print(type(my_calculator.addition))  # Should print <class 'int'>"
   ]
  },
  {
   "cell_type": "code",
   "execution_count": null,
   "id": "67aa5fa9-143d-40a9-afa5-bf9197c02f6f",
   "metadata": {},
   "outputs": [],
   "source": []
  },
  {
   "cell_type": "code",
   "execution_count": null,
   "id": "2416fb46-6d1a-4a08-8b06-c8a174d9359a",
   "metadata": {},
   "outputs": [],
   "source": []
  },
  {
   "cell_type": "code",
   "execution_count": null,
   "id": "0c8c09c6-5339-4f4c-9d6d-5568a72b86fd",
   "metadata": {},
   "outputs": [],
   "source": []
  }
 ],
 "metadata": {
  "kernelspec": {
   "display_name": "Python 3 (ipykernel)",
   "language": "python",
   "name": "python3"
  },
  "language_info": {
   "codemirror_mode": {
    "name": "ipython",
    "version": 3
   },
   "file_extension": ".py",
   "mimetype": "text/x-python",
   "name": "python",
   "nbconvert_exporter": "python",
   "pygments_lexer": "ipython3",
   "version": "3.13.5"
  }
 },
 "nbformat": 4,
 "nbformat_minor": 5
}
