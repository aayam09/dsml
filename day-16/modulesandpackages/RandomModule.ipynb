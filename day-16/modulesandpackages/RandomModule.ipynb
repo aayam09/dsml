{
 "cells": [
  {
   "cell_type": "markdown",
   "id": "d03870ec-1a7c-4745-8bd3-75120fb94f55",
   "metadata": {},
   "source": [
    "Python Random Module"
   ]
  },
  {
   "cell_type": "markdown",
   "id": "43872191-aef7-4d8a-a449-958470c5a6c7",
   "metadata": {},
   "source": [
    "Uniform distribution functions"
   ]
  },
  {
   "cell_type": "code",
   "execution_count": 2,
   "id": "1c2e65fb-de85-4ab1-ae07-787421ba9bbe",
   "metadata": {},
   "outputs": [],
   "source": [
    "import random"
   ]
  },
  {
   "cell_type": "code",
   "execution_count": 3,
   "id": "e27dc923-c287-4196-a33f-7cdbb43a9d04",
   "metadata": {},
   "outputs": [
    {
     "data": {
      "text/plain": [
       "0.9731897901790166"
      ]
     },
     "execution_count": 3,
     "metadata": {},
     "output_type": "execute_result"
    }
   ],
   "source": [
    "random.random()"
   ]
  },
  {
   "cell_type": "code",
   "execution_count": 4,
   "id": "686012d0-03d3-4236-a39e-4a8233b67920",
   "metadata": {},
   "outputs": [
    {
     "data": {
      "text/plain": [
       "289.1809445323279"
      ]
     },
     "execution_count": 4,
     "metadata": {},
     "output_type": "execute_result"
    }
   ],
   "source": [
    "random.uniform(100,500)"
   ]
  },
  {
   "cell_type": "code",
   "execution_count": 10,
   "id": "a0836823-0960-4553-8193-ccfe15707579",
   "metadata": {},
   "outputs": [
    {
     "data": {
      "text/plain": [
       "158"
      ]
     },
     "execution_count": 10,
     "metadata": {},
     "output_type": "execute_result"
    }
   ],
   "source": [
    "random.randint(100,500)"
   ]
  },
  {
   "cell_type": "code",
   "execution_count": 11,
   "id": "f5ae4cd4-a5cf-402f-b72c-61e4edbec2cf",
   "metadata": {},
   "outputs": [
    {
     "data": {
      "text/plain": [
       "450"
      ]
     },
     "execution_count": 11,
     "metadata": {},
     "output_type": "execute_result"
    }
   ],
   "source": [
    "random.randrange(100,500,50)"
   ]
  },
  {
   "cell_type": "markdown",
   "id": "c4a261e8-ece7-4d45-a4a8-89245a4f85e2",
   "metadata": {},
   "source": [
    "Sequence related functions"
   ]
  },
  {
   "cell_type": "code",
   "execution_count": 24,
   "id": "950c2090-30fe-487f-b17e-30310e67274b",
   "metadata": {},
   "outputs": [],
   "source": [
    "cards = ['ace', 'king', 'queen', 'five', 'ten','jack']"
   ]
  },
  {
   "cell_type": "code",
   "execution_count": 25,
   "id": "a0ba10a7-6adc-4849-8a0d-8f16526b821b",
   "metadata": {},
   "outputs": [
    {
     "data": {
      "text/plain": [
       "'ace'"
      ]
     },
     "execution_count": 25,
     "metadata": {},
     "output_type": "execute_result"
    }
   ],
   "source": [
    "random.choice(cards)"
   ]
  },
  {
   "cell_type": "code",
   "execution_count": 26,
   "id": "8fad2cc6-a2e1-4c91-86f1-e11e1ce83e7f",
   "metadata": {},
   "outputs": [],
   "source": [
    "random.shuffle(cards)"
   ]
  },
  {
   "cell_type": "code",
   "execution_count": 27,
   "id": "4f25491c-e50c-4f12-add0-aa2cabad2532",
   "metadata": {},
   "outputs": [
    {
     "data": {
      "text/plain": [
       "['king', 'ace', 'five', 'jack', 'ten', 'queen']"
      ]
     },
     "execution_count": 27,
     "metadata": {},
     "output_type": "execute_result"
    }
   ],
   "source": [
    "cards"
   ]
  },
  {
   "cell_type": "code",
   "execution_count": 28,
   "id": "83d3c279-1afb-4f56-9aa2-248de80858c7",
   "metadata": {},
   "outputs": [
    {
     "data": {
      "text/plain": [
       "['ace', 'five', 'queen']"
      ]
     },
     "execution_count": 28,
     "metadata": {},
     "output_type": "execute_result"
    }
   ],
   "source": [
    "random.sample(cards,3)"
   ]
  },
  {
   "cell_type": "code",
   "execution_count": 33,
   "id": "afd325cc-8a50-442e-b324-ee3bd147e786",
   "metadata": {},
   "outputs": [
    {
     "data": {
      "text/plain": [
       "['jack', 'queen']"
      ]
     },
     "execution_count": 33,
     "metadata": {},
     "output_type": "execute_result"
    }
   ],
   "source": [
    "random.choices(cards,weights=[0.2, 0.12, 0.1, 0.4, 0.25, 0.33], k=2)"
   ]
  },
  {
   "cell_type": "markdown",
   "id": "70febfca-c643-4568-93f3-299f389b1bfe",
   "metadata": {},
   "source": [
    "Distributions and probability density function"
   ]
  },
  {
   "cell_type": "code",
   "execution_count": null,
   "id": "9df279c7-8022-4310-acff-e177e154a3cd",
   "metadata": {},
   "outputs": [],
   "source": []
  },
  {
   "cell_type": "markdown",
   "id": "a5fd81cc-cb43-492f-b2ef-b8e1fe0f6384",
   "metadata": {},
   "source": [
    "randomness_related functions"
   ]
  },
  {
   "cell_type": "code",
   "execution_count": 34,
   "id": "4c80564f-6fbf-40ef-916b-a444737b5289",
   "metadata": {},
   "outputs": [],
   "source": [
    "random.seed(555)"
   ]
  },
  {
   "cell_type": "code",
   "execution_count": 37,
   "id": "02e0911e-2a21-4843-8a0c-1dc5f55c534b",
   "metadata": {},
   "outputs": [
    {
     "data": {
      "text/plain": [
       "3"
      ]
     },
     "execution_count": 37,
     "metadata": {},
     "output_type": "execute_result"
    }
   ],
   "source": [
    "random.randint(1,10)"
   ]
  },
  {
   "cell_type": "code",
   "execution_count": 41,
   "id": "f2b1910c-fe99-40af-bc14-19a314cbacb0",
   "metadata": {},
   "outputs": [
    {
     "name": "stdout",
     "output_type": "stream",
     "text": [
      "3 5 7\n"
     ]
    }
   ],
   "source": [
    "import random\n",
    "state = random.getstate()\n",
    "\n",
    "a=random.randint(1,10)\n",
    "b=random.randint(1,10)\n",
    "c=random.randint(1,10)\n",
    "\n",
    "print(a,b,c)"
   ]
  },
  {
   "cell_type": "code",
   "execution_count": 43,
   "id": "fd3a1040-5c4a-4f11-ad9a-208b9a68f4bd",
   "metadata": {},
   "outputs": [
    {
     "name": "stdout",
     "output_type": "stream",
     "text": [
      "3 5 7\n"
     ]
    }
   ],
   "source": [
    "random.setstate(state)\n",
    "\n",
    "a=random.randint(1,10)\n",
    "b=random.randint(1,10)\n",
    "c=random.randint(1,10)\n",
    "\n",
    "print(a,b,c)"
   ]
  },
  {
   "cell_type": "code",
   "execution_count": null,
   "id": "31952954-ee53-48db-9696-f8ad8e759457",
   "metadata": {},
   "outputs": [],
   "source": []
  }
 ],
 "metadata": {
  "kernelspec": {
   "display_name": "Python 3 (ipykernel)",
   "language": "python",
   "name": "python3"
  },
  "language_info": {
   "codemirror_mode": {
    "name": "ipython",
    "version": 3
   },
   "file_extension": ".py",
   "mimetype": "text/x-python",
   "name": "python",
   "nbconvert_exporter": "python",
   "pygments_lexer": "ipython3",
   "version": "3.13.5"
  }
 },
 "nbformat": 4,
 "nbformat_minor": 5
}
