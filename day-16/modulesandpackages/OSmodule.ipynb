{
 "cells": [
  {
   "cell_type": "markdown",
   "id": "de6121b3-778c-4c4a-928a-7039df453ed7",
   "metadata": {},
   "source": [
    "working with files and directories"
   ]
  },
  {
   "cell_type": "code",
   "execution_count": 1,
   "id": "7f84f0b8-6367-44dc-9513-1845cdbb1992",
   "metadata": {},
   "outputs": [],
   "source": [
    "import os"
   ]
  },
  {
   "cell_type": "code",
   "execution_count": 13,
   "id": "d635d1aa-d9fd-4173-85ea-2f0e81f290ff",
   "metadata": {},
   "outputs": [
    {
     "data": {
      "text/plain": [
       "'D:\\\\data scienece and machine learning\\\\dsml\\\\day-16\\\\modulesandpackages\\\\test_folder\\\\test_folder\\\\test_folder'"
      ]
     },
     "execution_count": 13,
     "metadata": {},
     "output_type": "execute_result"
    }
   ],
   "source": [
    "os.getcwd()"
   ]
  },
  {
   "cell_type": "code",
   "execution_count": 11,
   "id": "38d5f93c-f7b0-411e-972b-242e12bab352",
   "metadata": {},
   "outputs": [],
   "source": [
    "if not os.path.exists(\"test_folder\"):\n",
    "    os.mkdir(\"test_folder\")"
   ]
  },
  {
   "cell_type": "code",
   "execution_count": 12,
   "id": "d240ab1b-cc3a-40f8-b6cc-ded6b1b7678c",
   "metadata": {},
   "outputs": [],
   "source": [
    "os.chdir(\"test_folder/\")"
   ]
  },
  {
   "cell_type": "code",
   "execution_count": 14,
   "id": "23281f87-9c80-4152-92ee-a0be98d46df4",
   "metadata": {},
   "outputs": [],
   "source": [
    "os.chdir(\"D:\\\\data scienece and machine learning\\\\dsml\\\\day-16\\\\modulesandpackages\")"
   ]
  },
  {
   "cell_type": "code",
   "execution_count": 15,
   "id": "d73e99ee-37d6-4b13-8ae3-a07c2346ef27",
   "metadata": {},
   "outputs": [
    {
     "data": {
      "text/plain": [
       "'D:\\\\data scienece and machine learning\\\\dsml\\\\day-16\\\\modulesandpackages'"
      ]
     },
     "execution_count": 15,
     "metadata": {},
     "output_type": "execute_result"
    }
   ],
   "source": [
    "os.getcwd()"
   ]
  },
  {
   "cell_type": "code",
   "execution_count": 16,
   "id": "9267b102-7d0a-4006-864d-f327274f3d84",
   "metadata": {},
   "outputs": [
    {
     "data": {
      "text/plain": [
       "['.ipynb_checkpoints',\n",
       " 'datetime_module.ipynb',\n",
       " 'mathmodule.ipynb',\n",
       " 'OSmodule.ipynb',\n",
       " 'test_folder']"
      ]
     },
     "execution_count": 16,
     "metadata": {},
     "output_type": "execute_result"
    }
   ],
   "source": [
    "os.listdir(\".\")"
   ]
  },
  {
   "cell_type": "code",
   "execution_count": 20,
   "id": "8ebb0378-e8ff-4106-a2bd-014c1512e9bb",
   "metadata": {},
   "outputs": [
    {
     "data": {
      "text/plain": [
       "'D:\\\\data scienece and machine learning\\\\dsml\\\\day-16\\\\modulesandpackages'"
      ]
     },
     "execution_count": 20,
     "metadata": {},
     "output_type": "execute_result"
    }
   ],
   "source": [
    "os.getcwd()"
   ]
  },
  {
   "cell_type": "code",
   "execution_count": 21,
   "id": "e384d441-8b4e-4bf1-9734-cd8811498d4a",
   "metadata": {},
   "outputs": [],
   "source": [
    "os.rename(\"hello.txt\",\"Welcome.txt\")"
   ]
  },
  {
   "cell_type": "code",
   "execution_count": 22,
   "id": "66adc89d-f6a3-4a9d-954d-e49d5a31ff01",
   "metadata": {},
   "outputs": [],
   "source": [
    "os.remove(\"Welcome.txt\")"
   ]
  },
  {
   "cell_type": "code",
   "execution_count": null,
   "id": "d446e347-1ac7-4903-a130-8501659b9bde",
   "metadata": {},
   "outputs": [],
   "source": []
  },
  {
   "cell_type": "markdown",
   "id": "ac45a0bd-d004-42a7-9d67-d5fc77012acf",
   "metadata": {},
   "source": [
    "working with environment variable"
   ]
  },
  {
   "cell_type": "code",
   "execution_count": 23,
   "id": "5761640b-ae66-4cb6-98ce-4fde61fef216",
   "metadata": {},
   "outputs": [
    {
     "data": {
      "text/plain": [
       "'C:\\\\Users\\\\Acer'"
      ]
     },
     "execution_count": 23,
     "metadata": {},
     "output_type": "execute_result"
    }
   ],
   "source": [
    "os.getenv(\"HOME\")"
   ]
  },
  {
   "cell_type": "code",
   "execution_count": 24,
   "id": "a2bf2aea-803b-4036-a6f8-537df7054bb4",
   "metadata": {},
   "outputs": [
    {
     "data": {
      "text/plain": [
       "'C:\\\\Users\\\\Acer\\\\OneDrive'"
      ]
     },
     "execution_count": 24,
     "metadata": {},
     "output_type": "execute_result"
    }
   ],
   "source": [
    "os.getenv(\"OneDrive\")"
   ]
  },
  {
   "cell_type": "code",
   "execution_count": 25,
   "id": "30dafc95-86c2-42ef-aca7-14ea78c18392",
   "metadata": {},
   "outputs": [
    {
     "data": {
      "text/plain": [
       "'D:\\\\data scienece and machine learning\\\\dsml\\\\class07\\\\Scripts;D;D:\\\\data scienece and machine learning\\\\dsml\\\\c\\\\Users\\\\Acer\\\\bin;C:\\\\Program Files\\\\Git\\\\usr\\\\local\\\\bin;C:\\\\Program Files\\\\Git\\\\usr\\\\bin;C:\\\\Program Files\\\\Git\\\\usr\\\\bin;C:\\\\Program Files\\\\Git\\\\opt\\\\bin;D:\\\\data scienece and machine learning\\\\dsml\\\\class07\\\\Scripts;C:\\\\oraclexe\\\\app\\\\oracle\\\\product\\\\11.2.0\\\\server\\\\bin;C:\\\\Program Files (x86)\\\\VMware\\\\VMware Workstation\\\\bin;C:\\\\WINDOWS\\\\system32;C:\\\\WINDOWS;C:\\\\WINDOWS\\\\System32\\\\Wbem;C:\\\\WINDOWS\\\\System32\\\\WindowsPowerShell\\\\v1.0;C:\\\\WINDOWS\\\\System32\\\\OpenSSH;C:\\\\Program Files\\\\dotnet;C:\\\\Program Files (x86)\\\\NVIDIA Corporation\\\\PhysX\\\\Common;C:\\\\xampp\\\\php;C:\\\\Users\\\\Acer\\\\Documents\\\\instantclient-basic-windows.x64-19.26.0.0.0dbru\\\\instantclient_19_26;C:\\\\composer;C:\\\\Program Files\\\\Git\\\\cmd;C:\\\\Users\\\\Acer\\\\AppData\\\\Local\\\\Programs\\\\Python\\\\Python313\\\\Scripts;C:\\\\Users\\\\Acer\\\\AppData\\\\Local\\\\Programs\\\\Python\\\\Python313;C:\\\\Users\\\\Acer\\\\AppData\\\\Local\\\\Programs\\\\Python\\\\Launcher;C:\\\\Users\\\\Acer\\\\Documents\\\\instantclient-basic-windows.x64-19.26.0.0.0dbru\\\\instantclient_19_26;C:\\\\Users\\\\Acer\\\\.dotnet\\\\tools;C:\\\\Users\\\\Acer\\\\AppData\\\\Local\\\\Programs\\\\Microsoft VS Code\\\\bin;C:\\\\instantclient_23_7;C:\\\\Users\\\\Acer\\\\AppData\\\\Local\\\\GitHubDesktop\\\\bin;C:\\\\Users\\\\Acer\\\\AppData\\\\Roaming\\\\Composer\\\\vendor\\\\bin;C:\\\\Program Files\\\\Git\\\\usr\\\\bin\\\\vendor_perl;C:\\\\Program Files\\\\Git\\\\usr\\\\bin\\\\core_perl'"
      ]
     },
     "execution_count": 25,
     "metadata": {},
     "output_type": "execute_result"
    }
   ],
   "source": [
    "os.getenv(\"Path\")"
   ]
  },
  {
   "cell_type": "code",
   "execution_count": 26,
   "id": "133de141-1f60-4d81-8082-b751bcf769a2",
   "metadata": {},
   "outputs": [],
   "source": [
    "os.environ[\"MyPassword\"] = \"secret_password\""
   ]
  },
  {
   "cell_type": "code",
   "execution_count": 27,
   "id": "c2db0cc2-da1f-425f-882b-78c8261e14e1",
   "metadata": {},
   "outputs": [
    {
     "data": {
      "text/plain": [
       "'secret_password'"
      ]
     },
     "execution_count": 27,
     "metadata": {},
     "output_type": "execute_result"
    }
   ],
   "source": [
    "os.getenv(\"MyPassword\")"
   ]
  },
  {
   "cell_type": "code",
   "execution_count": 28,
   "id": "db9e459e-3e41-4475-a2ba-a18a6b8aec8e",
   "metadata": {},
   "outputs": [
    {
     "data": {
      "text/plain": [
       "environ{'ALLUSERSPROFILE': 'C:\\\\ProgramData',\n",
       "        'APPDATA': 'C:\\\\Users\\\\Acer\\\\AppData\\\\Roaming',\n",
       "        'BUNDLED_DEBUGPY_PATH': 'c:\\\\Users\\\\Acer\\\\.vscode\\\\extensions\\\\ms-python.debugpy-2025.10.0-win32-x64\\\\bundled\\\\libs\\\\debugpy',\n",
       "        'CHROME_CRASHPAD_PIPE_NAME': '\\\\\\\\.\\\\pipe\\\\crashpad_14432_OQMWHQNHOJHKNVKV',\n",
       "        'COLORTERM': 'truecolor',\n",
       "        'COMMONPROGRAMFILES': 'C:\\\\Program Files\\\\Common Files',\n",
       "        'COMMONPROGRAMFILES(X86)': 'C:\\\\Program Files (x86)\\\\Common Files',\n",
       "        'COMMONPROGRAMW6432': 'C:\\\\Program Files\\\\Common Files',\n",
       "        'COMPUTERNAME': 'DESKTOP-TVFS3Q1',\n",
       "        'COMSPEC': 'C:\\\\WINDOWS\\\\system32\\\\cmd.exe',\n",
       "        'CONFIG_SITE': 'C:/Program Files/Git/etc/config.site',\n",
       "        'DRIVERDATA': 'C:\\\\Windows\\\\System32\\\\Drivers\\\\DriverData',\n",
       "        'EFC_25928_1262719628': '1',\n",
       "        'EFC_25928_1592913036': '1',\n",
       "        'EFC_25928_2283032206': '1',\n",
       "        'EFC_25928_2775293581': '1',\n",
       "        'EFC_25928_3789132940': '1',\n",
       "        'FPS_BROWSER_APP_PROFILE_STRING': 'Internet Explorer',\n",
       "        'FPS_BROWSER_USER_PROFILE_STRING': 'Default',\n",
       "        'GIT_ASKPASS': 'c:\\\\Users\\\\Acer\\\\AppData\\\\Local\\\\Programs\\\\Microsoft VS Code\\\\resources\\\\app\\\\extensions\\\\git\\\\dist\\\\askpass.sh',\n",
       "        'HOME': 'C:\\\\Users\\\\Acer',\n",
       "        'HOMEDRIVE': 'C:',\n",
       "        'HOMEPATH': '\\\\Users\\\\Acer',\n",
       "        'HOSTNAME': 'DESKTOP-TVFS3Q1',\n",
       "        'INFOPATH': 'C:\\\\Program Files\\\\Git\\\\usr\\\\local\\\\info;C:\\\\Program Files\\\\Git\\\\usr\\\\share\\\\info;C:\\\\Program Files\\\\Git\\\\usr\\\\info;C:\\\\Program Files\\\\Git\\\\share\\\\info',\n",
       "        'IPY_INTERRUPT_EVENT': '2916',\n",
       "        'JPY_INTERRUPT_EVENT': '2916',\n",
       "        'JPY_PARENT_PID': '2868',\n",
       "        'JPY_SESSION_NAME': 'D:\\\\data scienece and machine learning\\\\dsml\\\\day-16\\\\modulesandpackages\\\\Untitled.ipynb',\n",
       "        'LANG': 'en_US.UTF-8',\n",
       "        'LOCALAPPDATA': 'C:\\\\Users\\\\Acer\\\\AppData\\\\Local',\n",
       "        'LOGONSERVER': '\\\\\\\\DESKTOP-TVFS3Q1',\n",
       "        'MANPATH': 'C:\\\\Program Files\\\\Git\\\\usr\\\\local\\\\man;C:\\\\Program Files\\\\Git\\\\usr\\\\share\\\\man;C:\\\\Program Files\\\\Git\\\\usr\\\\man;C:\\\\Program Files\\\\Git\\\\share\\\\man',\n",
       "        'MSYSTEM': 'MSYS',\n",
       "        'MSYSTEM_CARCH': 'x86_64',\n",
       "        'MSYSTEM_CHOST': 'x86_64-pc-msys',\n",
       "        'MSYSTEM_PREFIX': 'C:/Program Files/Git/usr',\n",
       "        'NUMBER_OF_PROCESSORS': '12',\n",
       "        'ONEDRIVE': 'C:\\\\Users\\\\Acer\\\\OneDrive',\n",
       "        'ORIGINAL_PATH': 'D:\\\\data scienece and machine learning\\\\dsml\\\\class07\\\\Scripts;C:\\\\oraclexe\\\\app\\\\oracle\\\\product\\\\11.2.0\\\\server\\\\bin;C:\\\\Program Files (x86)\\\\VMware\\\\VMware Workstation\\\\bin;C:\\\\WINDOWS\\\\system32;C:\\\\WINDOWS;C:\\\\WINDOWS\\\\System32\\\\Wbem;C:\\\\WINDOWS\\\\System32\\\\WindowsPowerShell\\\\v1.0;C:\\\\WINDOWS\\\\System32\\\\OpenSSH;C:\\\\Program Files\\\\dotnet;C:\\\\Program Files (x86)\\\\NVIDIA Corporation\\\\PhysX\\\\Common;C:\\\\xampp\\\\php;C:\\\\Users\\\\Acer\\\\Documents\\\\instantclient-basic-windows.x64-19.26.0.0.0dbru\\\\instantclient_19_26;C:\\\\composer;C:\\\\Program Files\\\\Git\\\\cmd;C:\\\\Users\\\\Acer\\\\AppData\\\\Local\\\\Programs\\\\Python\\\\Python313\\\\Scripts;C:\\\\Users\\\\Acer\\\\AppData\\\\Local\\\\Programs\\\\Python\\\\Python313;C:\\\\Users\\\\Acer\\\\AppData\\\\Local\\\\Programs\\\\Python\\\\Launcher;C:\\\\Users\\\\Acer\\\\Documents\\\\instantclient-basic-windows.x64-19.26.0.0.0dbru\\\\instantclient_19_26;C:\\\\Users\\\\Acer\\\\.dotnet\\\\tools;C:\\\\Users\\\\Acer\\\\AppData\\\\Local\\\\Programs\\\\Microsoft VS Code\\\\bin;C:\\\\instantclient_23_7;C:\\\\Users\\\\Acer\\\\AppData\\\\Local\\\\GitHubDesktop\\\\bin;C:\\\\Users\\\\Acer\\\\AppData\\\\Roaming\\\\Composer\\\\vendor\\\\bin',\n",
       "        'ORIGINAL_TEMP': 'C:/Users/Acer/AppData/Local/Temp',\n",
       "        'ORIGINAL_TMP': 'C:/Users/Acer/AppData/Local/Temp',\n",
       "        'ORIGINAL_XDG_CURRENT_DESKTOP': 'undefined',\n",
       "        'OS': 'Windows_NT',\n",
       "        'PATH': 'D:\\\\data scienece and machine learning\\\\dsml\\\\class07\\\\Scripts;D;D:\\\\data scienece and machine learning\\\\dsml\\\\c\\\\Users\\\\Acer\\\\bin;C:\\\\Program Files\\\\Git\\\\usr\\\\local\\\\bin;C:\\\\Program Files\\\\Git\\\\usr\\\\bin;C:\\\\Program Files\\\\Git\\\\usr\\\\bin;C:\\\\Program Files\\\\Git\\\\opt\\\\bin;D:\\\\data scienece and machine learning\\\\dsml\\\\class07\\\\Scripts;C:\\\\oraclexe\\\\app\\\\oracle\\\\product\\\\11.2.0\\\\server\\\\bin;C:\\\\Program Files (x86)\\\\VMware\\\\VMware Workstation\\\\bin;C:\\\\WINDOWS\\\\system32;C:\\\\WINDOWS;C:\\\\WINDOWS\\\\System32\\\\Wbem;C:\\\\WINDOWS\\\\System32\\\\WindowsPowerShell\\\\v1.0;C:\\\\WINDOWS\\\\System32\\\\OpenSSH;C:\\\\Program Files\\\\dotnet;C:\\\\Program Files (x86)\\\\NVIDIA Corporation\\\\PhysX\\\\Common;C:\\\\xampp\\\\php;C:\\\\Users\\\\Acer\\\\Documents\\\\instantclient-basic-windows.x64-19.26.0.0.0dbru\\\\instantclient_19_26;C:\\\\composer;C:\\\\Program Files\\\\Git\\\\cmd;C:\\\\Users\\\\Acer\\\\AppData\\\\Local\\\\Programs\\\\Python\\\\Python313\\\\Scripts;C:\\\\Users\\\\Acer\\\\AppData\\\\Local\\\\Programs\\\\Python\\\\Python313;C:\\\\Users\\\\Acer\\\\AppData\\\\Local\\\\Programs\\\\Python\\\\Launcher;C:\\\\Users\\\\Acer\\\\Documents\\\\instantclient-basic-windows.x64-19.26.0.0.0dbru\\\\instantclient_19_26;C:\\\\Users\\\\Acer\\\\.dotnet\\\\tools;C:\\\\Users\\\\Acer\\\\AppData\\\\Local\\\\Programs\\\\Microsoft VS Code\\\\bin;C:\\\\instantclient_23_7;C:\\\\Users\\\\Acer\\\\AppData\\\\Local\\\\GitHubDesktop\\\\bin;C:\\\\Users\\\\Acer\\\\AppData\\\\Roaming\\\\Composer\\\\vendor\\\\bin;C:\\\\Program Files\\\\Git\\\\usr\\\\bin\\\\vendor_perl;C:\\\\Program Files\\\\Git\\\\usr\\\\bin\\\\core_perl',\n",
       "        'PATHEXT': '.COM;.EXE;.BAT;.CMD;.VBS;.VBE;.JS;.JSE;.WSF;.WSH;.MSC',\n",
       "        'PKG_CONFIG_PATH': 'C:\\\\Program Files\\\\Git\\\\usr\\\\lib\\\\pkgconfig;C:\\\\Program Files\\\\Git\\\\usr\\\\share\\\\pkgconfig;C:\\\\Program Files\\\\Git\\\\lib\\\\pkgconfig',\n",
       "        'PROCESSOR_ARCHITECTURE': 'AMD64',\n",
       "        'PROCESSOR_IDENTIFIER': 'Intel64 Family 6 Model 141 Stepping 1, GenuineIntel',\n",
       "        'PROCESSOR_LEVEL': '6',\n",
       "        'PROCESSOR_REVISION': '8d01',\n",
       "        'PROGRAMDATA': 'C:\\\\ProgramData',\n",
       "        'PROGRAMFILES': 'C:\\\\Program Files',\n",
       "        'PROGRAMFILES(X86)': 'C:\\\\Program Files (x86)',\n",
       "        'PROGRAMW6432': 'C:\\\\Program Files',\n",
       "        'PROMPT': '(class07) $P$G',\n",
       "        'PS1': '\\\\[\\x1b]633;A\\x07\\\\](class07) \\\\[\\x1b]633;A\\x07\\\\]\\\\[\\\\033]0;$TITLEPREFIX:$PWD\\\\007\\\\]\\\\n\\\\[\\\\033[32m\\\\]\\\\u@\\\\h \\\\[\\\\033[35m\\\\]$MSYSTEM \\\\[\\\\033[33m\\\\]\\\\w\\\\[\\\\033[36m\\\\]`__git_ps1`\\\\[\\\\033[0m\\\\]\\\\n$ \\\\[\\x1b]633;B\\x07\\\\]\\\\[\\x1b]633;B\\x07\\\\]',\n",
       "        'PSMODULEPATH': 'C:\\\\Program Files\\\\WindowsPowerShell\\\\Modules;C:\\\\WINDOWS\\\\system32\\\\WindowsPowerShell\\\\v1.0\\\\Modules',\n",
       "        'PT8HOME': 'C:\\\\Program Files\\\\Cisco Packet Tracer 8.2.2',\n",
       "        'PUBLIC': 'C:\\\\Users\\\\Public',\n",
       "        'PWD': 'D:/data scienece and machine learning/dsml',\n",
       "        'PYDEVD_DISABLE_FILE_VALIDATION': '1',\n",
       "        'PYTHON_BASIC_REPL': '1',\n",
       "        'SESSIONNAME': 'Console',\n",
       "        'SHELL': 'C:\\\\Program Files\\\\Git\\\\usr\\\\bin\\\\bash.exe',\n",
       "        'SHLVL': '1',\n",
       "        'SYSTEMDRIVE': 'C:',\n",
       "        'SYSTEMROOT': 'C:\\\\WINDOWS',\n",
       "        'TEMP': 'C:\\\\Users\\\\Acer\\\\AppData\\\\Local\\\\Temp',\n",
       "        'TERM': 'xterm-color',\n",
       "        'TERM_PROGRAM': 'vscode',\n",
       "        'TERM_PROGRAM_VERSION': '1.102.0',\n",
       "        'TMP': 'C:\\\\Users\\\\Acer\\\\AppData\\\\Local\\\\Temp',\n",
       "        'TMPDIR': 'C:\\\\Users\\\\Acer\\\\AppData\\\\Local\\\\Temp',\n",
       "        'USERDOMAIN': 'DESKTOP-TVFS3Q1',\n",
       "        'USERDOMAIN_ROAMINGPROFILE': 'DESKTOP-TVFS3Q1',\n",
       "        'USERNAME': 'Acer',\n",
       "        'USERPROFILE': 'C:\\\\Users\\\\Acer',\n",
       "        'VIRTUAL_ENV': 'D:/data scienece and machine learning/dsml/class07',\n",
       "        'VIRTUAL_ENV_PROMPT': 'class07',\n",
       "        'VSCODE_DEBUGPY_ADAPTER_ENDPOINTS': 'c:\\\\Users\\\\Acer\\\\.vscode\\\\extensions\\\\ms-python.debugpy-2025.10.0-win32-x64\\\\.noConfigDebugAdapterEndpoints\\\\endpoint-fc994b80c03633f8.txt',\n",
       "        'VSCODE_GIT_ASKPASS_EXTRA_ARGS': '',\n",
       "        'VSCODE_GIT_ASKPASS_MAIN': 'c:\\\\Users\\\\Acer\\\\AppData\\\\Local\\\\Programs\\\\Microsoft VS Code\\\\resources\\\\app\\\\extensions\\\\git\\\\dist\\\\askpass-main.js',\n",
       "        'VSCODE_GIT_ASKPASS_NODE': 'C:\\\\Users\\\\Acer\\\\AppData\\\\Local\\\\Programs\\\\Microsoft VS Code\\\\Code.exe',\n",
       "        'VSCODE_GIT_IPC_HANDLE': '\\\\\\\\.\\\\pipe\\\\vscode-git-b29670f139-sock',\n",
       "        'WINDIR': 'C:\\\\WINDOWS',\n",
       "        'ZES_ENABLE_SYSMAN': '1',\n",
       "        '_': 'D:/data scienece and machine learning/dsml/class07/Scripts/jupyter',\n",
       "        '_OLD_VIRTUAL_PROMPT': '$P$G',\n",
       "        'PYDEVD_USE_FRAME_EVAL': 'NO',\n",
       "        'CLICOLOR': '1',\n",
       "        'FORCE_COLOR': '1',\n",
       "        'CLICOLOR_FORCE': '1',\n",
       "        'PAGER': 'cat',\n",
       "        'GIT_PAGER': 'cat',\n",
       "        'MPLBACKEND': 'module://matplotlib_inline.backend_inline',\n",
       "        'MYPASSWORD': 'secret_password'}"
      ]
     },
     "execution_count": 28,
     "metadata": {},
     "output_type": "execute_result"
    }
   ],
   "source": [
    "os.environ"
   ]
  },
  {
   "cell_type": "code",
   "execution_count": null,
   "id": "2261a5ad-3272-4160-b104-a396dfb5f8f6",
   "metadata": {},
   "outputs": [],
   "source": []
  }
 ],
 "metadata": {
  "kernelspec": {
   "display_name": "Python 3 (ipykernel)",
   "language": "python",
   "name": "python3"
  },
  "language_info": {
   "codemirror_mode": {
    "name": "ipython",
    "version": 3
   },
   "file_extension": ".py",
   "mimetype": "text/x-python",
   "name": "python",
   "nbconvert_exporter": "python",
   "pygments_lexer": "ipython3",
   "version": "3.13.5"
  }
 },
 "nbformat": 4,
 "nbformat_minor": 5
}
