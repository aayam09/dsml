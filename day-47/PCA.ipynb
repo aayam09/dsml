{
 "cells": [
  {
   "cell_type": "code",
   "execution_count": 1,
   "id": "a8a5747b-c116-4c6c-a7a8-2b220f577fc8",
   "metadata": {},
   "outputs": [],
   "source": [
    "import  numpy as np\n",
    "import matplotlib.pyplot as plt\n",
    "def generate_data(n, M = 2.0, B = 5.0, X_MIN = 0.0, X_MAX = 30.0):\n",
    "      \n",
    "      n_samples = n\n",
    "      random = np.random.RandomState(1)  # RandomState Seeding\n",
    "\n",
    "      # create random x values\n",
    "      x1 = random.uniform(low=X_MIN, high=X_MAX, size=n_samples).reshape(n_samples, 1) \n",
    "\n",
    "      # calculate x2 values along the line\n",
    "      x2 = M * x1 + B\n",
    "\n",
    "      # add random noise\n",
    "      x2 += random.normal(loc=0.0, scale=5.0, size=x2.shape).reshape(n_samples, 1)\n",
    "      X = np.concatenate([np.round(x1,2), np.round(x2,2)], axis=1)\n",
    "      return X \n",
    "\n",
    "X = generate_data(25)\n",
    " "
   ]
  },
  {
   "cell_type": "code",
   "execution_count": 2,
   "id": "24f885af-88a1-4d3d-80bc-08afe84203fe",
   "metadata": {},
   "outputs": [],
   "source": [
    "#normalize\n",
    "# normalize\n",
    "X[:,0] = (X[:,0] - X[:,0].mean()) / X[:,0].std()\n",
    "X[:,1] = (X[:,1] - X[:,1].mean()) / X[:,1].std()"
   ]
  },
  {
   "cell_type": "code",
   "execution_count": 3,
   "id": "e1e88fb3-9bd9-42ba-9889-6b57070a62ff",
   "metadata": {},
   "outputs": [
    {
     "data": {
      "text/plain": [
       "<matplotlib.collections.PathCollection at 0x14dde87fb60>"
      ]
     },
     "execution_count": 3,
     "metadata": {},
     "output_type": "execute_result"
    },
    {
     "data": {
      "image/png": "[encoded data removed]",
      "text/plain": [
       "<Figure size 640x480 with 1 Axes>"
      ]
     },
     "metadata": {},
     "output_type": "display_data"
    }
   ],
   "source": [
    "plt.scatter(X[:,0],X[:,1])"
   ]
  },
  {
   "cell_type": "markdown",
   "id": "e4102c15-67ec-480e-b33e-7eb8d50e5c35",
   "metadata": {},
   "source": [
    "## Covariance Matrix"
   ]
  },
  {
   "cell_type": "code",
   "execution_count": 5,
   "id": "8566151a-5896-4a3f-899d-de76fa5fa538",
   "metadata": {},
   "outputs": [
    {
     "data": {
      "text/plain": [
       "array([[25.        , 24.12294297],\n",
       "       [24.12294297, 25.        ]])"
      ]
     },
     "execution_count": 5,
     "metadata": {},
     "output_type": "execute_result"
    }
   ],
   "source": [
    "cov = np.dot(X.T,X)\n",
    "cov"
   ]
  },
  {
   "cell_type": "code",
   "execution_count": 6,
   "id": "d1f9347d-7efb-4d6d-b70e-b61f9376fe71",
   "metadata": {},
   "outputs": [],
   "source": [
    "e_values, e_vectors = np.linalg.eig(cov)"
   ]
  },
  {
   "cell_type": "code",
   "execution_count": 10,
   "id": "26ff5450-425f-4b13-853b-ad987c44d35f",
   "metadata": {},
   "outputs": [
    {
     "data": {
      "text/plain": [
       "array([ 0.87705703, 49.12294297])"
      ]
     },
     "execution_count": 10,
     "metadata": {},
     "output_type": "execute_result"
    }
   ],
   "source": [
    "e_values"
   ]
  },
  {
   "cell_type": "code",
   "execution_count": 8,
   "id": "92b52deb-83b1-4759-a5e4-89b4b59270a0",
   "metadata": {},
   "outputs": [
    {
     "data": {
      "text/plain": [
       "array([[-0.70710678, -0.70710678],\n",
       "       [ 0.70710678, -0.70710678]])"
      ]
     },
     "execution_count": 8,
     "metadata": {},
     "output_type": "execute_result"
    }
   ],
   "source": [
    "e_vectors"
   ]
  },
  {
   "cell_type": "markdown",
   "id": "549505e6-c163-46ad-893e-04b5619abdd9",
   "metadata": {},
   "source": [
    "## Principal Components"
   ]
  },
  {
   "cell_type": "code",
   "execution_count": 30,
   "id": "828412e3-9c75-40e9-b78e-e2d291e1426b",
   "metadata": {},
   "outputs": [],
   "source": [
    "idx = e_values.argsort()[::-1]\n",
    "e_values = e_values[idx]\n",
    "principle_components = e_vectors[:,idx]"
   ]
  },
  {
   "cell_type": "code",
   "execution_count": 31,
   "id": "c1840304-ff61-45b6-af70-9a030354acaf",
   "metadata": {},
   "outputs": [
    {
     "data": {
      "text/plain": [
       "array([[-0.70710678, -0.70710678],\n",
       "       [-0.70710678,  0.70710678]])"
      ]
     },
     "execution_count": 31,
     "metadata": {},
     "output_type": "execute_result"
    }
   ],
   "source": [
    "principle_components"
   ]
  },
  {
   "cell_type": "code",
   "execution_count": 32,
   "id": "5e1f7b3c-109e-419c-af0d-1bfea1a3b60d",
   "metadata": {},
   "outputs": [],
   "source": [
    "no_of_pc = principle_components.shape[1]\n",
    "explained_variance = []"
   ]
  },
  {
   "cell_type": "code",
   "execution_count": 33,
   "id": "8b6e162e-0fdc-417d-a0be-26066e9c3796",
   "metadata": {},
   "outputs": [],
   "source": [
    "for i in range(no_of_pc):\n",
    "    variance = (e_values[i] / sum(np.diagonal(cov))*100)\n",
    "    explained_variance.append(variance)\n",
    "            "
   ]
  },
  {
   "cell_type": "code",
   "execution_count": 34,
   "id": "4c1927f7-eebb-47ad-9d6b-7436fdba9aaa",
   "metadata": {},
   "outputs": [
    {
     "data": {
      "text/plain": [
       "[np.float64(98.24588594597589), np.float64(1.754114054024121)]"
      ]
     },
     "execution_count": 34,
     "metadata": {},
     "output_type": "execute_result"
    }
   ],
   "source": [
    "explained_variance"
   ]
  },
  {
   "cell_type": "markdown",
   "id": "5e69cfb1-5ebb-43ed-a43c-f9858d64fc0f",
   "metadata": {},
   "source": [
    "## Projecting the data into principal components"
   ]
  },
  {
   "cell_type": "code",
   "execution_count": 35,
   "id": "6ea6f8ea-9878-4b55-bc00-a0e7639c1e5f",
   "metadata": {},
   "outputs": [],
   "source": [
    "U = principle_components[:,0].reshape(-1,1)"
   ]
  },
  {
   "cell_type": "code",
   "execution_count": 36,
   "id": "f39b8051-c1c7-4e64-baf1-be8ac9257e40",
   "metadata": {},
   "outputs": [
    {
     "data": {
      "text/plain": [
       "array([[-0.70710678],\n",
       "       [-0.70710678]])"
      ]
     },
     "execution_count": 36,
     "metadata": {},
     "output_type": "execute_result"
    }
   ],
   "source": [
    "U"
   ]
  },
  {
   "cell_type": "code",
   "execution_count": 38,
   "id": "9925b9f1-7d6e-43b3-a05b-684fb7e2cafb",
   "metadata": {},
   "outputs": [],
   "source": [
    "x_reduced = np.dot(U.T,X.T).T"
   ]
  },
  {
   "cell_type": "code",
   "execution_count": 40,
   "id": "028c8b95-0521-456f-b46c-bb1626cecfe8",
   "metadata": {},
   "outputs": [
    {
     "data": {
      "text/plain": [
       "(25, 1)"
      ]
     },
     "execution_count": 40,
     "metadata": {},
     "output_type": "execute_result"
    }
   ],
   "source": [
    "x_reduced.shape"
   ]
  },
  {
   "cell_type": "code",
   "execution_count": null,
   "id": "b11fbdb9-d17f-4093-8737-b9adeb74f5c6",
   "metadata": {},
   "outputs": [],
   "source": []
  },
  {
   "cell_type": "code",
   "execution_count": 42,
   "id": "09b01634-a23a-46c1-98a4-4a18cd866551",
   "metadata": {},
   "outputs": [],
   "source": [
    "from sklearn.decomposition import PCA"
   ]
  },
  {
   "cell_type": "code",
   "execution_count": 43,
   "id": "1be9a20d-2ad0-4348-9563-1268f3db73c9",
   "metadata": {},
   "outputs": [],
   "source": [
    "pca = PCA(n_components=1, random_state=99)"
   ]
  },
  {
   "cell_type": "code",
   "execution_count": 44,
   "id": "ea549b3c-efbd-4392-9864-5f652dfac298",
   "metadata": {},
   "outputs": [],
   "source": [
    "X_red =pca.fit_transform(X)"
   ]
  },
  {
   "cell_type": "code",
   "execution_count": 46,
   "id": "c435accc-ca3f-495a-9ac3-b42ef99055f7",
   "metadata": {},
   "outputs": [
    {
     "data": {
      "text/plain": [
       "array([0.98245886])"
      ]
     },
     "execution_count": 46,
     "metadata": {},
     "output_type": "execute_result"
    }
   ],
   "source": [
    "pca.explained_variance_ratio_"
   ]
  },
  {
   "cell_type": "code",
   "execution_count": 47,
   "id": "2b23efe8-0a3f-4509-bdf7-eb894a33ce55",
   "metadata": {},
   "outputs": [
    {
     "data": {
      "text/plain": [
       "array([[0.70710678, 0.70710678]])"
      ]
     },
     "execution_count": 47,
     "metadata": {},
     "output_type": "execute_result"
    }
   ],
   "source": [
    "pca.components_"
   ]
  },
  {
   "cell_type": "code",
   "execution_count": null,
   "id": "6393fc98-1886-4b4a-9b42-2b8faa80d860",
   "metadata": {},
   "outputs": [],
   "source": []
  },
  {
   "cell_type": "code",
   "execution_count": null,
   "id": "237e780b-c0ca-4a1f-9c80-d43495e71051",
   "metadata": {},
   "outputs": [],
   "source": []
  }
 ],
 "metadata": {
  "kernelspec": {
   "display_name": "Python 3 (ipykernel)",
   "language": "python",
   "name": "python3"
  },
  "language_info": {
   "codemirror_mode": {
    "name": "ipython",
    "version": 3
   },
   "file_extension": ".py",
   "mimetype": "text/x-python",
   "name": "python",
   "nbconvert_exporter": "python",
   "pygments_lexer": "ipython3",
   "version": "3.13.5"
  }
 },
 "nbformat": 4,
 "nbformat_minor": 5
}
