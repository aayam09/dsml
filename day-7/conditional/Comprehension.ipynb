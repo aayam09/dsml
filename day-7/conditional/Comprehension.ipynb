{
 "cells": [
  {
   "cell_type": "code",
   "execution_count": 1,
   "id": "53c1f63f-4e6b-4be6-a928-abd5f8b2bf0c",
   "metadata": {},
   "outputs": [
    {
     "name": "stdout",
     "output_type": "stream",
     "text": [
      "[1, 4, 9, 16, 25, 36, 49, 64, 81]\n"
     ]
    }
   ],
   "source": [
    "squared =[]\n",
    "for num in range(1,10):\n",
    "    squared.append(num**2)m **\n",
    "\n",
    "print(squared)"
   ]
  },
  {
   "cell_type": "code",
   "execution_count": 3,
   "id": "ca580c70-e880-404b-bc6e-01a898ff5f49",
   "metadata": {},
   "outputs": [
    {
     "name": "stdout",
     "output_type": "stream",
     "text": [
      "[1, 4, 9, 16, 25, 36, 49, 64, 81]\n"
     ]
    }
   ],
   "source": [
    "squared = [num ** 2 for num in range(1,10)]\n",
    "print(squared)"
   ]
  },
  {
   "cell_type": "code",
   "execution_count": 10,
   "id": "6ca96aa5-9c7e-43a6-bf09-a8e72a3be172",
   "metadata": {},
   "outputs": [
    {
     "name": "stdout",
     "output_type": "stream",
     "text": [
      "[2, 4, 6, 8]\n"
     ]
    }
   ],
   "source": [
    "even = [num for num in range(1,10) if num%2 == 0]\n",
    "print(even)"
   ]
  },
  {
   "cell_type": "code",
   "execution_count": 11,
   "id": "000e381d-9677-409d-9f2d-f6aa545a6c40",
   "metadata": {},
   "outputs": [
    {
     "name": "stdout",
     "output_type": "stream",
     "text": [
      "[1, 9, 25, 49, 81]\n"
     ]
    }
   ],
   "source": [
    "odd = [num**2 for num in range(1,10) if num%2 != 0]\n",
    "print(odd)"
   ]
  },
  {
   "cell_type": "code",
   "execution_count": 12,
   "id": "31d8a4fb-6ab1-425d-92d1-2bddf6d31878",
   "metadata": {},
   "outputs": [
    {
     "name": "stdout",
     "output_type": "stream",
     "text": [
      "[1, 4, 3, 16, 5, 36, 7, 64, 9]\n"
     ]
    }
   ],
   "source": [
    "squared = [num ** 2 if num%2 == 0 else num for num in range(1,10)]\n",
    "print(squared)"
   ]
  },
  {
   "cell_type": "code",
   "execution_count": 15,
   "id": "4c0f27f8-754a-4b8a-82fb-c1efaf03eec6",
   "metadata": {},
   "outputs": [
    {
     "name": "stdout",
     "output_type": "stream",
     "text": [
      "[('red', 'apple'), ('red', 'orange'), ('red', 'banana'), ('red', 'mango'), ('blue', 'apple'), ('blue', 'orange'), ('blue', 'banana'), ('blue', 'mango'), ('green', 'apple'), ('green', 'orange'), ('green', 'banana'), ('green', 'mango')]\n"
     ]
    }
   ],
   "source": [
    "adj =['red', 'blue', 'green']\n",
    "fruits = [\"apple\",\"orange\",\"banana\",\"mango\"]\n",
    "\n",
    "# for a in adj:\n",
    "#     for f in fruits:\n",
    "#         print(a,f)\n",
    "\n",
    "pair =[(a,f) for a in adj for f in fruits]\n",
    "print(pair)\n",
    "\n"
   ]
  },
  {
   "cell_type": "code",
   "execution_count": 3,
   "id": "478f457f-c562-4ed3-a6a0-d2e03a1ae995",
   "metadata": {},
   "outputs": [
    {
     "name": "stdout",
     "output_type": "stream",
     "text": [
      "[1, 6, 8, 3, 4, 3, 7, 4, 9, 2, 7, 5, 4, 7, 5, 2, 8, 2, 7, 8, 5, 2, 6, 2, 5, 3, 4, 3, 8, 2, 3, 5, 4]\n"
     ]
    }
   ],
   "source": [
    "sent = \"A single training set that has already been processed is usually split into several types of datasets in machine learning which is needed to check how well the training of the model went\"\n",
    "\n",
    "words = sent.split()\n",
    "\n",
    "list =[]\n",
    "\n",
    "for word in words:\n",
    "    list.append(len(word))\n",
    "\n",
    "print(list)"
   ]
  },
  {
   "cell_type": "code",
   "execution_count": null,
   "id": "2fb39c10-d273-4c13-a5e1-63d59b17f0d5",
   "metadata": {},
   "outputs": [],
   "source": []
  },
  {
   "cell_type": "code",
   "execution_count": 7,
   "id": "875d8ebe-ad51-4ab1-97ad-3786c29e9f95",
   "metadata": {},
   "outputs": [
    {
     "name": "stdout",
     "output_type": "stream",
     "text": [
      "{1: 1, 2: 4, 3: 9, 4: 16}\n"
     ]
    }
   ],
   "source": [
    "sqr_dict ={}\n",
    "\n",
    "for num in range(1,5):\n",
    "    sqr_dict[num] = num ** 2\n",
    "\n",
    "print(sqr_dict)"
   ]
  },
  {
   "cell_type": "code",
   "execution_count": 15,
   "id": "13979fc4-f0bd-4534-9843-65da3f905be4",
   "metadata": {},
   "outputs": [
    {
     "data": {
      "text/plain": [
       "{1: 1, 2: 4, 3: 9, 4: 16}"
      ]
     },
     "execution_count": 15,
     "metadata": {},
     "output_type": "execute_result"
    }
   ],
   "source": [
    "sqr_dict ={num: num**2 for num in range(1,5)}\n",
    "sqr_dict"
   ]
  },
  {
   "cell_type": "code",
   "execution_count": 16,
   "id": "b9cfe413-666d-48af-9afd-e8b7999fe17a",
   "metadata": {},
   "outputs": [
    {
     "data": {
      "text/plain": [
       "{2: 4, 4: 16, 6: 36, 8: 64}"
      ]
     },
     "execution_count": 16,
     "metadata": {},
     "output_type": "execute_result"
    }
   ],
   "source": [
    "sqr_dict ={num: num**2 for num in range(1,10) if num%2==0 }\n",
    "sqr_dict"
   ]
  },
  {
   "cell_type": "code",
   "execution_count": 23,
   "id": "502a7aba-a9c5-4ef2-9f97-9744b9ff153b",
   "metadata": {},
   "outputs": [
    {
     "name": "stdout",
     "output_type": "stream",
     "text": [
      "{'single': 6, 'training': 8, 'already': 7, 'processed': 9, 'usually': 7, 'several': 7, 'datasets': 8, 'machine': 7, 'learning': 8, 'needed': 6}\n"
     ]
    }
   ],
   "source": [
    "sent = \"A single training set that has already been processed is usually split into several types of datasets in machine learning which is needed to check how well the training of the model went\"\n",
    "\n",
    "words = sent.split()\n",
    "\n",
    "\n",
    "letterdict = {word : len(word) for word in words if len(word)>5}\n",
    "\n",
    "print(letterdict)\n",
    "\n"
   ]
  },
  {
   "cell_type": "code",
   "execution_count": null,
   "id": "cc826ec2-441c-4081-9cfb-b60e6fa26cee",
   "metadata": {},
   "outputs": [],
   "source": []
  },
  {
   "cell_type": "code",
   "execution_count": 25,
   "id": "0eed4f45-a9b6-4847-810b-522b17a0c894",
   "metadata": {},
   "outputs": [
    {
     "data": {
      "text/plain": [
       "{1, 9, 25, 49, 81, 121, 169, 225, 289, 361}"
      ]
     },
     "execution_count": 25,
     "metadata": {},
     "output_type": "execute_result"
    }
   ],
   "source": [
    "sq_odd = {num**2 for num in range(1,20) if num%2!=0}\n",
    "sq_odd"
   ]
  },
  {
   "cell_type": "code",
   "execution_count": 30,
   "id": "9ce77afc-1fcc-495a-886d-a9cce453fd3c",
   "metadata": {},
   "outputs": [
    {
     "data": {
      "text/plain": [
       "{'aa', 'ab', 'ac', 'ba', 'bb', 'bc', 'ca', 'cb', 'cc'}"
      ]
     },
     "execution_count": 30,
     "metadata": {},
     "output_type": "execute_result"
    }
   ],
   "source": [
    "letters = ['a','b','c']\n",
    "pairs = {let1 + let2 for let1 in letters for let2 in letters}\n",
    "pairs"
   ]
  },
  {
   "cell_type": "code",
   "execution_count": 38,
   "id": "a6af514d-341b-4295-a3a2-0159965300b3",
   "metadata": {},
   "outputs": [
    {
     "name": "stdout",
     "output_type": "stream",
     "text": [
      "{'i', 'o', 'a', 'e'}\n"
     ]
    }
   ],
   "source": [
    "#Write a Python program that uses set comprehension to create a set of all unique vowels found in the following string: \"Set comprehensions can be nested\"\n",
    "\n",
    "string = \"Set comprehensions can be nested\"\n",
    "vowel_set = {letter for letter in string if letter.lower() in {'a', 'e', 'i', 'o', 'u'}}\n",
    "print(vowel_set)\n"
   ]
  },
  {
   "cell_type": "code",
   "execution_count": null,
   "id": "a7238d12-fd7e-4527-a853-292e834876f8",
   "metadata": {},
   "outputs": [],
   "source": []
  }
 ],
 "metadata": {
  "kernelspec": {
   "display_name": "Python 3 (ipykernel)",
   "language": "python",
   "name": "python3"
  },
  "language_info": {
   "codemirror_mode": {
    "name": "ipython",
    "version": 3
   },
   "file_extension": ".py",
   "mimetype": "text/x-python",
   "name": "python",
   "nbconvert_exporter": "python",
   "pygments_lexer": "ipython3",
   "version": "3.13.5"
  }
 },
 "nbformat": 4,
 "nbformat_minor": 5
}
