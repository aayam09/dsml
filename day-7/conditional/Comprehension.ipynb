{
 "cells": [
  {
   "cell_type": "code",
   "execution_count": 1,
   "id": "53c1f63f-4e6b-4be6-a928-abd5f8b2bf0c",
   "metadata": {},
   "outputs": [
    {
     "name": "stdout",
     "output_type": "stream",
     "text": [
      "[1, 4, 9, 16, 25, 36, 49, 64, 81]\n"
     ]
    }
   ],
   "source": [
    "squared =[]\n",
    "for num in range(1,10):\n",
    "    squared.append(num**2)m **\n",
    "\n",
    "print(squared)"
   ]
  },
  {
   "cell_type": "code",
   "execution_count": 3,
   "id": "ca580c70-e880-404b-bc6e-01a898ff5f49",
   "metadata": {},
   "outputs": [
    {
     "name": "stdout",
     "output_type": "stream",
     "text": [
      "[1, 4, 9, 16, 25, 36, 49, 64, 81]\n"
     ]
    }
   ],
   "source": [
    "squared = [num ** 2 for num in range(1,10)]\n",
    "print(squared)"
   ]
  },
  {
   "cell_type": "code",
   "execution_count": 10,
   "id": "6ca96aa5-9c7e-43a6-bf09-a8e72a3be172",
   "metadata": {},
   "outputs": [
    {
     "name": "stdout",
     "output_type": "stream",
     "text": [
      "[2, 4, 6, 8]\n"
     ]
    }
   ],
   "source": [
    "even = [num for num in range(1,10) if num%2 == 0]\n",
    "print(even)"
   ]
  },
  {
   "cell_type": "code",
   "execution_count": 11,
   "id": "000e381d-9677-409d-9f2d-f6aa545a6c40",
   "metadata": {},
   "outputs": [
    {
     "name": "stdout",
     "output_type": "stream",
     "text": [
      "[1, 9, 25, 49, 81]\n"
     ]
    }
   ],
   "source": [
    "odd = [num**2 for num in range(1,10) if num%2 != 0]\n",
    "print(odd)"
   ]
  },
  {
   "cell_type": "code",
   "execution_count": 12,
   "id": "31d8a4fb-6ab1-425d-92d1-2bddf6d31878",
   "metadata": {},
   "outputs": [
    {
     "name": "stdout",
     "output_type": "stream",
     "text": [
      "[1, 4, 3, 16, 5, 36, 7, 64, 9]\n"
     ]
    }
   ],
   "source": [
    "squared = [num ** 2 if num%2 == 0 else num for num in range(1,10)]\n",
    "print(squared)"
   ]
  },
  {
   "cell_type": "code",
   "execution_count": 15,
   "id": "4c0f27f8-754a-4b8a-82fb-c1efaf03eec6",
   "metadata": {},
   "outputs": [
    {
     "name": "stdout",
     "output_type": "stream",
     "text": [
      "[('red', 'apple'), ('red', 'orange'), ('red', 'banana'), ('red', 'mango'), ('blue', 'apple'), ('blue', 'orange'), ('blue', 'banana'), ('blue', 'mango'), ('green', 'apple'), ('green', 'orange'), ('green', 'banana'), ('green', 'mango')]\n"
     ]
    }
   ],
   "source": [
    "adj =['red', 'blue', 'green']\n",
    "fruits = [\"apple\",\"orange\",\"banana\",\"mango\"]\n",
    "\n",
    "# for a in adj:\n",
    "#     for f in fruits:\n",
    "#         print(a,f)\n",
    "\n",
    "pair =[(a,f) for a in adj for f in fruits]\n",
    "print(pair)\n",
    "\n"
   ]
  },
  {
   "cell_type": "code",
   "execution_count": 20,
   "id": "478f457f-c562-4ed3-a6a0-d2e03a1ae995",
   "metadata": {},
   "outputs": [
    {
     "name": "stdout",
     "output_type": "stream",
     "text": [
      "[1, 6, 8, 3, 4, 3, 7, 4, 9, 2, 7, 5, 4, 7, 5, 2, 8, 2, 7, 8, 5, 2, 6, 2, 5, 3, 4, 3, 8, 2, 3, 5, 4]\n"
     ]
    }
   ],
   "source": [
    "sent = \"A single training set that has already been processed is usually split into several types of datasets in machine learning which is needed to check how well the training of the model went\"\n",
    "\n",
    "words = sent.split()\n",
    "\n",
    "list =[]\n",
    "\n",
    "for word in words:\n",
    "    list.append(len(word))\n",
    "\n",
    "print(list)"
   ]
  },
  {
   "cell_type": "code",
   "execution_count": null,
   "id": "2fb39c10-d273-4c13-a5e1-63d59b17f0d5",
   "metadata": {},
   "outputs": [],
   "source": []
  }
 ],
 "metadata": {
  "kernelspec": {
   "display_name": "Python 3 (ipykernel)",
   "language": "python",
   "name": "python3"
  },
  "language_info": {
   "codemirror_mode": {
    "name": "ipython",
    "version": 3
   },
   "file_extension": ".py",
   "mimetype": "text/x-python",
   "name": "python",
   "nbconvert_exporter": "python",
   "pygments_lexer": "ipython3",
   "version": "3.13.5"
  }
 },
 "nbformat": 4,
 "nbformat_minor": 5
}
