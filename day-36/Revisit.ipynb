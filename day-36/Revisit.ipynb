{
 "cells": [
  {
   "cell_type": "code",
   "execution_count": 1,
   "id": "0bd7421c-d168-4e01-b59b-e2fdc4d33131",
   "metadata": {},
   "outputs": [],
   "source": [
    "import os\n",
    "\n",
    "\n",
    "import numpy as np\n",
    "import pandas as pd\n",
    "import seaborn as sns"
   ]
  },
  {
   "cell_type": "code",
   "execution_count": 2,
   "id": "27dd1b57-3bcd-479d-b5a2-dcdd0b68a570",
   "metadata": {},
   "outputs": [],
   "source": [
    "#Reading csv file\n",
    "columns_name = [\n",
    "    \"time\", \"gender\", \"matric_%\", \"study_year\",\"faculty\",\"gpa_2023\",\"accomodation\",\"allowance\",\"scholarship\",\n",
    "    \"study_hours\",\"party_week\",\"drinks_night\",\"missed_classes\",\"failed_classes\",\"in_relationship\",\"parent_approve\",\"relation_parent\"\n",
    "]\n",
    "student_data = pd.read_csv(\"survey.csv\", names = columns_name, header =0)"
   ]
  },
  {
   "cell_type": "code",
   "execution_count": 3,
   "id": "5b373dcb-d6b1-435b-a402-e6c2f5b6e4e9",
   "metadata": {},
   "outputs": [
    {
     "data": {
      "text/html": [
       "<div>\n",
       "<style scoped>\n",
       "    .dataframe tbody tr th:only-of-type {\n",
       "        vertical-align: middle;\n",
       "    }\n",
       "\n",
       "    .dataframe tbody tr th {\n",
       "        vertical-align: top;\n",
       "    }\n",
       "\n",
       "    .dataframe thead th {\n",
       "        text-align: right;\n",
       "    }\n",
       "</style>\n",
       "<table border=\"1\" class=\"dataframe\">\n",
       "  <thead>\n",
       "    <tr style=\"text-align: right;\">\n",
       "      <th></th>\n",
       "      <th>time</th>\n",
       "      <th>gender</th>\n",
       "      <th>matric_%</th>\n",
       "      <th>study_year</th>\n",
       "      <th>faculty</th>\n",
       "      <th>gpa_2023</th>\n",
       "      <th>accomodation</th>\n",
       "      <th>allowance</th>\n",
       "      <th>scholarship</th>\n",
       "      <th>study_hours</th>\n",
       "      <th>party_week</th>\n",
       "      <th>drinks_night</th>\n",
       "      <th>missed_classes</th>\n",
       "      <th>failed_classes</th>\n",
       "      <th>in_relationship</th>\n",
       "      <th>parent_approve</th>\n",
       "      <th>relation_parent</th>\n",
       "    </tr>\n",
       "  </thead>\n",
       "  <tbody>\n",
       "    <tr>\n",
       "      <th>0</th>\n",
       "      <td>2024/03/07 5:12:01 pm EET</td>\n",
       "      <td>Female</td>\n",
       "      <td>76.0</td>\n",
       "      <td>2nd Year</td>\n",
       "      <td>Arts &amp; Social Sciences</td>\n",
       "      <td>72.0</td>\n",
       "      <td>Private accommodation/ stay with family/friends</td>\n",
       "      <td>R 4001- R 5000</td>\n",
       "      <td>No</td>\n",
       "      <td>8+</td>\n",
       "      <td>Only weekends</td>\n",
       "      <td>8+</td>\n",
       "      <td>3</td>\n",
       "      <td>0</td>\n",
       "      <td>Yes</td>\n",
       "      <td>Yes</td>\n",
       "      <td>Very close</td>\n",
       "    </tr>\n",
       "    <tr>\n",
       "      <th>1</th>\n",
       "      <td>2024/03/07 5:12:08 pm EET</td>\n",
       "      <td>Male</td>\n",
       "      <td>89.0</td>\n",
       "      <td>2nd Year</td>\n",
       "      <td>Economic &amp; Management Sciences</td>\n",
       "      <td>75.0</td>\n",
       "      <td>Private accommodation/ stay with family/friends</td>\n",
       "      <td>R 7001 - R 8000</td>\n",
       "      <td>Yes (NSFAS, etc...)</td>\n",
       "      <td>8+</td>\n",
       "      <td>Only weekends</td>\n",
       "      <td>3-5</td>\n",
       "      <td>4+</td>\n",
       "      <td>0</td>\n",
       "      <td>No</td>\n",
       "      <td>Yes</td>\n",
       "      <td>Very close</td>\n",
       "    </tr>\n",
       "    <tr>\n",
       "      <th>2</th>\n",
       "      <td>2024/03/07 5:12:25 pm EET</td>\n",
       "      <td>Male</td>\n",
       "      <td>76.0</td>\n",
       "      <td>1st Year</td>\n",
       "      <td>AgriSciences</td>\n",
       "      <td>55.0</td>\n",
       "      <td>Private accommodation/ stay with family/friends</td>\n",
       "      <td>R 4001- R 5000</td>\n",
       "      <td>No</td>\n",
       "      <td>3-5</td>\n",
       "      <td>2</td>\n",
       "      <td>8+</td>\n",
       "      <td>3</td>\n",
       "      <td>0</td>\n",
       "      <td>No</td>\n",
       "      <td>Yes</td>\n",
       "      <td>Very close</td>\n",
       "    </tr>\n",
       "    <tr>\n",
       "      <th>3</th>\n",
       "      <td>2024/03/07 5:12:28 pm EET</td>\n",
       "      <td>Male</td>\n",
       "      <td>89.0</td>\n",
       "      <td>2nd Year</td>\n",
       "      <td>Engineering</td>\n",
       "      <td>84.0</td>\n",
       "      <td>Private accommodation/ stay with family/friends</td>\n",
       "      <td>R 6001 - R 7000</td>\n",
       "      <td>No</td>\n",
       "      <td>3-5</td>\n",
       "      <td>3</td>\n",
       "      <td>8+</td>\n",
       "      <td>2</td>\n",
       "      <td>0</td>\n",
       "      <td>Yes</td>\n",
       "      <td>Yes</td>\n",
       "      <td>Very close</td>\n",
       "    </tr>\n",
       "    <tr>\n",
       "      <th>4</th>\n",
       "      <td>2024/03/07 5:13:00 pm EET</td>\n",
       "      <td>Female</td>\n",
       "      <td>74.0</td>\n",
       "      <td>2nd Year</td>\n",
       "      <td>Arts &amp; Social Sciences</td>\n",
       "      <td>52.0</td>\n",
       "      <td>Private accommodation/ stay with family/friends</td>\n",
       "      <td>R 4001- R 5000</td>\n",
       "      <td>No</td>\n",
       "      <td>3-5</td>\n",
       "      <td>Only weekends</td>\n",
       "      <td>5-8</td>\n",
       "      <td>1</td>\n",
       "      <td>3</td>\n",
       "      <td>No</td>\n",
       "      <td>Yes</td>\n",
       "      <td>Fair</td>\n",
       "    </tr>\n",
       "  </tbody>\n",
       "</table>\n",
       "</div>"
      ],
      "text/plain": [
       "                        time  gender  matric_% study_year  \\\n",
       "0  2024/03/07 5:12:01 pm EET  Female      76.0   2nd Year   \n",
       "1  2024/03/07 5:12:08 pm EET    Male      89.0   2nd Year   \n",
       "2  2024/03/07 5:12:25 pm EET    Male      76.0   1st Year   \n",
       "3  2024/03/07 5:12:28 pm EET    Male      89.0   2nd Year   \n",
       "4  2024/03/07 5:13:00 pm EET  Female      74.0   2nd Year   \n",
       "\n",
       "                          faculty  gpa_2023  \\\n",
       "0          Arts & Social Sciences      72.0   \n",
       "1  Economic & Management Sciences      75.0   \n",
       "2                    AgriSciences      55.0   \n",
       "3                     Engineering      84.0   \n",
       "4          Arts & Social Sciences      52.0   \n",
       "\n",
       "                                      accomodation        allowance  \\\n",
       "0  Private accommodation/ stay with family/friends   R 4001- R 5000   \n",
       "1  Private accommodation/ stay with family/friends  R 7001 - R 8000   \n",
       "2  Private accommodation/ stay with family/friends   R 4001- R 5000   \n",
       "3  Private accommodation/ stay with family/friends  R 6001 - R 7000   \n",
       "4  Private accommodation/ stay with family/friends   R 4001- R 5000   \n",
       "\n",
       "           scholarship study_hours     party_week drinks_night missed_classes  \\\n",
       "0                   No          8+  Only weekends           8+              3   \n",
       "1  Yes (NSFAS, etc...)          8+  Only weekends          3-5             4+   \n",
       "2                   No         3-5              2           8+              3   \n",
       "3                   No         3-5              3           8+              2   \n",
       "4                   No         3-5  Only weekends          5-8              1   \n",
       "\n",
       "  failed_classes in_relationship parent_approve relation_parent  \n",
       "0              0             Yes            Yes      Very close  \n",
       "1              0              No            Yes      Very close  \n",
       "2              0              No            Yes      Very close  \n",
       "3              0             Yes            Yes      Very close  \n",
       "4              3              No            Yes            Fair  "
      ]
     },
     "execution_count": 3,
     "metadata": {},
     "output_type": "execute_result"
    }
   ],
   "source": [
    "student_data.head()"
   ]
  },
  {
   "cell_type": "markdown",
   "id": "f354e01f-57ad-4b45-8324-2508380b803e",
   "metadata": {},
   "source": [
    "## Exploratory Data Analysis (EDA)\n",
    "\n",
    "* basic information\n",
    "* missing values\n",
    "* numerical and categorical values\n",
    "* visualization\n",
    "* correlation, outliers"
   ]
  },
  {
   "cell_type": "code",
   "execution_count": 4,
   "id": "03002a58-8ccd-4408-bb75-59c39561de73",
   "metadata": {},
   "outputs": [
    {
     "name": "stdout",
     "output_type": "stream",
     "text": [
      "<class 'pandas.core.frame.DataFrame'>\n",
      "RangeIndex: 406 entries, 0 to 405\n",
      "Data columns (total 17 columns):\n",
      " #   Column           Non-Null Count  Dtype  \n",
      "---  ------           --------------  -----  \n",
      " 0   time             406 non-null    object \n",
      " 1   gender           404 non-null    object \n",
      " 2   matric_%         399 non-null    float64\n",
      " 3   study_year       333 non-null    object \n",
      " 4   faculty          399 non-null    object \n",
      " 5   gpa_2023         320 non-null    float64\n",
      " 6   accomodation     383 non-null    object \n",
      " 7   allowance        375 non-null    object \n",
      " 8   scholarship      398 non-null    object \n",
      " 9   study_hours      403 non-null    object \n",
      " 10  party_week       404 non-null    object \n",
      " 11  drinks_night     404 non-null    object \n",
      " 12  missed_classes   403 non-null    object \n",
      " 13  failed_classes   403 non-null    object \n",
      " 14  in_relationship  403 non-null    object \n",
      " 15  parent_approve   402 non-null    object \n",
      " 16  relation_parent  403 non-null    object \n",
      "dtypes: float64(2), object(15)\n",
      "memory usage: 54.1+ KB\n"
     ]
    }
   ],
   "source": [
    "student_data.info()"
   ]
  },
  {
   "cell_type": "code",
   "execution_count": 5,
   "id": "e63c8e91-3dd4-4ce4-bd9e-5430490fe599",
   "metadata": {},
   "outputs": [
    {
     "data": {
      "text/plain": [
       "time                0\n",
       "gender              2\n",
       "matric_%            7\n",
       "study_year         73\n",
       "faculty             7\n",
       "gpa_2023           86\n",
       "accomodation       23\n",
       "allowance          31\n",
       "scholarship         8\n",
       "study_hours         3\n",
       "party_week          2\n",
       "drinks_night        2\n",
       "missed_classes      3\n",
       "failed_classes      3\n",
       "in_relationship     3\n",
       "parent_approve      4\n",
       "relation_parent     3\n",
       "dtype: int64"
      ]
     },
     "execution_count": 5,
     "metadata": {},
     "output_type": "execute_result"
    }
   ],
   "source": [
    "student_data.isna().sum()"
   ]
  },
  {
   "cell_type": "markdown",
   "id": "781bbd61-2b9e-4d7a-8775-00093ecb5c5a",
   "metadata": {},
   "source": [
    "-- description --"
   ]
  },
  {
   "cell_type": "markdown",
   "id": "7326a787-8379-4f8d-895f-aee51c3d1b21",
   "metadata": {},
   "source": [
    "### Missing Data Overview\n",
    "\n",
    "- **Most data is complete**, except for a few columns with notable gaps.  \n",
    "- Largest gaps:\n",
    "  - `gpa_2023`: 86 missing\n",
    "  - `study_year`: 73 missing\n",
    "  - `allowance`: 31 missing\n",
    "  - `accomodation`: 23 missing\n",
    "- All other columns have fewer than 10 missing entries.\n",
    "\n",
    "**Key takeaway:**  \n",
    "Only a few fields have significant missing data, and these may need extra attention during analysis.\n"
   ]
  },
  {
   "cell_type": "code",
   "execution_count": 6,
   "id": "55a31ccd-06f6-4c18-ad91-eab5186ad71b",
   "metadata": {},
   "outputs": [
    {
     "data": {
      "text/plain": [
       "gender\n",
       "Male      0.534653\n",
       "Female    0.465347\n",
       "Name: proportion, dtype: float64"
      ]
     },
     "execution_count": 6,
     "metadata": {},
     "output_type": "execute_result"
    }
   ],
   "source": [
    "student_data.gender.value_counts(normalize=True)"
   ]
  },
  {
   "cell_type": "markdown",
   "id": "6d4a5ef6-ad90-4040-81c0-696a6bf68ff6",
   "metadata": {},
   "source": [
    "### Gender Distribution\n",
    "\n",
    "- **Male:** 53.47%  \n",
    "- **Female:** 46.53%  \n",
    "\n",
    "**Key takeaway:**  \n",
    "The dataset has a fairly balanced gender split, with a slightly higher proportion of males.\n"
   ]
  },
  {
   "cell_type": "code",
   "execution_count": 9,
   "id": "a35d3045-a1d9-4ccd-91d4-9a70e181ff7a",
   "metadata": {},
   "outputs": [],
   "source": [
    "#parent_approve, relation_parent\n",
    "\n",
    "table = pd.crosstab(student_data.parent_approve, student_data.relation_parent)\n",
    "table = table[[\"Distant\",\"Fair\",\"Close\",\"Very close\"]]"
   ]
  },
  {
   "cell_type": "code",
   "execution_count": 10,
   "id": "a23c27e4-8a3a-453b-9564-6b0fe914448c",
   "metadata": {},
   "outputs": [
    {
     "data": {
      "text/plain": [
       "<Axes: xlabel='relation_parent'>"
      ]
     },
     "execution_count": 10,
     "metadata": {},
     "output_type": "execute_result"
    },
    {
     "data": {
      "image/png": "[encoded data removed]",
      "text/plain": [
       "<Figure size 640x480 with 1 Axes>"
      ]
     },
     "metadata": {},
     "output_type": "display_data"
    }
   ],
   "source": [
    "table.T.plot.line()"
   ]
  },
  {
   "cell_type": "markdown",
   "id": "37bdcaa1-22c5-4545-8092-a91e31b8871d",
   "metadata": {},
   "source": [
    "### Relationship with Parents vs. Parental Approval\n",
    "\n",
    "- Students with a **\"Very close\"** relationship tend to have the highest parental approval.\n",
    "- Approval drops as relationships become **less close** (Close → Fair → Distant).\n",
    "- The trend suggests that stronger parent–child relationships are linked to higher approval levels.\n",
    "\n",
    "**Key takeaway:**  \n",
    "Improving family closeness may positively influence parental approval rates.\n"
   ]
  },
  {
   "cell_type": "markdown",
   "id": "8223f782-afb8-4562-8c65-92e7f9699f8f",
   "metadata": {},
   "source": [
    "### Relationship with parent closeness and score gained"
   ]
  },
  {
   "cell_type": "code",
   "execution_count": 18,
   "id": "a276c137-d203-4ba4-83b3-f7dbb00cfcfd",
   "metadata": {},
   "outputs": [],
   "source": [
    "group_parent = student_data.groupby(by = \"relation_parent\")\n",
    "info = group_parent[\"matric_%\"].aggregate(('min','max','mean'))"
   ]
  },
  {
   "cell_type": "code",
   "execution_count": 19,
   "id": "62841641-bf65-41a9-8969-f6fb3415f1ad",
   "metadata": {},
   "outputs": [
    {
     "data": {
      "text/html": [
       "<div>\n",
       "<style scoped>\n",
       "    .dataframe tbody tr th:only-of-type {\n",
       "        vertical-align: middle;\n",
       "    }\n",
       "\n",
       "    .dataframe tbody tr th {\n",
       "        vertical-align: top;\n",
       "    }\n",
       "\n",
       "    .dataframe thead th {\n",
       "        text-align: right;\n",
       "    }\n",
       "</style>\n",
       "<table border=\"1\" class=\"dataframe\">\n",
       "  <thead>\n",
       "    <tr style=\"text-align: right;\">\n",
       "      <th></th>\n",
       "      <th>min</th>\n",
       "      <th>max</th>\n",
       "      <th>mean</th>\n",
       "    </tr>\n",
       "    <tr>\n",
       "      <th>relation_parent</th>\n",
       "      <th></th>\n",
       "      <th></th>\n",
       "      <th></th>\n",
       "    </tr>\n",
       "  </thead>\n",
       "  <tbody>\n",
       "    <tr>\n",
       "      <th>Close</th>\n",
       "      <td>60.0</td>\n",
       "      <td>98.33</td>\n",
       "      <td>77.690000</td>\n",
       "    </tr>\n",
       "    <tr>\n",
       "      <th>Distant</th>\n",
       "      <td>85.0</td>\n",
       "      <td>98.00</td>\n",
       "      <td>91.500000</td>\n",
       "    </tr>\n",
       "    <tr>\n",
       "      <th>Fair</th>\n",
       "      <td>55.0</td>\n",
       "      <td>95.50</td>\n",
       "      <td>78.357143</td>\n",
       "    </tr>\n",
       "    <tr>\n",
       "      <th>Very close</th>\n",
       "      <td>34.0</td>\n",
       "      <td>99.00</td>\n",
       "      <td>77.960114</td>\n",
       "    </tr>\n",
       "  </tbody>\n",
       "</table>\n",
       "</div>"
      ],
      "text/plain": [
       "                  min    max       mean\n",
       "relation_parent                        \n",
       "Close            60.0  98.33  77.690000\n",
       "Distant          85.0  98.00  91.500000\n",
       "Fair             55.0  95.50  78.357143\n",
       "Very close       34.0  99.00  77.960114"
      ]
     },
     "execution_count": 19,
     "metadata": {},
     "output_type": "execute_result"
    }
   ],
   "source": [
    "info"
   ]
  },
  {
   "cell_type": "code",
   "execution_count": 21,
   "id": "39692099-1538-4c0b-bbe1-68a0eb5099b4",
   "metadata": {},
   "outputs": [
    {
     "data": {
      "text/plain": [
       "<Axes: xlabel='relation_parent'>"
      ]
     },
     "execution_count": 21,
     "metadata": {},
     "output_type": "execute_result"
    },
    {
     "data": {
      "image/png": "[encoded data removed]",
      "text/plain": [
       "<Figure size 640x480 with 1 Axes>"
      ]
     },
     "metadata": {},
     "output_type": "display_data"
    }
   ],
   "source": [
    "info.plot.bar()"
   ]
  },
  {
   "cell_type": "markdown",
   "id": "8931204f-79e1-4a23-a67e-ae56bb0f3aa8",
   "metadata": {},
   "source": [
    "### Matric % by Relationship with Parents\n",
    "\n",
    "- **Very close** relationships have the **highest average matric %**, along with relatively high minimum and maximum scores.\n",
    "- **Close** relationships also show strong performance, slightly below \"Very close\".\n",
    "- **Fair** and **Distant** relationships have noticeably lower averages and wider score ranges.\n",
    "\n",
    "**Key takeaway:**  \n",
    "Stronger relationships with parents appear to be linked to better matriculation performance.\n"
   ]
  },
  {
   "cell_type": "code",
   "execution_count": 23,
   "id": "b9790b1b-1fa7-4232-904a-1913cc1c7b6b",
   "metadata": {},
   "outputs": [],
   "source": [
    "group_parent = student_data.groupby(by = \"faculty\")\n",
    "info = group_parent[\"drinks_night\"].aggregate(\"count\")"
   ]
  },
  {
   "cell_type": "code",
   "execution_count": 24,
   "id": "a90191f6-55b6-4fb1-8b7d-e5ba0bde285b",
   "metadata": {},
   "outputs": [
    {
     "data": {
      "text/plain": [
       "faculty\n",
       "AgriSciences                       22\n",
       "Arts & Social Sciences             47\n",
       "Economic & Management Sciences    211\n",
       "Education                           6\n",
       "Engineering                        37\n",
       "Law                                10\n",
       "Medicine and Health Services       10\n",
       "Science                            56\n",
       "Name: drinks_night, dtype: int64"
      ]
     },
     "execution_count": 24,
     "metadata": {},
     "output_type": "execute_result"
    }
   ],
   "source": [
    "info"
   ]
  },
  {
   "cell_type": "code",
   "execution_count": 28,
   "id": "5ad9b5b7-cdd9-4567-88d7-d0cc344d2678",
   "metadata": {},
   "outputs": [
    {
     "data": {
      "image/png": "[encoded data removed]",
      "text/plain": [
       "<Figure size 640x480 with 1 Axes>"
      ]
     },
     "metadata": {},
     "output_type": "display_data"
    }
   ],
   "source": [
    "ax = sns.barplot(x=info.index, y=info.values)\n",
    "ax.set(\n",
    "    xlabel=\"Faculty\",\n",
    "    ylabel=\"Number of students (drinks_night count)\",\n",
    "    title=\"Drinks per Faculty\"\n",
    ")\n",
    "ax.tick_params(axis='x', rotation=45)\n"
   ]
  },
  {
   "cell_type": "markdown",
   "id": "434df5a2-1acc-43ca-899f-abc87a483a15",
   "metadata": {},
   "source": [
    "### Drinks per Faculty\n",
    "\n",
    "The chart below shows how many students from each faculty reported their **\"drinks per night\"** in the survey.  \n",
    "This helps identify participation levels across faculties and spot any noticeable differences in student responses.  \n",
    "Each bar represents the **count of students** from a given faculty.\n"
   ]
  },
  {
   "cell_type": "code",
   "execution_count": 33,
   "id": "1a98ea9c-4c6a-4f0a-9292-ae08f2739b23",
   "metadata": {},
   "outputs": [
    {
     "data": {
      "text/plain": [
       "<Axes: xlabel='matric_%', ylabel='gpa_2023'>"
      ]
     },
     "execution_count": 33,
     "metadata": {},
     "output_type": "execute_result"
    },
    {
     "data": {
      "image/png": "[encoded data removed]",
      "text/plain": [
       "<Figure size 640x480 with 1 Axes>"
      ]
     },
     "metadata": {},
     "output_type": "display_data"
    }
   ],
   "source": [
    "# Bublechart\n",
    "sns.scatterplot(student_data, x =\"matric_%\" ,y =\"gpa_2023\",  hue =\"accomodation\")"
   ]
  },
  {
   "cell_type": "markdown",
   "id": "380e457e-3db9-4ab9-ae19-e17a7e6ef344",
   "metadata": {},
   "source": [
    "### GPA vs. Matriculation Percentage by Accommodation Type\n",
    "\n",
    "The scatter plot below compares each student’s **matriculation percentage** with their **GPA in 2023**.  \n",
    "Points are color-coded by **accommodation type**, making it easy to see if living arrangements are linked to academic performance.  \n",
    "Patterns or clusters in the plot may highlight how accommodation influences GPA relative to matriculation scores.\n"
   ]
  },
  {
   "cell_type": "code",
   "execution_count": 42,
   "id": "02c578d6-90f4-468f-a106-57d175a3aa12",
   "metadata": {},
   "outputs": [
    {
     "data": {
      "text/html": [
       "<div>\n",
       "<style scoped>\n",
       "    .dataframe tbody tr th:only-of-type {\n",
       "        vertical-align: middle;\n",
       "    }\n",
       "\n",
       "    .dataframe tbody tr th {\n",
       "        vertical-align: top;\n",
       "    }\n",
       "\n",
       "    .dataframe thead tr th {\n",
       "        text-align: left;\n",
       "    }\n",
       "\n",
       "    .dataframe thead tr:last-of-type th {\n",
       "        text-align: right;\n",
       "    }\n",
       "</style>\n",
       "<table border=\"1\" class=\"dataframe\">\n",
       "  <thead>\n",
       "    <tr>\n",
       "      <th></th>\n",
       "      <th colspan=\"3\" halign=\"left\">matric_%</th>\n",
       "      <th colspan=\"3\" halign=\"left\">gpa_2023</th>\n",
       "    </tr>\n",
       "    <tr>\n",
       "      <th></th>\n",
       "      <th>min</th>\n",
       "      <th>max</th>\n",
       "      <th>mean</th>\n",
       "      <th>min</th>\n",
       "      <th>max</th>\n",
       "      <th>mean</th>\n",
       "    </tr>\n",
       "    <tr>\n",
       "      <th>relation_parent</th>\n",
       "      <th></th>\n",
       "      <th></th>\n",
       "      <th></th>\n",
       "      <th></th>\n",
       "      <th></th>\n",
       "      <th></th>\n",
       "    </tr>\n",
       "  </thead>\n",
       "  <tbody>\n",
       "    <tr>\n",
       "      <th>Close</th>\n",
       "      <td>60.0</td>\n",
       "      <td>98.33</td>\n",
       "      <td>77.690000</td>\n",
       "      <td>50.0</td>\n",
       "      <td>95.22</td>\n",
       "      <td>65.220769</td>\n",
       "    </tr>\n",
       "    <tr>\n",
       "      <th>Distant</th>\n",
       "      <td>85.0</td>\n",
       "      <td>98.00</td>\n",
       "      <td>91.500000</td>\n",
       "      <td>88.0</td>\n",
       "      <td>89.00</td>\n",
       "      <td>88.500000</td>\n",
       "    </tr>\n",
       "    <tr>\n",
       "      <th>Fair</th>\n",
       "      <td>55.0</td>\n",
       "      <td>95.50</td>\n",
       "      <td>78.357143</td>\n",
       "      <td>50.0</td>\n",
       "      <td>85.00</td>\n",
       "      <td>66.258065</td>\n",
       "    </tr>\n",
       "    <tr>\n",
       "      <th>Very close</th>\n",
       "      <td>34.0</td>\n",
       "      <td>99.00</td>\n",
       "      <td>77.960114</td>\n",
       "      <td>30.0</td>\n",
       "      <td>92.00</td>\n",
       "      <td>66.527356</td>\n",
       "    </tr>\n",
       "  </tbody>\n",
       "</table>\n",
       "</div>"
      ],
      "text/plain": [
       "                matric_%                   gpa_2023                  \n",
       "                     min    max       mean      min    max       mean\n",
       "relation_parent                                                      \n",
       "Close               60.0  98.33  77.690000     50.0  95.22  65.220769\n",
       "Distant             85.0  98.00  91.500000     88.0  89.00  88.500000\n",
       "Fair                55.0  95.50  78.357143     50.0  85.00  66.258065\n",
       "Very close          34.0  99.00  77.960114     30.0  92.00  66.527356"
      ]
     },
     "execution_count": 42,
     "metadata": {},
     "output_type": "execute_result"
    }
   ],
   "source": [
    "group_parent = student_data.groupby(by = \"relation_parent\")\n",
    "info = group_parent[[\"matric_%\",\"gpa_2023\"]].aggregate(('min','max','mean'))\n",
    "info"
   ]
  },
  {
   "cell_type": "code",
   "execution_count": 46,
   "id": "0b62f022-6085-4fb4-b9e7-fb4a3e43caed",
   "metadata": {},
   "outputs": [
    {
     "data": {
      "text/plain": [
       "<Axes: xlabel='relation_parent'>"
      ]
     },
     "execution_count": 46,
     "metadata": {},
     "output_type": "execute_result"
    },
    {
     "data": {
      "image/png": "[encoded data removed]",
      "text/plain": [
       "<Figure size 640x480 with 1 Axes>"
      ]
     },
     "metadata": {},
     "output_type": "display_data"
    }
   ],
   "source": [
    "info.plot.bar()"
   ]
  },
  {
   "cell_type": "markdown",
   "id": "ee3824f2-5e17-46aa-a7f2-b0c1b176ac2a",
   "metadata": {},
   "source": [
    "### Academic Performance Summary by Parent Relationship\n",
    "\n",
    "This bar chart compares the **minimum**, **maximum**, and **average** values of both  \n",
    "**matriculation percentage** and **2023 GPA** across different levels of student–parent relationships.  \n",
    "\n",
    "By showing all three statistics, the chart highlights:  \n",
    "- The **range** of academic performance within each group (min to max).  \n",
    "- The **average performance** for each category, making comparisons easier.  \n",
    "- How relationship closeness may be associated with higher or lower academic results.\n"
   ]
  },
  {
   "cell_type": "code",
   "execution_count": 48,
   "id": "86020a1b-e35e-4595-a799-fa017b948d04",
   "metadata": {},
   "outputs": [
    {
     "data": {
      "text/plain": [
       "<Axes: xlabel='gpa_2023', ylabel='gender'>"
      ]
     },
     "execution_count": 48,
     "metadata": {},
     "output_type": "execute_result"
    },
    {
     "data": {
      "image/png": "[encoded data removed]",
      "text/plain": [
       "<Figure size 640x480 with 1 Axes>"
      ]
     },
     "metadata": {},
     "output_type": "display_data"
    }
   ],
   "source": [
    "sns.boxplot(student_data, x= \"gpa_2023\", y = \"gender\")"
   ]
  },
  {
   "cell_type": "markdown",
   "id": "0ba6174f-9e7b-428e-89ab-00ce53b10e48",
   "metadata": {},
   "source": [
    "### GPA Distribution by Gender\n",
    "\n",
    "This box plot shows the **spread of 2023 GPA scores** for each gender group.  \n",
    "\n",
    "- The **box** represents the middle 50% of students (interquartile range).  \n",
    "- The **line inside the box** is the median GPA.  \n",
    "- **Whiskers** and points show the overall range and any outliers.  \n",
    "\n",
    "This view helps compare typical performance, variability, and extremes between genders.\n"
   ]
  },
  {
   "cell_type": "markdown",
   "id": "620905ed-94d1-4325-a1c4-c4a45bde4bd2",
   "metadata": {},
   "source": [
    "## Manipulation and/or Cleaning Data\n",
    "* remove unessory columns\n",
    "* Null Value handling\n",
    "* outliers Handling\n",
    "* Feature Engineering\n",
    "* Encoding/ normalization / post Processing"
   ]
  },
  {
   "cell_type": "code",
   "execution_count": 3,
   "id": "c9a00fd0-f2cb-45b3-9498-6104b1e7cc43",
   "metadata": {},
   "outputs": [],
   "source": [
    "# Deleting columns\n",
    "student_data.drop('time', axis= 1, inplace = True)"
   ]
  },
  {
   "cell_type": "code",
   "execution_count": 4,
   "id": "e77385ae-e50f-4015-9a66-b52d414f6225",
   "metadata": {},
   "outputs": [
    {
     "data": {
      "text/html": [
       "<div>\n",
       "<style scoped>\n",
       "    .dataframe tbody tr th:only-of-type {\n",
       "        vertical-align: middle;\n",
       "    }\n",
       "\n",
       "    .dataframe tbody tr th {\n",
       "        vertical-align: top;\n",
       "    }\n",
       "\n",
       "    .dataframe thead th {\n",
       "        text-align: right;\n",
       "    }\n",
       "</style>\n",
       "<table border=\"1\" class=\"dataframe\">\n",
       "  <thead>\n",
       "    <tr style=\"text-align: right;\">\n",
       "      <th></th>\n",
       "      <th>gender</th>\n",
       "      <th>matric_%</th>\n",
       "      <th>study_year</th>\n",
       "      <th>faculty</th>\n",
       "      <th>gpa_2023</th>\n",
       "      <th>accomodation</th>\n",
       "      <th>allowance</th>\n",
       "      <th>scholarship</th>\n",
       "      <th>study_hours</th>\n",
       "      <th>party_week</th>\n",
       "      <th>drinks_night</th>\n",
       "      <th>missed_classes</th>\n",
       "      <th>failed_classes</th>\n",
       "      <th>in_relationship</th>\n",
       "      <th>parent_approve</th>\n",
       "      <th>relation_parent</th>\n",
       "    </tr>\n",
       "  </thead>\n",
       "  <tbody>\n",
       "    <tr>\n",
       "      <th>0</th>\n",
       "      <td>Female</td>\n",
       "      <td>76.0</td>\n",
       "      <td>2nd Year</td>\n",
       "      <td>Arts &amp; Social Sciences</td>\n",
       "      <td>72.0</td>\n",
       "      <td>Private accommodation/ stay with family/friends</td>\n",
       "      <td>R 4001- R 5000</td>\n",
       "      <td>No</td>\n",
       "      <td>8+</td>\n",
       "      <td>Only weekends</td>\n",
       "      <td>8+</td>\n",
       "      <td>3</td>\n",
       "      <td>0</td>\n",
       "      <td>Yes</td>\n",
       "      <td>Yes</td>\n",
       "      <td>Very close</td>\n",
       "    </tr>\n",
       "    <tr>\n",
       "      <th>1</th>\n",
       "      <td>Male</td>\n",
       "      <td>89.0</td>\n",
       "      <td>2nd Year</td>\n",
       "      <td>Economic &amp; Management Sciences</td>\n",
       "      <td>75.0</td>\n",
       "      <td>Private accommodation/ stay with family/friends</td>\n",
       "      <td>R 7001 - R 8000</td>\n",
       "      <td>Yes (NSFAS, etc...)</td>\n",
       "      <td>8+</td>\n",
       "      <td>Only weekends</td>\n",
       "      <td>3-5</td>\n",
       "      <td>4+</td>\n",
       "      <td>0</td>\n",
       "      <td>No</td>\n",
       "      <td>Yes</td>\n",
       "      <td>Very close</td>\n",
       "    </tr>\n",
       "    <tr>\n",
       "      <th>2</th>\n",
       "      <td>Male</td>\n",
       "      <td>76.0</td>\n",
       "      <td>1st Year</td>\n",
       "      <td>AgriSciences</td>\n",
       "      <td>55.0</td>\n",
       "      <td>Private accommodation/ stay with family/friends</td>\n",
       "      <td>R 4001- R 5000</td>\n",
       "      <td>No</td>\n",
       "      <td>3-5</td>\n",
       "      <td>2</td>\n",
       "      <td>8+</td>\n",
       "      <td>3</td>\n",
       "      <td>0</td>\n",
       "      <td>No</td>\n",
       "      <td>Yes</td>\n",
       "      <td>Very close</td>\n",
       "    </tr>\n",
       "    <tr>\n",
       "      <th>3</th>\n",
       "      <td>Male</td>\n",
       "      <td>89.0</td>\n",
       "      <td>2nd Year</td>\n",
       "      <td>Engineering</td>\n",
       "      <td>84.0</td>\n",
       "      <td>Private accommodation/ stay with family/friends</td>\n",
       "      <td>R 6001 - R 7000</td>\n",
       "      <td>No</td>\n",
       "      <td>3-5</td>\n",
       "      <td>3</td>\n",
       "      <td>8+</td>\n",
       "      <td>2</td>\n",
       "      <td>0</td>\n",
       "      <td>Yes</td>\n",
       "      <td>Yes</td>\n",
       "      <td>Very close</td>\n",
       "    </tr>\n",
       "    <tr>\n",
       "      <th>4</th>\n",
       "      <td>Female</td>\n",
       "      <td>74.0</td>\n",
       "      <td>2nd Year</td>\n",
       "      <td>Arts &amp; Social Sciences</td>\n",
       "      <td>52.0</td>\n",
       "      <td>Private accommodation/ stay with family/friends</td>\n",
       "      <td>R 4001- R 5000</td>\n",
       "      <td>No</td>\n",
       "      <td>3-5</td>\n",
       "      <td>Only weekends</td>\n",
       "      <td>5-8</td>\n",
       "      <td>1</td>\n",
       "      <td>3</td>\n",
       "      <td>No</td>\n",
       "      <td>Yes</td>\n",
       "      <td>Fair</td>\n",
       "    </tr>\n",
       "  </tbody>\n",
       "</table>\n",
       "</div>"
      ],
      "text/plain": [
       "   gender  matric_% study_year                         faculty  gpa_2023  \\\n",
       "0  Female      76.0   2nd Year          Arts & Social Sciences      72.0   \n",
       "1    Male      89.0   2nd Year  Economic & Management Sciences      75.0   \n",
       "2    Male      76.0   1st Year                    AgriSciences      55.0   \n",
       "3    Male      89.0   2nd Year                     Engineering      84.0   \n",
       "4  Female      74.0   2nd Year          Arts & Social Sciences      52.0   \n",
       "\n",
       "                                      accomodation        allowance  \\\n",
       "0  Private accommodation/ stay with family/friends   R 4001- R 5000   \n",
       "1  Private accommodation/ stay with family/friends  R 7001 - R 8000   \n",
       "2  Private accommodation/ stay with family/friends   R 4001- R 5000   \n",
       "3  Private accommodation/ stay with family/friends  R 6001 - R 7000   \n",
       "4  Private accommodation/ stay with family/friends   R 4001- R 5000   \n",
       "\n",
       "           scholarship study_hours     party_week drinks_night missed_classes  \\\n",
       "0                   No          8+  Only weekends           8+              3   \n",
       "1  Yes (NSFAS, etc...)          8+  Only weekends          3-5             4+   \n",
       "2                   No         3-5              2           8+              3   \n",
       "3                   No         3-5              3           8+              2   \n",
       "4                   No         3-5  Only weekends          5-8              1   \n",
       "\n",
       "  failed_classes in_relationship parent_approve relation_parent  \n",
       "0              0             Yes            Yes      Very close  \n",
       "1              0              No            Yes      Very close  \n",
       "2              0              No            Yes      Very close  \n",
       "3              0             Yes            Yes      Very close  \n",
       "4              3              No            Yes            Fair  "
      ]
     },
     "execution_count": 4,
     "metadata": {},
     "output_type": "execute_result"
    }
   ],
   "source": [
    "student_data.head()"
   ]
  },
  {
   "cell_type": "code",
   "execution_count": 5,
   "id": "74ba263e-e951-4356-a6ea-677f24dfb9e7",
   "metadata": {},
   "outputs": [
    {
     "data": {
      "text/plain": [
       "gender              2\n",
       "matric_%            7\n",
       "study_year         73\n",
       "faculty             7\n",
       "gpa_2023           86\n",
       "accomodation       23\n",
       "allowance          31\n",
       "scholarship         8\n",
       "study_hours         3\n",
       "party_week          2\n",
       "drinks_night        2\n",
       "missed_classes      3\n",
       "failed_classes      3\n",
       "in_relationship     3\n",
       "parent_approve      4\n",
       "relation_parent     3\n",
       "dtype: int64"
      ]
     },
     "execution_count": 5,
     "metadata": {},
     "output_type": "execute_result"
    }
   ],
   "source": [
    "# Handling Null Values\n",
    "\n",
    "student_data.isna().sum()"
   ]
  },
  {
   "cell_type": "code",
   "execution_count": 6,
   "id": "3ea25032-2f99-4779-8a7f-83168c0540b3",
   "metadata": {},
   "outputs": [],
   "source": [
    "# Cleaning up Traget value null entries\n",
    "student_data_1 = student_data.dropna(subset=\"gpa_2023\")"
   ]
  },
  {
   "cell_type": "code",
   "execution_count": 7,
   "id": "ebdc0c09-602b-449b-8d88-4bb56bc4e36f",
   "metadata": {},
   "outputs": [],
   "source": [
    "# student_data_1 = student_data_1.dropna(thresh=5)\n",
    "\n",
    "student_data_1 = student_data_1[~(student_data_1.isna().sum(axis = 1) >=5)]"
   ]
  },
  {
   "cell_type": "code",
   "execution_count": 8,
   "id": "519b3ff4-69a3-4bbf-adeb-9f5ac369119d",
   "metadata": {},
   "outputs": [
    {
     "data": {
      "text/plain": [
       "gender              0\n",
       "matric_%            2\n",
       "study_year          1\n",
       "faculty             3\n",
       "gpa_2023            0\n",
       "accomodation        2\n",
       "allowance          14\n",
       "scholarship         0\n",
       "study_hours         0\n",
       "party_week          0\n",
       "drinks_night        0\n",
       "missed_classes      1\n",
       "failed_classes      0\n",
       "in_relationship     1\n",
       "parent_approve      1\n",
       "relation_parent     1\n",
       "dtype: int64"
      ]
     },
     "execution_count": 8,
     "metadata": {},
     "output_type": "execute_result"
    }
   ],
   "source": [
    "student_data_1.isna().sum()"
   ]
  },
  {
   "cell_type": "code",
   "execution_count": 10,
   "id": "65148405-1cb3-4cf9-bc7f-009550705132",
   "metadata": {},
   "outputs": [
    {
     "data": {
      "text/plain": [
       "gender              0\n",
       "matric_%            5\n",
       "study_year         71\n",
       "faculty             5\n",
       "gpa_2023           84\n",
       "accomodation       21\n",
       "allowance          29\n",
       "scholarship         6\n",
       "study_hours         1\n",
       "party_week          0\n",
       "drinks_night        0\n",
       "missed_classes      1\n",
       "failed_classes      1\n",
       "in_relationship     1\n",
       "parent_approve      2\n",
       "relation_parent     1\n",
       "dtype: int64"
      ]
     },
     "execution_count": 10,
     "metadata": {},
     "output_type": "execute_result"
    }
   ],
   "source": [
    "student_data1.isna().sum()"
   ]
  },
  {
   "cell_type": "code",
   "execution_count": 9,
   "id": "69d4fab9-5edb-4a62-bce6-adb14978fcd3",
   "metadata": {},
   "outputs": [],
   "source": [
    "## Full null values (sum < 5) , check type and impute with mean if numerical , mode if object\n",
    "def imputer(dataframe):\n",
    "    for col in dataframe.columns:\n",
    "        if dataframe[col].isna().sum() < 5:\n",
    "            if dataframe[col].dtype in ['int64','float64']:\n",
    "                dataframe[col].fillna(dataframe[col].mean(), inplace = True)\n",
    "            else:\n",
    "                dataframe[col].fillna(dataframe[col].mode()[0], inplace = True)\n",
    "    # return dataframe"
   ]
  },
  {
   "cell_type": "code",
   "execution_count": 10,
   "id": "6d969578-42bf-46a9-9190-7e0b9a7fc2b6",
   "metadata": {},
   "outputs": [
    {
     "name": "stderr",
     "output_type": "stream",
     "text": [
      "C:\\Users\\Acer\\AppData\\Local\\Temp\\ipykernel_5976\\2939291566.py:8: FutureWarning: A value is trying to be set on a copy of a DataFrame or Series through chained assignment using an inplace method.\n",
      "The behavior will change in pandas 3.0. This inplace method will never work because the intermediate object on which we are setting values always behaves as a copy.\n",
      "\n",
      "For example, when doing 'df[col].method(value, inplace=True)', try using 'df.method({col: value}, inplace=True)' or df[col] = df[col].method(value) instead, to perform the operation inplace on the original object.\n",
      "\n",
      "\n",
      "  dataframe[col].fillna(dataframe[col].mode()[0], inplace = True)\n",
      "C:\\Users\\Acer\\AppData\\Local\\Temp\\ipykernel_5976\\2939291566.py:6: FutureWarning: A value is trying to be set on a copy of a DataFrame or Series through chained assignment using an inplace method.\n",
      "The behavior will change in pandas 3.0. This inplace method will never work because the intermediate object on which we are setting values always behaves as a copy.\n",
      "\n",
      "For example, when doing 'df[col].method(value, inplace=True)', try using 'df.method({col: value}, inplace=True)' or df[col] = df[col].method(value) instead, to perform the operation inplace on the original object.\n",
      "\n",
      "\n",
      "  dataframe[col].fillna(dataframe[col].mean(), inplace = True)\n"
     ]
    }
   ],
   "source": [
    "imputer(student_data_1)"
   ]
  },
  {
   "cell_type": "code",
   "execution_count": 11,
   "id": "407db928-2522-419c-8589-a68a932fe663",
   "metadata": {},
   "outputs": [
    {
     "data": {
      "text/plain": [
       "gender              0\n",
       "matric_%            0\n",
       "study_year          0\n",
       "faculty             0\n",
       "gpa_2023            0\n",
       "accomodation        0\n",
       "allowance          14\n",
       "scholarship         0\n",
       "study_hours         0\n",
       "party_week          0\n",
       "drinks_night        0\n",
       "missed_classes      0\n",
       "failed_classes      0\n",
       "in_relationship     0\n",
       "parent_approve      0\n",
       "relation_parent     0\n",
       "dtype: int64"
      ]
     },
     "execution_count": 11,
     "metadata": {},
     "output_type": "execute_result"
    }
   ],
   "source": [
    "student_data_1.isna().sum()"
   ]
  },
  {
   "cell_type": "code",
   "execution_count": 12,
   "id": "a9c16b91-e5f6-42b3-8cc2-8c135a81a82c",
   "metadata": {},
   "outputs": [
    {
     "data": {
      "text/plain": [
       "allowance\n",
       "R 4001- R 5000     125\n",
       "R 5001 - R 6000     88\n",
       "R 6001 - R 7000     44\n",
       "R 7001 - R 8000     25\n",
       "R 8000+             24\n",
       "Name: count, dtype: int64"
      ]
     },
     "execution_count": 12,
     "metadata": {},
     "output_type": "execute_result"
    }
   ],
   "source": [
    "student_data_1.allowance.value_counts()"
   ]
  },
  {
   "cell_type": "code",
   "execution_count": 13,
   "id": "283dadef-3b76-4f4e-a4a8-98c3bc1c07d9",
   "metadata": {},
   "outputs": [
    {
     "name": "stderr",
     "output_type": "stream",
     "text": [
      "C:\\Users\\Acer\\AppData\\Local\\Temp\\ipykernel_5976\\1313249778.py:1: FutureWarning: A value is trying to be set on a copy of a DataFrame or Series through chained assignment using an inplace method.\n",
      "The behavior will change in pandas 3.0. This inplace method will never work because the intermediate object on which we are setting values always behaves as a copy.\n",
      "\n",
      "For example, when doing 'df[col].method(value, inplace=True)', try using 'df.method({col: value}, inplace=True)' or df[col] = df[col].method(value) instead, to perform the operation inplace on the original object.\n",
      "\n",
      "\n",
      "  student_data_1.allowance.fillna('Unknown', inplace = True)\n"
     ]
    }
   ],
   "source": [
    "student_data_1.allowance.fillna('Unknown', inplace = True)"
   ]
  },
  {
   "cell_type": "code",
   "execution_count": 14,
   "id": "c4f5746a-ad47-4f8a-a681-fc9b50b771ba",
   "metadata": {},
   "outputs": [
    {
     "data": {
      "text/plain": [
       "allowance\n",
       "R 4001- R 5000     125\n",
       "R 5001 - R 6000     88\n",
       "R 6001 - R 7000     44\n",
       "R 7001 - R 8000     25\n",
       "R 8000+             24\n",
       "Unknown             14\n",
       "Name: count, dtype: int64"
      ]
     },
     "execution_count": 14,
     "metadata": {},
     "output_type": "execute_result"
    }
   ],
   "source": [
    "student_data_1.allowance.value_counts()"
   ]
  },
  {
   "cell_type": "code",
   "execution_count": 15,
   "id": "4a586b89-2128-4a50-b67b-09bb2aaf1450",
   "metadata": {},
   "outputs": [
    {
     "data": {
      "text/html": [
       "<div>\n",
       "<style scoped>\n",
       "    .dataframe tbody tr th:only-of-type {\n",
       "        vertical-align: middle;\n",
       "    }\n",
       "\n",
       "    .dataframe tbody tr th {\n",
       "        vertical-align: top;\n",
       "    }\n",
       "\n",
       "    .dataframe thead th {\n",
       "        text-align: right;\n",
       "    }\n",
       "</style>\n",
       "<table border=\"1\" class=\"dataframe\">\n",
       "  <thead>\n",
       "    <tr style=\"text-align: right;\">\n",
       "      <th></th>\n",
       "      <th>matric_%</th>\n",
       "      <th>gpa_2023</th>\n",
       "    </tr>\n",
       "  </thead>\n",
       "  <tbody>\n",
       "    <tr>\n",
       "      <th>count</th>\n",
       "      <td>320.000000</td>\n",
       "      <td>320.000000</td>\n",
       "    </tr>\n",
       "    <tr>\n",
       "      <th>mean</th>\n",
       "      <td>78.165692</td>\n",
       "      <td>66.268469</td>\n",
       "    </tr>\n",
       "    <tr>\n",
       "      <th>std</th>\n",
       "      <td>6.600239</td>\n",
       "      <td>9.147906</td>\n",
       "    </tr>\n",
       "    <tr>\n",
       "      <th>min</th>\n",
       "      <td>55.000000</td>\n",
       "      <td>30.000000</td>\n",
       "    </tr>\n",
       "    <tr>\n",
       "      <th>25%</th>\n",
       "      <td>74.000000</td>\n",
       "      <td>60.000000</td>\n",
       "    </tr>\n",
       "    <tr>\n",
       "      <th>50%</th>\n",
       "      <td>78.000000</td>\n",
       "      <td>65.000000</td>\n",
       "    </tr>\n",
       "    <tr>\n",
       "      <th>75%</th>\n",
       "      <td>83.000000</td>\n",
       "      <td>73.000000</td>\n",
       "    </tr>\n",
       "    <tr>\n",
       "      <th>max</th>\n",
       "      <td>99.000000</td>\n",
       "      <td>95.220000</td>\n",
       "    </tr>\n",
       "  </tbody>\n",
       "</table>\n",
       "</div>"
      ],
      "text/plain": [
       "         matric_%    gpa_2023\n",
       "count  320.000000  320.000000\n",
       "mean    78.165692   66.268469\n",
       "std      6.600239    9.147906\n",
       "min     55.000000   30.000000\n",
       "25%     74.000000   60.000000\n",
       "50%     78.000000   65.000000\n",
       "75%     83.000000   73.000000\n",
       "max     99.000000   95.220000"
      ]
     },
     "execution_count": 15,
     "metadata": {},
     "output_type": "execute_result"
    }
   ],
   "source": [
    "# Outlier Handling\n",
    "student_data_1[['matric_%','gpa_2023']].describe()"
   ]
  },
  {
   "cell_type": "code",
   "execution_count": 16,
   "id": "c55c5c99-7d24-4854-8c0d-4297235bbec3",
   "metadata": {},
   "outputs": [
    {
     "data": {
      "text/plain": [
       "<Axes: >"
      ]
     },
     "execution_count": 16,
     "metadata": {},
     "output_type": "execute_result"
    },
    {
     "data": {
      "image/png": "[encoded data removed]",
      "text/plain": [
       "<Figure size 640x480 with 1 Axes>"
      ]
     },
     "metadata": {},
     "output_type": "display_data"
    }
   ],
   "source": [
    "student_data_1[['matric_%','gpa_2023']].plot.box()"
   ]
  },
  {
   "cell_type": "code",
   "execution_count": 17,
   "id": "c3d4e4d7-4ab6-429a-b554-9c1ef3fb7bb5",
   "metadata": {},
   "outputs": [],
   "source": [
    "def handle_outlier(series: pd.Series):\n",
    "    \"\"\" DocString \"\"\"\n",
    "    IQR = series.quantile(0.75) - series.quantile(0.25)\n",
    "    max_value = series.quantile(0.75) + 1.5 * IQR\n",
    "    min_value = series.quantile(0.25) - 1.5 * IQR\n",
    "\n",
    "    to_drop = series[(series > max_value) | (series < min_value)]\n",
    "    print(to_drop)\n",
    "    return series.drop(to_drop.index, axis=0)"
   ]
  },
  {
   "cell_type": "code",
   "execution_count": 18,
   "id": "e88c25be-c838-4df6-be41-630a264906d6",
   "metadata": {},
   "outputs": [
    {
     "name": "stdout",
     "output_type": "stream",
     "text": [
      "73     95.22\n",
      "303    30.00\n",
      "Name: gpa_2023, dtype: float64\n"
     ]
    }
   ],
   "source": [
    "student_data_1.gpa_2023 = handle_outlier(student_data_1.gpa_2023)"
   ]
  },
  {
   "cell_type": "code",
   "execution_count": 19,
   "id": "59b962e5-4448-4268-acaf-2f5e074177b0",
   "metadata": {},
   "outputs": [
    {
     "name": "stdout",
     "output_type": "stream",
     "text": [
      "38     99.00\n",
      "54     98.00\n",
      "73     98.33\n",
      "268    60.00\n",
      "335    55.00\n",
      "358    60.00\n",
      "Name: matric_%, dtype: float64\n"
     ]
    }
   ],
   "source": [
    "student_data_1['matric_%'] = handle_outlier(student_data_1['matric_%'])"
   ]
  },
  {
   "cell_type": "code",
   "execution_count": 20,
   "id": "b6f3c28a-87a5-468e-bfb4-7f225c53bb47",
   "metadata": {},
   "outputs": [
    {
     "data": {
      "text/plain": [
       "<Axes: >"
      ]
     },
     "execution_count": 20,
     "metadata": {},
     "output_type": "execute_result"
    },
    {
     "data": {
      "image/png": "[encoded data removed]",
      "text/plain": [
       "<Figure size 640x480 with 1 Axes>"
      ]
     },
     "metadata": {},
     "output_type": "display_data"
    }
   ],
   "source": [
    "student_data_1[['matric_%','gpa_2023']].plot.box()"
   ]
  },
  {
   "cell_type": "code",
   "execution_count": 21,
   "id": "f4aaba8d-9c50-40ed-b807-7192096d923b",
   "metadata": {},
   "outputs": [
    {
     "data": {
      "text/plain": [
       "study_hours\n",
       "8+     97\n",
       "3-5    76\n",
       "1-3    65\n",
       "5-8    65\n",
       "0      17\n",
       "Name: count, dtype: int64"
      ]
     },
     "execution_count": 21,
     "metadata": {},
     "output_type": "execute_result"
    }
   ],
   "source": [
    "student_data_1.study_hours.value_counts()"
   ]
  },
  {
   "cell_type": "code",
   "execution_count": 22,
   "id": "474e349c-2ce5-4c3f-9ac9-928906b37651",
   "metadata": {},
   "outputs": [],
   "source": [
    "student_data_1.to_csv(\"student_survey_clean.csv\", index = False)"
   ]
  },
  {
   "cell_type": "code",
   "execution_count": 23,
   "id": "a8fbd0d5-91db-4fc2-9296-7c1908c51183",
   "metadata": {},
   "outputs": [
    {
     "name": "stdout",
     "output_type": "stream",
     "text": [
      "<class 'pandas.core.frame.DataFrame'>\n",
      "RangeIndex: 406 entries, 0 to 405\n",
      "Data columns (total 16 columns):\n",
      " #   Column           Non-Null Count  Dtype  \n",
      "---  ------           --------------  -----  \n",
      " 0   gender           404 non-null    object \n",
      " 1   matric_%         399 non-null    float64\n",
      " 2   study_year       333 non-null    object \n",
      " 3   faculty          399 non-null    object \n",
      " 4   gpa_2023         320 non-null    float64\n",
      " 5   accomodation     383 non-null    object \n",
      " 6   allowance        375 non-null    object \n",
      " 7   scholarship      398 non-null    object \n",
      " 8   study_hours      403 non-null    object \n",
      " 9   party_week       404 non-null    object \n",
      " 10  drinks_night     404 non-null    object \n",
      " 11  missed_classes   403 non-null    object \n",
      " 12  failed_classes   403 non-null    object \n",
      " 13  in_relationship  403 non-null    object \n",
      " 14  parent_approve   402 non-null    object \n",
      " 15  relation_parent  403 non-null    object \n",
      "dtypes: float64(2), object(14)\n",
      "memory usage: 50.9+ KB\n"
     ]
    }
   ],
   "source": [
    "student_data.info()"
   ]
  },
  {
   "cell_type": "code",
   "execution_count": 24,
   "id": "3438e6c3-8efc-41c2-b50a-e39e8b02f624",
   "metadata": {},
   "outputs": [
    {
     "data": {
      "text/plain": [
       "gender              2\n",
       "matric_%            7\n",
       "study_year         73\n",
       "faculty             7\n",
       "gpa_2023           86\n",
       "accomodation       23\n",
       "allowance          31\n",
       "scholarship         8\n",
       "study_hours         3\n",
       "party_week          2\n",
       "drinks_night        2\n",
       "missed_classes      3\n",
       "failed_classes      3\n",
       "in_relationship     3\n",
       "parent_approve      4\n",
       "relation_parent     3\n",
       "dtype: int64"
      ]
     },
     "execution_count": 24,
     "metadata": {},
     "output_type": "execute_result"
    }
   ],
   "source": [
    "student_data.isna().sum()"
   ]
  },
  {
   "cell_type": "code",
   "execution_count": 25,
   "id": "34e2adc9-e60d-4e6f-a043-58e6ce1b0458",
   "metadata": {},
   "outputs": [
    {
     "data": {
      "text/plain": [
       "gender\n",
       "Male      0.534653\n",
       "Female    0.465347\n",
       "Name: proportion, dtype: float64"
      ]
     },
     "execution_count": 25,
     "metadata": {},
     "output_type": "execute_result"
    }
   ],
   "source": [
    "student_data.gender.value_counts(normalize = True)"
   ]
  },
  {
   "cell_type": "code",
   "execution_count": 26,
   "id": "9a53fe94-59d5-457f-9f91-0d3248f0d027",
   "metadata": {},
   "outputs": [
    {
     "data": {
      "text/html": [
       "<div>\n",
       "<style scoped>\n",
       "    .dataframe tbody tr th:only-of-type {\n",
       "        vertical-align: middle;\n",
       "    }\n",
       "\n",
       "    .dataframe tbody tr th {\n",
       "        vertical-align: top;\n",
       "    }\n",
       "\n",
       "    .dataframe thead th {\n",
       "        text-align: right;\n",
       "    }\n",
       "</style>\n",
       "<table border=\"1\" class=\"dataframe\">\n",
       "  <thead>\n",
       "    <tr style=\"text-align: right;\">\n",
       "      <th>relation_parent</th>\n",
       "      <th>Distant</th>\n",
       "      <th>Fair</th>\n",
       "      <th>Close</th>\n",
       "      <th>Very close</th>\n",
       "    </tr>\n",
       "    <tr>\n",
       "      <th>parent_approve</th>\n",
       "      <th></th>\n",
       "      <th></th>\n",
       "      <th></th>\n",
       "      <th></th>\n",
       "    </tr>\n",
       "  </thead>\n",
       "  <tbody>\n",
       "    <tr>\n",
       "      <th>No</th>\n",
       "      <td>1</td>\n",
       "      <td>9</td>\n",
       "      <td>18</td>\n",
       "      <td>20</td>\n",
       "    </tr>\n",
       "    <tr>\n",
       "      <th>Yes</th>\n",
       "      <td>1</td>\n",
       "      <td>25</td>\n",
       "      <td>79</td>\n",
       "      <td>248</td>\n",
       "    </tr>\n",
       "  </tbody>\n",
       "</table>\n",
       "</div>"
      ],
      "text/plain": [
       "relation_parent  Distant  Fair  Close  Very close\n",
       "parent_approve                                   \n",
       "No                     1     9     18          20\n",
       "Yes                    1    25     79         248"
      ]
     },
     "execution_count": 26,
     "metadata": {},
     "output_type": "execute_result"
    }
   ],
   "source": [
    "# parent_approve , replation_parent\n",
    "\n",
    "table = pd.crosstab(student_data.parent_approve, student_data.relation_parent)\n",
    "table = table[[\"Distant\",\"Fair\",\"Close\",\"Very close\"]]\n",
    "table"
   ]
  },
  {
   "cell_type": "code",
   "execution_count": 27,
   "id": "787a6944-1d36-466f-80d8-24fcecb9a3a9",
   "metadata": {},
   "outputs": [
    {
     "data": {
      "text/plain": [
       "<Axes: xlabel='relation_parent'>"
      ]
     },
     "execution_count": 27,
     "metadata": {},
     "output_type": "execute_result"
    },
    {
     "data": {
      "image/png": "[encoded data removed]",
      "text/plain": [
       "<Figure size 640x480 with 1 Axes>"
      ]
     },
     "metadata": {},
     "output_type": "display_data"
    }
   ],
   "source": [
    "table.T.plot.line()"
   ]
  },
  {
   "cell_type": "code",
   "execution_count": 28,
   "id": "08c284b1-b639-4ac3-9d89-50ed306b8929",
   "metadata": {},
   "outputs": [],
   "source": [
    "group_parent = student_data.groupby(by= \"relation_parent\")\n",
    "info = group_parent[\"matric_%\"].aggregate(('min','max','mean'))"
   ]
  },
  {
   "cell_type": "code",
   "execution_count": 29,
   "id": "2191fa83-798d-4fe2-bcae-512f62208dbb",
   "metadata": {},
   "outputs": [
    {
     "data": {
      "text/html": [
       "<div>\n",
       "<style scoped>\n",
       "    .dataframe tbody tr th:only-of-type {\n",
       "        vertical-align: middle;\n",
       "    }\n",
       "\n",
       "    .dataframe tbody tr th {\n",
       "        vertical-align: top;\n",
       "    }\n",
       "\n",
       "    .dataframe thead th {\n",
       "        text-align: right;\n",
       "    }\n",
       "</style>\n",
       "<table border=\"1\" class=\"dataframe\">\n",
       "  <thead>\n",
       "    <tr style=\"text-align: right;\">\n",
       "      <th></th>\n",
       "      <th>min</th>\n",
       "      <th>max</th>\n",
       "      <th>mean</th>\n",
       "    </tr>\n",
       "    <tr>\n",
       "      <th>relation_parent</th>\n",
       "      <th></th>\n",
       "      <th></th>\n",
       "      <th></th>\n",
       "    </tr>\n",
       "  </thead>\n",
       "  <tbody>\n",
       "    <tr>\n",
       "      <th>Close</th>\n",
       "      <td>60.0</td>\n",
       "      <td>98.33</td>\n",
       "      <td>77.690000</td>\n",
       "    </tr>\n",
       "    <tr>\n",
       "      <th>Distant</th>\n",
       "      <td>85.0</td>\n",
       "      <td>98.00</td>\n",
       "      <td>91.500000</td>\n",
       "    </tr>\n",
       "    <tr>\n",
       "      <th>Fair</th>\n",
       "      <td>55.0</td>\n",
       "      <td>95.50</td>\n",
       "      <td>78.357143</td>\n",
       "    </tr>\n",
       "    <tr>\n",
       "      <th>Very close</th>\n",
       "      <td>34.0</td>\n",
       "      <td>99.00</td>\n",
       "      <td>77.960114</td>\n",
       "    </tr>\n",
       "  </tbody>\n",
       "</table>\n",
       "</div>"
      ],
      "text/plain": [
       "                  min    max       mean\n",
       "relation_parent                        \n",
       "Close            60.0  98.33  77.690000\n",
       "Distant          85.0  98.00  91.500000\n",
       "Fair             55.0  95.50  78.357143\n",
       "Very close       34.0  99.00  77.960114"
      ]
     },
     "execution_count": 29,
     "metadata": {},
     "output_type": "execute_result"
    }
   ],
   "source": [
    "info"
   ]
  },
  {
   "cell_type": "code",
   "execution_count": null,
   "id": "79bbcf1d-b1f0-418a-b01f-02c888d17361",
   "metadata": {},
   "outputs": [],
   "source": []
  }
 ],
 "metadata": {
  "kernelspec": {
   "display_name": "Python 3 (ipykernel)",
   "language": "python",
   "name": "python3"
  },
  "language_info": {
   "codemirror_mode": {
    "name": "ipython",
    "version": 3
   },
   "file_extension": ".py",
   "mimetype": "text/x-python",
   "name": "python",
   "nbconvert_exporter": "python",
   "pygments_lexer": "ipython3",
   "version": "3.13.5"
  }
 },
 "nbformat": 4,
 "nbformat_minor": 5
}
