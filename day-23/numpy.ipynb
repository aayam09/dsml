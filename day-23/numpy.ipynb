{
 "cells": [
  {
   "cell_type": "code",
   "execution_count": 1,
   "id": "6f642745-d028-4ab8-8845-4441045bee1d",
   "metadata": {},
   "outputs": [
    {
     "name": "stdout",
     "output_type": "stream",
     "text": [
      "Collecting numpy\n",
      "  Downloading numpy-2.3.1-cp313-cp313-win_amd64.whl.metadata (60 kB)\n",
      "Downloading numpy-2.3.1-cp313-cp313-win_amd64.whl (12.7 MB)\n",
      "   ---------------------------------------- 0.0/12.7 MB ? eta -:--:--\n",
      "   ------------ --------------------------- 3.9/12.7 MB 24.8 MB/s eta 0:00:01\n",
      "   --------------------- ------------------ 6.8/12.7 MB 19.0 MB/s eta 0:00:01\n",
      "   -------------------------------------- - 12.3/12.7 MB 21.7 MB/s eta 0:00:01\n",
      "   ---------------------------------------- 12.7/12.7 MB 21.1 MB/s eta 0:00:00\n",
      "Installing collected packages: numpy\n",
      "Successfully installed numpy-2.3.1\n"
     ]
    }
   ],
   "source": [
    "!pip install numpy"
   ]
  },
  {
   "cell_type": "code",
   "execution_count": 1,
   "id": "4deb545d-d273-4441-ac08-7fb7207dd971",
   "metadata": {},
   "outputs": [],
   "source": [
    "import numpy as np"
   ]
  },
  {
   "cell_type": "code",
   "execution_count": 5,
   "id": "75ab7298-dc30-42cc-bfdf-4772e4ba4bf9",
   "metadata": {},
   "outputs": [
    {
     "data": {
      "text/plain": [
       "'2.3.1'"
      ]
     },
     "execution_count": 5,
     "metadata": {},
     "output_type": "execute_result"
    }
   ],
   "source": [
    "np.__version__"
   ]
  },
  {
   "cell_type": "markdown",
   "id": "cf9fbb46-1955-48ab-9f55-201e5cc2bbf2",
   "metadata": {},
   "source": [
    "Creating Numpy Array"
   ]
  },
  {
   "cell_type": "code",
   "execution_count": 21,
   "id": "a6b0c27d-a841-4e7c-b9f7-d33665320ef6",
   "metadata": {},
   "outputs": [],
   "source": [
    "list1 = [[2,3,4]]"
   ]
  },
  {
   "cell_type": "code",
   "execution_count": 22,
   "id": "f5a25b3a-5191-4024-ae20-16258033d886",
   "metadata": {},
   "outputs": [],
   "source": [
    "arr1 = np.array(list1)"
   ]
  },
  {
   "cell_type": "code",
   "execution_count": 23,
   "id": "8319e601-830c-4572-b81c-83629cc8a926",
   "metadata": {},
   "outputs": [
    {
     "data": {
      "text/plain": [
       "array([[2, 3, 4]])"
      ]
     },
     "execution_count": 23,
     "metadata": {},
     "output_type": "execute_result"
    }
   ],
   "source": [
    "arr1"
   ]
  },
  {
   "cell_type": "code",
   "execution_count": 24,
   "id": "e5a1e300-74c2-4d62-9048-dcbd493a926b",
   "metadata": {},
   "outputs": [
    {
     "data": {
      "text/plain": [
       "(1, 3)"
      ]
     },
     "execution_count": 24,
     "metadata": {},
     "output_type": "execute_result"
    }
   ],
   "source": [
    "arr1.shape"
   ]
  },
  {
   "cell_type": "code",
   "execution_count": 25,
   "id": "d654b50e-283e-4ce2-92df-a990b7d90867",
   "metadata": {},
   "outputs": [
    {
     "data": {
      "text/plain": [
       "2"
      ]
     },
     "execution_count": 25,
     "metadata": {},
     "output_type": "execute_result"
    }
   ],
   "source": [
    "arr1.ndim"
   ]
  },
  {
   "cell_type": "code",
   "execution_count": 27,
   "id": "433f8972-3023-4a02-874a-0d66c3177bca",
   "metadata": {},
   "outputs": [],
   "source": [
    "list2 = [[1,2,3],\n",
    "         [4,5,6],\n",
    "         [7,8,9]]\n",
    "\n",
    "arr2 =np.array(list2)"
   ]
  },
  {
   "cell_type": "code",
   "execution_count": 28,
   "id": "4c9c4796-62b1-497a-afee-f8f4be33f2f9",
   "metadata": {},
   "outputs": [
    {
     "data": {
      "text/plain": [
       "array([[1, 2, 3],\n",
       "       [4, 5, 6],\n",
       "       [7, 8, 9]])"
      ]
     },
     "execution_count": 28,
     "metadata": {},
     "output_type": "execute_result"
    }
   ],
   "source": [
    "arr2"
   ]
  },
  {
   "cell_type": "code",
   "execution_count": 29,
   "id": "936d045a-d7c2-4033-a698-b4676f759755",
   "metadata": {},
   "outputs": [
    {
     "data": {
      "text/plain": [
       "(3, 3)"
      ]
     },
     "execution_count": 29,
     "metadata": {},
     "output_type": "execute_result"
    }
   ],
   "source": [
    "arr2.shape"
   ]
  },
  {
   "cell_type": "code",
   "execution_count": 30,
   "id": "34d55208-cee3-4dd4-a6b2-80d984c6d097",
   "metadata": {},
   "outputs": [
    {
     "data": {
      "text/plain": [
       "2"
      ]
     },
     "execution_count": 30,
     "metadata": {},
     "output_type": "execute_result"
    }
   ],
   "source": [
    "arr2.ndim"
   ]
  },
  {
   "cell_type": "code",
   "execution_count": 33,
   "id": "254cf88d-f06f-4ce0-8c93-79e1cb95363c",
   "metadata": {},
   "outputs": [
    {
     "data": {
      "text/plain": [
       "array([[0, 0, 0, 0],\n",
       "       [0, 0, 0, 0],\n",
       "       [0, 0, 0, 0],\n",
       "       [0, 0, 0, 0]])"
      ]
     },
     "execution_count": 33,
     "metadata": {},
     "output_type": "execute_result"
    }
   ],
   "source": [
    "np.zeros(shape=(4,4), dtype= int)"
   ]
  },
  {
   "cell_type": "code",
   "execution_count": 39,
   "id": "d732d106-c493-4338-9b1e-998df2f6b8c5",
   "metadata": {},
   "outputs": [
    {
     "data": {
      "text/plain": [
       "array([[[1, 1, 1, 1, 1, 1],\n",
       "        [1, 1, 1, 1, 1, 1],\n",
       "        [1, 1, 1, 1, 1, 1],\n",
       "        [1, 1, 1, 1, 1, 1],\n",
       "        [1, 1, 1, 1, 1, 1],\n",
       "        [1, 1, 1, 1, 1, 1]],\n",
       "\n",
       "       [[1, 1, 1, 1, 1, 1],\n",
       "        [1, 1, 1, 1, 1, 1],\n",
       "        [1, 1, 1, 1, 1, 1],\n",
       "        [1, 1, 1, 1, 1, 1],\n",
       "        [1, 1, 1, 1, 1, 1],\n",
       "        [1, 1, 1, 1, 1, 1]]])"
      ]
     },
     "execution_count": 39,
     "metadata": {},
     "output_type": "execute_result"
    }
   ],
   "source": [
    "np.ones(shape=(2,6,6), dtype= \"int64\")"
   ]
  },
  {
   "cell_type": "code",
   "execution_count": 44,
   "id": "d33d58f4-f17b-44a1-b000-f8b701f2d019",
   "metadata": {},
   "outputs": [
    {
     "data": {
      "text/plain": [
       "array([[6.7, 6.7, 6.7, 6.7],\n",
       "       [6.7, 6.7, 6.7, 6.7],\n",
       "       [6.7, 6.7, 6.7, 6.7]])"
      ]
     },
     "execution_count": 44,
     "metadata": {},
     "output_type": "execute_result"
    }
   ],
   "source": [
    "np.full(shape=(3,4), fill_value=6.7)"
   ]
  },
  {
   "cell_type": "code",
   "execution_count": 45,
   "id": "c024f02f-df83-453f-a6c5-bb2edd74e811",
   "metadata": {},
   "outputs": [
    {
     "data": {
      "text/plain": [
       "array([ 1,  6, 11, 16, 21, 26, 31, 36, 41, 46, 51, 56, 61, 66, 71, 76, 81,\n",
       "       86])"
      ]
     },
     "execution_count": 45,
     "metadata": {},
     "output_type": "execute_result"
    }
   ],
   "source": [
    "np.arange(1,90,5)"
   ]
  },
  {
   "cell_type": "code",
   "execution_count": 49,
   "id": "b3cbdbcf-ceaf-43d8-a153-acd0d6560a32",
   "metadata": {},
   "outputs": [
    {
     "data": {
      "text/plain": [
       "array([[ 0.        ,  1.        ,  2.        ],\n",
       "       [ 0.52631579,  2.        ,  3.47368421],\n",
       "       [ 1.05263158,  3.        ,  4.94736842],\n",
       "       [ 1.57894737,  4.        ,  6.42105263],\n",
       "       [ 2.10526316,  5.        ,  7.89473684],\n",
       "       [ 2.63157895,  6.        ,  9.36842105],\n",
       "       [ 3.15789474,  7.        , 10.84210526],\n",
       "       [ 3.68421053,  8.        , 12.31578947],\n",
       "       [ 4.21052632,  9.        , 13.78947368],\n",
       "       [ 4.73684211, 10.        , 15.26315789],\n",
       "       [ 5.26315789, 11.        , 16.73684211],\n",
       "       [ 5.78947368, 12.        , 18.21052632],\n",
       "       [ 6.31578947, 13.        , 19.68421053],\n",
       "       [ 6.84210526, 14.        , 21.15789474],\n",
       "       [ 7.36842105, 15.        , 22.63157895],\n",
       "       [ 7.89473684, 16.        , 24.10526316],\n",
       "       [ 8.42105263, 17.        , 25.57894737],\n",
       "       [ 8.94736842, 18.        , 27.05263158],\n",
       "       [ 9.47368421, 19.        , 28.52631579],\n",
       "       [10.        , 20.        , 30.        ]])"
      ]
     },
     "execution_count": 49,
     "metadata": {},
     "output_type": "execute_result"
    }
   ],
   "source": [
    "np.linspace((0,1,2),(10,20,30),num=20)"
   ]
  },
  {
   "cell_type": "code",
   "execution_count": 51,
   "id": "2ac48777-5589-45a6-8b8f-ac45ba31a859",
   "metadata": {},
   "outputs": [
    {
     "data": {
      "text/plain": [
       "array([[1, 4],\n",
       "       [2, 9]], dtype=int32)"
      ]
     },
     "execution_count": 51,
     "metadata": {},
     "output_type": "execute_result"
    }
   ],
   "source": [
    "np.random.randint(1,10, size=(2,2))"
   ]
  },
  {
   "cell_type": "code",
   "execution_count": 2,
   "id": "7c79652b-3533-4fac-9482-c16f2f0c0e5f",
   "metadata": {},
   "outputs": [
    {
     "data": {
      "text/plain": [
       "array([[[[1, 1, 1]],\n",
       "\n",
       "        [[1, 1, 1]]],\n",
       "\n",
       "\n",
       "       [[[1, 1, 1]],\n",
       "\n",
       "        [[1, 1, 1]]]], dtype=int8)"
      ]
     },
     "execution_count": 2,
     "metadata": {},
     "output_type": "execute_result"
    }
   ],
   "source": [
    "np.ones(shape = (2, 2, 1, 3), dtype=\"int8\")"
   ]
  },
  {
   "cell_type": "markdown",
   "id": "4cb3d913-8b2f-4241-98bb-3ced21531058",
   "metadata": {},
   "source": [
    "Accessing an Array"
   ]
  },
  {
   "cell_type": "code",
   "execution_count": 4,
   "id": "1ac9ddc2-ed60-4564-b7d8-eb383758f4cc",
   "metadata": {},
   "outputs": [],
   "source": [
    "a = np.array([1,2,3,4,5])"
   ]
  },
  {
   "cell_type": "code",
   "execution_count": 5,
   "id": "ded8b6c6-496b-48fa-adb5-def8dce44c7b",
   "metadata": {},
   "outputs": [
    {
     "data": {
      "text/plain": [
       "np.int64(5)"
      ]
     },
     "execution_count": 5,
     "metadata": {},
     "output_type": "execute_result"
    }
   ],
   "source": [
    "a[4]"
   ]
  },
  {
   "cell_type": "code",
   "execution_count": 6,
   "id": "659e6892-762d-4e96-a4f1-f8f70d7ce9ad",
   "metadata": {},
   "outputs": [
    {
     "data": {
      "text/plain": [
       "array([1, 3])"
      ]
     },
     "execution_count": 6,
     "metadata": {},
     "output_type": "execute_result"
    }
   ],
   "source": [
    "a[0:4:2]"
   ]
  },
  {
   "cell_type": "code",
   "execution_count": 10,
   "id": "ccd300da-2db0-4f51-9f5a-0500509ca36d",
   "metadata": {},
   "outputs": [],
   "source": [
    "#2D\n",
    "b = np.random.randint(0,25, size=(3,3))"
   ]
  },
  {
   "cell_type": "code",
   "execution_count": 11,
   "id": "612008c4-efe4-4248-a69d-b699de21db88",
   "metadata": {},
   "outputs": [
    {
     "data": {
      "text/plain": [
       "array([[19, 21,  5],\n",
       "       [20,  5,  8],\n",
       "       [24, 18,  6]], dtype=int32)"
      ]
     },
     "execution_count": 11,
     "metadata": {},
     "output_type": "execute_result"
    }
   ],
   "source": [
    "b"
   ]
  },
  {
   "cell_type": "code",
   "execution_count": 12,
   "id": "61b715c4-9592-4d15-a4f7-b9b90f3c13f7",
   "metadata": {},
   "outputs": [
    {
     "data": {
      "text/plain": [
       "np.int32(5)"
      ]
     },
     "execution_count": 12,
     "metadata": {},
     "output_type": "execute_result"
    }
   ],
   "source": [
    "b[1,1]"
   ]
  },
  {
   "cell_type": "code",
   "execution_count": 14,
   "id": "db8ebd78-ce48-40df-832e-1f2235237227",
   "metadata": {},
   "outputs": [
    {
     "data": {
      "text/plain": [
       "np.int32(24)"
      ]
     },
     "execution_count": 14,
     "metadata": {},
     "output_type": "execute_result"
    }
   ],
   "source": [
    "b[-1,0]"
   ]
  },
  {
   "cell_type": "code",
   "execution_count": 15,
   "id": "eadb45b6-1ddd-4076-b71f-cfd292f94f40",
   "metadata": {},
   "outputs": [
    {
     "data": {
      "text/plain": [
       "array([[20,  5],\n",
       "       [24, 18]], dtype=int32)"
      ]
     },
     "execution_count": 15,
     "metadata": {},
     "output_type": "execute_result"
    }
   ],
   "source": [
    "#slicing 2d array\n",
    "b[1:3,:2]"
   ]
  },
  {
   "cell_type": "code",
   "execution_count": 17,
   "id": "d9f746a4-18c8-49c7-8c74-4a88749fe947",
   "metadata": {},
   "outputs": [
    {
     "data": {
      "text/plain": [
       "np.int32(8)"
      ]
     },
     "execution_count": 17,
     "metadata": {},
     "output_type": "execute_result"
    }
   ],
   "source": [
    "b[:,2][1]"
   ]
  },
  {
   "cell_type": "code",
   "execution_count": 25,
   "id": "071be4a3-08b8-47a8-829e-3956d5b0fcec",
   "metadata": {},
   "outputs": [],
   "source": [
    "#2D\n",
    "c = np.random.randint(0,25, size=(3,3,2))"
   ]
  },
  {
   "cell_type": "code",
   "execution_count": 26,
   "id": "44e8ad37-b628-4b40-acbf-2bb1d0801959",
   "metadata": {},
   "outputs": [
    {
     "data": {
      "text/plain": [
       "array([[[ 8,  0],\n",
       "        [18,  1],\n",
       "        [ 5,  9]],\n",
       "\n",
       "       [[ 4,  7],\n",
       "        [23,  9],\n",
       "        [ 1,  4]],\n",
       "\n",
       "       [[14,  3],\n",
       "        [10,  0],\n",
       "        [ 9,  6]]], dtype=int32)"
      ]
     },
     "execution_count": 26,
     "metadata": {},
     "output_type": "execute_result"
    }
   ],
   "source": [
    "c"
   ]
  },
  {
   "cell_type": "code",
   "execution_count": 22,
   "id": "0390dbfc-d9fd-42e0-bf4c-a3f45aa489c2",
   "metadata": {},
   "outputs": [
    {
     "data": {
      "text/plain": [
       "np.int32(0)"
      ]
     },
     "execution_count": 22,
     "metadata": {},
     "output_type": "execute_result"
    }
   ],
   "source": [
    "c[0,2,1]"
   ]
  },
  {
   "cell_type": "code",
   "execution_count": 27,
   "id": "12ce245e-7446-4592-a1ce-ddceecc939f0",
   "metadata": {},
   "outputs": [
    {
     "data": {
      "text/plain": [
       "array([[5, 9],\n",
       "       [1, 4],\n",
       "       [9, 6]], dtype=int32)"
      ]
     },
     "execution_count": 27,
     "metadata": {},
     "output_type": "execute_result"
    }
   ],
   "source": [
    "c[:,2,:]"
   ]
  },
  {
   "cell_type": "code",
   "execution_count": null,
   "id": "1c6f1410-ca95-4e81-a0ef-cf7100314791",
   "metadata": {},
   "outputs": [],
   "source": []
  },
  {
   "cell_type": "code",
   "execution_count": 30,
   "id": "1c95d60f-a743-4dea-8a0e-128990c5098b",
   "metadata": {},
   "outputs": [],
   "source": [
    "dataset = np.random.randint(0,100,(1600,25))"
   ]
  },
  {
   "cell_type": "code",
   "execution_count": 31,
   "id": "73e10c32-1d4b-4d16-8e8a-b303737a8079",
   "metadata": {},
   "outputs": [
    {
     "data": {
      "text/plain": [
       "(1600, 25)"
      ]
     },
     "execution_count": 31,
     "metadata": {},
     "output_type": "execute_result"
    }
   ],
   "source": [
    "dataset.shape"
   ]
  },
  {
   "cell_type": "code",
   "execution_count": 32,
   "id": "af715451-fd2e-4f2d-8715-62897ac8786d",
   "metadata": {},
   "outputs": [],
   "source": [
    "image_dataset = np.random.randint(0,100,(16,3,720,720))"
   ]
  },
  {
   "cell_type": "code",
   "execution_count": 34,
   "id": "d541940a-d6d0-4cdc-9776-646d4ae76953",
   "metadata": {},
   "outputs": [
    {
     "data": {
      "text/plain": [
       "array([[52, 97, 60, ..., 45,  3, 50],\n",
       "       [51, 93, 33, ..., 26, 15, 28],\n",
       "       [34, 90, 68, ..., 30, 65, 27],\n",
       "       ...,\n",
       "       [61, 18, 71, ..., 27, 12,  8],\n",
       "       [ 7, 42, 54, ..., 69, 26, 81],\n",
       "       [43, 54, 73, ..., 11, 89, 16]], shape=(720, 720), dtype=int32)"
      ]
     },
     "execution_count": 34,
     "metadata": {},
     "output_type": "execute_result"
    }
   ],
   "source": [
    "image_dataset[1,0,:,:]"
   ]
  },
  {
   "cell_type": "markdown",
   "id": "578a893c-64f9-4156-b2e3-bd06286e3321",
   "metadata": {},
   "source": [
    "Boolean or Mask Indexing"
   ]
  },
  {
   "cell_type": "code",
   "execution_count": 35,
   "id": "487e5d86-e205-468d-bffd-c4f2a9a57ee2",
   "metadata": {},
   "outputs": [],
   "source": [
    "a = np.random.randint(1,10,(5,5))"
   ]
  },
  {
   "cell_type": "code",
   "execution_count": 36,
   "id": "5c95e874-a7a9-4e44-8477-0216fbe9fbb1",
   "metadata": {},
   "outputs": [],
   "source": [
    "mask = a>5"
   ]
  },
  {
   "cell_type": "code",
   "execution_count": 37,
   "id": "9302590a-1bf1-4d83-9fd8-828b051ddfda",
   "metadata": {},
   "outputs": [
    {
     "data": {
      "text/plain": [
       "array([[False,  True, False,  True, False],\n",
       "       [False, False, False, False, False],\n",
       "       [ True, False, False, False,  True],\n",
       "       [False, False, False, False, False],\n",
       "       [False, False,  True, False, False]])"
      ]
     },
     "execution_count": 37,
     "metadata": {},
     "output_type": "execute_result"
    }
   ],
   "source": [
    "mask"
   ]
  },
  {
   "cell_type": "code",
   "execution_count": 38,
   "id": "bdb6850d-5cd9-411d-8eef-412bdaf100c4",
   "metadata": {},
   "outputs": [
    {
     "data": {
      "text/plain": [
       "array([6, 6, 6, 6, 6], dtype=int32)"
      ]
     },
     "execution_count": 38,
     "metadata": {},
     "output_type": "execute_result"
    }
   ],
   "source": [
    "a[mask]"
   ]
  },
  {
   "cell_type": "code",
   "execution_count": 39,
   "id": "e45a1bfb-18f5-4000-9125-cacf469642e8",
   "metadata": {},
   "outputs": [],
   "source": [
    "mask = [True, False, False, True, True]"
   ]
  },
  {
   "cell_type": "code",
   "execution_count": 42,
   "id": "19803cd3-bbd7-4e65-9a10-57f57af1ebbc",
   "metadata": {},
   "outputs": [
    {
     "data": {
      "text/plain": [
       "array([[1, 6, 5],\n",
       "       [4, 2, 1],\n",
       "       [6, 4, 6],\n",
       "       [2, 2, 2],\n",
       "       [4, 5, 5]], dtype=int32)"
      ]
     },
     "execution_count": 42,
     "metadata": {},
     "output_type": "execute_result"
    }
   ],
   "source": [
    "a[:,mask]"
   ]
  },
  {
   "cell_type": "code",
   "execution_count": 43,
   "id": "16521c40-3ea6-4a1f-99fe-7e6b3b0ff402",
   "metadata": {},
   "outputs": [
    {
     "data": {
      "text/plain": [
       "array([[1, 6, 3, 6, 5],\n",
       "       [4, 5, 4, 2, 1],\n",
       "       [6, 2, 4, 4, 6],\n",
       "       [2, 3, 4, 2, 2],\n",
       "       [4, 3, 6, 5, 5]], dtype=int32)"
      ]
     },
     "execution_count": 43,
     "metadata": {},
     "output_type": "execute_result"
    }
   ],
   "source": [
    "a"
   ]
  },
  {
   "cell_type": "code",
   "execution_count": null,
   "id": "4fc06ad9-b662-46ba-a132-ea8a04f4a5c3",
   "metadata": {},
   "outputs": [],
   "source": []
  }
 ],
 "metadata": {
  "kernelspec": {
   "display_name": "Python 3 (ipykernel)",
   "language": "python",
   "name": "python3"
  },
  "language_info": {
   "codemirror_mode": {
    "name": "ipython",
    "version": 3
   },
   "file_extension": ".py",
   "mimetype": "text/x-python",
   "name": "python",
   "nbconvert_exporter": "python",
   "pygments_lexer": "ipython3",
   "version": "3.13.5"
  }
 },
 "nbformat": 4,
 "nbformat_minor": 5
}
