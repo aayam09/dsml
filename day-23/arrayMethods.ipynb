{
 "cells": [
  {
   "cell_type": "markdown",
   "id": "d977506c-a367-4828-bc5e-ccdb34d13693",
   "metadata": {},
   "source": [
    "Array Methods`"
   ]
  },
  {
   "cell_type": "code",
   "execution_count": 1,
   "id": "a32ab975-7121-4a65-a8a8-9ce5b32807d1",
   "metadata": {},
   "outputs": [],
   "source": [
    "import numpy as np"
   ]
  },
  {
   "cell_type": "code",
   "execution_count": 11,
   "id": "6a2440e7-8dc2-454d-9943-dd4806dcaf05",
   "metadata": {},
   "outputs": [],
   "source": [
    "a = np.random.randint(10,50,size=(5,2,3), dtype=\"int64\")"
   ]
  },
  {
   "cell_type": "code",
   "execution_count": 12,
   "id": "227ce194-7e3a-4cbd-869c-15de98013614",
   "metadata": {},
   "outputs": [
    {
     "data": {
      "text/plain": [
       "(5, 2, 3)"
      ]
     },
     "execution_count": 12,
     "metadata": {},
     "output_type": "execute_result"
    }
   ],
   "source": [
    "a.shape"
   ]
  },
  {
   "cell_type": "code",
   "execution_count": 13,
   "id": "5c79ab47-989a-4b14-82b1-031f592156df",
   "metadata": {},
   "outputs": [
    {
     "data": {
      "text/plain": [
       "3"
      ]
     },
     "execution_count": 13,
     "metadata": {},
     "output_type": "execute_result"
    }
   ],
   "source": [
    "a.ndim"
   ]
  },
  {
   "cell_type": "code",
   "execution_count": 14,
   "id": "74f3bfe0-a070-45f0-b766-250115133671",
   "metadata": {},
   "outputs": [
    {
     "data": {
      "text/plain": [
       "dtype('int64')"
      ]
     },
     "execution_count": 14,
     "metadata": {},
     "output_type": "execute_result"
    }
   ],
   "source": [
    "a.dtype\n"
   ]
  },
  {
   "cell_type": "code",
   "execution_count": 15,
   "id": "b847cd51-fdcd-4666-9b7b-9b5b7cc9042e",
   "metadata": {},
   "outputs": [
    {
     "data": {
      "text/plain": [
       "30"
      ]
     },
     "execution_count": 15,
     "metadata": {},
     "output_type": "execute_result"
    }
   ],
   "source": [
    "a.size # numbe rof elements"
   ]
  },
  {
   "cell_type": "code",
   "execution_count": 16,
   "id": "100dca4a-b724-44a9-97aa-d8d5ff8f205e",
   "metadata": {},
   "outputs": [
    {
     "data": {
      "text/plain": [
       "array([[[35, 14, 37, 46, 25],\n",
       "        [48, 13, 23, 27, 27]],\n",
       "\n",
       "       [[15, 36, 44, 21, 28],\n",
       "        [22, 39, 48, 46, 49]],\n",
       "\n",
       "       [[18, 45, 10, 10, 47],\n",
       "        [19, 13, 32, 38, 31]]])"
      ]
     },
     "execution_count": 16,
     "metadata": {},
     "output_type": "execute_result"
    }
   ],
   "source": [
    "a.T"
   ]
  },
  {
   "cell_type": "code",
   "execution_count": 17,
   "id": "9801305f-f43f-4f9c-aa22-620ec19c6689",
   "metadata": {},
   "outputs": [
    {
     "data": {
      "text/plain": [
       "(5, 2, 3)"
      ]
     },
     "execution_count": 17,
     "metadata": {},
     "output_type": "execute_result"
    }
   ],
   "source": [
    "a.shape"
   ]
  },
  {
   "cell_type": "code",
   "execution_count": 18,
   "id": "4934b375-5101-4d46-aaba-de43969de861",
   "metadata": {},
   "outputs": [
    {
     "data": {
      "text/plain": [
       "array([[[35, 15],\n",
       "        [18, 48],\n",
       "        [22, 19],\n",
       "        [14, 36],\n",
       "        [45, 13]],\n",
       "\n",
       "       [[39, 13],\n",
       "        [37, 44],\n",
       "        [10, 23],\n",
       "        [48, 32],\n",
       "        [46, 21]],\n",
       "\n",
       "       [[10, 27],\n",
       "        [46, 38],\n",
       "        [25, 28],\n",
       "        [47, 27],\n",
       "        [49, 31]]])"
      ]
     },
     "execution_count": 18,
     "metadata": {},
     "output_type": "execute_result"
    }
   ],
   "source": [
    "a.reshape(3,5,2)"
   ]
  },
  {
   "cell_type": "code",
   "execution_count": 19,
   "id": "eff1ee11-7032-48f6-bea9-6241fa7b1653",
   "metadata": {},
   "outputs": [
    {
     "data": {
      "text/plain": [
       "array([[[35, 15],\n",
       "        [18, 48],\n",
       "        [22, 19],\n",
       "        [14, 36],\n",
       "        [45, 13]],\n",
       "\n",
       "       [[39, 13],\n",
       "        [37, 44],\n",
       "        [10, 23],\n",
       "        [48, 32],\n",
       "        [46, 21]],\n",
       "\n",
       "       [[10, 27],\n",
       "        [46, 38],\n",
       "        [25, 28],\n",
       "        [47, 27],\n",
       "        [49, 31]]])"
      ]
     },
     "execution_count": 19,
     "metadata": {},
     "output_type": "execute_result"
    }
   ],
   "source": [
    "a.reshape(-1,5,2)"
   ]
  },
  {
   "cell_type": "code",
   "execution_count": 22,
   "id": "f1ff9e50-8ae3-4393-9bb7-73e3adf51c6f",
   "metadata": {},
   "outputs": [
    {
     "data": {
      "text/plain": [
       "array([35, 15, 18, 48, 22, 19, 14, 36, 45, 13, 39, 13, 37, 44, 10, 23, 48,\n",
       "       32, 46, 21, 10, 27, 46, 38, 25, 28, 47, 27, 49, 31])"
      ]
     },
     "execution_count": 22,
     "metadata": {},
     "output_type": "execute_result"
    }
   ],
   "source": [
    "a.ravel()"
   ]
  },
  {
   "cell_type": "code",
   "execution_count": 23,
   "id": "bc6bc0fd-31cb-4c4a-b52c-616427d94f44",
   "metadata": {},
   "outputs": [
    {
     "data": {
      "text/plain": [
       "array([35, 15, 18, 48, 22, 19, 14, 36, 45, 13, 39, 13, 37, 44, 10, 23, 48,\n",
       "       32, 46, 21, 10, 27, 46, 38, 25, 28, 47, 27, 49, 31])"
      ]
     },
     "execution_count": 23,
     "metadata": {},
     "output_type": "execute_result"
    }
   ],
   "source": [
    "a.flatten()"
   ]
  },
  {
   "cell_type": "code",
   "execution_count": 40,
   "id": "0738e018-b2e7-454d-8b6e-5370b3241a2e",
   "metadata": {},
   "outputs": [
    {
     "name": "stdout",
     "output_type": "stream",
     "text": [
      "[[9 2 4]\n",
      " [5 9 8]]\n",
      "[[7 9 4]\n",
      " [7 1 8]]\n"
     ]
    }
   ],
   "source": [
    "b = np.random.randint(1,10,(2,3))\n",
    "c = np.random.randint(1,10,(2,3))\n",
    "print(b)\n",
    "print(c)"
   ]
  },
  {
   "cell_type": "code",
   "execution_count": 43,
   "id": "ec5f679e-4ed3-4a20-9858-a933d7abbcbe",
   "metadata": {},
   "outputs": [
    {
     "data": {
      "text/plain": [
       "array([[9, 2, 4],\n",
       "       [5, 9, 8],\n",
       "       [7, 9, 4],\n",
       "       [7, 1, 8]], dtype=int32)"
      ]
     },
     "execution_count": 43,
     "metadata": {},
     "output_type": "execute_result"
    }
   ],
   "source": [
    "d = np.concatenate([b,c], axis = 0)\n",
    "d"
   ]
  },
  {
   "cell_type": "markdown",
   "id": "d3a68865-4e31-4172-9d04-94f8e9d617ff",
   "metadata": {},
   "source": [
    "0 > column wise >vertical stack\n",
    "1 > row wise > horizental stack"
   ]
  },
  {
   "cell_type": "code",
   "execution_count": 44,
   "id": "d70d1ebb-fa84-4bef-9ddf-ed9162cf265a",
   "metadata": {},
   "outputs": [
    {
     "data": {
      "text/plain": [
       "array([[9, 2, 4],\n",
       "       [5, 9, 8],\n",
       "       [7, 9, 4],\n",
       "       [7, 1, 8]], dtype=int32)"
      ]
     },
     "execution_count": 44,
     "metadata": {},
     "output_type": "execute_result"
    }
   ],
   "source": [
    "np.vstack((b,c))"
   ]
  },
  {
   "cell_type": "code",
   "execution_count": 45,
   "id": "b37b0479-3e74-42b1-bd4b-8998fc56fd35",
   "metadata": {},
   "outputs": [
    {
     "data": {
      "text/plain": [
       "array([[9, 2, 4, 7, 9, 4],\n",
       "       [5, 9, 8, 7, 1, 8]], dtype=int32)"
      ]
     },
     "execution_count": 45,
     "metadata": {},
     "output_type": "execute_result"
    }
   ],
   "source": [
    "np.hstack((b,c))"
   ]
  },
  {
   "cell_type": "code",
   "execution_count": 51,
   "id": "984a2bbc-87a0-4aa1-99ef-e56087e8e4da",
   "metadata": {},
   "outputs": [
    {
     "data": {
      "text/plain": [
       "[array([[9],\n",
       "        [5],\n",
       "        [7],\n",
       "        [7]], dtype=int32),\n",
       " array([[2],\n",
       "        [9],\n",
       "        [9],\n",
       "        [1]], dtype=int32),\n",
       " array([[4],\n",
       "        [8],\n",
       "        [4],\n",
       "        [8]], dtype=int32)]"
      ]
     },
     "execution_count": 51,
     "metadata": {},
     "output_type": "execute_result"
    }
   ],
   "source": [
    "np.split(d,3, axis=1)"
   ]
  },
  {
   "cell_type": "code",
   "execution_count": null,
   "id": "df42d448-ecc7-4114-9f0b-8d76e9884124",
   "metadata": {},
   "outputs": [],
   "source": []
  },
  {
   "cell_type": "code",
   "execution_count": 26,
   "id": "c7d78692-9a10-4eb3-9aa1-4605b96b6e29",
   "metadata": {},
   "outputs": [
    {
     "data": {
      "text/plain": [
       "array([[16, 14, 11, 17,  5,  6],\n",
       "       [ 2, 10,  9, 19, 14,  6],\n",
       "       [14,  9, 12,  2, 10, 10],\n",
       "       [ 6,  7, 14,  3, 15, 14]], dtype=int32)"
      ]
     },
     "execution_count": 26,
     "metadata": {},
     "output_type": "execute_result"
    }
   ],
   "source": [
    "z = np.random.randint(2,20,(4,6))\n",
    "z"
   ]
  },
  {
   "cell_type": "code",
   "execution_count": 27,
   "id": "c192aa2c-969d-405c-837f-79dc61e66614",
   "metadata": {},
   "outputs": [
    {
     "data": {
      "text/plain": [
       "array([38, 40, 46, 41, 44, 36])"
      ]
     },
     "execution_count": 27,
     "metadata": {},
     "output_type": "execute_result"
    }
   ],
   "source": [
    "z.sum(axis = 0)"
   ]
  },
  {
   "cell_type": "code",
   "execution_count": 28,
   "id": "72397d0a-df92-44c0-b797-8462705ca9b0",
   "metadata": {},
   "outputs": [
    {
     "data": {
      "text/plain": [
       "array([ 2688,  8820, 16632,  1938, 10500,  5040])"
      ]
     },
     "execution_count": 28,
     "metadata": {},
     "output_type": "execute_result"
    }
   ],
   "source": [
    "z.prod(axis = 0)"
   ]
  },
  {
   "cell_type": "code",
   "execution_count": 29,
   "id": "a38abc2e-660c-4783-a964-b61ecb7d3c48",
   "metadata": {},
   "outputs": [
    {
     "data": {
      "text/plain": [
       "array([[16, 14, 11, 17,  5,  6],\n",
       "       [18, 24, 20, 36, 19, 12],\n",
       "       [32, 33, 32, 38, 29, 22],\n",
       "       [38, 40, 46, 41, 44, 36]])"
      ]
     },
     "execution_count": 29,
     "metadata": {},
     "output_type": "execute_result"
    }
   ],
   "source": [
    "z.cumsum(axis = 0)"
   ]
  },
  {
   "cell_type": "code",
   "execution_count": 30,
   "id": "8f669815-2cdb-494a-8ddf-3128951dbe95",
   "metadata": {},
   "outputs": [
    {
     "data": {
      "text/plain": [
       "array([5, 2, 2, 3], dtype=int32)"
      ]
     },
     "execution_count": 30,
     "metadata": {},
     "output_type": "execute_result"
    }
   ],
   "source": [
    "z.min(axis = 1)"
   ]
  },
  {
   "cell_type": "code",
   "execution_count": 31,
   "id": "cc10dcb6-e4c7-4b76-9380-236ff572b9fa",
   "metadata": {},
   "outputs": [
    {
     "data": {
      "text/plain": [
       "array([17, 19, 14, 15], dtype=int32)"
      ]
     },
     "execution_count": 31,
     "metadata": {},
     "output_type": "execute_result"
    }
   ],
   "source": [
    "z.max(axis = 1)"
   ]
  },
  {
   "cell_type": "code",
   "execution_count": 32,
   "id": "86209408-c985-4a29-ad78-ff0932ea341f",
   "metadata": {},
   "outputs": [
    {
     "data": {
      "text/plain": [
       "array([3, 3, 0, 4])"
      ]
     },
     "execution_count": 32,
     "metadata": {},
     "output_type": "execute_result"
    }
   ],
   "source": [
    "z.argmax(axis = 1)"
   ]
  },
  {
   "cell_type": "code",
   "execution_count": 33,
   "id": "4fe5f095-1a12-4418-aa91-99cf038cf0c0",
   "metadata": {},
   "outputs": [
    {
     "data": {
      "text/plain": [
       "array([[16, 14, 11, 17,  5,  6],\n",
       "       [ 2, 10,  9, 19, 14,  6],\n",
       "       [14,  9, 12,  2, 10, 10],\n",
       "       [ 6,  7, 14,  3, 15, 14]], dtype=int32)"
      ]
     },
     "execution_count": 33,
     "metadata": {},
     "output_type": "execute_result"
    }
   ],
   "source": [
    "z"
   ]
  },
  {
   "cell_type": "code",
   "execution_count": 34,
   "id": "aad2e679-a280-4434-9501-46c75301e0e6",
   "metadata": {},
   "outputs": [
    {
     "data": {
      "text/plain": [
       "array([4, 0, 3, 3])"
      ]
     },
     "execution_count": 34,
     "metadata": {},
     "output_type": "execute_result"
    }
   ],
   "source": [
    "z.argmin(axis = 1)"
   ]
  },
  {
   "cell_type": "code",
   "execution_count": 36,
   "id": "e7c6583c-3ba5-4518-a3f3-9e696f53eaa7",
   "metadata": {},
   "outputs": [
    {
     "data": {
      "text/plain": [
       "array([[10, 10, 10, 10,  5,  6],\n",
       "       [ 5, 10,  9, 10, 10,  6],\n",
       "       [10,  9, 10,  5, 10, 10],\n",
       "       [ 6,  7, 10,  5, 10, 10]], dtype=int32)"
      ]
     },
     "execution_count": 36,
     "metadata": {},
     "output_type": "execute_result"
    }
   ],
   "source": [
    "z.clip(5,10)"
   ]
  },
  {
   "cell_type": "code",
   "execution_count": null,
   "id": "e2fa6ad4-34f4-4009-9f60-dc42eaa06cfe",
   "metadata": {},
   "outputs": [],
   "source": []
  }
 ],
 "metadata": {
  "kernelspec": {
   "display_name": "Python 3 (ipykernel)",
   "language": "python",
   "name": "python3"
  },
  "language_info": {
   "codemirror_mode": {
    "name": "ipython",
    "version": 3
   },
   "file_extension": ".py",
   "mimetype": "text/x-python",
   "name": "python",
   "nbconvert_exporter": "python",
   "pygments_lexer": "ipython3",
   "version": "3.13.5"
  }
 },
 "nbformat": 4,
 "nbformat_minor": 5
}
