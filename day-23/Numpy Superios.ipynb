{
 "cells": [
  {
   "cell_type": "markdown",
   "id": "edf7def0-1372-48c8-b9f7-7469668418e4",
   "metadata": {},
   "source": [
    "## Why Numpy over Python `for` Loop?\n"
   ]
  },
  {
   "cell_type": "markdown",
   "id": "b058bac9-cb60-4f18-ae12-e81e04161911",
   "metadata": {},
   "source": [
    "NumPy is faster than Python for loops because it is designed to perform operations on entire arrays rather than individual elements. This allows it to take advantage of lower-level optimizations such as vectorization and caching. Here's an example that illustrates the performance difference between NumPy and Python for loops:"
   ]
  },
  {
   "cell_type": "code",
   "execution_count": 1,
   "id": "4c921e10-f753-457f-bed1-0988c5cf1137",
   "metadata": {},
   "outputs": [],
   "source": [
    "import numpy as np\n",
    "import time"
   ]
  },
  {
   "cell_type": "code",
   "execution_count": 2,
   "id": "dd051981-9aa3-46ab-881c-529945dc70dd",
   "metadata": {},
   "outputs": [],
   "source": [
    "a = np.random.rand(90_000_000)\n",
    "b = np.random.rand(90_000_000)"
   ]
  },
  {
   "cell_type": "code",
   "execution_count": 3,
   "id": "545f3845-b2fd-4cb7-9760-516d6bbae536",
   "metadata": {},
   "outputs": [],
   "source": [
    "# Using Pure Python\n",
    "st = time.time()\n",
    "res = []\n",
    "for _a, _b in zip(list(a),list(b)):\n",
    "    res.append(_a*_b)\n",
    "end = time.time()"
   ]
  },
  {
   "cell_type": "code",
   "execution_count": 4,
   "id": "2b6573e8-8fdd-4943-800a-f828015f24e0",
   "metadata": {},
   "outputs": [
    {
     "name": "stdout",
     "output_type": "stream",
     "text": [
      "Time Taken by python loop 49.14917778968811 sec\n"
     ]
    }
   ],
   "source": [
    "print(f\"Time Taken by python loop {end - st} sec\")"
   ]
  },
  {
   "cell_type": "code",
   "execution_count": 5,
   "id": "5b846564-87a4-46a3-a858-7ee5572a43b3",
   "metadata": {},
   "outputs": [],
   "source": [
    "# List Comprehensions\n",
    "\n",
    "st = time.time()\n",
    "res = [_a*_b for _a, _b in zip(list(a),list(b))]\n",
    "end = time.time()"
   ]
  },
  {
   "cell_type": "code",
   "execution_count": 6,
   "id": "f5397422-955c-4ca9-afae-15dc45c415fd",
   "metadata": {},
   "outputs": [
    {
     "name": "stdout",
     "output_type": "stream",
     "text": [
      "Time Taken by list comprehension 23.662627696990967 sec\n"
     ]
    }
   ],
   "source": [
    "print(f\"Time Taken by list comprehension {end - st} sec\")"
   ]
  },
  {
   "cell_type": "code",
   "execution_count": 4,
   "id": "9cb8e4f5-e22f-4900-b5e6-060fe66c04af",
   "metadata": {},
   "outputs": [],
   "source": [
    "# Map Objects\n",
    "\n",
    "st = time.time()\n",
    "gen = map(lambda x,y : x*y, list(a), list(b))\n",
    "res = list(gen)\n",
    "end = time.time()\n"
   ]
  },
  {
   "cell_type": "code",
   "execution_count": 5,
   "id": "b833e900-f478-4172-adc4-218facfbae5b",
   "metadata": {},
   "outputs": [
    {
     "name": "stdout",
     "output_type": "stream",
     "text": [
      "Time Taken by map objects 23.455513954162598 sec\n"
     ]
    }
   ],
   "source": [
    "print(f\"Time Taken by map objects {end - st} sec\")"
   ]
  },
  {
   "cell_type": "code",
   "execution_count": 3,
   "id": "737cad85-ad9c-4608-9045-9f98d1a5a233",
   "metadata": {},
   "outputs": [],
   "source": [
    "# NUmpy operations\n",
    "\n",
    "st = time.time()\n",
    "res = a * b\n",
    "end = time.time()\n"
   ]
  },
  {
   "cell_type": "code",
   "execution_count": 4,
   "id": "5b82cf6b-d5e0-421d-9076-885c899f1ecc",
   "metadata": {},
   "outputs": [
    {
     "name": "stdout",
     "output_type": "stream",
     "text": [
      "Time Taken by numpy operations 0.1859755516052246 sec\n"
     ]
    }
   ],
   "source": [
    "print(f\"Time Taken by numpy operations {end - st} sec\")"
   ]
  },
  {
   "cell_type": "code",
   "execution_count": null,
   "id": "2e97cd44-64e1-4005-8e24-399f48edef54",
   "metadata": {},
   "outputs": [],
   "source": []
  },
  {
   "cell_type": "code",
   "execution_count": null,
   "id": "f7351416-1064-49ab-a4ab-52fabf8f5f55",
   "metadata": {},
   "outputs": [],
   "source": []
  }
 ],
 "metadata": {
  "kernelspec": {
   "display_name": "Python 3 (ipykernel)",
   "language": "python",
   "name": "python3"
  },
  "language_info": {
   "codemirror_mode": {
    "name": "ipython",
    "version": 3
   },
   "file_extension": ".py",
   "mimetype": "text/x-python",
   "name": "python",
   "nbconvert_exporter": "python",
   "pygments_lexer": "ipython3",
   "version": "3.13.5"
  }
 },
 "nbformat": 4,
 "nbformat_minor": 5
}
