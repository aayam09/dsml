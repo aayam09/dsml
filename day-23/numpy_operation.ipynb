{
 "cells": [
  {
   "cell_type": "code",
   "execution_count": 13,
   "id": "d209205c-f3a5-425d-b0b5-efae71935bde",
   "metadata": {},
   "outputs": [],
   "source": [
    "import numpy as np"
   ]
  },
  {
   "cell_type": "code",
   "execution_count": 14,
   "id": "8da0a226-09c7-4c9a-b73c-e2e1397f3b1e",
   "metadata": {},
   "outputs": [],
   "source": [
    "a = np.array([[4,5,6],[5,7,9]])\n",
    "b = np.array([[3,2,1],[9,8,1]])"
   ]
  },
  {
   "cell_type": "code",
   "execution_count": 15,
   "id": "b1c0762f-1116-4718-ad3c-94660ee1ff82",
   "metadata": {},
   "outputs": [
    {
     "data": {
      "text/plain": [
       "(array([[4, 5, 6],\n",
       "        [5, 7, 9]]),\n",
       " array([[3, 2, 1],\n",
       "        [9, 8, 1]]))"
      ]
     },
     "execution_count": 15,
     "metadata": {},
     "output_type": "execute_result"
    }
   ],
   "source": [
    "a,b"
   ]
  },
  {
   "cell_type": "markdown",
   "id": "d7660e1e-282a-49fb-9e09-fff45b5b84ae",
   "metadata": {},
   "source": [
    "Arithmetic Operation"
   ]
  },
  {
   "cell_type": "code",
   "execution_count": 16,
   "id": "61bfb8b1-ee68-49dd-b916-a850ba10ac66",
   "metadata": {},
   "outputs": [
    {
     "data": {
      "text/plain": [
       "array([[ 7,  7,  7],\n",
       "       [14, 15, 10]])"
      ]
     },
     "execution_count": 16,
     "metadata": {},
     "output_type": "execute_result"
    }
   ],
   "source": [
    "np.add(a,b)"
   ]
  },
  {
   "cell_type": "code",
   "execution_count": 17,
   "id": "20b63162-1831-45b3-bcf5-4d54df4cab14",
   "metadata": {},
   "outputs": [
    {
     "data": {
      "text/plain": [
       "array([[ 1,  3,  5],\n",
       "       [-4, -1,  8]])"
      ]
     },
     "execution_count": 17,
     "metadata": {},
     "output_type": "execute_result"
    }
   ],
   "source": [
    "np.subtract(a,b)"
   ]
  },
  {
   "cell_type": "code",
   "execution_count": 18,
   "id": "afc3afcc-7ada-4d72-836e-1fafd35029bd",
   "metadata": {},
   "outputs": [
    {
     "data": {
      "text/plain": [
       "array([[12, 10,  6],\n",
       "       [45, 56,  9]])"
      ]
     },
     "execution_count": 18,
     "metadata": {},
     "output_type": "execute_result"
    }
   ],
   "source": [
    "np.multiply(a,b)"
   ]
  },
  {
   "cell_type": "code",
   "execution_count": 19,
   "id": "6615bf2f-e34d-4308-8446-3aa41397520d",
   "metadata": {},
   "outputs": [
    {
     "data": {
      "text/plain": [
       "array([[16, 25, 36],\n",
       "       [25, 49, 81]])"
      ]
     },
     "execution_count": 19,
     "metadata": {},
     "output_type": "execute_result"
    }
   ],
   "source": [
    "a ** 2"
   ]
  },
  {
   "cell_type": "code",
   "execution_count": 20,
   "id": "6a1ac210-3791-4f93-b2af-5cd784f5663b",
   "metadata": {},
   "outputs": [
    {
     "data": {
      "text/plain": [
       "array([[ 1024,  3125,  7776],\n",
       "       [ 3125, 16807, 59049]])"
      ]
     },
     "execution_count": 20,
     "metadata": {},
     "output_type": "execute_result"
    }
   ],
   "source": [
    "np.pow(a,5)"
   ]
  },
  {
   "cell_type": "code",
   "execution_count": 21,
   "id": "e5365dd6-da95-4084-860b-e353094fd12e",
   "metadata": {},
   "outputs": [
    {
     "data": {
      "text/plain": [
       "array([[1, 1, 0],\n",
       "       [5, 7, 0]])"
      ]
     },
     "execution_count": 21,
     "metadata": {},
     "output_type": "execute_result"
    }
   ],
   "source": [
    "a % b"
   ]
  },
  {
   "cell_type": "code",
   "execution_count": 22,
   "id": "0282c816-ce71-4afb-8c52-76c385f8d689",
   "metadata": {},
   "outputs": [
    {
     "data": {
      "text/plain": [
       "(array([[1, 2, 6],\n",
       "        [0, 0, 9]]),\n",
       " array([[1, 1, 0],\n",
       "        [5, 7, 0]]))"
      ]
     },
     "execution_count": 22,
     "metadata": {},
     "output_type": "execute_result"
    }
   ],
   "source": [
    "np.divmod(a,b)"
   ]
  },
  {
   "cell_type": "code",
   "execution_count": 23,
   "id": "d8f2617b-5c3b-4162-889f-94262ffdfe07",
   "metadata": {},
   "outputs": [
    {
     "data": {
      "text/plain": [
       "array([[4, 5, 6],\n",
       "       [5, 7, 9]])"
      ]
     },
     "execution_count": 23,
     "metadata": {},
     "output_type": "execute_result"
    }
   ],
   "source": [
    "np.ceil"
   ]
  },
  {
   "cell_type": "code",
   "execution_count": 25,
   "id": "7d96a1de-3009-48d7-8f0c-a8cedfe3f1ad",
   "metadata": {},
   "outputs": [
    {
     "data": {
      "text/plain": [
       "array([[2.        , 2.23606798, 2.44948974],\n",
       "       [2.23606798, 2.64575131, 3.        ]])"
      ]
     },
     "execution_count": 25,
     "metadata": {},
     "output_type": "execute_result"
    }
   ],
   "source": [
    "np.sqrt(a)"
   ]
  },
  {
   "cell_type": "code",
   "execution_count": null,
   "id": "ee1213d1-4039-4a5d-9e56-80a61658617a",
   "metadata": {},
   "outputs": [],
   "source": []
  },
  {
   "cell_type": "markdown",
   "id": "ba2c5f09-0dde-4ede-a32a-b41b51d45f0d",
   "metadata": {},
   "source": [
    "Trignometric"
   ]
  },
  {
   "cell_type": "code",
   "execution_count": 26,
   "id": "34125af9-1d6d-4672-8ebb-36fdbbeb7fd3",
   "metadata": {},
   "outputs": [
    {
     "data": {
      "text/plain": [
       "array([[-0.7568025 , -0.95892427, -0.2794155 ],\n",
       "       [-0.95892427,  0.6569866 ,  0.41211849]])"
      ]
     },
     "execution_count": 26,
     "metadata": {},
     "output_type": "execute_result"
    }
   ],
   "source": [
    "np.sin(a)"
   ]
  },
  {
   "cell_type": "code",
   "execution_count": 28,
   "id": "c509e502-20e6-468a-b9d9-31aca9403c3c",
   "metadata": {},
   "outputs": [
    {
     "data": {
      "text/plain": [
       "array([[ 0.86369115, -0.29581292, -3.436353  ],\n",
       "       [-0.29581292,  1.14751542, -2.21084541]])"
      ]
     },
     "execution_count": 28,
     "metadata": {},
     "output_type": "execute_result"
    }
   ],
   "source": [
    "new = 1/ np.tan(a)\n",
    "new"
   ]
  },
  {
   "cell_type": "markdown",
   "id": "b3ea8e61-f11f-4eb8-95b8-75ce80b2542e",
   "metadata": {},
   "source": [
    "Rounding Operation"
   ]
  },
  {
   "cell_type": "code",
   "execution_count": 30,
   "id": "42cdbd38-b9a0-48b1-8988-ae78ee15ea08",
   "metadata": {},
   "outputs": [
    {
     "data": {
      "text/plain": [
       "array([[ 0.864, -0.296, -3.436],\n",
       "       [-0.296,  1.148, -2.211]])"
      ]
     },
     "execution_count": 30,
     "metadata": {},
     "output_type": "execute_result"
    }
   ],
   "source": [
    "np.round(new, decimals=3)"
   ]
  },
  {
   "cell_type": "code",
   "execution_count": 31,
   "id": "649b592e-3523-4c97-ae52-7df207b8c253",
   "metadata": {},
   "outputs": [
    {
     "data": {
      "text/plain": [
       "array([[ 0., -0., -3.],\n",
       "       [-0.,  1., -2.]])"
      ]
     },
     "execution_count": 31,
     "metadata": {},
     "output_type": "execute_result"
    }
   ],
   "source": [
    "np.fix(new)"
   ]
  },
  {
   "cell_type": "code",
   "execution_count": 32,
   "id": "55bab629-22de-4a96-a2bd-9633bfb666cf",
   "metadata": {},
   "outputs": [
    {
     "data": {
      "text/plain": [
       "array([[ 1., -0., -3.],\n",
       "       [-0.,  2., -2.]])"
      ]
     },
     "execution_count": 32,
     "metadata": {},
     "output_type": "execute_result"
    }
   ],
   "source": [
    "np.ceil(new)"
   ]
  },
  {
   "cell_type": "code",
   "execution_count": null,
   "id": "c32b507f-8483-41c3-87e3-b0d423aa91af",
   "metadata": {},
   "outputs": [],
   "source": []
  }
 ],
 "metadata": {
  "kernelspec": {
   "display_name": "Python 3 (ipykernel)",
   "language": "python",
   "name": "python3"
  },
  "language_info": {
   "codemirror_mode": {
    "name": "ipython",
    "version": 3
   },
   "file_extension": ".py",
   "mimetype": "text/x-python",
   "name": "python",
   "nbconvert_exporter": "python",
   "pygments_lexer": "ipython3",
   "version": "3.13.5"
  }
 },
 "nbformat": 4,
 "nbformat_minor": 5
}
