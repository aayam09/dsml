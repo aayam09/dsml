{
 "cells": [
  {
   "cell_type": "markdown",
   "id": "cac62a21-63d2-4a25-8f8c-c0fe5ed0cab9",
   "metadata": {},
   "source": [
    "Exam Proctoring Timer Using Time and Exception Handling\n",
    "*Scenario:*\n",
    "You are simulating an exam timer.\n",
    "\n",
    " \n",
    "\n",
    "* Ask the user how many seconds the test should run.\n",
    "* Use `time.sleep()` to create a countdown.\n",
    "* Handle input errors like non-numeric or negative time using custom exceptions.\n",
    "\n",
    " \n",
    "\n",
    "> Concepts: Time, Exception Handling, Custom Classes\n",
    "\n",
    "\n"
   ]
  },
  {
   "cell_type": "code",
   "execution_count": 16,
   "id": "ff564403-44c1-462e-990b-507db384e7c1",
   "metadata": {},
   "outputs": [
    {
     "name": "stdout",
     "output_type": "stream",
     "text": [
      "Time's up!remaining   \n"
     ]
    }
   ],
   "source": [
    "import time\n",
    "\n",
    "class TimeSimulator:\n",
    "    def countdown(self, seconds):\n",
    "        try:\n",
    "            if not isinstance(seconds, int):\n",
    "                raise TypeError(\"Input must be an integer\")\n",
    "            if seconds <= 0:\n",
    "                raise ValueError(\"Time must be a positive integer\")\n",
    "            for x in range(seconds, 0, -1):\n",
    "                time.sleep(1)\n",
    "                print(f\"{x} seconds remaining   \", end =\"\\r\")\n",
    "            print(\"Time's up!\")\n",
    "        except TypeError as e:\n",
    "            print(f\"Error: {e}\")\n",
    "        except ValueError as e:\n",
    "            print(f\"Error: {e}\")\n",
    "\n",
    "simulator = TimeSimulator()\n",
    "simulator.countdown(5)"
   ]
  },
  {
   "cell_type": "code",
   "execution_count": null,
   "id": "d1183669-9f28-473b-9113-f14cce718156",
   "metadata": {},
   "outputs": [],
   "source": []
  }
 ],
 "metadata": {
  "kernelspec": {
   "display_name": "Python 3 (ipykernel)",
   "language": "python",
   "name": "python3"
  },
  "language_info": {
   "codemirror_mode": {
    "name": "ipython",
    "version": 3
   },
   "file_extension": ".py",
   "mimetype": "text/x-python",
   "name": "python",
   "nbconvert_exporter": "python",
   "pygments_lexer": "ipython3",
   "version": "3.13.5"
  }
 },
 "nbformat": 4,
 "nbformat_minor": 5
}
