{
 "cells": [
  {
   "cell_type": "markdown",
   "id": "2ed331b1-f503-4537-b3a0-4e8478a6d0ff",
   "metadata": {},
   "source": [
    "python Property Decorater"
   ]
  },
  {
   "cell_type": "markdown",
   "id": "12909718-a214-4ba4-9c2f-7d9933103ad2",
   "metadata": {},
   "source": [
    "Getter"
   ]
  },
  {
   "cell_type": "code",
   "execution_count": 9,
   "id": "7bde9550-cef9-479b-aca6-423aae0587b2",
   "metadata": {},
   "outputs": [],
   "source": [
    "class Person:\n",
    "    def __init__(self,name):\n",
    "        self.__fullname = name\n",
    "    \n",
    "    @property\n",
    "    def name(self):\n",
    "        print(\"getting name\")\n",
    "        return self.__fullname"
   ]
  },
  {
   "cell_type": "code",
   "execution_count": 10,
   "id": "60db177d-9f30-44be-9c28-b36be158a502",
   "metadata": {},
   "outputs": [],
   "source": [
    "person = Person(\"han solo\")"
   ]
  },
  {
   "cell_type": "code",
   "execution_count": 12,
   "id": "64ea0b1a-5dfd-43af-9653-706ecd9cedd5",
   "metadata": {},
   "outputs": [
    {
     "name": "stdout",
     "output_type": "stream",
     "text": [
      "getting name\n"
     ]
    },
    {
     "data": {
      "text/plain": [
       "'han solo'"
      ]
     },
     "execution_count": 12,
     "metadata": {},
     "output_type": "execute_result"
    }
   ],
   "source": [
    "person.name"
   ]
  },
  {
   "cell_type": "code",
   "execution_count": 13,
   "id": "b9c23ab7-6c69-49d5-a4e6-e9db55a52cac",
   "metadata": {},
   "outputs": [
    {
     "ename": "AttributeError",
     "evalue": "property 'name' of 'Person' object has no setter",
     "output_type": "error",
     "traceback": [
      "\u001b[31m---------------------------------------------------------------------------\u001b[39m",
      "\u001b[31mAttributeError\u001b[39m                            Traceback (most recent call last)",
      "\u001b[36mCell\u001b[39m\u001b[36m \u001b[39m\u001b[32mIn[13]\u001b[39m\u001b[32m, line 1\u001b[39m\n\u001b[32m----> \u001b[39m\u001b[32m1\u001b[39m \u001b[43mperson\u001b[49m\u001b[43m.\u001b[49m\u001b[43mname\u001b[49m = \u001b[32m9\u001b[39m\n",
      "\u001b[31mAttributeError\u001b[39m: property 'name' of 'Person' object has no setter"
     ]
    }
   ],
   "source": [
    "person.name = 9"
   ]
  },
  {
   "cell_type": "markdown",
   "id": "7641ce84-7503-4b0a-9994-53ca86ce7853",
   "metadata": {},
   "source": [
    "Setter"
   ]
  },
  {
   "cell_type": "code",
   "execution_count": 28,
   "id": "82f30728-7af6-425a-b77d-1f5beaaa9293",
   "metadata": {},
   "outputs": [],
   "source": [
    "class Person:\n",
    "    def __init__(self,name):\n",
    "        self.__fullname = name\n",
    "    \n",
    "    @property\n",
    "    def name(self):\n",
    "        print(\"getting name\")\n",
    "        return self.__fullname\n",
    "\n",
    "    @name.setter\n",
    "    def name(self,value):\n",
    "        print(\"setting name\")\n",
    "        self.__fullname = value"
   ]
  },
  {
   "cell_type": "code",
   "execution_count": 29,
   "id": "7b2dee3c-48e2-4311-b959-d19aed8fbe39",
   "metadata": {},
   "outputs": [],
   "source": [
    "person = Person(\"han solo\")"
   ]
  },
  {
   "cell_type": "code",
   "execution_count": 30,
   "id": "ca2ccfe3-cc1b-49b1-929e-961162f298c3",
   "metadata": {},
   "outputs": [
    {
     "name": "stdout",
     "output_type": "stream",
     "text": [
      "getting name\n"
     ]
    },
    {
     "data": {
      "text/plain": [
       "'han solo'"
      ]
     },
     "execution_count": 30,
     "metadata": {},
     "output_type": "execute_result"
    }
   ],
   "source": [
    "person.name"
   ]
  },
  {
   "cell_type": "code",
   "execution_count": 31,
   "id": "266303df-9c0f-4deb-80d7-0b71050323f2",
   "metadata": {},
   "outputs": [
    {
     "name": "stdout",
     "output_type": "stream",
     "text": [
      "setting name\n"
     ]
    }
   ],
   "source": [
    "person.name = \"aayam\""
   ]
  },
  {
   "cell_type": "code",
   "execution_count": 32,
   "id": "d0c108fd-0dfe-43a1-8443-2d25b4987786",
   "metadata": {},
   "outputs": [
    {
     "name": "stdout",
     "output_type": "stream",
     "text": [
      "getting name\n"
     ]
    },
    {
     "data": {
      "text/plain": [
       "'aayam'"
      ]
     },
     "execution_count": 32,
     "metadata": {},
     "output_type": "execute_result"
    }
   ],
   "source": [
    "person.name"
   ]
  },
  {
   "cell_type": "markdown",
   "id": "a421e323-07ac-480f-aac3-0bc8e0b56eb5",
   "metadata": {},
   "source": [
    "Deleter"
   ]
  },
  {
   "cell_type": "code",
   "execution_count": 34,
   "id": "24dd2cdf-21a0-4a62-8303-26995f3a15e5",
   "metadata": {},
   "outputs": [],
   "source": [
    "class Person:\n",
    "    def __init__(self,name):\n",
    "        self.__fullname = name\n",
    "    \n",
    "    @property\n",
    "    def name(self):\n",
    "        print(\"getting name\")\n",
    "        return self.__fullname\n",
    "\n",
    "    @name.setter\n",
    "    def name(self,value):\n",
    "        print(\"setting name\")\n",
    "        self.__fullname = value\n",
    "\n",
    "    @name.deleter\n",
    "    def name(self):\n",
    "        print(\"deleting name\")\n",
    "        del self.__fullname"
   ]
  },
  {
   "cell_type": "code",
   "execution_count": 35,
   "id": "d209fdbd-b271-4a99-bd69-73a8ed0cc0b5",
   "metadata": {},
   "outputs": [],
   "source": [
    "person = Person(\"john cena\")"
   ]
  },
  {
   "cell_type": "code",
   "execution_count": 36,
   "id": "08e9dbf7-10b6-4acc-80e0-e332783ad1b2",
   "metadata": {},
   "outputs": [
    {
     "name": "stdout",
     "output_type": "stream",
     "text": [
      "getting name\n"
     ]
    },
    {
     "data": {
      "text/plain": [
       "'john cena'"
      ]
     },
     "execution_count": 36,
     "metadata": {},
     "output_type": "execute_result"
    }
   ],
   "source": [
    "person.name"
   ]
  },
  {
   "cell_type": "code",
   "execution_count": 37,
   "id": "76166bc6-dd6b-4f29-9205-e95c63d04125",
   "metadata": {},
   "outputs": [
    {
     "name": "stdout",
     "output_type": "stream",
     "text": [
      "deleting name\n"
     ]
    }
   ],
   "source": [
    "del person.name"
   ]
  },
  {
   "cell_type": "code",
   "execution_count": 38,
   "id": "d74905c6-a1c4-44a4-808a-570dac6582b0",
   "metadata": {},
   "outputs": [
    {
     "name": "stdout",
     "output_type": "stream",
     "text": [
      "getting name\n"
     ]
    },
    {
     "ename": "AttributeError",
     "evalue": "'Person' object has no attribute '_Person__fullname'",
     "output_type": "error",
     "traceback": [
      "\u001b[31m---------------------------------------------------------------------------\u001b[39m",
      "\u001b[31mAttributeError\u001b[39m                            Traceback (most recent call last)",
      "\u001b[36mCell\u001b[39m\u001b[36m \u001b[39m\u001b[32mIn[38]\u001b[39m\u001b[32m, line 1\u001b[39m\n\u001b[32m----> \u001b[39m\u001b[32m1\u001b[39m \u001b[43mperson\u001b[49m\u001b[43m.\u001b[49m\u001b[43mname\u001b[49m\n",
      "\u001b[36mCell\u001b[39m\u001b[36m \u001b[39m\u001b[32mIn[34]\u001b[39m\u001b[32m, line 8\u001b[39m, in \u001b[36mPerson.name\u001b[39m\u001b[34m(self)\u001b[39m\n\u001b[32m      5\u001b[39m \u001b[38;5;129m@property\u001b[39m\n\u001b[32m      6\u001b[39m \u001b[38;5;28;01mdef\u001b[39;00m\u001b[38;5;250m \u001b[39m\u001b[34mname\u001b[39m(\u001b[38;5;28mself\u001b[39m):\n\u001b[32m      7\u001b[39m     \u001b[38;5;28mprint\u001b[39m(\u001b[33m\"\u001b[39m\u001b[33mgetting name\u001b[39m\u001b[33m\"\u001b[39m)\n\u001b[32m----> \u001b[39m\u001b[32m8\u001b[39m     \u001b[38;5;28;01mreturn\u001b[39;00m \u001b[38;5;28;43mself\u001b[39;49m\u001b[43m.\u001b[49m\u001b[43m__fullname\u001b[49m\n",
      "\u001b[31mAttributeError\u001b[39m: 'Person' object has no attribute '_Person__fullname'"
     ]
    }
   ],
   "source": [
    "person.name"
   ]
  },
  {
   "cell_type": "code",
   "execution_count": 40,
   "id": "995bcf7c-4686-4717-b29e-b5e226b52f15",
   "metadata": {},
   "outputs": [
    {
     "name": "stdout",
     "output_type": "stream",
     "text": [
      "4.0002524852752686\n"
     ]
    }
   ],
   "source": [
    "#Write a decorator @timeit , that gives total time taken by function to run\n",
    " \n",
    "import time\n",
    "\n",
    "def timeit(func):\n",
    "    def wrapper():\n",
    "        start = time.time()\n",
    "        func()\n",
    "        end = time.time()\n",
    "        print(end - start)\n",
    "    return wrapper\n",
    "\n",
    "@timeit\n",
    "def takes_time():\n",
    "   time.sleep(4)\n",
    "takes_time()\n",
    " \n",
    " "
   ]
  },
  {
   "cell_type": "code",
   "execution_count": null,
   "id": "de282469-a689-4e72-9b76-34942ff308de",
   "metadata": {},
   "outputs": [],
   "source": []
  }
 ],
 "metadata": {
  "kernelspec": {
   "display_name": "Python 3 (ipykernel)",
   "language": "python",
   "name": "python3"
  },
  "language_info": {
   "codemirror_mode": {
    "name": "ipython",
    "version": 3
   },
   "file_extension": ".py",
   "mimetype": "text/x-python",
   "name": "python",
   "nbconvert_exporter": "python",
   "pygments_lexer": "ipython3",
   "version": "3.13.5"
  }
 },
 "nbformat": 4,
 "nbformat_minor": 5
}
