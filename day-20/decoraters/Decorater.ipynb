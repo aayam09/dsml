{
 "cells": [
  {
   "cell_type": "markdown",
   "id": "e569b9ed-6b4c-4ce0-b15c-51c7fbbfd205",
   "metadata": {},
   "source": [
    "Python Decorator"
   ]
  },
  {
   "cell_type": "code",
   "execution_count": 1,
   "id": "2961731a-8052-4c0e-8c4d-cfb82bda0461",
   "metadata": {},
   "outputs": [],
   "source": [
    "class Test:\n",
    "\n",
    "    @staticmethod\n",
    "    def something():\n",
    "        print(1)"
   ]
  },
  {
   "cell_type": "code",
   "execution_count": 7,
   "id": "9a48abd8-59fd-4968-a029-091750439c0b",
   "metadata": {},
   "outputs": [],
   "source": [
    "def decorater(func):\n",
    "    def wrapper():\n",
    "        print(\"before function call\")\n",
    "        func()\n",
    "        print(\"after function call\")\n",
    "\n",
    "    return wrapper"
   ]
  },
  {
   "cell_type": "code",
   "execution_count": 8,
   "id": "d7fb9396-298d-4526-896e-a9a7b12ddab0",
   "metadata": {},
   "outputs": [],
   "source": [
    "@decorater\n",
    "def greet():\n",
    "    print(\"hello world\")"
   ]
  },
  {
   "cell_type": "code",
   "execution_count": 9,
   "id": "c9fc9e94-f754-4405-a404-8160dad5f793",
   "metadata": {},
   "outputs": [
    {
     "name": "stdout",
     "output_type": "stream",
     "text": [
      "before function call\n",
      "hello world\n",
      "after function call\n"
     ]
    }
   ],
   "source": [
    "greet()"
   ]
  },
  {
   "cell_type": "code",
   "execution_count": null,
   "id": "6d9f7f27-650b-46d3-9177-7639dd38ba46",
   "metadata": {},
   "outputs": [],
   "source": []
  },
  {
   "cell_type": "markdown",
   "id": "aa30506b-0f3d-46d7-bdd3-992c2ee295bd",
   "metadata": {},
   "source": [
    "Check email using decorater"
   ]
  },
  {
   "cell_type": "code",
   "execution_count": 4,
   "id": "36b76891-8426-48bc-937a-3b4458c18931",
   "metadata": {},
   "outputs": [],
   "source": [
    "def validate_email(func):\n",
    "    def wrapper(email,password):\n",
    "        if email.endswith(\"@skill.com\"):\n",
    "            func(email, password)\n",
    "        else:\n",
    "            print(\"only supprted for skill\")\n",
    "\n",
    "    return wrapper"
   ]
  },
  {
   "cell_type": "code",
   "execution_count": 5,
   "id": "54bbe351-bfa1-433f-a6fd-cee432ed0a0b",
   "metadata": {},
   "outputs": [],
   "source": [
    "@validate_email\n",
    "def login_user(email,password):\n",
    "    print(\"Logged in\")"
   ]
  },
  {
   "cell_type": "code",
   "execution_count": 7,
   "id": "387e5286-8bbd-413a-920f-62a628d59a19",
   "metadata": {},
   "outputs": [
    {
     "name": "stdout",
     "output_type": "stream",
     "text": [
      "only supprted for skill\n"
     ]
    }
   ],
   "source": [
    "login_user(\"aayam@gmail.com\",\"aayam\")"
   ]
  },
  {
   "cell_type": "code",
   "execution_count": null,
   "id": "8c253d24-b3d5-4eda-bdda-d55980f2ff63",
   "metadata": {},
   "outputs": [],
   "source": []
  }
 ],
 "metadata": {
  "kernelspec": {
   "display_name": "Python 3 (ipykernel)",
   "language": "python",
   "name": "python3"
  },
  "language_info": {
   "codemirror_mode": {
    "name": "ipython",
    "version": 3
   },
   "file_extension": ".py",
   "mimetype": "text/x-python",
   "name": "python",
   "nbconvert_exporter": "python",
   "pygments_lexer": "ipython3",
   "version": "3.13.5"
  }
 },
 "nbformat": 4,
 "nbformat_minor": 5
}
