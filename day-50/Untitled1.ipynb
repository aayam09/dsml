{
 "cells": [
  {
   "cell_type": "code",
   "execution_count": null,
   "id": "d9da4c8e-6a8d-452f-b6eb-fe1b6eddd967",
   "metadata": {},
   "outputs": [],
   "source": []
  }
 ],
 "metadata": {
  "kernelspec": {
   "display_name": "",
   "name": ""
  },
  "language_info": {
   "name": ""
  }
 },
 "nbformat": 4,
 "nbformat_minor": 5
}
