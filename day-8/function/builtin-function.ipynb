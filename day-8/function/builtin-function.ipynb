{
 "cells": [
  {
   "cell_type": "code",
   "execution_count": 3,
   "id": "9c04fc35-2e10-43c1-9716-bfaa1a9dff5d",
   "metadata": {},
   "outputs": [
    {
     "name": "stdout",
     "output_type": "stream",
     "text": [
      "4,5\n"
     ]
    }
   ],
   "source": [
    "print(4,5, sep=\",\")"
   ]
  },
  {
   "cell_type": "code",
   "execution_count": 5,
   "id": "3095a15f-134a-4627-8b65-0f58491fac03",
   "metadata": {},
   "outputs": [
    {
     "name": "stdout",
     "output_type": "stream",
     "text": [
      "hello world."
     ]
    }
   ],
   "source": [
    "print(\"hello\",\"world\", end =\".\")"
   ]
  },
  {
   "cell_type": "code",
   "execution_count": 7,
   "id": "15baa851-8d14-4667-b73b-fd5fbadbeb8d",
   "metadata": {},
   "outputs": [
    {
     "name": "stdin",
     "output_type": "stream",
     "text": [
      "enter your name aayam\n"
     ]
    },
    {
     "data": {
      "text/plain": [
       "'aayam'"
      ]
     },
     "execution_count": 7,
     "metadata": {},
     "output_type": "execute_result"
    }
   ],
   "source": [
    "name = input(\"enter your name\")\n",
    "name"
   ]
  },
  {
   "cell_type": "code",
   "execution_count": 8,
   "id": "2d3a8fba-b6e8-4950-965c-f5ddd0060ff9",
   "metadata": {},
   "outputs": [
    {
     "data": {
      "text/plain": [
       "int"
      ]
     },
     "execution_count": 8,
     "metadata": {},
     "output_type": "execute_result"
    }
   ],
   "source": [
    "type(1)"
   ]
  },
  {
   "cell_type": "code",
   "execution_count": 9,
   "id": "37f43a23-6fc7-489d-9858-ea5fe3f2dcf3",
   "metadata": {},
   "outputs": [
    {
     "data": {
      "text/plain": [
       "dict"
      ]
     },
     "execution_count": 9,
     "metadata": {},
     "output_type": "execute_result"
    }
   ],
   "source": [
    "type({})"
   ]
  },
  {
   "cell_type": "code",
   "execution_count": 10,
   "id": "b2d95067-a9b7-4a7a-b550-94fd0e46b8e5",
   "metadata": {},
   "outputs": [
    {
     "data": {
      "text/plain": [
       "bool"
      ]
     },
     "execution_count": 10,
     "metadata": {},
     "output_type": "execute_result"
    }
   ],
   "source": [
    "type(3==4)"
   ]
  },
  {
   "cell_type": "code",
   "execution_count": 11,
   "id": "ec66f9b4-fcc0-4c0d-a698-602f28ba1113",
   "metadata": {},
   "outputs": [
    {
     "data": {
      "text/plain": [
       "builtin_function_or_method"
      ]
     },
     "execution_count": 11,
     "metadata": {},
     "output_type": "execute_result"
    }
   ],
   "source": [
    "type(sum)"
   ]
  },
  {
   "cell_type": "code",
   "execution_count": 12,
   "id": "204d5f57-04b4-42b3-880d-cc913d995a25",
   "metadata": {},
   "outputs": [
    {
     "data": {
      "text/plain": [
       "5"
      ]
     },
     "execution_count": 12,
     "metadata": {},
     "output_type": "execute_result"
    }
   ],
   "source": [
    "len(\"apple\")"
   ]
  },
  {
   "cell_type": "code",
   "execution_count": 13,
   "id": "19efcc79-74f5-4f1c-9770-52065240814c",
   "metadata": {},
   "outputs": [
    {
     "data": {
      "text/plain": [
       "3"
      ]
     },
     "execution_count": 13,
     "metadata": {},
     "output_type": "execute_result"
    }
   ],
   "source": [
    "len([\"hari\",\"shyam\",\"ram\"])"
   ]
  },
  {
   "cell_type": "code",
   "execution_count": 15,
   "id": "d741ceb0-1080-4403-855e-22a85e3a86f8",
   "metadata": {},
   "outputs": [
    {
     "data": {
      "text/plain": [
       "2"
      ]
     },
     "execution_count": 15,
     "metadata": {},
     "output_type": "execute_result"
    }
   ],
   "source": [
    "len({1:\"apple\",2:\"banana\"})"
   ]
  },
  {
   "cell_type": "code",
   "execution_count": 16,
   "id": "f48abd4a-e0c7-4c7d-980b-8255f773a8a3",
   "metadata": {},
   "outputs": [
    {
     "data": {
      "text/plain": [
       "2.5"
      ]
     },
     "execution_count": 16,
     "metadata": {},
     "output_type": "execute_result"
    }
   ],
   "source": [
    "5/2"
   ]
  },
  {
   "cell_type": "code",
   "execution_count": 17,
   "id": "11173dce-ef25-408a-81d7-b78b4d07fcbc",
   "metadata": {},
   "outputs": [
    {
     "data": {
      "text/plain": [
       "(2, 1)"
      ]
     },
     "execution_count": 17,
     "metadata": {},
     "output_type": "execute_result"
    }
   ],
   "source": [
    "divmod(5,2)"
   ]
  },
  {
   "cell_type": "code",
   "execution_count": 18,
   "id": "13446351-8884-4580-98c4-ca095cc27a98",
   "metadata": {},
   "outputs": [
    {
     "data": {
      "text/plain": [
       "32"
      ]
     },
     "execution_count": 18,
     "metadata": {},
     "output_type": "execute_result"
    }
   ],
   "source": [
    "pow(2,5)"
   ]
  },
  {
   "cell_type": "code",
   "execution_count": 20,
   "id": "f7391363-d160-40b4-822d-f39431e728e3",
   "metadata": {},
   "outputs": [
    {
     "data": {
      "text/plain": [
       "False"
      ]
     },
     "execution_count": 20,
     "metadata": {},
     "output_type": "execute_result"
    }
   ],
   "source": [
    "all([True, False, True])"
   ]
  },
  {
   "cell_type": "code",
   "execution_count": null,
   "id": "33f7b0c5-c39c-4258-8a79-9f05728a9044",
   "metadata": {},
   "outputs": [],
   "source": []
  },
  {
   "cell_type": "code",
   "execution_count": 2,
   "id": "4093c5ad-ceaf-4663-a417-99486b95c5a0",
   "metadata": {},
   "outputs": [
    {
     "name": "stdout",
     "output_type": "stream",
     "text": [
      "abcd\n"
     ]
    }
   ],
   "source": [
    "file = open(\"log.txt\", mode=\"r\")\n",
    "print(file.read())\n",
    "file.close()"
   ]
  },
  {
   "cell_type": "code",
   "execution_count": 5,
   "id": "2b418ab2-a9f1-4995-b9d5-ddd1929dca37",
   "metadata": {},
   "outputs": [],
   "source": [
    "file = open(\"log.txt\", mode=\"w\")\n",
    "file.write(\"hello\")\n",
    "file.close()"
   ]
  },
  {
   "cell_type": "code",
   "execution_count": 6,
   "id": "5ce7e5cd-15b1-4a2d-b4f6-cbef8586ae6a",
   "metadata": {},
   "outputs": [
    {
     "name": "stdout",
     "output_type": "stream",
     "text": [
      "hello\n"
     ]
    }
   ],
   "source": [
    "#context manager\n",
    "with open(\"message.txt\", mode=\"r+\") as file:\n",
    "    print(file.read())\n",
    "    file.write(\"This is new message\\n\")"
   ]
  },
  {
   "cell_type": "code",
   "execution_count": 8,
   "id": "4e100f23-9781-4374-9d1f-d91fb830f1d8",
   "metadata": {},
   "outputs": [
    {
     "name": "stdout",
     "output_type": "stream",
     "text": [
      "\n"
     ]
    }
   ],
   "source": [
    "#context manager\n",
    "with open(\"message.txt\", mode=\"w+\") as file:\n",
    "    print(file.read())\n",
    "    file.write(\"in the begining\")"
   ]
  },
  {
   "cell_type": "code",
   "execution_count": 10,
   "id": "6b4b9e89-98ac-4a4b-906b-43a3a0f7bb3f",
   "metadata": {},
   "outputs": [],
   "source": [
    "#context manager\n",
    "with open(\"message.txt\", mode=\"a\") as file:\n",
    "    file.write(\"This is new text\\n\")"
   ]
  },
  {
   "cell_type": "code",
   "execution_count": 11,
   "id": "1bdfdb1e-1b1c-4158-aaaf-547f2bc17bc0",
   "metadata": {},
   "outputs": [],
   "source": [
    "x = \"ram\""
   ]
  },
  {
   "cell_type": "code",
   "execution_count": 13,
   "id": "32d25857-a006-4a77-8d30-17c72268bd5c",
   "metadata": {},
   "outputs": [
    {
     "name": "stdout",
     "output_type": "stream",
     "text": [
      "['__add__', '__class__', '__contains__', '__delattr__', '__dir__', '__doc__', '__eq__', '__format__', '__ge__', '__getattribute__', '__getitem__', '__getnewargs__', '__getstate__', '__gt__', '__hash__', '__init__', '__init_subclass__', '__iter__', '__le__', '__len__', '__lt__', '__mod__', '__mul__', '__ne__', '__new__', '__reduce__', '__reduce_ex__', '__repr__', '__rmod__', '__rmul__', '__setattr__', '__sizeof__', '__str__', '__subclasshook__', 'capitalize', 'casefold', 'center', 'count', 'encode', 'endswith', 'expandtabs', 'find', 'format', 'format_map', 'index', 'isalnum', 'isalpha', 'isascii', 'isdecimal', 'isdigit', 'isidentifier', 'islower', 'isnumeric', 'isprintable', 'isspace', 'istitle', 'isupper', 'join', 'ljust', 'lower', 'lstrip', 'maketrans', 'partition', 'removeprefix', 'removesuffix', 'replace', 'rfind', 'rindex', 'rjust', 'rpartition', 'rsplit', 'rstrip', 'split', 'splitlines', 'startswith', 'strip', 'swapcase', 'title', 'translate', 'upper', 'zfill']\n"
     ]
    }
   ],
   "source": [
    "print(dir(x))"
   ]
  },
  {
   "cell_type": "code",
   "execution_count": 14,
   "id": "7f4eba74-912c-46f6-a265-1f28e31dc58d",
   "metadata": {},
   "outputs": [
    {
     "data": {
      "text/plain": [
       "'RAM'"
      ]
     },
     "execution_count": 14,
     "metadata": {},
     "output_type": "execute_result"
    }
   ],
   "source": [
    "x.upper()"
   ]
  },
  {
   "cell_type": "code",
   "execution_count": 15,
   "id": "60777b72-6a3f-4a4e-bd69-2284c3052134",
   "metadata": {},
   "outputs": [
    {
     "data": {
      "text/plain": [
       "'#%danish'"
      ]
     },
     "execution_count": 15,
     "metadata": {},
     "output_type": "execute_result"
    }
   ],
   "source": [
    "\"#%danish\".lstrip()"
   ]
  },
  {
   "cell_type": "code",
   "execution_count": 26,
   "id": "f876248a-93ed-4cd9-9d80-868db0bdcad0",
   "metadata": {},
   "outputs": [],
   "source": [
    "names =[\"Alice\",\"bob\",\"harris\"]"
   ]
  },
  {
   "cell_type": "code",
   "execution_count": 28,
   "id": "04c3ec7f-c2ed-42bb-aae2-aed0cc75e9ac",
   "metadata": {},
   "outputs": [],
   "source": [
    "dict = list(enumerate(names))"
   ]
  },
  {
   "cell_type": "code",
   "execution_count": 30,
   "id": "2447bedb-724b-49b4-ade9-c1dfffd665ea",
   "metadata": {},
   "outputs": [
    {
     "name": "stdout",
     "output_type": "stream",
     "text": [
      "Alice : roll 1\n",
      "bob : roll 2\n",
      "harris : roll 3\n"
     ]
    }
   ],
   "source": [
    "for (i,name) in enumerate(names,start=1):\n",
    "    print(f\"{name} : roll {i}\")"
   ]
  },
  {
   "cell_type": "code",
   "execution_count": 31,
   "id": "862903d8-afc7-4427-ba3a-5c167d4e71ee",
   "metadata": {},
   "outputs": [],
   "source": [
    "names = [\"john\",\"issac\",\"blade\" \"bob\",\"stack\"]\n",
    "score = [7,9,5,9,3]"
   ]
  },
  {
   "cell_type": "code",
   "execution_count": 32,
   "id": "eeef8cba-b778-40f9-b3b0-b81b707f68c6",
   "metadata": {},
   "outputs": [
    {
     "data": {
      "text/plain": [
       "[('john', 7), ('issac', 9), ('bladebob', 5), ('stack', 9)]"
      ]
     },
     "execution_count": 32,
     "metadata": {},
     "output_type": "execute_result"
    }
   ],
   "source": [
    "list(zip(names,score))"
   ]
  },
  {
   "cell_type": "code",
   "execution_count": 35,
   "id": "99461174-6783-4220-9883-a2e6f307fbc1",
   "metadata": {},
   "outputs": [
    {
     "name": "stdout",
     "output_type": "stream",
     "text": [
      "john -> 7\n",
      "issac -> 9\n",
      "bladebob -> 5\n",
      "stack -> 9\n"
     ]
    }
   ],
   "source": [
    "for(player, s) in zip(names,score):\n",
    "    print(player,s,sep=\" -> \")"
   ]
  },
  {
   "cell_type": "code",
   "execution_count": 37,
   "id": "98ba58b5-54a4-43a0-ab4b-f45a3ee5605b",
   "metadata": {},
   "outputs": [],
   "source": [
    "name = \"hari\"\n",
    "list1 = [2,5,6]\n",
    "set1 = set(\"aeiou\")"
   ]
  },
  {
   "cell_type": "code",
   "execution_count": 38,
   "id": "d56d185f-48a5-43ff-9b03-7fb962eb3b41",
   "metadata": {},
   "outputs": [
    {
     "data": {
      "text/plain": [
       "[('h', 2, 'e'), ('a', 5, 'o'), ('r', 6, 'a')]"
      ]
     },
     "execution_count": 38,
     "metadata": {},
     "output_type": "execute_result"
    }
   ],
   "source": [
    "list(zip(name, list1, set1))"
   ]
  },
  {
   "cell_type": "code",
   "execution_count": null,
   "id": "1cb4a349-318e-4122-aaa6-7eb29afde17b",
   "metadata": {},
   "outputs": [],
   "source": []
  },
  {
   "cell_type": "code",
   "execution_count": 39,
   "id": "bb43d65c-47fb-46d1-8826-3e90ce544cc5",
   "metadata": {},
   "outputs": [],
   "source": [
    "def mult(x):\n",
    "    return x * 2"
   ]
  },
  {
   "cell_type": "code",
   "execution_count": 46,
   "id": "637d9255-34cf-47f7-8970-c218c8472145",
   "metadata": {},
   "outputs": [
    {
     "data": {
      "text/plain": [
       "<map at 0x1d5b36c7b50>"
      ]
     },
     "execution_count": 46,
     "metadata": {},
     "output_type": "execute_result"
    }
   ],
   "source": [
    "numbers = [2,5,6,9]\n",
    "\n",
    "map_obj = map(mult,numbers)\n",
    "map_obj"
   ]
  },
  {
   "cell_type": "code",
   "execution_count": 47,
   "id": "865edd51-b3a8-4367-88e2-8139114fcc65",
   "metadata": {},
   "outputs": [
    {
     "data": {
      "text/plain": [
       "[4, 10, 12, 18]"
      ]
     },
     "execution_count": 47,
     "metadata": {},
     "output_type": "execute_result"
    }
   ],
   "source": [
    "[a for a in map_obj]"
   ]
  },
  {
   "cell_type": "code",
   "execution_count": null,
   "id": "3e518e54-8dbb-4296-b3e8-0ecdf7780fbd",
   "metadata": {},
   "outputs": [],
   "source": []
  },
  {
   "cell_type": "code",
   "execution_count": 10,
   "id": "a09de4d1-7d80-423e-9ae7-036ee8625cff",
   "metadata": {},
   "outputs": [],
   "source": [
    "def even(num):\n",
    "    return num%2==0"
   ]
  },
  {
   "cell_type": "code",
   "execution_count": 11,
   "id": "a83b7c42-efa8-449c-9567-e7eebeefe6d7",
   "metadata": {},
   "outputs": [],
   "source": [
    "f_obj =filter(even,[1,2,3,4,5,6,7])"
   ]
  },
  {
   "cell_type": "code",
   "execution_count": 12,
   "id": "1d619e20-96df-41ee-810b-be048ccb3fe7",
   "metadata": {},
   "outputs": [
    {
     "data": {
      "text/plain": [
       "[2, 4, 6]"
      ]
     },
     "execution_count": 12,
     "metadata": {},
     "output_type": "execute_result"
    }
   ],
   "source": [
    "list(f_obj)"
   ]
  },
  {
   "cell_type": "code",
   "execution_count": null,
   "id": "db800e41-2b5c-458d-aec9-a95c79f53a8f",
   "metadata": {},
   "outputs": [],
   "source": []
  },
  {
   "cell_type": "code",
   "execution_count": 52,
   "id": "f51f46eb-a681-4a4b-a95b-62b2a7d68d6e",
   "metadata": {},
   "outputs": [],
   "source": [
    "from functools import reduce"
   ]
  },
  {
   "cell_type": "code",
   "execution_count": 53,
   "id": "0665d6c4-7d14-464a-8881-a9b193c50b16",
   "metadata": {},
   "outputs": [],
   "source": [
    "myList = [1,2,3,4,5]"
   ]
  },
  {
   "cell_type": "code",
   "execution_count": 54,
   "id": "b44b3914-fae7-45c7-b045-cba61bcca1f6",
   "metadata": {},
   "outputs": [],
   "source": [
    "def add(x,y):\n",
    "    return x + y"
   ]
  },
  {
   "cell_type": "code",
   "execution_count": 55,
   "id": "42e068e8-ec3c-42a7-a32b-3f12c6b1376c",
   "metadata": {},
   "outputs": [],
   "source": [
    "red_obj = reduce(add, myList)"
   ]
  },
  {
   "cell_type": "code",
   "execution_count": 56,
   "id": "a567103d-52e9-48f4-94a9-daacf8e67345",
   "metadata": {},
   "outputs": [
    {
     "data": {
      "text/plain": [
       "15"
      ]
     },
     "execution_count": 56,
     "metadata": {},
     "output_type": "execute_result"
    }
   ],
   "source": [
    "red_obj"
   ]
  },
  {
   "cell_type": "code",
   "execution_count": null,
   "id": "071ecb8f-22a7-46bc-ac1f-8c9c45eba35a",
   "metadata": {},
   "outputs": [],
   "source": []
  },
  {
   "cell_type": "code",
   "execution_count": 5,
   "id": "203a69bd-641d-4762-b17a-2fd544fc2b2d",
   "metadata": {},
   "outputs": [
    {
     "data": {
      "text/plain": [
       "[8, 11, 15]"
      ]
     },
     "execution_count": 5,
     "metadata": {},
     "output_type": "execute_result"
    }
   ],
   "source": [
    "team_a = [2,3,6]\n",
    "team_b = [6,8,9]\n",
    "scores = [ sum(score) for score in zip(team_a,team_b)]\n",
    "scores"
   ]
  },
  {
   "cell_type": "code",
   "execution_count": 8,
   "id": "9acfb42a-edb6-4cc2-b4ce-37a359f728de",
   "metadata": {},
   "outputs": [
    {
     "data": {
      "text/plain": [
       "[8, 11, 15]"
      ]
     },
     "execution_count": 8,
     "metadata": {},
     "output_type": "execute_result"
    }
   ],
   "source": [
    "mobj = map(sum, zip(team_a,team_b))\n",
    "list(mobj)"
   ]
  },
  {
   "cell_type": "code",
   "execution_count": 8,
   "id": "ba0244f4-7506-4fd5-aba2-bceb9f7faf59",
   "metadata": {},
   "outputs": [
    {
     "data": {
      "text/plain": [
       "[8, 11, 15]"
      ]
     },
     "execution_count": 8,
     "metadata": {},
     "output_type": "execute_result"
    }
   ],
   "source": []
  },
  {
   "cell_type": "code",
   "execution_count": 21,
   "id": "2b005c38-c6b3-4100-83c8-76452084655d",
   "metadata": {},
   "outputs": [
    {
     "data": {
      "text/plain": [
       "True"
      ]
     },
     "execution_count": 21,
     "metadata": {},
     "output_type": "execute_result"
    }
   ],
   "source": [
    "team_tasks = [\n",
    "    [True, True, True],       # Alice\n",
    "    [True, False, True],      # Bob\n",
    "    [False, True, True]        # Carol\n",
    "]\n",
    "# Output: any_missed = True, all_done = False\n",
    "\n",
    "all([all(each\n"
   ]
  },
  {
   "cell_type": "code",
   "execution_count": null,
   "id": "c131a23c-b66c-4b10-b8dd-e1dcdea39fcf",
   "metadata": {},
   "outputs": [],
   "source": []
  }
 ],
 "metadata": {
  "kernelspec": {
   "display_name": "Python 3 (ipykernel)",
   "language": "python",
   "name": "python3"
  },
  "language_info": {
   "codemirror_mode": {
    "name": "ipython",
    "version": 3
   },
   "file_extension": ".py",
   "mimetype": "text/x-python",
   "name": "python",
   "nbconvert_exporter": "python",
   "pygments_lexer": "ipython3",
   "version": "3.13.5"
  }
 },
 "nbformat": 4,
 "nbformat_minor": 5
}
