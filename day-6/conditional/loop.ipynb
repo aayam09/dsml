{
 "cells": [
  {
   "cell_type": "code",
   "execution_count": 6,
   "id": "b5d730ba-6754-4040-b629-ca7a197eca9a",
   "metadata": {},
   "outputs": [],
   "source": [
    "fruits = [\"apple\",\"orange\",\"banana\",\"mango\"]"
   ]
  },
  {
   "cell_type": "code",
   "execution_count": 7,
   "id": "009772c4-d201-4ac6-a014-1e1897f1b128",
   "metadata": {},
   "outputs": [
    {
     "name": "stdout",
     "output_type": "stream",
     "text": [
      "fruit apple\n",
      "fruit orange\n",
      "fruit banana\n",
      "fruit mango\n",
      "completed\n"
     ]
    }
   ],
   "source": [
    "for each in fruits:\n",
    "    print(f\"fruit {each}\")\n",
    "print(\"completed\")"
   ]
  },
  {
   "cell_type": "code",
   "execution_count": 8,
   "id": "bdbbd72d-d991-4d75-a522-f6b399253bfb",
   "metadata": {},
   "outputs": [
    {
     "name": "stdout",
     "output_type": "stream",
     "text": [
      "h\n",
      "e\n",
      "l\n",
      "l\n",
      "o\n"
     ]
    }
   ],
   "source": [
    "for ch in  \"hello\":\n",
    "    print(ch)"
   ]
  },
  {
   "cell_type": "code",
   "execution_count": 9,
   "id": "bfa17a53-146a-4a75-a8b5-1bef2d0fc5cd",
   "metadata": {},
   "outputs": [
    {
     "data": {
      "text/plain": [
       "[0, 1, 2, 3, 4, 5, 6, 7, 8, 9]"
      ]
     },
     "execution_count": 9,
     "metadata": {},
     "output_type": "execute_result"
    }
   ],
   "source": [
    "list(range(10))"
   ]
  },
  {
   "cell_type": "code",
   "execution_count": 10,
   "id": "6f3355a0-940c-497b-be34-6537ffa232e5",
   "metadata": {},
   "outputs": [
    {
     "data": {
      "text/plain": [
       "[10, 15, 20, 25, 30, 35, 40, 45, 50, 55, 60, 65, 70, 75, 80, 85, 90, 95]"
      ]
     },
     "execution_count": 10,
     "metadata": {},
     "output_type": "execute_result"
    }
   ],
   "source": [
    "list(range(10,100,5))"
   ]
  },
  {
   "cell_type": "code",
   "execution_count": 11,
   "id": "af7d25d9-910b-4934-bd2e-68a6594a4785",
   "metadata": {},
   "outputs": [
    {
     "name": "stdout",
     "output_type": "stream",
     "text": [
      "0\n",
      "1\n",
      "2\n",
      "3\n",
      "4\n",
      "5\n",
      "6\n",
      "7\n",
      "8\n",
      "9\n"
     ]
    }
   ],
   "source": [
    "for i in range(10):\n",
    "    print(i)"
   ]
  },
  {
   "cell_type": "code",
   "execution_count": 26,
   "id": "392a4f40-c941-4eef-9a4a-faded09e490e",
   "metadata": {},
   "outputs": [
    {
     "name": "stdout",
     "output_type": "stream",
     "text": [
      "*****\n",
      "****\n",
      "***\n",
      "**\n",
      "*\n"
     ]
    }
   ],
   "source": [
    "for i in range(5,0,-1):\n",
    "        print(\"*\"*i)"
   ]
  },
  {
   "cell_type": "code",
   "execution_count": 28,
   "id": "99e89d80-be0d-41fb-9a28-3f339b9e3975",
   "metadata": {},
   "outputs": [],
   "source": [
    "adj =['red', 'blue', 'green']\n",
    "fruits = [\"apple\",\"orange\",\"banana\",\"mango\"]"
   ]
  },
  {
   "cell_type": "code",
   "execution_count": 29,
   "id": "463a9daf-7d54-4081-aa0a-c0155133e7f2",
   "metadata": {},
   "outputs": [
    {
     "name": "stdout",
     "output_type": "stream",
     "text": [
      "red apple\n",
      "red orange\n",
      "red banana\n",
      "red mango\n",
      "blue apple\n",
      "blue orange\n",
      "blue banana\n",
      "blue mango\n",
      "green apple\n",
      "green orange\n",
      "green banana\n",
      "green mango\n"
     ]
    }
   ],
   "source": [
    "for a in adj:\n",
    "    for f in fruits:\n",
    "        print(a,f)"
   ]
  },
  {
   "cell_type": "code",
   "execution_count": null,
   "id": "d7cc699d-4638-44d7-be6e-86132797c131",
   "metadata": {},
   "outputs": [],
   "source": []
  },
  {
   "cell_type": "code",
   "execution_count": 1,
   "id": "e3557999-9352-4df5-828a-8696b74e49cb",
   "metadata": {},
   "outputs": [
    {
     "data": {
      "text/plain": [
       "[('name', 'vince'), ('age', 30), ('gender', 'male')]"
      ]
     },
     "execution_count": 1,
     "metadata": {},
     "output_type": "execute_result"
    }
   ],
   "source": [
    "person ={\n",
    "    \"name\" : \"vince\",\n",
    "    \"age\" : 30,\n",
    "    \"gender\" : \"male\"\n",
    "}\n",
    "\n",
    "person_list =list(person.items())\n",
    "person_list"
   ]
  },
  {
   "cell_type": "code",
   "execution_count": 2,
   "id": "9286b574-43d4-453c-81df-5665687e07fa",
   "metadata": {},
   "outputs": [
    {
     "name": "stdout",
     "output_type": "stream",
     "text": [
      "('name', 'vince')\n",
      "('age', 30)\n",
      "('gender', 'male')\n"
     ]
    }
   ],
   "source": [
    "for each in person_list:\n",
    "    print(each)"
   ]
  },
  {
   "cell_type": "code",
   "execution_count": 4,
   "id": "9c8b0ad3-b18d-485a-be82-6f39237b0ba4",
   "metadata": {},
   "outputs": [
    {
     "name": "stdout",
     "output_type": "stream",
     "text": [
      "Key: name = vince\n",
      "Key: age = 30\n",
      "Key: gender = male\n"
     ]
    }
   ],
   "source": [
    "for (Key,Value) in person_list:\n",
    "    print(f\"Key: {Key} = {Value}\")"
   ]
  },
  {
   "cell_type": "code",
   "execution_count": 7,
   "id": "690411aa-e471-4c7a-8e18-aeb40cdca2ba",
   "metadata": {},
   "outputs": [
    {
     "name": "stdout",
     "output_type": "stream",
     "text": [
      "[[1, 2, 3], [4, 5, 6], [7, 8, 9]]\n"
     ]
    }
   ],
   "source": [
    "coord = [[1,2,3],[4,5,6],[7,8,9]]\n",
    "print(coord)"
   ]
  },
  {
   "cell_type": "code",
   "execution_count": 10,
   "id": "c6c3951f-41aa-401c-8ce9-8ba8810b7ee6",
   "metadata": {},
   "outputs": [
    {
     "name": "stdout",
     "output_type": "stream",
     "text": [
      "1 2 3\n",
      "4 5 6\n",
      "7 8 9\n"
     ]
    }
   ],
   "source": [
    "for x,y,z in coord:\n",
    "    print(x,y,z)"
   ]
  },
  {
   "cell_type": "code",
   "execution_count": 15,
   "id": "9f4e5ced-1c90-4049-9c88-d885caa1dde9",
   "metadata": {},
   "outputs": [
    {
     "name": "stdin",
     "output_type": "stream",
     "text": [
      "enter a number 34\n"
     ]
    },
    {
     "name": "stdout",
     "output_type": "stream",
     "text": [
      "34 * 1 =34\n",
      "34 * 2 =68\n",
      "34 * 3 =102\n",
      "34 * 4 =136\n",
      "34 * 5 =170\n",
      "34 * 6 =204\n",
      "34 * 7 =238\n",
      "34 * 8 =272\n",
      "34 * 9 =306\n",
      "34 * 10 =340\n"
     ]
    }
   ],
   "source": [
    "i = int(input(\"enter a number\"))\n",
    "for x in range(1,11):\n",
    "    print(f\"{i} * {x} ={x*i}\")"
   ]
  },
  {
   "cell_type": "code",
   "execution_count": 18,
   "id": "22f2309b-3fdd-414f-8911-69ce00640054",
   "metadata": {},
   "outputs": [
    {
     "name": "stdout",
     "output_type": "stream",
     "text": [
      "even numbers are [2, 6, 8, 68, 0, 12, 4, 6, 66, 32]\n",
      "odd numbers are [5, 3, 7, 33, 5, 9, 101, 55, 89]\n"
     ]
    }
   ],
   "source": [
    "numbers = [2,5,3,6,7,33,5,8,68,0,12,4,6,66,9,101,55,32,89] \n",
    "evenlist =[]\n",
    "oddlist = []\n",
    "for x in numbers:\n",
    "    if x%2==0:\n",
    "        evenlist.append(x)\n",
    "    else:\n",
    "        oddlist.append(x)\n",
    "print(f\"even numbers are {evenlist}\")\n",
    "print(f\"odd numbers are {oddlist}\")\n",
    "    "
   ]
  },
  {
   "cell_type": "raw",
   "id": "8a45929d-9d9d-417f-bd71-933674e8a0da",
   "metadata": {},
   "source": [
    "evenlist.append(x) if x%2==0 else oddlist.append(x)"
   ]
  },
  {
   "cell_type": "code",
   "execution_count": null,
   "id": "ca7d1988-1cae-4b96-88df-631a70cf2a17",
   "metadata": {},
   "outputs": [],
   "source": []
  }
 ],
 "metadata": {
  "kernelspec": {
   "display_name": "Python 3 (ipykernel)",
   "language": "python",
   "name": "python3"
  },
  "language_info": {
   "codemirror_mode": {
    "name": "ipython",
    "version": 3
   },
   "file_extension": ".py",
   "mimetype": "text/x-python",
   "name": "python",
   "nbconvert_exporter": "python",
   "pygments_lexer": "ipython3",
   "version": "3.13.5"
  }
 },
 "nbformat": 4,
 "nbformat_minor": 5
}
