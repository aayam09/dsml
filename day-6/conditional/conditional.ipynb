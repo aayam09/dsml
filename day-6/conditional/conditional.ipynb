{
 "cells": [
  {
   "cell_type": "raw",
   "id": "915469f1-1feb-4e94-86c6-1237e1a4f914",
   "metadata": {},
   "source": []
  },
  {
   "cell_type": "code",
   "execution_count": 3,
   "id": "9308dcde-dd9b-413f-b155-34f0da50c015",
   "metadata": {},
   "outputs": [
    {
     "name": "stdout",
     "output_type": "stream",
     "text": [
      "outside if block\n"
     ]
    }
   ],
   "source": [
    "x = -55\n",
    "if x > 0:\n",
    "    print(\"inside if block\")\n",
    "    print(f\"{x} is greater tham 0\")\n",
    "\n",
    "print(\"outside if block\")"
   ]
  },
  {
   "cell_type": "code",
   "execution_count": 5,
   "id": "caf07e16-e155-4762-b255-f081e249994e",
   "metadata": {},
   "outputs": [],
   "source": [
    "x = 5\n",
    "y = -5\n",
    "\n",
    "if x > 0 and y > 0:\n",
    "    print(\"both are positive\")"
   ]
  },
  {
   "cell_type": "code",
   "execution_count": 6,
   "id": "262057a5-69d4-45ef-991a-783a11fa1d71",
   "metadata": {},
   "outputs": [
    {
     "name": "stdout",
     "output_type": "stream",
     "text": [
      "odd\n"
     ]
    }
   ],
   "source": [
    "x = 33\n",
    "\n",
    "if x%2 == 0:\n",
    "    print(\"number is even\")\n",
    "else:\n",
    "    print(\"odd\")"
   ]
  },
  {
   "cell_type": "code",
   "execution_count": 8,
   "id": "8837b396-310d-40b6-8da0-19aaf54ec2df",
   "metadata": {},
   "outputs": [
    {
     "name": "stdout",
     "output_type": "stream",
     "text": [
      "palindrome\n"
     ]
    }
   ],
   "source": [
    "name = \"aayaa\"\n",
    "\n",
    "if name == name[::-1]:\n",
    "    print(\"palindrome\")\n",
    "else:\n",
    "    print(\"not palindrome\")"
   ]
  },
  {
   "cell_type": "code",
   "execution_count": 11,
   "id": "b548cef3-4b6a-47fb-9a26-6140db061bf4",
   "metadata": {},
   "outputs": [
    {
     "name": "stdout",
     "output_type": "stream",
     "text": [
      "is positive\n"
     ]
    }
   ],
   "source": [
    "x = 6\n",
    "\n",
    "if x<0:\n",
    "    print(\"x is negative\")\n",
    "elif x == 0:\n",
    "    print(\"x is 0\")\n",
    "else:\n",
    "    print(\"is positive\")"
   ]
  },
  {
   "cell_type": "code",
   "execution_count": 15,
   "id": "27995bac-70cc-424b-87ce-73e5292dd4a9",
   "metadata": {},
   "outputs": [
    {
     "name": "stdout",
     "output_type": "stream",
     "text": [
      "grade D\n"
     ]
    }
   ],
   "source": [
    "#WAP to grade a number (100-80) Grade A, (80-60) Grade B , (60-40) Grade C and less than 40 Grade D. [if and elif control statement]\n",
    "\n",
    "number = 12\n",
    "if number >= 80:\n",
    "    print(\"grade A\")\n",
    "elif number >=60:\n",
    "    print(\"grade B\")\n",
    "elif number >=40:\n",
    "    print(\"grade C\")\n",
    "else:\n",
    "    print(\"grade D\")"
   ]
  },
  {
   "cell_type": "code",
   "execution_count": 19,
   "id": "00690945-0110-441a-8ccf-33cb0cb42c3b",
   "metadata": {},
   "outputs": [
    {
     "name": "stdout",
     "output_type": "stream",
     "text": [
      "Grade A\n"
     ]
    }
   ],
   "source": [
    "number = 82\n",
    "if  number > 0:\n",
    "    if number > 80:\n",
    "        print(\"Grade A\")\n",
    "    else:\n",
    "        print(\"Grade other\")\n",
    "\n",
    "else:\n",
    "    print(\"enter positive value\")"
   ]
  },
  {
   "cell_type": "code",
   "execution_count": null,
   "id": "11404186-8fc9-4541-b3ee-1a052d9278d1",
   "metadata": {},
   "outputs": [],
   "source": []
  }
 ],
 "metadata": {
  "kernelspec": {
   "display_name": "Python 3 (ipykernel)",
   "language": "python",
   "name": "python3"
  },
  "language_info": {
   "codemirror_mode": {
    "name": "ipython",
    "version": 3
   },
   "file_extension": ".py",
   "mimetype": "text/x-python",
   "name": "python",
   "nbconvert_exporter": "python",
   "pygments_lexer": "ipython3",
   "version": "3.13.5"
  }
 },
 "nbformat": 4,
 "nbformat_minor": 5
}
