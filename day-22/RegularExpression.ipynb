{
 "cells": [
  {
   "cell_type": "markdown",
   "id": "e2860d78-ec1d-4f29-9a19-0afe7f871651",
   "metadata": {},
   "source": [
    "Regular Expression"
   ]
  },
  {
   "cell_type": "code",
   "execution_count": 1,
   "id": "a234812c-a7a8-4efd-92e5-8c5291273cd6",
   "metadata": {},
   "outputs": [],
   "source": [
    "import re"
   ]
  },
  {
   "cell_type": "markdown",
   "id": "e4c5dfc4-6d26-4652-9903-8e7b476aec59",
   "metadata": {},
   "source": [
    "Python Regex Methods"
   ]
  },
  {
   "cell_type": "code",
   "execution_count": 3,
   "id": "c23221ac-bac1-454f-8356-ba022e38af41",
   "metadata": {},
   "outputs": [],
   "source": [
    "string = \"The quick brown fox jumps over the  lazy dog\"\n",
    "pattern = r\"he\"\n",
    "\n",
    "match = re.search(pattern, string)"
   ]
  },
  {
   "cell_type": "code",
   "execution_count": 8,
   "id": "f16950dd-a66c-444c-b81c-471996871e2b",
   "metadata": {},
   "outputs": [
    {
     "data": {
      "text/plain": [
       "'he'"
      ]
     },
     "execution_count": 8,
     "metadata": {},
     "output_type": "execute_result"
    }
   ],
   "source": [
    "match.group()"
   ]
  },
  {
   "cell_type": "code",
   "execution_count": 11,
   "id": "d9a9d965-c32b-49d2-b731-bbccf8ed29fd",
   "metadata": {},
   "outputs": [
    {
     "name": "stdout",
     "output_type": "stream",
     "text": [
      "1 3\n"
     ]
    }
   ],
   "source": [
    "print(match.start(),match.end())"
   ]
  },
  {
   "cell_type": "code",
   "execution_count": 16,
   "id": "ca597592-7fa4-4967-a3a9-f1e258939577",
   "metadata": {},
   "outputs": [
    {
     "name": "stdout",
     "output_type": "stream",
     "text": [
      "match Pbject <re.Match object; span=(1, 3), match='he'>\n",
      "match group he\n",
      "match start 1\n",
      "match end 3\n",
      "match span (1, 3)\n"
     ]
    }
   ],
   "source": [
    "if match:\n",
    "    print(\"match Pbject\", match)\n",
    "    print(\"match group\",match.group())\n",
    "    print(\"match start\",match.start())\n",
    "    print(\"match end\",match.end())\n",
    "    print(\"match span\",match.span())\n",
    "else:\n",
    "    print(\"no match found\")"
   ]
  },
  {
   "cell_type": "code",
   "execution_count": 26,
   "id": "e44755ec-3cf6-49ad-b46c-ba0af8c4aa5f",
   "metadata": {},
   "outputs": [],
   "source": [
    "string = \"The quick brown fox jumps over the lazy dog\"\n",
    "pattern = r\"[A-z]he\"\n",
    "\n",
    "match = re.findall(pattern, string)"
   ]
  },
  {
   "cell_type": "code",
   "execution_count": 27,
   "id": "e5f76b3d-fe1a-442c-a7b6-57c51f4c270e",
   "metadata": {},
   "outputs": [
    {
     "data": {
      "text/plain": [
       "['The', 'the']"
      ]
     },
     "execution_count": 27,
     "metadata": {},
     "output_type": "execute_result"
    }
   ],
   "source": [
    "match"
   ]
  },
  {
   "cell_type": "code",
   "execution_count": 29,
   "id": "2b3218c5-5e70-4ac4-b81d-89cb0b1a3aaf",
   "metadata": {},
   "outputs": [],
   "source": [
    "string = \"The quick brown fox jumps over the 40 m lazy dog\"\n",
    "pattern = r\"[A-z]he\"\n",
    "rep = \"the\"\n",
    "\n",
    "match = re.sub(pattern, rep, string, count=1)"
   ]
  },
  {
   "cell_type": "code",
   "execution_count": 30,
   "id": "89b7c3d2-8264-4559-b71a-a20ace2e4cd5",
   "metadata": {},
   "outputs": [
    {
     "data": {
      "text/plain": [
       "'the quick brown fox jumps over the lazy dog'"
      ]
     },
     "execution_count": 30,
     "metadata": {},
     "output_type": "execute_result"
    }
   ],
   "source": [
    "match"
   ]
  },
  {
   "cell_type": "code",
   "execution_count": 31,
   "id": "bf4fc854-afac-4350-98da-07417c77884d",
   "metadata": {},
   "outputs": [],
   "source": [
    "string = \"The quick brown fox jumps over the lazy dog\"\n",
    "pattern = r\"[A-z]he\""
   ]
  },
  {
   "cell_type": "code",
   "execution_count": 32,
   "id": "ec1c6104-e0ca-4361-8818-62f22d16b105",
   "metadata": {},
   "outputs": [
    {
     "data": {
      "text/plain": [
       "['The', 'quick', 'brown', 'fox', 'jumps', 'over', 'the', 'lazy', 'dog']"
      ]
     },
     "execution_count": 32,
     "metadata": {},
     "output_type": "execute_result"
    }
   ],
   "source": [
    "string.split(\" \")"
   ]
  },
  {
   "cell_type": "code",
   "execution_count": 35,
   "id": "b21d96c4-edd5-474e-bf58-98fa2e30ea8d",
   "metadata": {},
   "outputs": [],
   "source": [
    "string = \"The quick brown fox jumps over the 40 m lazy dog\"\n",
    "pattern = r\"[0-9]+\"\n",
    "segment = re.split(pattern, string, maxsplit=0)"
   ]
  },
  {
   "cell_type": "code",
   "execution_count": 37,
   "id": "099601ac-6a92-4f7b-b6f4-10a413e3df10",
   "metadata": {},
   "outputs": [
    {
     "data": {
      "text/plain": [
       "['The quick brown fox jumps over the ', ' m lazy dog']"
      ]
     },
     "execution_count": 37,
     "metadata": {},
     "output_type": "execute_result"
    }
   ],
   "source": [
    "segment"
   ]
  },
  {
   "cell_type": "code",
   "execution_count": null,
   "id": "b7a48aaf-dcc7-4437-9656-bc856ab04d90",
   "metadata": {},
   "outputs": [],
   "source": []
  }
 ],
 "metadata": {
  "kernelspec": {
   "display_name": "Python 3 (ipykernel)",
   "language": "python",
   "name": "python3"
  },
  "language_info": {
   "codemirror_mode": {
    "name": "ipython",
    "version": 3
   },
   "file_extension": ".py",
   "mimetype": "text/x-python",
   "name": "python",
   "nbconvert_exporter": "python",
   "pygments_lexer": "ipython3",
   "version": "3.13.5"
  }
 },
 "nbformat": 4,
 "nbformat_minor": 5
}
