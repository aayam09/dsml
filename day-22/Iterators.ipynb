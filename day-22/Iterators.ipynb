{
 "cells": [
  {
   "cell_type": "markdown",
   "id": "7fde1c43-a39d-4304-b5ae-35708b8e94f7",
   "metadata": {},
   "source": [
    "Python Iterators"
   ]
  },
  {
   "cell_type": "code",
   "execution_count": 8,
   "id": "6dadbafa-724b-4b73-a497-5f8b2dcc5603",
   "metadata": {},
   "outputs": [],
   "source": [
    "class Fibonacci:\n",
    "    def __init__(self,limit):\n",
    "        self.limit = limit\n",
    "\n",
    "        self.current = 0\n",
    "        self.next = 1\n",
    "        self.step = 0\n",
    "\n",
    "    def __iter__(self):\n",
    "        return self\n",
    "\n",
    "    def __next__(self):\n",
    "        if  self.step >= self.limit:\n",
    "            raise StopIteration\n",
    "        \n",
    "        result = self.current\n",
    "        self.current, self.next = self.next, self.current + self.next\n",
    "        self.step += 1\n",
    "\n",
    "        return result"
   ]
  },
  {
   "cell_type": "code",
   "execution_count": 9,
   "id": "7884475f-f17b-4999-9101-89320a738c96",
   "metadata": {},
   "outputs": [],
   "source": [
    "fib = Fibonacci(10)"
   ]
  },
  {
   "cell_type": "code",
   "execution_count": 10,
   "id": "22fd7743-2c4b-48aa-947b-0e08ea384428",
   "metadata": {},
   "outputs": [
    {
     "name": "stdout",
     "output_type": "stream",
     "text": [
      "0\n",
      "1\n",
      "1\n",
      "2\n",
      "3\n",
      "5\n",
      "8\n",
      "13\n",
      "21\n",
      "34\n"
     ]
    }
   ],
   "source": [
    "for num in fib:\n",
    "    print(num)"
   ]
  },
  {
   "cell_type": "code",
   "execution_count": null,
   "id": "1bc2f2d8-c237-4fe6-8834-18be6aa7ef55",
   "metadata": {},
   "outputs": [],
   "source": []
  }
 ],
 "metadata": {
  "kernelspec": {
   "display_name": "Python 3 (ipykernel)",
   "language": "python",
   "name": "python3"
  },
  "language_info": {
   "codemirror_mode": {
    "name": "ipython",
    "version": 3
   },
   "file_extension": ".py",
   "mimetype": "text/x-python",
   "name": "python",
   "nbconvert_exporter": "python",
   "pygments_lexer": "ipython3",
   "version": "3.13.5"
  }
 },
 "nbformat": 4,
 "nbformat_minor": 5
}
