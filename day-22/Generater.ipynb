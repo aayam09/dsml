{
 "cells": [
  {
   "cell_type": "markdown",
   "id": "8dcd6c32-f31e-4ada-8b00-9ace5a74c51b",
   "metadata": {},
   "source": [
    "Generater"
   ]
  },
  {
   "cell_type": "code",
   "execution_count": 19,
   "id": "930c5e49-3b6d-47ff-abbb-86c7f5b401df",
   "metadata": {},
   "outputs": [],
   "source": [
    "def number_generater(start, end):\n",
    "    for num in range(start, end +1):\n",
    "        yield num"
   ]
  },
  {
   "cell_type": "code",
   "execution_count": 20,
   "id": "b6828e7a-d7a9-41ed-b6e7-e2fab3830180",
   "metadata": {},
   "outputs": [],
   "source": [
    "gen = number_generater(10,23)"
   ]
  },
  {
   "cell_type": "code",
   "execution_count": 21,
   "id": "cf4bdec6-9830-4bc9-8b7c-1fdf80cf12f8",
   "metadata": {},
   "outputs": [
    {
     "data": {
      "text/plain": [
       "<generator object number_generater at 0x000002AEF088A880>"
      ]
     },
     "execution_count": 21,
     "metadata": {},
     "output_type": "execute_result"
    }
   ],
   "source": [
    "gen"
   ]
  },
  {
   "cell_type": "code",
   "execution_count": 8,
   "id": "bcfd2033-1f1d-4281-8535-334b07d2ad22",
   "metadata": {},
   "outputs": [
    {
     "data": {
      "text/plain": [
       "14"
      ]
     },
     "execution_count": 8,
     "metadata": {},
     "output_type": "execute_result"
    }
   ],
   "source": [
    "next(gen)"
   ]
  },
  {
   "cell_type": "code",
   "execution_count": 18,
   "id": "d2fafa84-9d09-4a9c-9bd0-2a1706ed9b02",
   "metadata": {},
   "outputs": [
    {
     "ename": "StopIteration",
     "evalue": "",
     "output_type": "error",
     "traceback": [
      "\u001b[31m---------------------------------------------------------------------------\u001b[39m",
      "\u001b[31mStopIteration\u001b[39m                             Traceback (most recent call last)",
      "\u001b[36mCell\u001b[39m\u001b[36m \u001b[39m\u001b[32mIn[18]\u001b[39m\u001b[32m, line 1\u001b[39m\n\u001b[32m----> \u001b[39m\u001b[32m1\u001b[39m \u001b[38;5;28;43mnext\u001b[39;49m\u001b[43m(\u001b[49m\u001b[43mgen\u001b[49m\u001b[43m)\u001b[49m\n",
      "\u001b[31mStopIteration\u001b[39m: "
     ]
    }
   ],
   "source": [
    "next(gen)"
   ]
  },
  {
   "cell_type": "code",
   "execution_count": 22,
   "id": "8658ec66-a929-40d5-907a-0c27a4ca0cef",
   "metadata": {},
   "outputs": [
    {
     "name": "stdout",
     "output_type": "stream",
     "text": [
      "1\n",
      "2\n",
      "3\n",
      "4\n",
      "5\n",
      "6\n"
     ]
    }
   ],
   "source": [
    "my_gen = number_generater(1,6)\n",
    "\n",
    "for num in my_gen:\n",
    "    print(num)"
   ]
  },
  {
   "cell_type": "markdown",
   "id": "d6913d08-243d-451c-a700-96b26768c136",
   "metadata": {},
   "source": [
    "Generater,Alternative"
   ]
  },
  {
   "cell_type": "code",
   "execution_count": 23,
   "id": "fd430528-bf62-4656-85b2-6c8bb85cb3f2",
   "metadata": {},
   "outputs": [],
   "source": [
    "gen = (i for i in range(1,5))"
   ]
  },
  {
   "cell_type": "code",
   "execution_count": 24,
   "id": "80f97fdc-241a-4073-bce4-d10307035a47",
   "metadata": {},
   "outputs": [
    {
     "data": {
      "text/plain": [
       "<generator object <genexpr> at 0x000002AEEFE23940>"
      ]
     },
     "execution_count": 24,
     "metadata": {},
     "output_type": "execute_result"
    }
   ],
   "source": [
    "gen"
   ]
  },
  {
   "cell_type": "code",
   "execution_count": null,
   "id": "7a59f39d-bde1-43e0-803c-5d1ae5ecad38",
   "metadata": {},
   "outputs": [],
   "source": []
  },
  {
   "cell_type": "code",
   "execution_count": 46,
   "id": "f6d05429-ecb0-4d59-a573-9e42ec203e5f",
   "metadata": {},
   "outputs": [],
   "source": [
    "def is_prime(n):\n",
    "    if n <= 1:\n",
    "        return False\n",
    "    for i in range(2, int(n ** 0.5) + 1):\n",
    "        if n % i == 0:\n",
    "            return False\n",
    "    return True\n",
    "\n",
    "def prime_generator():\n",
    "    n = 1\n",
    "    while True:\n",
    "        if is_prime(n):\n",
    "            yield n\n",
    "        n+= 1\n",
    "    "
   ]
  },
  {
   "cell_type": "code",
   "execution_count": 48,
   "id": "38001954-f125-4d10-9974-cc35008ffad1",
   "metadata": {},
   "outputs": [],
   "source": [
    "prime_gen = prime_generator()"
   ]
  },
  {
   "cell_type": "code",
   "execution_count": 49,
   "id": "07a4ea50-7f9d-4f5e-b457-dd33275063e2",
   "metadata": {},
   "outputs": [
    {
     "name": "stdout",
     "output_type": "stream",
     "text": [
      "2\n",
      "3\n",
      "5\n",
      "7\n",
      "11\n",
      "13\n",
      "17\n",
      "19\n",
      "23\n",
      "29\n",
      "31\n",
      "37\n",
      "41\n",
      "43\n",
      "47\n",
      "53\n",
      "59\n",
      "61\n",
      "67\n",
      "71\n",
      "73\n",
      "79\n",
      "83\n",
      "89\n",
      "97\n",
      "101\n"
     ]
    }
   ],
   "source": [
    "for prime in prime_gen:\n",
    "    print(prime)\n",
    "    if prime>100:\n",
    "        break\n",
    "    "
   ]
  },
  {
   "cell_type": "code",
   "execution_count": null,
   "id": "1eae2a2b-45a9-428e-9e7c-c00dabf48fc4",
   "metadata": {},
   "outputs": [],
   "source": []
  }
 ],
 "metadata": {
  "kernelspec": {
   "display_name": "Python 3 (ipykernel)",
   "language": "python",
   "name": "python3"
  },
  "language_info": {
   "codemirror_mode": {
    "name": "ipython",
    "version": 3
   },
   "file_extension": ".py",
   "mimetype": "text/x-python",
   "name": "python",
   "nbconvert_exporter": "python",
   "pygments_lexer": "ipython3",
   "version": "3.13.5"
  }
 },
 "nbformat": 4,
 "nbformat_minor": 5
}
