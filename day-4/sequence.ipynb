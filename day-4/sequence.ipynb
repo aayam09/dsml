{
 "cells": [
  {
   "cell_type": "code",
   "execution_count": 1,
   "id": "b2c57e8c-7e61-40c9-8b7d-5039455eaa3d",
   "metadata": {},
   "outputs": [],
   "source": [
    "prime =[2,3,5,7,11,13,17,23]"
   ]
  },
  {
   "cell_type": "code",
   "execution_count": 3,
   "id": "01116e5e-3cd0-41ba-b58f-ace20d301b3c",
   "metadata": {},
   "outputs": [
    {
     "data": {
      "text/plain": [
       "list"
      ]
     },
     "execution_count": 3,
     "metadata": {},
     "output_type": "execute_result"
    }
   ],
   "source": [
    "type(prime)"
   ]
  },
  {
   "cell_type": "code",
   "execution_count": 11,
   "id": "36a5ea88-2bcd-4df3-9857-1670ca647f06",
   "metadata": {},
   "outputs": [],
   "source": [
    "z= [\"apple\", 11.34, \"45joph\", -9, True]"
   ]
  },
  {
   "cell_type": "code",
   "execution_count": 12,
   "id": "1d50a38a-9dbb-4e9a-acc5-a14b64089894",
   "metadata": {},
   "outputs": [
    {
     "name": "stdout",
     "output_type": "stream",
     "text": [
      "['apple', 11.34, '45joph', -9, True]\n"
     ]
    }
   ],
   "source": [
    "print(z)"
   ]
  },
  {
   "cell_type": "code",
   "execution_count": 13,
   "id": "c9dbdacc-5b80-4647-ae0a-c49e9ec07ed4",
   "metadata": {},
   "outputs": [
    {
     "data": {
      "text/plain": [
       "5"
      ]
     },
     "execution_count": 13,
     "metadata": {},
     "output_type": "execute_result"
    }
   ],
   "source": [
    "len(z)"
   ]
  },
  {
   "cell_type": "code",
   "execution_count": 14,
   "id": "2e66aca6-a270-48ce-b638-9b1d7f2aef63",
   "metadata": {},
   "outputs": [
    {
     "data": {
      "text/plain": [
       "11.34"
      ]
     },
     "execution_count": 14,
     "metadata": {},
     "output_type": "execute_result"
    }
   ],
   "source": [
    "z[1]"
   ]
  },
  {
   "cell_type": "code",
   "execution_count": 16,
   "id": "53fe7484-5219-44d0-96a3-7c99649890bf",
   "metadata": {},
   "outputs": [
    {
     "data": {
      "text/plain": [
       "[5, 11, 17]"
      ]
     },
     "execution_count": 16,
     "metadata": {},
     "output_type": "execute_result"
    }
   ],
   "source": [
    "prime[2::2]"
   ]
  },
  {
   "cell_type": "code",
   "execution_count": 17,
   "id": "d29690dc-0938-4a52-ab18-bfca8578bd47",
   "metadata": {},
   "outputs": [
    {
     "data": {
      "text/plain": [
       "[23, 17, 13, 11, 7, 5, 3, 2]"
      ]
     },
     "execution_count": 17,
     "metadata": {},
     "output_type": "execute_result"
    }
   ],
   "source": [
    "prime[::-1]"
   ]
  },
  {
   "cell_type": "code",
   "execution_count": 19,
   "id": "6998cf64-f9fd-49bf-8dc5-562869b26187",
   "metadata": {},
   "outputs": [
    {
     "data": {
      "text/plain": [
       "81"
      ]
     },
     "execution_count": 19,
     "metadata": {},
     "output_type": "execute_result"
    }
   ],
   "source": [
    "sum(prime)"
   ]
  },
  {
   "cell_type": "code",
   "execution_count": 20,
   "id": "2f3b1962-7fa0-4b98-a51d-6a354bce3ae8",
   "metadata": {},
   "outputs": [
    {
     "data": {
      "text/plain": [
       "2"
      ]
     },
     "execution_count": 20,
     "metadata": {},
     "output_type": "execute_result"
    }
   ],
   "source": [
    "min(prime)"
   ]
  },
  {
   "cell_type": "code",
   "execution_count": 22,
   "id": "158ef0ec-d233-401b-8e28-c95747a36a6b",
   "metadata": {},
   "outputs": [],
   "source": [
    "z= [\"apple\", 11.34, \"45joph\", -9, True]"
   ]
  },
  {
   "cell_type": "code",
   "execution_count": 23,
   "id": "d313d895-7337-45bc-aaab-ce10c0afc48d",
   "metadata": {},
   "outputs": [],
   "source": [
    "z[2] = \"john\""
   ]
  },
  {
   "cell_type": "code",
   "execution_count": 24,
   "id": "c8ade8dd-c342-4b74-aac9-83e0c9c76681",
   "metadata": {},
   "outputs": [
    {
     "name": "stdout",
     "output_type": "stream",
     "text": [
      "['apple', 11.34, 'john', -9, True]\n"
     ]
    }
   ],
   "source": [
    "print(z)"
   ]
  },
  {
   "cell_type": "code",
   "execution_count": 25,
   "id": "bb0a97dc-ee65-4b07-a359-930050334b59",
   "metadata": {},
   "outputs": [],
   "source": [
    "z.append(66)"
   ]
  },
  {
   "cell_type": "code",
   "execution_count": 26,
   "id": "041a326a-bc35-45f8-b3e0-521f02c790ff",
   "metadata": {},
   "outputs": [
    {
     "name": "stdout",
     "output_type": "stream",
     "text": [
      "['apple', 11.34, 'john', -9, True, 66]\n"
     ]
    }
   ],
   "source": [
    "print(z)"
   ]
  },
  {
   "cell_type": "code",
   "execution_count": 27,
   "id": "26bbc135-45ef-421d-8025-01209ddcb708",
   "metadata": {},
   "outputs": [],
   "source": [
    "z.insert(1,\"cow\")"
   ]
  },
  {
   "cell_type": "code",
   "execution_count": 28,
   "id": "1ad5cdc7-454e-4344-b112-0cb7526dcde5",
   "metadata": {},
   "outputs": [
    {
     "name": "stdout",
     "output_type": "stream",
     "text": [
      "['apple', 'cow', 11.34, 'john', -9, True, 66]\n"
     ]
    }
   ],
   "source": [
    "print(z)"
   ]
  },
  {
   "cell_type": "code",
   "execution_count": 29,
   "id": "a3fffbd9-2dd5-4f1f-8798-480a4f63e32b",
   "metadata": {},
   "outputs": [],
   "source": [
    "z.remove(-9)"
   ]
  },
  {
   "cell_type": "code",
   "execution_count": 30,
   "id": "201369dc-de2f-43cd-a907-5a1eb760317b",
   "metadata": {},
   "outputs": [
    {
     "name": "stdout",
     "output_type": "stream",
     "text": [
      "['apple', 'cow', 11.34, 'john', True, 66]\n"
     ]
    }
   ],
   "source": [
    "print(z)"
   ]
  },
  {
   "cell_type": "code",
   "execution_count": 31,
   "id": "ef160bad-6524-4228-8084-716352288501",
   "metadata": {},
   "outputs": [
    {
     "data": {
      "text/plain": [
       "66"
      ]
     },
     "execution_count": 31,
     "metadata": {},
     "output_type": "execute_result"
    }
   ],
   "source": [
    "z.pop()"
   ]
  },
  {
   "cell_type": "code",
   "execution_count": 32,
   "id": "429a7e27-a397-4b9e-af34-dad85cb19d54",
   "metadata": {},
   "outputs": [
    {
     "name": "stdout",
     "output_type": "stream",
     "text": [
      "['apple', 'cow', 11.34, 'john', True]\n"
     ]
    }
   ],
   "source": [
    "print(z)"
   ]
  },
  {
   "cell_type": "code",
   "execution_count": 33,
   "id": "53f723f9-3d1e-4c1f-93e2-df7eabefd543",
   "metadata": {},
   "outputs": [],
   "source": [
    "z.clear()"
   ]
  },
  {
   "cell_type": "code",
   "execution_count": 34,
   "id": "e2afaf6c-f9fb-49e5-a69f-e5a37df7afd4",
   "metadata": {},
   "outputs": [
    {
     "name": "stdout",
     "output_type": "stream",
     "text": [
      "[]\n"
     ]
    }
   ],
   "source": [
    "print(z)"
   ]
  },
  {
   "cell_type": "markdown",
   "id": "81ccd504-1e7c-4723-9161-c0a908ea94f4",
   "metadata": {},
   "source": [
    "..."
   ]
  },
  {
   "cell_type": "code",
   "execution_count": 35,
   "id": "da71f4ff-4eff-4162-a29e-32de271dc0ef",
   "metadata": {},
   "outputs": [],
   "source": [
    "name = [\"hari\",\"shyam\",\"ram\"]"
   ]
  },
  {
   "cell_type": "code",
   "execution_count": 48,
   "id": "702fe534-3373-41f4-b333-bb3475eaaf36",
   "metadata": {},
   "outputs": [],
   "source": [
    " name_new = name.copy()"
   ]
  },
  {
   "cell_type": "code",
   "execution_count": 49,
   "id": "20944365-905b-415b-aa4e-abb79b2e24ca",
   "metadata": {},
   "outputs": [
    {
     "data": {
      "text/plain": [
       "['hari', 'shyam', 'ram', 'krishna']"
      ]
     },
     "execution_count": 49,
     "metadata": {},
     "output_type": "execute_result"
    }
   ],
   "source": [
    "name_new"
   ]
  },
  {
   "cell_type": "code",
   "execution_count": 50,
   "id": "d04fcc55-a0df-4023-abda-09136a00bd51",
   "metadata": {},
   "outputs": [],
   "source": [
    "name_new.append(\"krishna\")"
   ]
  },
  {
   "cell_type": "code",
   "execution_count": 51,
   "id": "baf68573-7cff-4f4b-8a79-b87838b57819",
   "metadata": {},
   "outputs": [
    {
     "data": {
      "text/plain": [
       "['hari', 'shyam', 'ram', 'krishna', 'krishna']"
      ]
     },
     "execution_count": 51,
     "metadata": {},
     "output_type": "execute_result"
    }
   ],
   "source": [
    "name_new"
   ]
  },
  {
   "cell_type": "code",
   "execution_count": 52,
   "id": "136fdcde-cec8-4d1d-8c10-9be024a2f45b",
   "metadata": {},
   "outputs": [
    {
     "data": {
      "text/plain": [
       "['hari', 'shyam', 'ram', 'krishna']"
      ]
     },
     "execution_count": 52,
     "metadata": {},
     "output_type": "execute_result"
    }
   ],
   "source": [
    "name"
   ]
  },
  {
   "cell_type": "code",
   "execution_count": null,
   "id": "67155a9c-7f1b-4918-bb1a-f52220b2d83f",
   "metadata": {},
   "outputs": [],
   "source": []
  },
  {
   "cell_type": "code",
   "execution_count": 63,
   "id": "68aa6b7e-85f7-422b-af6c-bbfbedad6b96",
   "metadata": {},
   "outputs": [],
   "source": [
    "mylist = [3,1,99,1,5,1,3.2]"
   ]
  },
  {
   "cell_type": "code",
   "execution_count": 64,
   "id": "e47035f6-6d6b-4152-9847-a0443d54ed01",
   "metadata": {},
   "outputs": [
    {
     "name": "stdout",
     "output_type": "stream",
     "text": [
      "[3, 1, 99, 1, 5, 1, 3.2]\n"
     ]
    }
   ],
   "source": [
    "print(mylist)"
   ]
  },
  {
   "cell_type": "code",
   "execution_count": 65,
   "id": "f6fd0b58-f54f-49f7-afe3-3adf4ea6baaa",
   "metadata": {},
   "outputs": [],
   "source": [
    "mylist.sort(reverse=True)"
   ]
  },
  {
   "cell_type": "code",
   "execution_count": 66,
   "id": "a4de45bd-7691-4a5e-91af-f78c8fc1db01",
   "metadata": {},
   "outputs": [
    {
     "name": "stdout",
     "output_type": "stream",
     "text": [
      "[99, 5, 3.2, 3, 1, 1, 1]\n"
     ]
    }
   ],
   "source": [
    "print(mylist)"
   ]
  },
  {
   "cell_type": "code",
   "execution_count": 67,
   "id": "c03e9aeb-427d-49b1-aa1b-2dec5f0108af",
   "metadata": {},
   "outputs": [],
   "source": [
    "mylist.reverse()"
   ]
  },
  {
   "cell_type": "code",
   "execution_count": 68,
   "id": "ca9c321a-0e78-4dea-bb0e-6e868a8d2fdf",
   "metadata": {},
   "outputs": [
    {
     "name": "stdout",
     "output_type": "stream",
     "text": [
      "[1, 1, 1, 3, 3.2, 5, 99]\n"
     ]
    }
   ],
   "source": [
    "print(mylist)"
   ]
  },
  {
   "cell_type": "code",
   "execution_count": 69,
   "id": "250ed02d-d273-4d90-b901-b7e38cd1405a",
   "metadata": {},
   "outputs": [
    {
     "data": {
      "text/plain": [
       "3"
      ]
     },
     "execution_count": 69,
     "metadata": {},
     "output_type": "execute_result"
    }
   ],
   "source": [
    "mylist.count(1)"
   ]
  },
  {
   "cell_type": "code",
   "execution_count": 70,
   "id": "8d843b79-4758-4dbc-8c8f-3f4db52c079e",
   "metadata": {},
   "outputs": [
    {
     "data": {
      "text/plain": [
       "6"
      ]
     },
     "execution_count": 70,
     "metadata": {},
     "output_type": "execute_result"
    }
   ],
   "source": [
    "mylist.index(99)"
   ]
  },
  {
   "cell_type": "code",
   "execution_count": null,
   "id": "8a815872-f22b-4c47-93d1-4ba86ba27a91",
   "metadata": {},
   "outputs": [],
   "source": []
  },
  {
   "cell_type": "code",
   "execution_count": 71,
   "id": "e0863743-4a45-48ef-bbf2-870c7ea1e2cc",
   "metadata": {},
   "outputs": [],
   "source": [
    "mytuple =(730, 1600, 120)"
   ]
  },
  {
   "cell_type": "code",
   "execution_count": 73,
   "id": "a18806ea-1ffd-48ba-8296-a15810ec8d0f",
   "metadata": {},
   "outputs": [
    {
     "name": "stdout",
     "output_type": "stream",
     "text": [
      "(730, 1600, 120)\n"
     ]
    }
   ],
   "source": [
    "print(mytuple)"
   ]
  },
  {
   "cell_type": "code",
   "execution_count": 74,
   "id": "f6b86fa3-eac1-4742-a50a-e844491d4cc7",
   "metadata": {},
   "outputs": [
    {
     "data": {
      "text/plain": [
       "tuple"
      ]
     },
     "execution_count": 74,
     "metadata": {},
     "output_type": "execute_result"
    }
   ],
   "source": [
    "type(mytuple)"
   ]
  },
  {
   "cell_type": "code",
   "execution_count": 75,
   "id": "be890cda-2ad8-4055-8138-0d0e86280ec8",
   "metadata": {},
   "outputs": [
    {
     "data": {
      "text/plain": [
       "730"
      ]
     },
     "execution_count": 75,
     "metadata": {},
     "output_type": "execute_result"
    }
   ],
   "source": [
    "mytuple[0]"
   ]
  },
  {
   "cell_type": "code",
   "execution_count": 76,
   "id": "179e6e6c-29ff-4158-899a-2c7a69d7e538",
   "metadata": {},
   "outputs": [
    {
     "data": {
      "text/plain": [
       "120"
      ]
     },
     "execution_count": 76,
     "metadata": {},
     "output_type": "execute_result"
    }
   ],
   "source": [
    "mytuple[-1]"
   ]
  },
  {
   "cell_type": "code",
   "execution_count": 78,
   "id": "34487ea4-0c04-4842-8112-74a72ee29716",
   "metadata": {},
   "outputs": [],
   "source": [
    "longtuple = (1,3,6,33,66,8)"
   ]
  },
  {
   "cell_type": "code",
   "execution_count": 79,
   "id": "f0bf4185-1a2f-4cbe-bfea-3543f23690e7",
   "metadata": {},
   "outputs": [
    {
     "name": "stdout",
     "output_type": "stream",
     "text": [
      "(1, 3, 6, 33, 66, 8)\n"
     ]
    }
   ],
   "source": [
    "print(longtuple)"
   ]
  },
  {
   "cell_type": "code",
   "execution_count": 80,
   "id": "7d49f019-7616-4654-be0f-c1baa36be084",
   "metadata": {},
   "outputs": [
    {
     "data": {
      "text/plain": [
       "(6, 33, 66, 8)"
      ]
     },
     "execution_count": 80,
     "metadata": {},
     "output_type": "execute_result"
    }
   ],
   "source": [
    "longtuple[2:6]"
   ]
  },
  {
   "cell_type": "code",
   "execution_count": 81,
   "id": "5ed2f491-a402-4614-8da9-fa7111421818",
   "metadata": {},
   "outputs": [
    {
     "ename": "TypeError",
     "evalue": "'tuple' object does not support item assignment",
     "output_type": "error",
     "traceback": [
      "\u001b[31m---------------------------------------------------------------------------\u001b[39m",
      "\u001b[31mTypeError\u001b[39m                                 Traceback (most recent call last)",
      "\u001b[36mCell\u001b[39m\u001b[36m \u001b[39m\u001b[32mIn[81]\u001b[39m\u001b[32m, line 1\u001b[39m\n\u001b[32m----> \u001b[39m\u001b[32m1\u001b[39m \u001b[43mlongtuple\u001b[49m\u001b[43m[\u001b[49m\u001b[32;43m0\u001b[39;49m\u001b[43m]\u001b[49m = \u001b[32m5\u001b[39m\n",
      "\u001b[31mTypeError\u001b[39m: 'tuple' object does not support item assignment"
     ]
    }
   ],
   "source": [
    "longtuple[0] = 5"
   ]
  },
  {
   "cell_type": "code",
   "execution_count": 85,
   "id": "3f64432e-99e3-49f6-93ae-124086bf44f5",
   "metadata": {},
   "outputs": [
    {
     "data": {
      "text/plain": [
       "1"
      ]
     },
     "execution_count": 85,
     "metadata": {},
     "output_type": "execute_result"
    }
   ],
   "source": [
    "longtuple.count(1)"
   ]
  },
  {
   "cell_type": "code",
   "execution_count": 86,
   "id": "413f7669-7d4b-4e86-bc2b-28acf320abd0",
   "metadata": {},
   "outputs": [
    {
     "data": {
      "text/plain": [
       "[1, 3, 6, 8, 33, 66]"
      ]
     },
     "execution_count": 86,
     "metadata": {},
     "output_type": "execute_result"
    }
   ],
   "source": [
    "sorted(longtuple)"
   ]
  },
  {
   "cell_type": "code",
   "execution_count": null,
   "id": "1e019c07-f11e-4364-b944-1243b424792b",
   "metadata": {},
   "outputs": [],
   "source": []
  },
  {
   "cell_type": "code",
   "execution_count": 87,
   "id": "2c3c8cd2-b3d3-4596-9857-285383621720",
   "metadata": {},
   "outputs": [
    {
     "data": {
      "text/plain": [
       "[1, 3, 6, 33, 66, 8]"
      ]
     },
     "execution_count": 87,
     "metadata": {},
     "output_type": "execute_result"
    }
   ],
   "source": [
    "list(longtuple)"
   ]
  },
  {
   "cell_type": "code",
   "execution_count": 88,
   "id": "b3f43e6b-3454-4773-820d-fead6c31ae51",
   "metadata": {},
   "outputs": [
    {
     "data": {
      "text/plain": [
       "(1, 1, 1, 3, 3.2, 5, 99)"
      ]
     },
     "execution_count": 88,
     "metadata": {},
     "output_type": "execute_result"
    }
   ],
   "source": [
    "tuple(mylist)"
   ]
  },
  {
   "cell_type": "code",
   "execution_count": null,
   "id": "8acd0923-452a-424b-a002-26bae9ba7762",
   "metadata": {},
   "outputs": [],
   "source": []
  }
 ],
 "metadata": {
  "kernelspec": {
   "display_name": "Python 3 (ipykernel)",
   "language": "python",
   "name": "python3"
  },
  "language_info": {
   "codemirror_mode": {
    "name": "ipython",
    "version": 3
   },
   "file_extension": ".py",
   "mimetype": "text/x-python",
   "name": "python",
   "nbconvert_exporter": "python",
   "pygments_lexer": "ipython3",
   "version": "3.13.5"
  }
 },
 "nbformat": 4,
 "nbformat_minor": 5
}
