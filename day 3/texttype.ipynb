{
 "cells": [
  {
   "cell_type": "code",
   "execution_count": 1,
   "id": "e7e00f9f-2421-4734-ab68-ac43f38d4efb",
   "metadata": {},
   "outputs": [],
   "source": [
    "name = \"Harry\""
   ]
  },
  {
   "cell_type": "code",
   "execution_count": 2,
   "id": "bc7be712-c2b0-4666-9a0b-37fbcc9ff3c0",
   "metadata": {},
   "outputs": [
    {
     "data": {
      "text/plain": [
       "str"
      ]
     },
     "execution_count": 2,
     "metadata": {},
     "output_type": "execute_result"
    }
   ],
   "source": [
    "type(name)"
   ]
  },
  {
   "cell_type": "code",
   "execution_count": 3,
   "id": "d5a32a4a-b602-4779-83a6-01fae839ef43",
   "metadata": {},
   "outputs": [],
   "source": [
    "sent ='''\n",
    "line1 \n",
    "line2 \n",
    "'''"
   ]
  },
  {
   "cell_type": "code",
   "execution_count": 4,
   "id": "83c2de45-d516-4bd9-b3a5-f65f7f32b906",
   "metadata": {},
   "outputs": [
    {
     "name": "stdout",
     "output_type": "stream",
     "text": [
      "\n",
      "line1 \n",
      "line2 \n",
      "\n"
     ]
    }
   ],
   "source": [
    "print(sent)"
   ]
  },
  {
   "cell_type": "code",
   "execution_count": 5,
   "id": "401d9bb4-93f3-4c7d-892b-6b0815e10036",
   "metadata": {},
   "outputs": [
    {
     "data": {
      "text/plain": [
       "'22'"
      ]
     },
     "execution_count": 5,
     "metadata": {},
     "output_type": "execute_result"
    }
   ],
   "source": [
    "str(22)"
   ]
  },
  {
   "cell_type": "code",
   "execution_count": 6,
   "id": "ca811e75-3941-432b-8e33-d971284136ae",
   "metadata": {},
   "outputs": [],
   "source": [
    "name =\"pinapple\""
   ]
  },
  {
   "cell_type": "code",
   "execution_count": 7,
   "id": "83a5e6eb-46ea-4fbe-8f1f-d10ff114785f",
   "metadata": {},
   "outputs": [
    {
     "data": {
      "text/plain": [
       "8"
      ]
     },
     "execution_count": 7,
     "metadata": {},
     "output_type": "execute_result"
    }
   ],
   "source": [
    "len(name)"
   ]
  },
  {
   "cell_type": "code",
   "execution_count": 9,
   "id": "5366c058-73ca-4c3d-9abe-a8aaa2dfd601",
   "metadata": {},
   "outputs": [],
   "source": [
    "x = \"  Welcome  \""
   ]
  },
  {
   "cell_type": "code",
   "execution_count": 10,
   "id": "3e94483b-8445-4cd0-a988-e19459111ade",
   "metadata": {},
   "outputs": [
    {
     "data": {
      "text/plain": [
       "'  welcome  '"
      ]
     },
     "execution_count": 10,
     "metadata": {},
     "output_type": "execute_result"
    }
   ],
   "source": [
    "x.lower()"
   ]
  },
  {
   "cell_type": "code",
   "execution_count": 11,
   "id": "7b32ff5c-aa9b-4c00-b289-6aa35feea450",
   "metadata": {},
   "outputs": [
    {
     "data": {
      "text/plain": [
       "'  WELCOME  '"
      ]
     },
     "execution_count": 11,
     "metadata": {},
     "output_type": "execute_result"
    }
   ],
   "source": [
    "x.upper()"
   ]
  },
  {
   "cell_type": "code",
   "execution_count": 12,
   "id": "07de85d7-37af-4f4b-867e-bb389cf3a147",
   "metadata": {},
   "outputs": [
    {
     "data": {
      "text/plain": [
       "'Welcome'"
      ]
     },
     "execution_count": 12,
     "metadata": {},
     "output_type": "execute_result"
    }
   ],
   "source": [
    "x.strip()"
   ]
  },
  {
   "cell_type": "code",
   "execution_count": 13,
   "id": "ebc0d713-97c8-4396-a2ae-b2435266a5f4",
   "metadata": {},
   "outputs": [
    {
     "data": {
      "text/plain": [
       "'  Walcoma  '"
      ]
     },
     "execution_count": 13,
     "metadata": {},
     "output_type": "execute_result"
    }
   ],
   "source": [
    "x.replace('e','a')"
   ]
  },
  {
   "cell_type": "code",
   "execution_count": null,
   "id": "2231e2fb",
   "metadata": {},
   "outputs": [],
   "source": []
  },
  {
   "cell_type": "code",
   "execution_count": 14,
   "id": "1f553c60-a8ee-4324-9a74-c8b1599d8219",
   "metadata": {},
   "outputs": [
    {
     "data": {
      "text/plain": [
       "['  W', 'lcom', '  ']"
      ]
     },
     "execution_count": 14,
     "metadata": {},
     "output_type": "execute_result"
    }
   ],
   "source": [
    "x.split('e')"
   ]
  },
  {
   "cell_type": "code",
   "execution_count": 18,
   "id": "ca2bbbaf-8cbe-4e38-bf3d-e63aaa83eb65",
   "metadata": {},
   "outputs": [],
   "source": [
    "email = \"aayam@mail.com\""
   ]
  },
  {
   "cell_type": "code",
   "execution_count": 19,
   "id": "0e8bb20f-a1cd-4d4e-b7c3-f04e6b9f17c3",
   "metadata": {},
   "outputs": [
    {
     "data": {
      "text/plain": [
       "False"
      ]
     },
     "execution_count": 19,
     "metadata": {},
     "output_type": "execute_result"
    }
   ],
   "source": [
    "email.endswith(\"gmail.com\")"
   ]
  },
  {
   "cell_type": "code",
   "execution_count": 5,
   "id": "5550afde-0602-4b4a-b083-c6d4a5f4a365",
   "metadata": {},
   "outputs": [],
   "source": [
    "address = \"kathmandu\""
   ]
  },
  {
   "cell_type": "code",
   "execution_count": 6,
   "id": "d0a78c9e-6e1b-46a6-8024-6e3f2ae12486",
   "metadata": {},
   "outputs": [
    {
     "data": {
      "text/plain": [
       "'a'"
      ]
     },
     "execution_count": 6,
     "metadata": {},
     "output_type": "execute_result"
    }
   ],
   "source": [
    "address[5]"
   ]
  },
  {
   "cell_type": "code",
   "execution_count": 7,
   "id": "b2fe390c-131e-4b77-9755-dd3e7d1a3f25",
   "metadata": {},
   "outputs": [
    {
     "data": {
      "text/plain": [
       "'u'"
      ]
     },
     "execution_count": 7,
     "metadata": {},
     "output_type": "execute_result"
    }
   ],
   "source": [
    "address[-1]"
   ]
  },
  {
   "cell_type": "code",
   "execution_count": 8,
   "id": "155d53e2-f701-4210-8f99-874e7ab6608e",
   "metadata": {},
   "outputs": [
    {
     "ename": "IndexError",
     "evalue": "string index out of range",
     "output_type": "error",
     "traceback": [
      "\u001b[31m-------------------------------------------------------\u001b[39m",
      "\u001b[31mIndexError\u001b[39m            Traceback (most recent call last)",
      "\u001b[36mCell\u001b[39m\u001b[36m \u001b[39m\u001b[32mIn[8]\u001b[39m\u001b[32m, line 1\u001b[39m\n\u001b[32m----> \u001b[39m\u001b[32m1\u001b[39m \u001b[43maddress\u001b[49m\u001b[43m[\u001b[49m\u001b[32;43m45\u001b[39;49m\u001b[43m]\u001b[49m\n",
      "\u001b[31mIndexError\u001b[39m: string index out of range"
     ]
    }
   ],
   "source": [
    "address[45]"
   ]
  },
  {
   "cell_type": "code",
   "execution_count": 10,
   "id": "a1fe6c60-13a1-45b9-b8ce-54206056a5c1",
   "metadata": {},
   "outputs": [
    {
     "data": {
      "text/plain": [
       "'aha'"
      ]
     },
     "execution_count": 10,
     "metadata": {},
     "output_type": "execute_result"
    }
   ],
   "source": [
    "address[1:7:2]"
   ]
  },
  {
   "cell_type": "code",
   "execution_count": 13,
   "id": "7ca3dbf4-bf3c-4873-b946-3ae206cc9767",
   "metadata": {},
   "outputs": [
    {
     "data": {
      "text/plain": [
       "'ktmnu'"
      ]
     },
     "execution_count": 13,
     "metadata": {},
     "output_type": "execute_result"
    }
   ],
   "source": [
    "address[::2]"
   ]
  },
  {
   "cell_type": "code",
   "execution_count": 14,
   "id": "f2b046a7-4c56-4f37-96a9-401222822611",
   "metadata": {},
   "outputs": [
    {
     "data": {
      "text/plain": [
       "'man'"
      ]
     },
     "execution_count": 14,
     "metadata": {},
     "output_type": "execute_result"
    }
   ],
   "source": [
    "address[-5:-2:]"
   ]
  },
  {
   "cell_type": "code",
   "execution_count": 20,
   "id": "92ee57c4-22f5-4539-9c13-293cee495a72",
   "metadata": {},
   "outputs": [
    {
     "data": {
      "text/plain": [
       "'udnamhtak'"
      ]
     },
     "execution_count": 20,
     "metadata": {},
     "output_type": "execute_result"
    }
   ],
   "source": [
    "address[::-1]"
   ]
  },
  {
   "cell_type": "code",
   "execution_count": 21,
   "id": "90356a38-4aba-4159-b279-849d933016f0",
   "metadata": {},
   "outputs": [],
   "source": [
    "name = \"aayam\"\n",
    "age = 21"
   ]
  },
  {
   "cell_type": "code",
   "execution_count": 22,
   "id": "9b027380-50a5-4c26-b589-6fb60228a798",
   "metadata": {},
   "outputs": [
    {
     "name": "stdout",
     "output_type": "stream",
     "text": [
      "your name is Aayam and you are 21 years old\n"
     ]
    }
   ],
   "source": [
    "print(\"your name is %s and you are %d years old\" %(name.capitalize(),age))"
   ]
  },
  {
   "cell_type": "code",
   "execution_count": 23,
   "id": "71bb911c-bcd1-42db-b510-f0c68260acb3",
   "metadata": {},
   "outputs": [
    {
     "name": "stdout",
     "output_type": "stream",
     "text": [
      "your name is Aayam and you are 21 years old\n"
     ]
    }
   ],
   "source": [
    "print(\"your name is {} and you are {} years old\" .format(name.capitalize(),age))"
   ]
  },
  {
   "cell_type": "code",
   "execution_count": 24,
   "id": "d91b458e-760b-45bb-9992-52ca6c3c6d84",
   "metadata": {},
   "outputs": [
    {
     "name": "stdout",
     "output_type": "stream",
     "text": [
      "your name is Aayam and you are 21 years old\n"
     ]
    }
   ],
   "source": [
    "print(f\"your name is {name.capitalize()} and you are {age} years old\")"
   ]
  },
  {
   "cell_type": "code",
   "execution_count": 26,
   "id": "f7a6c328-3a39-418c-96ac-2a06740d95c5",
   "metadata": {},
   "outputs": [],
   "source": [
    "base_path = \"/C\"\n",
    "file_name = \"hd_video\"\n",
    "path = f\"{base_path}/output/{file_name}.mp4\""
   ]
  },
  {
   "cell_type": "code",
   "execution_count": 27,
   "id": "0e472a19-5a4f-45f3-a871-9320941469e5",
   "metadata": {},
   "outputs": [
    {
     "data": {
      "text/plain": [
       "'/C/output/hd_video.mp4'"
      ]
     },
     "execution_count": 27,
     "metadata": {},
     "output_type": "execute_result"
    }
   ],
   "source": [
    "path"
   ]
  },
  {
   "cell_type": "code",
   "execution_count": null,
   "id": "8864ea86-0d4a-483b-8c28-addd35772351",
   "metadata": {},
   "outputs": [],
   "source": []
  }
 ],
 "metadata": {
  "kernelspec": {
   "display_name": "Python 3 (ipykernel)",
   "language": "python",
   "name": "python3"
  },
  "language_info": {
   "codemirror_mode": {
    "name": "ipython",
    "version": 3
   },
   "file_extension": ".py",
   "mimetype": "text/x-python",
   "name": "python",
   "nbconvert_exporter": "python",
   "pygments_lexer": "ipython3",
   "version": "3.13.5"
  }
 },
 "nbformat": 4,
 "nbformat_minor": 5
}
