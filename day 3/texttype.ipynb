{
 "cells": [
  {
   "cell_type": "code",
   "execution_count": 1,
   "id": "e7e00f9f-2421-4734-ab68-ac43f38d4efb",
   "metadata": {},
   "outputs": [],
   "source": [
    "name = \"Harry\""
   ]
  },
  {
   "cell_type": "code",
   "execution_count": 2,
   "id": "bc7be712-c2b0-4666-9a0b-37fbcc9ff3c0",
   "metadata": {},
   "outputs": [
    {
     "data": {
      "text/plain": [
       "str"
      ]
     },
     "execution_count": 2,
     "metadata": {},
     "output_type": "execute_result"
    }
   ],
   "source": [
    "type(name)"
   ]
  },
  {
   "cell_type": "code",
   "execution_count": 3,
   "id": "d5a32a4a-b602-4779-83a6-01fae839ef43",
   "metadata": {},
   "outputs": [],
   "source": [
    "sent ='''\n",
    "line1 \n",
    "line2 \n",
    "'''"
   ]
  },
  {
   "cell_type": "code",
   "execution_count": 4,
   "id": "83c2de45-d516-4bd9-b3a5-f65f7f32b906",
   "metadata": {},
   "outputs": [
    {
     "name": "stdout",
     "output_type": "stream",
     "text": [
      "\n",
      "line1 \n",
      "line2 \n",
      "\n"
     ]
    }
   ],
   "source": [
    "print(sent)"
   ]
  },
  {
   "cell_type": "code",
   "execution_count": 5,
   "id": "401d9bb4-93f3-4c7d-892b-6b0815e10036",
   "metadata": {},
   "outputs": [
    {
     "data": {
      "text/plain": [
       "'22'"
      ]
     },
     "execution_count": 5,
     "metadata": {},
     "output_type": "execute_result"
    }
   ],
   "source": [
    "str(22)"
   ]
  },
  {
   "cell_type": "code",
   "execution_count": 6,
   "id": "ca811e75-3941-432b-8e33-d971284136ae",
   "metadata": {},
   "outputs": [],
   "source": [
    "name =\"pinapple\""
   ]
  },
  {
   "cell_type": "code",
   "execution_count": 7,
   "id": "83a5e6eb-46ea-4fbe-8f1f-d10ff114785f",
   "metadata": {},
   "outputs": [
    {
     "data": {
      "text/plain": [
       "8"
      ]
     },
     "execution_count": 7,
     "metadata": {},
     "output_type": "execute_result"
    }
   ],
   "source": [
    "len(name)"
   ]
  },
  {
   "cell_type": "code",
   "execution_count": 9,
   "id": "5366c058-73ca-4c3d-9abe-a8aaa2dfd601",
   "metadata": {},
   "outputs": [],
   "source": [
    "x = \"  Welcome  \""
   ]
  },
  {
   "cell_type": "code",
   "execution_count": 10,
   "id": "3e94483b-8445-4cd0-a988-e19459111ade",
   "metadata": {},
   "outputs": [
    {
     "data": {
      "text/plain": [
       "'  welcome  '"
      ]
     },
     "execution_count": 10,
     "metadata": {},
     "output_type": "execute_result"
    }
   ],
   "source": [
    "x.lower()"
   ]
  },
  {
   "cell_type": "code",
   "execution_count": 11,
   "id": "7b32ff5c-aa9b-4c00-b289-6aa35feea450",
   "metadata": {},
   "outputs": [
    {
     "data": {
      "text/plain": [
       "'  WELCOME  '"
      ]
     },
     "execution_count": 11,
     "metadata": {},
     "output_type": "execute_result"
    }
   ],
   "source": [
    "x.upper()"
   ]
  },
  {
   "cell_type": "code",
   "execution_count": 12,
   "id": "07de85d7-37af-4f4b-867e-bb389cf3a147",
   "metadata": {},
   "outputs": [
    {
     "data": {
      "text/plain": [
       "'Welcome'"
      ]
     },
     "execution_count": 12,
     "metadata": {},
     "output_type": "execute_result"
    }
   ],
   "source": [
    "x.strip()"
   ]
  },
  {
   "cell_type": "code",
   "execution_count": 13,
   "id": "ebc0d713-97c8-4396-a2ae-b2435266a5f4",
   "metadata": {},
   "outputs": [
    {
     "data": {
      "text/plain": [
       "'  Walcoma  '"
      ]
     },
     "execution_count": 13,
     "metadata": {},
     "output_type": "execute_result"
    }
   ],
   "source": [
    "x.replace('e','a')"
   ]
  },
  {
   "cell_type": "code",
   "execution_count": 14,
   "id": "1f553c60-a8ee-4324-9a74-c8b1599d8219",
   "metadata": {},
   "outputs": [
    {
     "data": {
      "text/plain": [
       "['  W', 'lcom', '  ']"
      ]
     },
     "execution_count": 14,
     "metadata": {},
     "output_type": "execute_result"
    }
   ],
   "source": [
    "x.split('e')"
   ]
  },
  {
   "cell_type": "code",
   "execution_count": 18,
   "id": "ca2bbbaf-8cbe-4e38-bf3d-e63aaa83eb65",
   "metadata": {},
   "outputs": [],
   "source": [
    "email = \"aayam@mail.com\""
   ]
  },
  {
   "cell_type": "code",
   "execution_count": 19,
   "id": "0e8bb20f-a1cd-4d4e-b7c3-f04e6b9f17c3",
   "metadata": {},
   "outputs": [
    {
     "data": {
      "text/plain": [
       "False"
      ]
     },
     "execution_count": 19,
     "metadata": {},
     "output_type": "execute_result"
    }
   ],
   "source": [
    "email.endswith(\"gmail.com\")"
   ]
  },
  {
   "cell_type": "code",
   "execution_count": 22,
   "id": "5550afde-0602-4b4a-b083-c6d4a5f4a365",
   "metadata": {},
   "outputs": [],
   "source": [
    "address = \"kathmandu\""
   ]
  },
  {
   "cell_type": "code",
   "execution_count": 24,
   "id": "d0a78c9e-6e1b-46a6-8024-6e3f2ae12486",
   "metadata": {},
   "outputs": [
    {
     "data": {
      "text/plain": [
       "'a'"
      ]
     },
     "execution_count": 24,
     "metadata": {},
     "output_type": "execute_result"
    }
   ],
   "source": [
    "address[5]"
   ]
  },
  {
   "cell_type": "code",
   "execution_count": 25,
   "id": "b2fe390c-131e-4b77-9755-dd3e7d1a3f25",
   "metadata": {},
   "outputs": [
    {
     "data": {
      "text/plain": [
       "'u'"
      ]
     },
     "execution_count": 25,
     "metadata": {},
     "output_type": "execute_result"
    }
   ],
   "source": [
    "address[-1]"
   ]
  },
  {
   "cell_type": "code",
   "execution_count": null,
   "id": "155d53e2-f701-4210-8f99-874e7ab6608e",
   "metadata": {},
   "outputs": [],
   "source": []
  }
 ],
 "metadata": {
  "kernelspec": {
   "display_name": "Python 3 (ipykernel)",
   "language": "python",
   "name": "python3"
  },
  "language_info": {
   "codemirror_mode": {
    "name": "ipython",
    "version": 3
   },
   "file_extension": ".py",
   "mimetype": "text/x-python",
   "name": "python",
   "nbconvert_exporter": "python",
   "pygments_lexer": "ipython3",
   "version": "3.13.5"
  }
 },
 "nbformat": 4,
 "nbformat_minor": 5
}
