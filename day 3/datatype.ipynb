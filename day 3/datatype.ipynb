{
 "cells": [
  {
   "cell_type": "code",
   "execution_count": 3,
   "id": "a3a6247e-9258-4f21-ab08-497c4809a8ad",
   "metadata": {},
   "outputs": [],
   "source": [
    "number = -1234455322423423434234"
   ]
  },
  {
   "cell_type": "code",
   "execution_count": 4,
   "id": "f53ef7c7-0beb-4ee3-8b87-8d4d03363a29",
   "metadata": {},
   "outputs": [
    {
     "data": {
      "text/plain": [
       "int"
      ]
     },
     "execution_count": 4,
     "metadata": {},
     "output_type": "execute_result"
    }
   ],
   "source": [
    "type(number)"
   ]
  },
  {
   "cell_type": "code",
   "execution_count": 5,
   "id": "7257e9ed-8bf0-411e-a9e6-a3a59e9163e1",
   "metadata": {},
   "outputs": [
    {
     "name": "stdout",
     "output_type": "stream",
     "text": [
      "-1234455322423423434234\n"
     ]
    }
   ],
   "source": [
    "print(number)"
   ]
  },
  {
   "cell_type": "code",
   "execution_count": 6,
   "id": "cd506124-facc-4dca-98ad-6433d903e380",
   "metadata": {},
   "outputs": [],
   "source": [
    "pie = 22/7"
   ]
  },
  {
   "cell_type": "code",
   "execution_count": 7,
   "id": "43b9245d-46eb-4462-9772-bcbbc9a97396",
   "metadata": {},
   "outputs": [
    {
     "name": "stdout",
     "output_type": "stream",
     "text": [
      "3.142857142857143\n"
     ]
    }
   ],
   "source": [
    "print(pie)"
   ]
  },
  {
   "cell_type": "code",
   "execution_count": 8,
   "id": "6c2979f7-9afe-4a99-9940-8e96d36a8e99",
   "metadata": {},
   "outputs": [
    {
     "data": {
      "text/plain": [
       "float"
      ]
     },
     "execution_count": 8,
     "metadata": {},
     "output_type": "execute_result"
    }
   ],
   "source": [
    "type(pie)"
   ]
  },
  {
   "cell_type": "code",
   "execution_count": 9,
   "id": "e479c0c1-bef0-4d56-abd0-db9ae5f91f5a",
   "metadata": {},
   "outputs": [],
   "source": [
    "vec = 6 -3j"
   ]
  },
  {
   "cell_type": "code",
   "execution_count": 10,
   "id": "e32cebab-a27b-418b-ba78-1a74c113a1d5",
   "metadata": {},
   "outputs": [
    {
     "data": {
      "text/plain": [
       "complex"
      ]
     },
     "execution_count": 10,
     "metadata": {},
     "output_type": "execute_result"
    }
   ],
   "source": [
    "type(vec)"
   ]
  },
  {
   "cell_type": "code",
   "execution_count": 11,
   "id": "a36aefd7-11fa-487e-8ab6-74b77d232007",
   "metadata": {},
   "outputs": [],
   "source": [
    "x=22\n",
    "y=55.6"
   ]
  },
  {
   "cell_type": "code",
   "execution_count": 12,
   "id": "62cb05e4-dbc9-4357-a9db-4232f9eebafc",
   "metadata": {},
   "outputs": [
    {
     "data": {
      "text/plain": [
       "77.6"
      ]
     },
     "execution_count": 12,
     "metadata": {},
     "output_type": "execute_result"
    }
   ],
   "source": [
    "x + y"
   ]
  },
  {
   "cell_type": "code",
   "execution_count": 13,
   "id": "7fa1a8f7-f781-41c8-ae70-449fca722475",
   "metadata": {},
   "outputs": [
    {
     "data": {
      "text/plain": [
       "-33.6"
      ]
     },
     "execution_count": 13,
     "metadata": {},
     "output_type": "execute_result"
    }
   ],
   "source": [
    "x - y"
   ]
  },
  {
   "cell_type": "code",
   "execution_count": 14,
   "id": "8001d950-653a-472a-9d7b-cf5f8bdea0b1",
   "metadata": {},
   "outputs": [
    {
     "data": {
      "text/plain": [
       "1223.2"
      ]
     },
     "execution_count": 14,
     "metadata": {},
     "output_type": "execute_result"
    }
   ],
   "source": [
    "x * y"
   ]
  },
  {
   "cell_type": "code",
   "execution_count": 15,
   "id": "7af0397a-363a-43e1-9081-48f10771e1b7",
   "metadata": {},
   "outputs": [
    {
     "data": {
      "text/plain": [
       "0.39568345323741005"
      ]
     },
     "execution_count": 15,
     "metadata": {},
     "output_type": "execute_result"
    }
   ],
   "source": [
    "x / y"
   ]
  },
  {
   "cell_type": "code",
   "execution_count": 16,
   "id": "4610155a-64f6-4999-9c2d-aa18ac1c9e3d",
   "metadata": {},
   "outputs": [
    {
     "data": {
      "text/plain": [
       "1"
      ]
     },
     "execution_count": 16,
     "metadata": {},
     "output_type": "execute_result"
    }
   ],
   "source": [
    "10 % 3"
   ]
  },
  {
   "cell_type": "code",
   "execution_count": 17,
   "id": "29a3c324-8d13-4af3-9cb8-dc3d19407345",
   "metadata": {},
   "outputs": [
    {
     "data": {
      "text/plain": [
       "1000"
      ]
     },
     "execution_count": 17,
     "metadata": {},
     "output_type": "execute_result"
    }
   ],
   "source": [
    "10 ** 3"
   ]
  },
  {
   "cell_type": "code",
   "execution_count": 18,
   "id": "0c6c3c3a-8000-4b6f-8d3a-1cb7f6b09cf9",
   "metadata": {},
   "outputs": [
    {
     "data": {
      "text/plain": [
       "16"
      ]
     },
     "execution_count": 18,
     "metadata": {},
     "output_type": "execute_result"
    }
   ],
   "source": [
    "100 // 6"
   ]
  },
  {
   "cell_type": "code",
   "execution_count": 23,
   "id": "6c30e3f8-7d93-4adf-8c4d-e0d3e5b4b51f",
   "metadata": {},
   "outputs": [],
   "source": [
    "eulers = 6.577218"
   ]
  },
  {
   "cell_type": "code",
   "execution_count": 24,
   "id": "00457bff-d913-4ab6-99bc-500bea9b2a67",
   "metadata": {},
   "outputs": [],
   "source": [
    "number = int(eulers)"
   ]
  },
  {
   "cell_type": "code",
   "execution_count": 25,
   "id": "82157b2f-7e09-4faa-bede-598a1a093c16",
   "metadata": {},
   "outputs": [
    {
     "data": {
      "text/plain": [
       "6"
      ]
     },
     "execution_count": 25,
     "metadata": {},
     "output_type": "execute_result"
    }
   ],
   "source": [
    "number"
   ]
  },
  {
   "cell_type": "code",
   "execution_count": 26,
   "id": "c7fe6f25-0df1-45d7-9312-0aed88297b12",
   "metadata": {},
   "outputs": [],
   "source": [
    "whole = 99"
   ]
  },
  {
   "cell_type": "code",
   "execution_count": 27,
   "id": "3943916d-6e66-4b2c-b119-3d19f06ad709",
   "metadata": {},
   "outputs": [
    {
     "data": {
      "text/plain": [
       "99.0"
      ]
     },
     "execution_count": 27,
     "metadata": {},
     "output_type": "execute_result"
    }
   ],
   "source": [
    "float(whole)"
   ]
  },
  {
   "cell_type": "code",
   "execution_count": 30,
   "id": "1c24b47c-9595-404f-916f-224e60156d15",
   "metadata": {},
   "outputs": [
    {
     "data": {
      "text/plain": [
       "(34+66.7j)"
      ]
     },
     "execution_count": 30,
     "metadata": {},
     "output_type": "execute_result"
    }
   ],
   "source": [
    "complex(34,66.7)"
   ]
  },
  {
   "cell_type": "code",
   "execution_count": 31,
   "id": "b1e1ce0e-8be5-4975-a8b1-7b434bbee228",
   "metadata": {},
   "outputs": [],
   "source": [
    "num1 = 77\n",
    "num2 = 89.3"
   ]
  },
  {
   "cell_type": "code",
   "execution_count": 32,
   "id": "ef538d2c-b28d-4aff-baee-d26cace9366b",
   "metadata": {},
   "outputs": [
    {
     "data": {
      "text/plain": [
       "False"
      ]
     },
     "execution_count": 32,
     "metadata": {},
     "output_type": "execute_result"
    }
   ],
   "source": [
    "num1 == num2"
   ]
  },
  {
   "cell_type": "code",
   "execution_count": 33,
   "id": "ab703224-4afe-4b5f-9f4b-7f654b2f720e",
   "metadata": {},
   "outputs": [
    {
     "data": {
      "text/plain": [
       "False"
      ]
     },
     "execution_count": 33,
     "metadata": {},
     "output_type": "execute_result"
    }
   ],
   "source": [
    "num1 >= num2"
   ]
  },
  {
   "cell_type": "code",
   "execution_count": 34,
   "id": "c4433530-a017-4b76-bd3f-e551ac433536",
   "metadata": {},
   "outputs": [
    {
     "data": {
      "text/plain": [
       "True"
      ]
     },
     "execution_count": 34,
     "metadata": {},
     "output_type": "execute_result"
    }
   ],
   "source": [
    "num1 != num2"
   ]
  },
  {
   "cell_type": "code",
   "execution_count": 35,
   "id": "93870559-ca13-4641-b7e6-9357c87c4474",
   "metadata": {},
   "outputs": [],
   "source": [
    "import math"
   ]
  },
  {
   "cell_type": "code",
   "execution_count": 36,
   "id": "a72a8b20-d866-4fae-bc33-b04aa3560cf8",
   "metadata": {},
   "outputs": [],
   "source": [
    "x = -22.5"
   ]
  },
  {
   "cell_type": "code",
   "execution_count": 37,
   "id": "b4d12d02-818f-4dcb-9de2-f34db1b56a26",
   "metadata": {},
   "outputs": [
    {
     "data": {
      "text/plain": [
       "22.5"
      ]
     },
     "execution_count": 37,
     "metadata": {},
     "output_type": "execute_result"
    }
   ],
   "source": [
    "math.fabs(x)"
   ]
  },
  {
   "cell_type": "code",
   "execution_count": 40,
   "id": "98ebe742-8a65-413e-a1e8-f755fdee76ba",
   "metadata": {},
   "outputs": [
    {
     "data": {
      "text/plain": [
       "6.082201995573399"
      ]
     },
     "execution_count": 40,
     "metadata": {},
     "output_type": "execute_result"
    }
   ],
   "source": [
    "225 ** (1/3)"
   ]
  },
  {
   "cell_type": "code",
   "execution_count": 41,
   "id": "a87c3381-43bd-4744-a818-15876c07f4e2",
   "metadata": {},
   "outputs": [
    {
     "data": {
      "text/plain": [
       "3.141592653589793"
      ]
     },
     "execution_count": 41,
     "metadata": {},
     "output_type": "execute_result"
    }
   ],
   "source": [
    "math.pi"
   ]
  },
  {
   "cell_type": "code",
   "execution_count": 42,
   "id": "ae0d1a5b-80ce-41e5-9a35-fa2504330761",
   "metadata": {},
   "outputs": [
    {
     "data": {
      "text/plain": [
       "3"
      ]
     },
     "execution_count": 42,
     "metadata": {},
     "output_type": "execute_result"
    }
   ],
   "source": [
    "math.gcd(3,6,9,12)"
   ]
  },
  {
   "cell_type": "code",
   "execution_count": 44,
   "id": "36c74672-8722-42a8-b060-c2621b37633b",
   "metadata": {},
   "outputs": [
    {
     "data": {
      "text/plain": [
       "45"
      ]
     },
     "execution_count": 44,
     "metadata": {},
     "output_type": "execute_result"
    }
   ],
   "source": [
    "math.ceil(44.2)"
   ]
  },
  {
   "cell_type": "code",
   "execution_count": 45,
   "id": "30717ae6-63b8-41c4-8264-15b0f18c1b2c",
   "metadata": {},
   "outputs": [
    {
     "data": {
      "text/plain": [
       "44"
      ]
     },
     "execution_count": 45,
     "metadata": {},
     "output_type": "execute_result"
    }
   ],
   "source": [
    "math.floor(44.2)"
   ]
  },
  {
   "cell_type": "code",
   "execution_count": 46,
   "id": "328c4d43-b404-4c56-9460-35a687fa3d28",
   "metadata": {},
   "outputs": [
    {
     "data": {
      "text/plain": [
       "True"
      ]
     },
     "execution_count": 46,
     "metadata": {},
     "output_type": "execute_result"
    }
   ],
   "source": [
    "math.isfinite(34) "
   ]
  },
  {
   "cell_type": "code",
   "execution_count": 50,
   "id": "538a0ece-c72b-4e7f-862a-637042055823",
   "metadata": {},
   "outputs": [
    {
     "data": {
      "text/plain": [
       "8.06225774829855"
      ]
     },
     "execution_count": 50,
     "metadata": {},
     "output_type": "execute_result"
    }
   ],
   "source": [
    "math.dist((1,2,5),(6,8,3))"
   ]
  },
  {
   "cell_type": "code",
   "execution_count": 54,
   "id": "b9bc5624-e85f-4e92-a150-a61cd43eae72",
   "metadata": {},
   "outputs": [],
   "source": [
    "user = 1000\n",
    "capicity = 128\n",
    "\n",
    "#if user input value less than your capicity,print user values,but if user input is \n",
    "#greater than capicity, return 128 or capicity value"
   ]
  },
  {
   "cell_type": "code",
   "execution_count": 55,
   "id": "e1bd2102-6fdc-4a21-845a-56f70d35cdd5",
   "metadata": {},
   "outputs": [],
   "source": [
    "result = min(user, capicity)"
   ]
  },
  {
   "cell_type": "code",
   "execution_count": 56,
   "id": "f5ef6c48-1bcf-470e-a3d3-e1f3574d6a99",
   "metadata": {},
   "outputs": [
    {
     "data": {
      "text/plain": [
       "128"
      ]
     },
     "execution_count": 56,
     "metadata": {},
     "output_type": "execute_result"
    }
   ],
   "source": [
    "result"
   ]
  },
  {
   "cell_type": "code",
   "execution_count": 57,
   "id": "5dd889f3-99c5-4550-a182-2224e1564d53",
   "metadata": {},
   "outputs": [
    {
     "data": {
      "text/plain": [
       "20.39"
      ]
     },
     "execution_count": 57,
     "metadata": {},
     "output_type": "execute_result"
    }
   ],
   "source": [
    "round(20.389,2)"
   ]
  },
  {
   "cell_type": "code",
   "execution_count": null,
   "id": "44b9aa6c-9fe6-4c6f-a881-08fdb16ec1ec",
   "metadata": {},
   "outputs": [],
   "source": []
  }
 ],
 "metadata": {
  "kernelspec": {
   "display_name": "Python 3 (ipykernel)",
   "language": "python",
   "name": "python3"
  },
  "language_info": {
   "codemirror_mode": {
    "name": "ipython",
    "version": 3
   },
   "file_extension": ".py",
   "mimetype": "text/x-python",
   "name": "python",
   "nbconvert_exporter": "python",
   "pygments_lexer": "ipython3",
   "version": "3.13.5"
  }
 },
 "nbformat": 4,
 "nbformat_minor": 5
}
